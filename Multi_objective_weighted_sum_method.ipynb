{
  "cells": [
    {
      "cell_type": "markdown",
      "metadata": {
        "id": "view-in-github",
        "colab_type": "text"
      },
      "source": [
        "<a href=\"https://colab.research.google.com/github/SafeiaSherif/SafeiaSherif/blob/main/Multi_objective_weighted_sum_method.ipynb\" target=\"_parent\"><img src=\"https://colab.research.google.com/assets/colab-badge.svg\" alt=\"Open In Colab\"/></a>"
      ]
    },
    {
      "cell_type": "markdown",
      "source": [
        "# **Facility Location-Allocation Model For Disaster Management**"
      ],
      "metadata": {
        "id": "NvqXU1Xfw0HV"
      }
    },
    {
      "cell_type": "markdown",
      "source": [
        "**This notebook is to solve a multi-obective constrained mathematical model with the weighted sum method using specific weights for each objective.**\n",
        "\n",
        "\n",
        "The model is in the field of disaster management. Let's assume a natural disaster that caused a number of affected areas. These areas will contain 2 types of demand. The first one is the victims' demand(people who need medical support) and the second one is the non-victims' demand(people who need living\n",
        "material support).\n",
        "\n",
        "\n",
        "*   The victims' demand will be satisfied be hospitals and temporary emergency centers\n",
        "*   The non-victims' demand will be satisfied by shelters.\n",
        "\n",
        "\n",
        "*   The previous facilities(hospitals, centers and shelters) will need resources to serve their demand. So, it is important to add warehouses for the facilities demand.\n",
        "\n",
        "\n",
        "Then, we have number of facilities need to be located and different demands need to be allocated. This problem will be solved to optimize 5 objectives subject to some constraints.\n",
        "\n",
        "**The objectives are:**\n",
        "\n",
        "*   Maximize the total covered population by hospitals, centers and shelters.\n",
        "*   Minimize the total distances between the affected areas and the facilities.\n",
        "*   Maximize the total satisfied resources' demand by warehouses.\n",
        "*   Minimize the total distances between warehouses and the other facilities.\n",
        "*   Minimize the total located facilities to minimize the cost.\n",
        "\n",
        "**The main contraints:**\n",
        "\n",
        "*   Budget constraints.\n",
        "*   Capacities constraints.\n",
        "*   Service distance constraints.\n",
        "\n",
        "**Mathematical formulation and illustrative figures:**\n",
        "\n",
        "https://docs.google.com/document/d/1f3Y7rZNJTPW-5FSfTnqebAyqIGR5AkoEoYmtPYpHUqc/edit?usp=sharing"
      ],
      "metadata": {
        "id": "KrTZj8WHxpv2"
      }
    },
    {
      "cell_type": "code",
      "execution_count": 1,
      "metadata": {
        "id": "oBkb3V_FNApz"
      },
      "outputs": [],
      "source": [
        "import pandas as pd\n",
        "import numpy as np\n",
        "import math"
      ]
    },
    {
      "cell_type": "markdown",
      "source": [
        "As in the mathematical model, we need to assume some parameters and constraints.\n",
        "The next part contain those assumbtions.\n",
        "\n",
        "We assumed 3 disaster zones, 2 valid hospitals, 2 potential places for centers, 2 potential places for shelters and 2 potential places for warehouses.\n",
        "\n",
        "\n",
        "*   Each facility and each zone has (x, y) location.\n",
        "*   I used the role of the distance between 2 points to calculate the distances between each facility and each disaster zone.\n",
        "\n"
      ],
      "metadata": {
        "id": "FOdScu4vzaiB"
      }
    },
    {
      "cell_type": "code",
      "execution_count": 2,
      "metadata": {
        "id": "tgPvZEm9LboT"
      },
      "outputs": [],
      "source": [
        "scl = 19  # scaling parameter used to scale the distances to suitable values in Km"
      ]
    },
    {
      "cell_type": "code",
      "execution_count": 3,
      "metadata": {
        "id": "dmGDrPgnNNgr"
      },
      "outputs": [],
      "source": [
        "i1 = [-0.8, 0.8]     # (x, y) location for the first disaster zone\n",
        "i2 = [1.6, 1.6]      # (x, y) location for the second disaster zone\n",
        "i3 = [1.2, -0.6]     # (x, y) location for the third disaster zone\n",
        "\n",
        "j1 = [1.3, 0.5]      # (x, y) location for the first hospital\n",
        "j2 = [0.4, 1.3]      # (x, y) location for the second hospital\n",
        "\n",
        "k1 = [2.05, 0.3]     # (x, y) location for the first center\n",
        "k2 = [-0.13, -0.23]  # (x, y) location for the second center\n",
        "\n",
        "f1 = [0.42, 0.45]    # (x, y) location for the first shelter\n",
        "f2 = [1.85, 0.65]    # (x, y) location for the second shelter\n",
        "\n",
        "z1 = [0.4, 0.2]      # (x, y) location for the first warehouse\n",
        "z2 = [0.83, 1.3]     # (x, y) location for the second warehouse"
      ]
    },
    {
      "cell_type": "markdown",
      "source": [
        "Here I calculate the 2d matrix of the distances between the hospitals and the disaster zones"
      ],
      "metadata": {
        "id": "j0UdrqX72q89"
      }
    },
    {
      "cell_type": "code",
      "execution_count": 4,
      "metadata": {
        "id": "sN3fNex--4aY",
        "colab": {
          "base_uri": "https://localhost:8080/"
        },
        "outputId": "9914cb45-8ecd-4000-a333-09ac120efffe"
      },
      "outputs": [
        {
          "output_type": "execute_result",
          "data": {
            "text/plain": [
              "array([[40, 21, 20],\n",
              "       [24, 23, 39]])"
            ]
          },
          "metadata": {},
          "execution_count": 4
        }
      ],
      "source": [
        "D_H = [0]*6\n",
        "\n",
        "D_H[0] = math.sqrt((i1[0]-j1[0])**2+(i1[1]-j1[1])**2)\n",
        "D_H[1] = math.sqrt((i2[0]-j1[0])**2+(i2[1]-j1[1])**2)\n",
        "D_H[2] = math.sqrt((i3[0]-j1[0])**2+(i3[1]-j1[1])**2)\n",
        "D_H[3] = math.sqrt((i1[0]-j2[0])**2+(i1[1]-j2[1])**2)\n",
        "D_H[4] = math.sqrt((i2[0]-j2[0])**2+(i2[1]-j2[1])**2)\n",
        "D_H[5] = math.sqrt((i3[0]-j2[0])**2+(i3[1]-j2[1])**2)\n",
        "\n",
        "D_H = np.array(D_H).reshape(2, 3)\n",
        "\n",
        "D_H = D_H*scl\n",
        "D_H = D_H.astype(int)\n",
        "D_H"
      ]
    },
    {
      "cell_type": "markdown",
      "source": [
        "Here I calculate the 2d matrix of the distances between the centers and the disaster zones\n"
      ],
      "metadata": {
        "id": "SGRGrl3-2z6Y"
      }
    },
    {
      "cell_type": "code",
      "execution_count": 5,
      "metadata": {
        "id": "gxRE-bX123uA",
        "colab": {
          "base_uri": "https://localhost:8080/"
        },
        "outputId": "0e5a8369-83fe-49c9-d7ba-9cb6fed97a61"
      },
      "outputs": [
        {
          "output_type": "execute_result",
          "data": {
            "text/plain": [
              "array([[54, 26, 23],\n",
              "       [23, 47, 26]])"
            ]
          },
          "metadata": {},
          "execution_count": 5
        }
      ],
      "source": [
        "D_C = [0]*6\n",
        "\n",
        "D_C[0] = math.sqrt((i1[0]-k1[0])**2+(i1[1]-k1[1])**2)\n",
        "D_C[1] = math.sqrt((i2[0]-k1[0])**2+(i2[1]-k1[1])**2)\n",
        "D_C[2] = math.sqrt((i3[0]-k1[0])**2+(i3[1]-k1[1])**2)\n",
        "D_C[3] = math.sqrt((i1[0]-k2[0])**2+(i1[1]-k2[1])**2)\n",
        "D_C[4] = math.sqrt((i2[0]-k2[0])**2+(i2[1]-k2[1])**2)\n",
        "D_C[5] = math.sqrt((i3[0]-k2[0])**2+(i3[1]-k2[1])**2)\n",
        "\n",
        "D_C = np.array(D_C).reshape(2, 3)\n",
        "\n",
        "D_C = D_C*scl\n",
        "D_C = D_C.astype(int)\n",
        "D_C"
      ]
    },
    {
      "cell_type": "markdown",
      "source": [
        "Here I calculate the 2d matrix of the distances between the shelters and the disaster zones"
      ],
      "metadata": {
        "id": "OifnshTu23qb"
      }
    },
    {
      "cell_type": "code",
      "execution_count": 6,
      "metadata": {
        "id": "Cig88YN127RV",
        "colab": {
          "base_uri": "https://localhost:8080/"
        },
        "outputId": "97948950-7e8a-4483-898d-2243c70e6fae"
      },
      "outputs": [
        {
          "output_type": "execute_result",
          "data": {
            "text/plain": [
              "array([[24, 31, 24],\n",
              "       [50, 18, 26]])"
            ]
          },
          "metadata": {},
          "execution_count": 6
        }
      ],
      "source": [
        "D_SH = [0]*6\n",
        "\n",
        "D_SH[0] = math.sqrt((i1[0]-f1[0])**2+(i1[1]-f1[1])**2)\n",
        "D_SH[1] = math.sqrt((i2[0]-f1[0])**2+(i2[1]-f1[1])**2)\n",
        "D_SH[2] = math.sqrt((i3[0]-f1[0])**2+(i3[1]-f1[1])**2)\n",
        "D_SH[3] = math.sqrt((i1[0]-f2[0])**2+(i1[1]-f2[1])**2)\n",
        "D_SH[4] = math.sqrt((i2[0]-f2[0])**2+(i2[1]-f2[1])**2)\n",
        "D_SH[5] = math.sqrt((i3[0]-f2[0])**2+(i3[1]-f2[1])**2)\n",
        "\n",
        "D_SH = np.array(D_SH).reshape(2, 3)\n",
        "\n",
        "D_SH = D_SH*scl\n",
        "D_SH = D_SH.astype(int)\n",
        "D_SH"
      ]
    },
    {
      "cell_type": "markdown",
      "source": [
        "Here I calculate the 2d matrix of the distances between the hospitals and the warehouses"
      ],
      "metadata": {
        "id": "FNoMndy627Gd"
      }
    },
    {
      "cell_type": "code",
      "execution_count": 7,
      "metadata": {
        "id": "WD2Xzhxc28Be",
        "colab": {
          "base_uri": "https://localhost:8080/"
        },
        "outputId": "c5ed5c15-2332-4156-a85d-b0e134994054"
      },
      "outputs": [
        {
          "output_type": "execute_result",
          "data": {
            "text/plain": [
              "array([[18, 17],\n",
              "       [20,  8]])"
            ]
          },
          "metadata": {},
          "execution_count": 7
        }
      ],
      "source": [
        "D_H_W = [0]*4\n",
        "\n",
        "D_H_W[0] = math.sqrt((z1[0]-j1[0])**2+(z1[1]-j1[1])**2)\n",
        "D_H_W[1] = math.sqrt((z2[0]-j1[0])**2+(z2[1]-j1[1])**2)\n",
        "D_H_W[2] = math.sqrt((z1[0]-j2[0])**2+(z1[1]-j2[1])**2)\n",
        "D_H_W[3] = math.sqrt((z2[0]-j2[0])**2+(z2[1]-j2[1])**2)\n",
        "\n",
        "D_H_W = np.array(D_H_W).reshape(2, 2)\n",
        "\n",
        "D_H_W = D_H_W*scl\n",
        "D_H_W = D_H_W.astype(int)\n",
        "D_H_W"
      ]
    },
    {
      "cell_type": "markdown",
      "source": [
        "Here I calculate the 2d matrix of the distances between the centers and the warehouses\n"
      ],
      "metadata": {
        "id": "2-i96gVE2-Tz"
      }
    },
    {
      "cell_type": "code",
      "source": [
        "D_C_W = [0]*4\n",
        "\n",
        "D_C_W[0] = math.sqrt((z1[0]-k1[0])**2+(z1[1]-k1[1])**2)\n",
        "D_C_W[1] = math.sqrt((z2[0]-k1[0])**2+(z2[1]-k1[1])**2)\n",
        "D_C_W[2] = math.sqrt((z1[0]-k2[0])**2+(z1[1]-k2[1])**2)\n",
        "D_C_W[3] = math.sqrt((z2[0]-k2[0])**2+(z2[1]-k2[1])**2)\n",
        "\n",
        "D_C_W = np.array(D_C_W).reshape(2, 2)\n",
        "\n",
        "D_C_W = D_C_W*scl\n",
        "D_C_W = D_C_W.astype(int)\n",
        "D_C_W"
      ],
      "metadata": {
        "colab": {
          "base_uri": "https://localhost:8080/"
        },
        "id": "Y9Z94rfAH1Cu",
        "outputId": "e64e1817-6154-4711-8879-84645740ee54"
      },
      "execution_count": 8,
      "outputs": [
        {
          "output_type": "execute_result",
          "data": {
            "text/plain": [
              "array([[31, 29],\n",
              "       [12, 34]])"
            ]
          },
          "metadata": {},
          "execution_count": 8
        }
      ]
    },
    {
      "cell_type": "markdown",
      "source": [
        "Here I calculate the 2d matrix of the distances between the shelters and the warehouses"
      ],
      "metadata": {
        "id": "FCPCPNGE3BcX"
      }
    },
    {
      "cell_type": "code",
      "source": [
        "D_SH_W = [0]*4\n",
        "\n",
        "D_SH_W[0] = math.sqrt((z1[0]-f1[0])**2+(z1[1]-f1[1])**2)\n",
        "D_SH_W[1] = math.sqrt((z2[0]-f1[0])**2+(z2[1]-f1[1])**2)\n",
        "D_SH_W[2] = math.sqrt((z1[0]-f2[0])**2+(z1[1]-f2[1])**2)\n",
        "D_SH_W[3] = math.sqrt((z2[0]-f2[0])**2+(z2[1]-f2[1])**2)\n",
        "\n",
        "D_SH_W = np.array(D_SH_W).reshape(2, 2)\n",
        "\n",
        "D_SH_W = D_SH_W*scl\n",
        "D_SH_W = D_SH_W.astype(int)\n",
        "D_SH_W"
      ],
      "metadata": {
        "colab": {
          "base_uri": "https://localhost:8080/"
        },
        "id": "pRk6DVeSH0vk",
        "outputId": "69ce1cdd-a03a-4607-aea7-100b4143a631"
      },
      "execution_count": 9,
      "outputs": [
        {
          "output_type": "execute_result",
          "data": {
            "text/plain": [
              "array([[ 4, 17],\n",
              "       [28, 22]])"
            ]
          },
          "metadata": {},
          "execution_count": 9
        }
      ]
    },
    {
      "cell_type": "markdown",
      "source": [
        "**Here I specify the limits or the right hand side of the constraints**\n",
        "\n",
        "*   The capacities of the facilities.\n",
        "*   The population of the affected areas.\n",
        "*   The severity of the disaster (percentage of victims) for each zone.\n",
        "*   Units of resources needed by one victim and so for the non-victim.\n",
        "*   Maximum service distances for each kind of facilities.\n",
        "*   Maximum allowed number of located facilities for each kind of facilities.\n",
        "\n",
        "\n",
        "\n",
        "\n",
        "\n"
      ],
      "metadata": {
        "id": "GC_71NLF3Fmo"
      }
    },
    {
      "cell_type": "code",
      "execution_count": 10,
      "metadata": {
        "id": "3CZO6uB6POwZ"
      },
      "outputs": [],
      "source": [
        "Cap_H = np.array([750, 230])\n",
        "Cap_C = np.array([100, 60])\n",
        "Cap_SH = np.array([700, 600])\n",
        "Cap_V_W = np.array([300, 1000])\n",
        "Cap_NV_W = np.array([1000, 600])\n",
        "\n",
        "a = np.array([1000,1000,1000])\n",
        "# p = np.array([0.8, 0.7, 0.6])\n",
        "p = np.array([0.1, 0.07, 0.19])\n",
        "victim = a * p\n",
        "victim = np.array(victim).astype(int)\n",
        "non_victim = a * (1-p)\n",
        "non_victim = np.array(non_victim).astype(int)\n",
        "\n",
        "U_R_V = 2\n",
        "U_R_NV = 2\n",
        "\n",
        "max_D_H = 40\n",
        "max_D_C = 40\n",
        "max_D_SH = 40\n",
        "max_D_W = 40\n",
        "\n",
        "N = 1 # Maximum allowed number of located centers\n",
        "M = 2 # Maximum allowed number of located shelters\n",
        "Q = 2 # Maximum allowed number of located warehouses"
      ]
    },
    {
      "cell_type": "markdown",
      "source": [
        "**Here I install the solver to use it. I used Gurobi solver as it's suitable for the integer linear problems.**"
      ],
      "metadata": {
        "id": "Wz1fafri4zxB"
      }
    },
    {
      "cell_type": "code",
      "execution_count": 11,
      "metadata": {
        "colab": {
          "base_uri": "https://localhost:8080/"
        },
        "id": "XI-2Lh3NQpKg",
        "outputId": "ed6e9430-3645-4493-f1e1-082dcff8295f"
      },
      "outputs": [
        {
          "output_type": "stream",
          "name": "stdout",
          "text": [
            "Collecting gurobipy\n",
            "  Downloading gurobipy-10.0.2-cp310-cp310-manylinux2014_x86_64.whl (12.7 MB)\n",
            "\u001b[2K     \u001b[90m━━━━━━━━━━━━━━━━━━━━━━━━━━━━━━━━━━━━━━━━\u001b[0m \u001b[32m12.7/12.7 MB\u001b[0m \u001b[31m43.3 MB/s\u001b[0m eta \u001b[36m0:00:00\u001b[0m\n",
            "\u001b[?25hInstalling collected packages: gurobipy\n",
            "Successfully installed gurobipy-10.0.2\n"
          ]
        }
      ],
      "source": [
        "!pip install gurobipy\n",
        "import gurobipy as gp\n",
        "from gurobipy import GRB"
      ]
    },
    {
      "cell_type": "code",
      "execution_count": 12,
      "metadata": {
        "id": "KeP5ql7oZPme"
      },
      "outputs": [],
      "source": [
        "from itertools import product"
      ]
    },
    {
      "cell_type": "code",
      "execution_count": 13,
      "metadata": {
        "id": "p4ZD1Sl9Rcac",
        "colab": {
          "base_uri": "https://localhost:8080/"
        },
        "outputId": "1d78ddc0-404d-44d5-d1f7-d585ed7e9141"
      },
      "outputs": [
        {
          "output_type": "stream",
          "name": "stdout",
          "text": [
            "Restricted license - for non-production use only - expires 2024-10-28\n"
          ]
        }
      ],
      "source": [
        "# create a new Integer Linear Programming (ILP) solver\n",
        "m = gp.Model(\"ILP\")"
      ]
    },
    {
      "cell_type": "code",
      "execution_count": 14,
      "metadata": {
        "id": "Kx_0PW1EYGyt"
      },
      "outputs": [],
      "source": [
        "num_hospitals = 2\n",
        "num_centers = 2\n",
        "num_shelters = 2\n",
        "num_nodes = 3\n",
        "num_warehouses = 2\n",
        "\n",
        "cartesian_prod_hos = list(product(range(num_hospitals), range(num_nodes)))\n",
        "cartesian_prod_cntr = list(product(range(num_centers), range(num_nodes)))\n",
        "cartesian_prod_shltr = list(product(range(num_shelters), range(num_nodes)))\n",
        "cartesian_prod_warehouse_H = list(product(range(num_warehouses), range(num_hospitals)))\n",
        "cartesian_prod_warehouse_C = list(product(range(num_warehouses), range(num_centers)))\n",
        "cartesian_prod_warehouse_SH = list(product(range(num_warehouses), range(num_shelters)))\n"
      ]
    },
    {
      "cell_type": "markdown",
      "source": [
        "# **Initialization of the decisoin variables**\n",
        "\n",
        "The decision variables are illustrated in this link\n",
        "\n",
        "https://docs.google.com/document/d/1f3Y7rZNJTPW-5FSfTnqebAyqIGR5AkoEoYmtPYpHUqc/edit?usp=sharing"
      ],
      "metadata": {
        "id": "VzJWVNXg5gzf"
      }
    },
    {
      "cell_type": "code",
      "execution_count": 15,
      "metadata": {
        "id": "pXzablvnTuF8"
      },
      "outputs": [],
      "source": [
        "\n",
        "exist_H = m.addVars(num_hospitals,vtype=GRB.BINARY, name=\"exist_H\")\n",
        "exist_C = m.addVars(num_centers,vtype=GRB.BINARY, name=\"exist_C\")\n",
        "exist_SH = m.addVars(num_shelters,vtype=GRB.BINARY, name=\"exist_SH\")\n",
        "\n",
        "S_D_H = m.addVars(cartesian_prod_hos, lb=0, vtype=GRB.INTEGER, name=\"S_D_H\")\n",
        "S_D_C = m.addVars(cartesian_prod_cntr, lb=0, vtype=GRB.INTEGER, name=\"S_D_C\")\n",
        "S_D_SH = m.addVars(cartesian_prod_shltr, lb=0, vtype=GRB.INTEGER, name=\"S_D_SH\")\n",
        "\n",
        "assigned_H = m.addVars(cartesian_prod_hos,vtype=GRB.BINARY, name=\"assigned_H\")\n",
        "assigned_C = m.addVars(cartesian_prod_cntr,vtype=GRB.BINARY, name=\"assigned_C\")\n",
        "assigned_SH = m.addVars(cartesian_prod_shltr,vtype=GRB.BINARY, name=\"assigned_SH\")\n",
        "\n",
        "exist_W = m.addVars(num_warehouses,vtype=GRB.BINARY, name=\"exist_W\")\n",
        "\n",
        "S_D_H_W = m.addVars(cartesian_prod_warehouse_H, lb=0, vtype=GRB.INTEGER, name=\"S_D_H_W\")\n",
        "S_D_C_W = m.addVars(cartesian_prod_warehouse_C, lb=0, vtype=GRB.INTEGER, name=\"S_D_C_W\")\n",
        "S_D_SH_W = m.addVars(cartesian_prod_warehouse_SH, lb=0, vtype=GRB.INTEGER, name=\"S_D_SH_W\")\n",
        "\n",
        "assigned_H_W =  m.addVars(cartesian_prod_warehouse_H,vtype=GRB.BINARY, name=\"assigned_H_W\")\n",
        "assigned_C_W =  m.addVars(cartesian_prod_warehouse_C,vtype=GRB.BINARY, name=\"assigned_C_W\")\n",
        "assigned_SH_W =  m.addVars(cartesian_prod_warehouse_SH,vtype=GRB.BINARY, name=\"assigned_SH_W\")\n",
        "\n",
        "sum_S_D_H = m.addVars(num_hospitals, lb=0, vtype=GRB.INTEGER, name=\"sum_S_D_H\")  # This DV is not basic in the model, it is only used to make summation for other DVs.\n",
        "sum_S_D_C = m.addVars(num_centers, lb=0, vtype=GRB.INTEGER, name=\"sum_S_D_C\")    # This DV is not basic in the model, it is only used to make summation for other DVs.\n",
        "sum_S_D_SH = m.addVars(num_shelters, lb=0, vtype=GRB.INTEGER, name=\"sum_S_D_SH\") # This DV is not basic in the model, it is only used to make summation for other DVs."
      ]
    },
    {
      "cell_type": "markdown",
      "source": [
        "# **Distance constraints**"
      ],
      "metadata": {
        "id": "4Wyfq08O6niH"
      }
    },
    {
      "cell_type": "code",
      "execution_count": 16,
      "metadata": {
        "colab": {
          "base_uri": "https://localhost:8080/"
        },
        "id": "PCjLPq3gajcV",
        "outputId": "902a1801-4d89-4044-c82f-5a50e022eaf2"
      },
      "outputs": [
        {
          "output_type": "execute_result",
          "data": {
            "text/plain": [
              "{(0, 0): <gurobi.Constr *Awaiting Model Update*>,\n",
              " (0, 1): <gurobi.Constr *Awaiting Model Update*>,\n",
              " (0, 2): <gurobi.Constr *Awaiting Model Update*>,\n",
              " (1, 0): <gurobi.Constr *Awaiting Model Update*>,\n",
              " (1, 1): <gurobi.Constr *Awaiting Model Update*>,\n",
              " (1, 2): <gurobi.Constr *Awaiting Model Update*>}"
            ]
          },
          "metadata": {},
          "execution_count": 16
        }
      ],
      "source": [
        "# add constraints of distances[D_H(j,i)*assigned_H(j,i) <= max_D_H],[D_C(k,i)*assigned_C(k,i) <= max_D_C],[D_SH(f,i)*assigned_SH(f,i) <= max_D_SH]\n",
        "m.addConstrs((D_H[(j,i)]*assigned_H[(j,i)] <= max_D_H for j,i in cartesian_prod_hos), name=\"max_Dis_Hos\")\n",
        "m.addConstrs((D_C[(k,i)]*assigned_C[(k,i)] <= max_D_C for k,i in cartesian_prod_cntr), name=\"max_Dis_Cntr\")\n",
        "m.addConstrs((D_SH[(f,i)]*assigned_SH[(f,i)] <= max_D_SH for f,i in cartesian_prod_shltr), name=\"max_Dis_Shltr\")"
      ]
    },
    {
      "cell_type": "code",
      "execution_count": 17,
      "metadata": {
        "colab": {
          "base_uri": "https://localhost:8080/"
        },
        "id": "yLAsJj8n7ClV",
        "outputId": "7ddaa859-9fa5-4e21-b514-a4c66e6d6f27"
      },
      "outputs": [
        {
          "output_type": "execute_result",
          "data": {
            "text/plain": [
              "{(0, 0): <gurobi.Constr *Awaiting Model Update*>,\n",
              " (0, 1): <gurobi.Constr *Awaiting Model Update*>,\n",
              " (1, 0): <gurobi.Constr *Awaiting Model Update*>,\n",
              " (1, 1): <gurobi.Constr *Awaiting Model Update*>}"
            ]
          },
          "metadata": {},
          "execution_count": 17
        }
      ],
      "source": [
        "m.addConstrs((D_H_W[(z,j)]*assigned_H_W[(z,j)] <= max_D_W for z,j in cartesian_prod_warehouse_H), name=\"max_dis_warehouse_Hos\")\n",
        "m.addConstrs((D_C_W[(z,k)]*assigned_C_W[(z,k)] <= max_D_W for z,k in cartesian_prod_warehouse_C), name=\"max_dis_warehouse_Cntr\")\n",
        "m.addConstrs((D_SH_W[(z,f)]*assigned_SH_W[(z,f)] <= max_D_W for z,f in cartesian_prod_warehouse_SH), name=\"max_dis_warehouse_Shltr\")\n"
      ]
    },
    {
      "cell_type": "markdown",
      "source": [
        "# **Capacity constraints**"
      ],
      "metadata": {
        "id": "ecCQHdGk7gDK"
      }
    },
    {
      "cell_type": "code",
      "execution_count": 18,
      "metadata": {
        "colab": {
          "base_uri": "https://localhost:8080/"
        },
        "id": "gc2A2A04eIJq",
        "outputId": "21f110f0-7db4-42c8-a742-6fd43b9a131b"
      },
      "outputs": [
        {
          "output_type": "execute_result",
          "data": {
            "text/plain": [
              "{0: <gurobi.Constr *Awaiting Model Update*>,\n",
              " 1: <gurobi.Constr *Awaiting Model Update*>}"
            ]
          },
          "metadata": {},
          "execution_count": 18
        }
      ],
      "source": [
        "# add constraints of capacities [∑ S_D_H(j,i) <= Cap_H(j)*exist_H],[∑ S_D_C(k,i) <= Cap_C(k)*exist_C],[∑ S_D_SH(f,i) <= Cap_SH(f)*exist_SH]\n",
        "m.addConstrs((gp.quicksum(S_D_H[(j,i)] for i in range(num_nodes)) <= Cap_H[j]*exist_H[j] for j in range(num_hospitals)), name=\"Cap_Hos\")\n",
        "m.addConstrs((gp.quicksum(S_D_C[(k,i)] for i in range(num_nodes)) <= Cap_C[k]*exist_C[k] for k in range(num_centers)), name=\"Cap_Cntr\")\n",
        "m.addConstrs((gp.quicksum(S_D_SH[(f,i)] for i in range(num_nodes)) <= Cap_SH[f]*exist_SH[f] for f in range(num_shelters)), name=\"Cap_Shltr\")"
      ]
    },
    {
      "cell_type": "code",
      "execution_count": 19,
      "metadata": {
        "colab": {
          "base_uri": "https://localhost:8080/"
        },
        "id": "vUwmlmJc8LCi",
        "outputId": "06a30266-b7f7-46d2-9b81-52b92786b9fb"
      },
      "outputs": [
        {
          "output_type": "execute_result",
          "data": {
            "text/plain": [
              "{0: <gurobi.Constr *Awaiting Model Update*>,\n",
              " 1: <gurobi.Constr *Awaiting Model Update*>}"
            ]
          },
          "metadata": {},
          "execution_count": 19
        }
      ],
      "source": [
        "m.addConstrs(((gp.quicksum(S_D_H_W[(z,j)] for j in range(num_hospitals)) + gp.quicksum(S_D_C_W[(z,k)] for k in range(num_centers))) <= Cap_V_W[z]*exist_W[z] for z in range(num_warehouses)), name=\"Cap_warehouse_victim\")\n",
        "m.addConstrs((gp.quicksum(S_D_SH_W[(z,f)] for f in range(num_shelters)) <= Cap_NV_W[z]*exist_W[z] for z in range(num_warehouses)), name=\"Cap_warehouse_nonvictim\")\n"
      ]
    },
    {
      "cell_type": "markdown",
      "source": [
        "# **Actual demand constraints**"
      ],
      "metadata": {
        "id": "qem6cgZH7oX4"
      }
    },
    {
      "cell_type": "code",
      "execution_count": 20,
      "metadata": {
        "colab": {
          "base_uri": "https://localhost:8080/"
        },
        "id": "hiCOHnUJg-59",
        "outputId": "ded35d86-72db-4d4b-f32e-5cf9779fbcd9"
      },
      "outputs": [
        {
          "output_type": "execute_result",
          "data": {
            "text/plain": [
              "{0: <gurobi.Constr *Awaiting Model Update*>,\n",
              " 1: <gurobi.Constr *Awaiting Model Update*>,\n",
              " 2: <gurobi.Constr *Awaiting Model Update*>}"
            ]
          },
          "metadata": {},
          "execution_count": 20
        }
      ],
      "source": [
        "# add constraint to meet the actual demand [∑ S_D_H(j,i) + ∑ S_D_C(k,i) <= ai*pi],[∑ S_D_SH(f,i) <= ai*(1-pi)]\n",
        "m.addConstrs(((gp.quicksum(S_D_H[(j,i)] for j in range(num_hospitals)) + gp.quicksum(S_D_C[(k,i)] for k in range(num_centers))) <= victim[i] for i in range(num_nodes)), name=\"acual_victim_demand\")\n",
        "m.addConstrs((gp.quicksum(S_D_SH[(f,i)] for f in range(num_shelters)) <= non_victim[i] for i in range(num_nodes)), name=\"acual_non_victim_demand\")\n"
      ]
    },
    {
      "cell_type": "code",
      "execution_count": 21,
      "metadata": {
        "colab": {
          "base_uri": "https://localhost:8080/"
        },
        "id": "eB3aBToWnZyL",
        "outputId": "2275e94e-874e-4ec5-c114-63a7dd48a1ba"
      },
      "outputs": [
        {
          "output_type": "execute_result",
          "data": {
            "text/plain": [
              "{0: <gurobi.Constr *Awaiting Model Update*>,\n",
              " 1: <gurobi.Constr *Awaiting Model Update*>}"
            ]
          },
          "metadata": {},
          "execution_count": 21
        }
      ],
      "source": [
        "# The summation of a hospital satisfied demand will be a part of the right hand side of the warehouse actual demand.\n",
        "m.addConstrs((gp.quicksum(S_D_H[(j,i)] for i in range(num_nodes)) == sum_S_D_H[j] for j in range(num_hospitals)), name=\"Sum_S_D_Hos\")\n",
        "\n",
        "# The summation of a center satisfied demand will be a part of the right hand side of the warehouse actual demand.\n",
        "m.addConstrs((gp.quicksum(S_D_C[(k,i)] for i in range(num_nodes)) == sum_S_D_C[k] for k in range(num_centers)), name=\"Sum_S_D_Hntr\")\n",
        "\n",
        "# The summation of a shelter satisfied demand will be a part of the right hand side of the warehouse actual demand.\n",
        "m.addConstrs((gp.quicksum(S_D_SH[(f,i)] for i in range(num_nodes)) == sum_S_D_SH[f] for f in range(num_shelters)), name=\"Sum_S_D_Shltr\")"
      ]
    },
    {
      "cell_type": "code",
      "source": [
        "m.addConstrs((gp.quicksum(S_D_H_W[(z,j)] for z in range(num_warehouses)) <= U_R_V * sum_S_D_H[j]*exist_H[j] for j in range(num_hospitals)), name=\"satisfy_actual_demand_hospital\")\n",
        "m.addConstrs((gp.quicksum(S_D_C_W[(z,k)] for z in range(num_warehouses)) <= U_R_V * sum_S_D_C[k]*exist_C[k] for k in range(num_centers)), name=\"satisfy_demand_Center\")\n",
        "m.addConstrs((gp.quicksum(S_D_SH_W[(z,f)] for z in range(num_warehouses)) <= U_R_NV * sum_S_D_SH[f]*exist_SH[f] for f in range(num_shelters)), name=\"satisfy_demand_Shelter\")"
      ],
      "metadata": {
        "id": "8RCIFHwXY3Jg",
        "colab": {
          "base_uri": "https://localhost:8080/"
        },
        "outputId": "ecb7caba-dccb-4ca6-dea0-9779a72fe230"
      },
      "execution_count": 22,
      "outputs": [
        {
          "output_type": "execute_result",
          "data": {
            "text/plain": [
              "{0: <gurobi.QConstr Not Yet Added>, 1: <gurobi.QConstr Not Yet Added>}"
            ]
          },
          "metadata": {},
          "execution_count": 22
        }
      ]
    },
    {
      "cell_type": "markdown",
      "source": [
        "# **Maximum number of located facilities constraints**"
      ],
      "metadata": {
        "id": "Ht92DovC8cxr"
      }
    },
    {
      "cell_type": "code",
      "execution_count": 24,
      "metadata": {
        "colab": {
          "base_uri": "https://localhost:8080/"
        },
        "id": "fckZIE5aixV2",
        "outputId": "0e1c9fbe-4fda-4d90-e72f-4dddfc31b230"
      },
      "outputs": [
        {
          "output_type": "execute_result",
          "data": {
            "text/plain": [
              "<gurobi.Constr *Awaiting Model Update*>"
            ]
          },
          "metadata": {},
          "execution_count": 24
        }
      ],
      "source": [
        "\n",
        "m.addConstr((gp.quicksum(exist_C) <= N), name=\"limited_Cntr\")\n",
        "m.addConstr((gp.quicksum(exist_SH) <= M), name=\"limited_Shltr\")\n",
        "m.addConstr((gp.quicksum(exist_W) <= Q), name=\"limited_WarHouse\")\n"
      ]
    },
    {
      "cell_type": "code",
      "source": [
        "# Those constraints are used only to make sure that the satisfied demand by any facility will take value of 1 in its assigned DV.\n",
        "# The are not basic in the model. They just to make sure the solver get true solutions\n",
        "m.addConstrs((S_D_H[(j,i)]*assigned_H[(j,i)] == S_D_H[(j,i)] for j,i in cartesian_prod_hos), name=\"additional_h\")\n",
        "m.addConstrs((S_D_C[(k,i)]*assigned_C[(k,i)] == S_D_C[(k,i)] for k,i in cartesian_prod_cntr), name=\"additional_c\")\n",
        "m.addConstrs((S_D_SH[(f,i)]*assigned_SH[(f,i)] == S_D_SH[(f,i)] for f,i in cartesian_prod_shltr), name=\"additional_sh\")\n",
        "m.addConstrs((S_D_H_W[(z,j)]*assigned_H_W[(z,j)] == S_D_H_W[(z,j)] for z,j in cartesian_prod_warehouse_H), name=\"additional_h_w\")\n",
        "m.addConstrs((S_D_C_W[(z,k)]*assigned_C_W[(z,k)] == S_D_C_W[(z,k)] for z,k in cartesian_prod_warehouse_C), name=\"additional_c_w\")\n",
        "m.addConstrs((S_D_SH_W[(z,f)]*assigned_SH_W[(z,f)] == S_D_SH_W[(z,f)] for z,f in cartesian_prod_warehouse_SH), name=\"additional_sh_w\")"
      ],
      "metadata": {
        "colab": {
          "base_uri": "https://localhost:8080/"
        },
        "id": "JhJU2Ny77Oms",
        "outputId": "c827f5c6-a730-488a-bd63-34f43867413f"
      },
      "execution_count": 25,
      "outputs": [
        {
          "output_type": "execute_result",
          "data": {
            "text/plain": [
              "{(0, 0): <gurobi.QConstr Not Yet Added>,\n",
              " (0, 1): <gurobi.QConstr Not Yet Added>,\n",
              " (1, 0): <gurobi.QConstr Not Yet Added>,\n",
              " (1, 1): <gurobi.QConstr Not Yet Added>}"
            ]
          },
          "metadata": {},
          "execution_count": 25
        }
      ]
    },
    {
      "cell_type": "code",
      "source": [],
      "metadata": {
        "id": "Cb7UPYrq7cdN"
      },
      "execution_count": 25,
      "outputs": []
    },
    {
      "cell_type": "markdown",
      "source": [
        "# **The normalization factors and weights**\n",
        "\n",
        "*   Each objective is devided into sub-objectives. As each objective consists of many parts summed together in one objective.\n",
        "*   Each sub-objective will be devided by its absolute maximum value.\n",
        "*   The unit of weight is 10/181. Each sub-objective is multiplied by its level of importance\n",
        "*   The summation of weights = 1.\n",
        "\n",
        "\n",
        "\n"
      ],
      "metadata": {
        "id": "v9ucIKVE9ggl"
      }
    },
    {
      "cell_type": "code",
      "execution_count": 26,
      "metadata": {
        "id": "5onlNaVV-Nio"
      },
      "outputs": [],
      "source": [
        "norm11 = 1/(sum(Cap_H))\n",
        "norm12 = 1/(sum(Cap_C))\n",
        "norm13 = 1/(sum(Cap_SH))\n",
        "\n",
        "norm21 = 1/(sum(sum(D_H)))\n",
        "norm22 = 1/(sum(sum(D_C)))\n",
        "norm23 = 1/(sum(sum(D_SH)))\n",
        "\n",
        "norm31 = 1/(sum(Cap_V_W))\n",
        "norm32 = 1/(sum(Cap_V_W))\n",
        "norm33 = 1/(sum(Cap_NV_W))\n",
        "\n",
        "\n",
        "norm41 = 1/(sum(sum(D_H_W)))\n",
        "norm42 = 1/(sum(sum(D_C_W)))\n",
        "norm43 = 1/(sum(sum(D_SH_W)))\n",
        "\n",
        "norm51 = 1/num_hospitals\n",
        "norm52 = 1/N\n",
        "norm53 = 1/M\n",
        "norm54 = 1/Q\n",
        "\n",
        "w = 1/18.1"
      ]
    },
    {
      "cell_type": "markdown",
      "source": [
        "# **The weighted sum single objective**"
      ],
      "metadata": {
        "id": "cuVa9nWe_aU3"
      }
    },
    {
      "cell_type": "code",
      "execution_count": 27,
      "metadata": {
        "id": "bbSxVBKQU17i"
      },
      "outputs": [],
      "source": [
        "\n",
        "# set objective\n",
        "m.setObjective(2*w*norm11*(gp.quicksum(S_D_H[(j,i)]*assigned_H[(j,i)] for j,i in cartesian_prod_hos)) + 1.5*w*norm12*(gp.quicksum(S_D_C[(k,i)]*assigned_C[(k,i)] for k,i in cartesian_prod_cntr)) + 2*w*norm13*(gp.quicksum(S_D_SH[(f,i)]*assigned_SH[(f,i)] for f,i in cartesian_prod_shltr))\n",
        "- norm21*w*(gp.quicksum(D_H[(j,i)] * assigned_H[(j,i)] for j,i in cartesian_prod_hos)) - norm22*w*(gp.quicksum(D_C[(k,i)]*assigned_C[(k,i)] for k,i in cartesian_prod_cntr )) - norm23*w*(gp.quicksum(D_SH[(f,i)]*assigned_SH[(f,i)] for f,i in cartesian_prod_shltr ))\n",
        "+ 2*norm31*w*(gp.quicksum(S_D_H_W[(z,j)]*assigned_H_W[(z,j)] for z,j in cartesian_prod_warehouse_H)) + 2*w*norm32*(gp.quicksum(S_D_C_W[(z,k)]*assigned_C_W[(z,k)] for z,k in cartesian_prod_warehouse_C)) + 2*w*norm33*(gp.quicksum(S_D_SH_W[(z,f)]*assigned_SH_W[(z,f)] for z,f in cartesian_prod_warehouse_SH))\n",
        "- norm41*w*(gp.quicksum(D_H_W[(z,j)]*assigned_H_W[(z,j)] for z,j in cartesian_prod_warehouse_H)) - norm42*w*(gp.quicksum(D_C_W[(z,k)] * assigned_C_W[(z,k)] for z,k in cartesian_prod_warehouse_C)) - norm43*w*(gp.quicksum(D_SH_W[(z,f)] * assigned_SH_W[(z,f)] for z,f in cartesian_prod_warehouse_SH))\n",
        "- 0.2*w*norm51*(gp.quicksum(exist_H)) - 0.2*w*norm52*(gp.quicksum(exist_C)) - 0.1*w*norm53*(gp.quicksum(exist_SH)) - 0.1*w*norm54*(gp.quicksum(exist_W))\n",
        ", GRB.MAXIMIZE)"
      ]
    },
    {
      "cell_type": "code",
      "execution_count": 28,
      "metadata": {
        "colab": {
          "base_uri": "https://localhost:8080/"
        },
        "id": "lqZLNvnZqEJB",
        "outputId": "74ba1c3f-19a3-434f-f431-e11799ef4b6b"
      },
      "outputs": [
        {
          "output_type": "stream",
          "name": "stdout",
          "text": [
            "Gurobi Optimizer version 10.0.2 build v10.0.2rc0 (linux64)\n",
            "\n",
            "CPU model: Intel(R) Xeon(R) CPU @ 2.20GHz, instruction set [SSE2|AVX|AVX2]\n",
            "Thread count: 1 physical cores, 2 logical processors, using up to 2 threads\n",
            "\n",
            "Optimize a model with 55 rows, 74 columns and 118 nonzeros\n",
            "Model fingerprint: 0x20df56a4\n",
            "Model has 30 quadratic objective terms\n",
            "Model has 36 quadratic constraints\n",
            "Variable types: 0 continuous, 74 integer (38 binary)\n",
            "Coefficient statistics:\n",
            "  Matrix range     [1e+00, 1e+03]\n",
            "  QMatrix range    [1e+00, 2e+00]\n",
            "  QLMatrix range   [1e+00, 1e+00]\n",
            "  Objective range  [3e-03, 2e-02]\n",
            "  QObjective range [1e-04, 1e-03]\n",
            "  Bounds range     [1e+00, 1e+00]\n",
            "  RHS range        [1e+00, 9e+02]\n",
            "Found heuristic solution: objective -0.0000000\n",
            "Presolve removed 6 rows and 6 columns\n",
            "Presolve time: 0.00s\n",
            "Presolved: 67 rows, 74 columns, 161 nonzeros\n",
            "Variable types: 0 continuous, 74 integer (35 binary)\n",
            "\n",
            "Root relaxation: objective 2.629563e-01, 42 iterations, 0.00 seconds (0.00 work units)\n",
            "\n",
            "    Nodes    |    Current Node    |     Objective Bounds      |     Work\n",
            " Expl Unexpl |  Obj  Depth IntInf | Incumbent    BestBd   Gap | It/Node Time\n",
            "\n",
            "     0     0    0.26296    0    6   -0.00000    0.26296      -     -    0s\n",
            "H    0     0                       0.2178962    0.26296  20.7%     -    0s\n",
            "H    0     0                       0.2275563    0.26296  15.6%     -    0s\n",
            "H    0     0                       0.2375401    0.26296  10.7%     -    0s\n",
            "     0     0    0.25703    0   14    0.23754    0.25703  8.20%     -    0s\n",
            "H    0     0                       0.2454454    0.25703  4.72%     -    0s\n",
            "     0     0    0.25161    0   17    0.24545    0.25161  2.51%     -    0s\n",
            "     0     0    0.25161    0   17    0.24545    0.25161  2.51%     -    0s\n",
            "     0     0    0.25055    0   23    0.24545    0.25055  2.08%     -    0s\n",
            "     0     0    0.24915    0   23    0.24545    0.24915  1.51%     -    0s\n",
            "H    0     0                       0.2458360    0.24915  1.35%     -    0s\n",
            "     0     0    0.24914    0   23    0.24584    0.24914  1.34%     -    0s\n",
            "     0     0    0.24871    0    1    0.24584    0.24871  1.17%     -    0s\n",
            "     0     0    0.24856    0   22    0.24584    0.24856  1.11%     -    0s\n",
            "     0     0    0.24850    0   20    0.24584    0.24850  1.09%     -    0s\n",
            "     0     0    0.24848    0   22    0.24584    0.24848  1.08%     -    0s\n",
            "     0     0    0.24841    0   25    0.24584    0.24841  1.05%     -    0s\n",
            "     0     0    0.24824    0   25    0.24584    0.24824  0.98%     -    0s\n",
            "     0     0    0.24824    0   24    0.24584    0.24824  0.98%     -    0s\n",
            "     0     0    0.24824    0   21    0.24584    0.24824  0.98%     -    0s\n",
            "     0     0    0.24823    0   24    0.24584    0.24823  0.98%     -    0s\n",
            "     0     0    0.24770    0   14    0.24584    0.24770  0.76%     -    0s\n",
            "     0     0    0.24770    0   14    0.24584    0.24770  0.76%     -    0s\n",
            "     0     0    0.24769    0   12    0.24584    0.24769  0.76%     -    0s\n",
            "     0     0    0.24769    0   12    0.24584    0.24769  0.76%     -    0s\n",
            "     0     0    0.24769    0   12    0.24584    0.24769  0.76%     -    0s\n",
            "     0     0    0.24768    0    2    0.24584    0.24768  0.75%     -    0s\n",
            "     0     0    0.24768    0    1    0.24584    0.24768  0.75%     -    0s\n",
            "     0     0    0.24594    0    2    0.24584    0.24594  0.04%     -    0s\n",
            "\n",
            "Cutting planes:\n",
            "  Implied bound: 1\n",
            "  Flow cover: 1\n",
            "  Relax-and-lift: 1\n",
            "\n",
            "Explored 1 nodes (119 simplex iterations) in 0.26 seconds (0.01 work units)\n",
            "Thread count was 2 (of 2 available processors)\n",
            "\n",
            "Solution count 6: 0.245836 0.245445 0.23754 ... -0\n",
            "No other solutions better than 0.245836\n",
            "\n",
            "Optimal solution found (tolerance 1.00e-04)\n",
            "Best objective 2.458360376795e-01, best bound 2.458360376795e-01, gap 0.0000%\n"
          ]
        }
      ],
      "source": [
        "# optimization of model\n",
        "m.optimize()"
      ]
    },
    {
      "cell_type": "code",
      "source": [],
      "metadata": {
        "id": "h_Ra9faaAQZX"
      },
      "execution_count": 28,
      "outputs": []
    },
    {
      "cell_type": "markdown",
      "source": [
        "The values of the decision variables are in one list. So, I needed to separate each kind of DVs in a list so I can diplay all DVs values in a readable way."
      ],
      "metadata": {
        "id": "tQkVFrAu_oON"
      }
    },
    {
      "cell_type": "code",
      "execution_count": 29,
      "metadata": {
        "colab": {
          "base_uri": "https://localhost:8080/"
        },
        "id": "Xbu9xK-VBFr8",
        "outputId": "e95fcb43-5edf-454c-9d80-30afeef03ab6"
      },
      "outputs": [
        {
          "output_type": "stream",
          "name": "stdout",
          "text": [
            "Hospitals:  [0 1]\n",
            "Centers:  [1 0]\n",
            "Shelters:  [1 1]\n",
            "Warehouses:  [1 1]\n",
            "Demand satisfied by each Hospital:  \n",
            "      0  1    2  exist_H  Sum_S_D_H  Cap_H\n",
            "0    0  0    0        0          0    750\n",
            "1  100  0  130        1        230    230\n",
            "[100   0 130]\n",
            "[100  70 190] \n",
            "\n",
            "Demand satisfied by each Center:  \n",
            "    0   1   2  exist_C  Sum_S_D_C  Cap_C\n",
            "0  0  70  30        1        100    100\n",
            "1  0   0   0        0          0     60\n",
            "[ 0 70 30]\n",
            "[100  70 160]\n",
            "[100  70 190]\n",
            "Shortage =  30 \n",
            "\n",
            "Demand satisfied by each Shelter:  \n",
            "    0    1    2  exist_SH  Sum_S_D_SH  Cap_SH\n",
            "0  0    0  700         1         700     700\n",
            "1  0  600    0         1         600     600\n",
            "[  0 600 700]\n",
            "[900 929 810]\n",
            "Shortage =  1339 \n",
            "\n",
            "Hospitals' demand satisfied by each warehouse: \n",
            "    0    1  exist_W  Sum_S_D_H_W  Cap_V_W\n",
            "0  0    0        1            0      300\n",
            "1  0  460        1          460     1000\n",
            "[  0 460]\n",
            "[  0 460]\n",
            "Shortage =  0\n",
            "Centers' demand satisfied by each warehouse: \n",
            "      0  1  exist_W  Sum_S_D_C_W  Cap_V_W\n",
            "0    0  0        1            0      300\n",
            "1  200  0        1          200     1000\n",
            "[200   0]\n",
            "[200   0]\n",
            "Shortage =  0\n",
            "Shelters' demand satisfied by each warehouse: \n",
            "       0    1  exist_W  Sum_S_D_SH_W  Cap_NV_W\n",
            "0  1000    0        1          1000      1000\n",
            "1     0  600        1           600       600\n",
            "[1000  600]\n",
            "[1400 1200]\n",
            "Shortage =  1000\n",
            "Nodes assigned to each hospital:  \n",
            "    0  1  2\n",
            "0  0  0  0\n",
            "1  1  0  1 \n",
            "\n",
            "Nodes assigned to each center:  \n",
            "    0  1  2\n",
            "0  0  1  1\n",
            "1  0  0  0 \n",
            "\n",
            "Nodes assigned to each shelter:  \n",
            "    0  1  2\n",
            "0  0  0  1\n",
            "1  0  1  0 \n",
            "\n",
            "Hospitals assigned to each warehouse \n",
            "    0  1\n",
            "0  0  0\n",
            "1  0  1 \n",
            "\n",
            "Centers assigned to each warehouse \n",
            "    0  1\n",
            "0  0  0\n",
            "1  1  0 \n",
            "\n",
            "Shelters assigned to each warehouse \n",
            "    0  1\n",
            "0  1  0\n",
            "1  0  1 \n",
            "\n",
            "The single Objective value =  0.24583603767951423\n"
          ]
        }
      ],
      "source": [
        "# display optimal values of decision variables and objective function\n",
        "\n",
        "vars = m.getVars()\n",
        "\n",
        "hospitals = []\n",
        "centers = []\n",
        "shelters = []\n",
        "warehouses = []\n",
        "\n",
        "demand_satisfied_H = []\n",
        "demand_satisfied_C = []\n",
        "demand_satisfied_SH = []\n",
        "demand_satisfied_H_W = []\n",
        "demand_satisfied_C_W = []\n",
        "demand_satisfied_SH_W = []\n",
        "\n",
        "nodes_assigned_H = []\n",
        "nodes_assigned_C = []\n",
        "nodes_assigned_SH = []\n",
        "nodes_assigned_H_W = []\n",
        "nodes_assigned_C_W = []\n",
        "nodes_assigned_SH_W = []\n",
        "\n",
        "sum_demand_satisfied_H = []\n",
        "sum_demand_satisfied_C = []\n",
        "sum_demand_satisfied_SH = []\n",
        "\n",
        "for j in range(0, num_hospitals):\n",
        "  hospitals.append(vars[j].X)\n",
        "hospitals = np.array(hospitals).astype(int)\n",
        "\n",
        "for k in range(num_hospitals, num_hospitals+num_centers):\n",
        "  centers.append(vars[k].X)\n",
        "centers = np.array(centers).astype(int)\n",
        "\n",
        "for f in range(num_hospitals+num_centers, num_hospitals+num_centers+num_shelters):\n",
        "  shelters.append(vars[f].X)\n",
        "shelters = np.array(shelters).astype(int)\n",
        "\n",
        "for j in range(num_hospitals+num_centers+num_shelters, num_hospitals+num_centers+num_shelters+(num_hospitals*num_nodes)):\n",
        "  demand_satisfied_H.append(vars[j].X)\n",
        "demand_satisfied_H = np.array(demand_satisfied_H).reshape(num_hospitals, num_nodes).astype(int)\n",
        "sum_victims_hospital = np.apply_along_axis(np.sum, axis=1, arr=demand_satisfied_H)\n",
        "sum_victims_node_H = np.apply_along_axis(np.sum, axis=0, arr=demand_satisfied_H)\n",
        "demand_satisfied_H = pd.DataFrame(demand_satisfied_H)\n",
        "demand_satisfied_H[\"exist_H\"] = hospitals\n",
        "demand_satisfied_H[\"Sum_S_D_H\"] = sum_victims_hospital\n",
        "demand_satisfied_H[\"Cap_H\"] = Cap_H\n",
        "\n",
        "for k in range(num_hospitals+num_centers+num_shelters+(num_hospitals*num_nodes), num_hospitals+num_centers+num_shelters+(num_hospitals*num_nodes)+(num_centers*num_nodes)):\n",
        "  demand_satisfied_C.append(vars[k].X)\n",
        "demand_satisfied_C = np.array(demand_satisfied_C).reshape(num_centers, num_nodes).astype(int)\n",
        "sum_victims_center = np.apply_along_axis(np.sum, axis=1, arr=demand_satisfied_C)\n",
        "sum_victims_node_C = np.apply_along_axis(np.sum, axis=0, arr=demand_satisfied_C)\n",
        "demand_satisfied_C = pd.DataFrame(demand_satisfied_C)\n",
        "demand_satisfied_C[\"exist_C\"] = centers\n",
        "demand_satisfied_C[\"Sum_S_D_C\"] = sum_victims_center\n",
        "demand_satisfied_C[\"Cap_C\"] = Cap_C\n",
        "\n",
        "for f in range(num_hospitals+num_centers+num_shelters+(num_hospitals*num_nodes)+(num_centers*num_nodes), num_hospitals+num_centers+num_shelters+(num_hospitals*num_nodes)+(num_centers*num_nodes)+(num_shelters*num_nodes)):\n",
        "  demand_satisfied_SH.append(vars[f].X)\n",
        "demand_satisfied_SH = np.array(demand_satisfied_SH).reshape(num_shelters, num_nodes).astype(int)\n",
        "sum_victims_shelter = np.apply_along_axis(np.sum, axis=1, arr=demand_satisfied_SH)\n",
        "sum_victims_node_SH = np.apply_along_axis(np.sum, axis=0, arr=demand_satisfied_SH)\n",
        "demand_satisfied_SH = pd.DataFrame(demand_satisfied_SH)\n",
        "demand_satisfied_SH[\"exist_SH\"] = shelters\n",
        "demand_satisfied_SH[\"Sum_S_D_SH\"] = sum_victims_shelter\n",
        "demand_satisfied_SH[\"Cap_SH\"] = Cap_SH\n",
        "\n",
        "for j in range(num_hospitals+num_centers+num_shelters+(num_hospitals*num_nodes)+(num_centers*num_nodes)+(num_shelters*num_nodes), num_hospitals+num_centers+num_shelters+(2*num_hospitals*num_nodes)+(num_centers*num_nodes)+(num_shelters*num_nodes)):\n",
        "  nodes_assigned_H.append(vars[j].X)\n",
        "nodes_assigned_H = np.array(nodes_assigned_H).reshape(num_hospitals, num_nodes).astype(int)\n",
        "nodes_assigned_H = pd.DataFrame(nodes_assigned_H)\n",
        "\n",
        "for k in range(num_hospitals+num_centers+num_shelters+(2*num_hospitals*num_nodes)+(num_centers*num_nodes)+(num_shelters*num_nodes), num_hospitals+num_centers+num_shelters+(2*num_hospitals*num_nodes)+(2*num_centers*num_nodes)+(num_shelters*num_nodes)):\n",
        "  nodes_assigned_C.append(vars[k].X)\n",
        "nodes_assigned_C = np.array(nodes_assigned_C).reshape(num_centers, num_nodes).astype(int)\n",
        "nodes_assigned_C = pd.DataFrame(nodes_assigned_C)\n",
        "\n",
        "for f in range(num_hospitals+num_centers+num_shelters+(2*num_hospitals*num_nodes)+(2*num_centers*num_nodes)+(num_shelters*num_nodes), num_hospitals+num_centers+num_shelters+(2*num_hospitals*num_nodes)+(2*num_centers*num_nodes)+(2*num_shelters*num_nodes)):\n",
        "  nodes_assigned_SH.append(vars[f].X)\n",
        "nodes_assigned_SH = np.array(nodes_assigned_SH).reshape(num_shelters, num_nodes).astype(int)\n",
        "nodes_assigned_SH = pd.DataFrame(nodes_assigned_SH)\n",
        "\n",
        "for z in range(num_hospitals+num_centers+num_shelters+(2*num_hospitals*num_nodes)+(2*num_centers*num_nodes)+(2*num_shelters*num_nodes), num_hospitals+num_centers+num_shelters+num_warehouses+(2*num_hospitals*num_nodes)+(2*num_centers*num_nodes)+(2*num_shelters*num_nodes)):\n",
        "  warehouses.append(vars[z].X)\n",
        "warehouses = np.array(warehouses).astype(int)\n",
        "\n",
        "for z in range(num_hospitals+num_centers+num_shelters+num_warehouses+(2*num_hospitals*num_nodes)+(2*num_centers*num_nodes)+(2*num_shelters*num_nodes), num_hospitals+num_centers+num_shelters+num_warehouses+(2*num_hospitals*num_nodes)+(2*num_centers*num_nodes)+(2*num_shelters*num_nodes)+(num_warehouses*num_hospitals)):\n",
        "  demand_satisfied_H_W.append(vars[z].X)\n",
        "demand_satisfied_H_W = np.array(demand_satisfied_H_W).reshape(num_warehouses, num_hospitals).astype(int)\n",
        "sum_demand_H_W = np.apply_along_axis(np.sum, axis=1, arr=demand_satisfied_H_W)\n",
        "sum_node_H_W = np.apply_along_axis(np.sum, axis=0, arr=demand_satisfied_H_W)\n",
        "demand_satisfied_H_W = pd.DataFrame(demand_satisfied_H_W)\n",
        "demand_satisfied_H_W[\"exist_W\"] = warehouses\n",
        "demand_satisfied_H_W[\"Sum_S_D_H_W\"] = sum_demand_H_W\n",
        "demand_satisfied_H_W[\"Cap_V_W\"] = Cap_V_W\n",
        "\n",
        "for z in range(num_hospitals+num_centers+num_shelters+num_warehouses+(2*num_hospitals*num_nodes)+(2*num_centers*num_nodes)+(2*num_shelters*num_nodes)+(num_warehouses*num_hospitals),num_hospitals+num_centers+num_shelters+num_warehouses+(2*num_hospitals*num_nodes)+(2*num_centers*num_nodes)+(2*num_shelters*num_nodes)+(num_warehouses*num_hospitals)+(num_warehouses*num_centers)):\n",
        "  demand_satisfied_C_W.append(vars[z].X)\n",
        "demand_satisfied_C_W = np.array(demand_satisfied_C_W).reshape(num_warehouses, num_centers).astype(int)\n",
        "sum_demand_C_W = np.apply_along_axis(np.sum, axis=1, arr=demand_satisfied_C_W)\n",
        "sum_node_C_W = (np.apply_along_axis(np.sum, axis=0, arr=demand_satisfied_C_W))\n",
        "demand_satisfied_C_W = pd.DataFrame(demand_satisfied_C_W)\n",
        "demand_satisfied_C_W[\"exist_W\"] = warehouses\n",
        "demand_satisfied_C_W[\"Sum_S_D_C_W\"] = sum_demand_C_W\n",
        "demand_satisfied_C_W[\"Cap_V_W\"] = Cap_V_W\n",
        "\n",
        "for z in range(num_hospitals+num_centers+num_shelters+num_warehouses+(2*num_hospitals*num_nodes)+(2*num_centers*num_nodes)+(2*num_shelters*num_nodes)+(num_warehouses*num_hospitals)+(num_warehouses*num_centers),num_hospitals+num_centers+num_shelters+num_warehouses+(2*num_hospitals*num_nodes)+(2*num_centers*num_nodes)+(2*num_shelters*num_nodes)+(num_warehouses*num_hospitals)+(num_warehouses*num_centers)+(num_warehouses*num_shelters)):\n",
        "  demand_satisfied_SH_W.append(vars[z].X)\n",
        "demand_satisfied_SH_W = np.array(demand_satisfied_SH_W).reshape(num_warehouses, num_shelters).astype(int)\n",
        "sum_demand_SH_W = np.apply_along_axis(np.sum, axis=1, arr=demand_satisfied_SH_W)\n",
        "sum_node_SH_W = (np.apply_along_axis(np.sum, axis=0, arr=demand_satisfied_SH_W))\n",
        "demand_satisfied_SH_W = pd.DataFrame(demand_satisfied_SH_W)\n",
        "demand_satisfied_SH_W[\"exist_W\"] = warehouses\n",
        "demand_satisfied_SH_W[\"Sum_S_D_SH_W\"] = sum_demand_SH_W\n",
        "demand_satisfied_SH_W[\"Cap_NV_W\"] = Cap_NV_W\n",
        "\n",
        "for z in range(num_hospitals+num_centers+num_shelters+num_warehouses+(2*num_hospitals*num_nodes)+(2*num_centers*num_nodes)+(2*num_shelters*num_nodes)+(num_warehouses*num_hospitals)+(num_warehouses*num_centers)+(num_warehouses*num_shelters), num_hospitals+num_centers+num_shelters+num_warehouses+(2*num_hospitals*num_nodes)+(2*num_centers*num_nodes)+(2*num_shelters*num_nodes)+(2*num_warehouses*num_hospitals)+(num_warehouses*num_centers)+(num_warehouses*num_shelters)):\n",
        "  nodes_assigned_H_W.append(vars[z].X)\n",
        "nodes_assigned_H_W = np.array(nodes_assigned_H_W).reshape(num_warehouses, num_hospitals).astype(int)\n",
        "nodes_assigned_H_W = pd.DataFrame(nodes_assigned_H_W)\n",
        "\n",
        "for z in range(num_hospitals+num_centers+num_shelters+num_warehouses+(2*num_hospitals*num_nodes)+(2*num_centers*num_nodes)+(2*num_shelters*num_nodes)+(2*num_warehouses*num_hospitals)+(num_warehouses*num_centers)+(num_warehouses*num_shelters), num_hospitals+num_centers+num_shelters+num_warehouses+(2*num_hospitals*num_nodes)+(2*num_centers*num_nodes)+(2*num_shelters*num_nodes)+(2*num_warehouses*num_hospitals)+(2*num_warehouses*num_centers)+(num_warehouses*num_shelters)):\n",
        "  nodes_assigned_C_W.append(vars[z].X)\n",
        "nodes_assigned_C_W = np.array(nodes_assigned_C_W).reshape(num_warehouses, num_centers).astype(int)\n",
        "nodes_assigned_C_W = pd.DataFrame(nodes_assigned_C_W)\n",
        "\n",
        "for z in range(num_hospitals+num_centers+num_shelters+num_warehouses+(2*num_hospitals*num_nodes)+(2*num_centers*num_nodes)+(2*num_shelters*num_nodes)+(2*num_warehouses*num_hospitals)+(2*num_warehouses*num_centers)+(num_warehouses*num_shelters), num_hospitals+num_centers+num_shelters+num_warehouses+(2*num_hospitals*num_nodes)+(2*num_centers*num_nodes)+(2*num_shelters*num_nodes)+(2*num_warehouses*num_hospitals)+(2*num_warehouses*num_centers)+(2*num_warehouses*num_shelters)):\n",
        "  nodes_assigned_SH_W.append(vars[z].X)\n",
        "nodes_assigned_SH_W = np.array(nodes_assigned_SH_W).reshape(num_warehouses, num_shelters).astype(int)\n",
        "nodes_assigned_SH_W = pd.DataFrame(nodes_assigned_SH_W)\n",
        "\n",
        "for j in range(num_hospitals+num_centers+num_shelters+num_warehouses+(2*num_hospitals*num_nodes)+(2*num_centers*num_nodes)+(2*num_shelters*num_nodes)+(2*num_warehouses*num_hospitals)+(2*num_warehouses*num_centers)+(2*num_warehouses*num_shelters), num_hospitals+num_centers+num_shelters+num_warehouses+(2*num_hospitals*num_nodes)+(2*num_centers*num_nodes)+(2*num_shelters*num_nodes)+(2*num_warehouses*num_hospitals)+(2*num_warehouses*num_centers)+(2*num_warehouses*num_shelters)+num_hospitals):\n",
        "  sum_demand_satisfied_H.append(vars[j].X)\n",
        "sum_demand_satisfied_H = np.array(sum_demand_satisfied_H).astype(int)\n",
        "\n",
        "for k in range(num_hospitals+num_centers+num_shelters+num_warehouses+(2*num_hospitals*num_nodes)+(2*num_centers*num_nodes)+(2*num_shelters*num_nodes)+(2*num_warehouses*num_hospitals)+(2*num_warehouses*num_centers)+(2*num_warehouses*num_shelters)+num_hospitals, num_hospitals+num_centers+num_shelters+num_warehouses+(2*num_hospitals*num_nodes)+(2*num_centers*num_nodes)+(2*num_shelters*num_nodes)+(2*num_warehouses*num_hospitals)+(2*num_warehouses*num_centers)+(2*num_warehouses*num_shelters)+num_hospitals+num_centers):\n",
        "  sum_demand_satisfied_C.append(vars[k].X)\n",
        "sum_demand_satisfied_C = np.array(sum_demand_satisfied_C).astype(int)\n",
        "\n",
        "for f in range(num_hospitals+num_centers+num_shelters+num_warehouses+(2*num_hospitals*num_nodes)+(2*num_centers*num_nodes)+(2*num_shelters*num_nodes)+(2*num_warehouses*num_hospitals)+(2*num_warehouses*num_centers)+(2*num_warehouses*num_shelters)+num_hospitals+num_centers, num_hospitals+num_centers+num_shelters+num_warehouses+(2*num_hospitals*num_nodes)+(2*num_centers*num_nodes)+(2*num_shelters*num_nodes)+(2*num_warehouses*num_hospitals)+(2*num_warehouses*num_centers)+(2*num_warehouses*num_shelters)+num_hospitals+num_centers+num_shelters):\n",
        "  sum_demand_satisfied_SH.append(vars[f].X)\n",
        "sum_demand_satisfied_SH = np.array(sum_demand_satisfied_SH).astype(int)\n",
        "\n",
        "# Located facilities\n",
        "print(\"Hospitals: \", hospitals)\n",
        "print(\"Centers: \", centers)\n",
        "print(\"Shelters: \", shelters)\n",
        "print(\"Warehouses: \", warehouses)\n",
        "\n",
        "# Demand satisfied by hospitals\n",
        "print(\"Demand satisfied by each Hospital: \", \"\\n\", demand_satisfied_H)\n",
        "print(sum_victims_node_H)\n",
        "print(victim, \"\\n\")\n",
        "\n",
        "# Demand satisfied by centers\n",
        "print(\"Demand satisfied by each Center: \", \"\\n\", demand_satisfied_C)\n",
        "print(sum_victims_node_C)\n",
        "print(sum_victims_node_H+sum_victims_node_C)\n",
        "print(victim)\n",
        "print(\"Shortage = \", sum(victim)-(sum(sum_victims_node_H)+sum(sum_victims_node_C)), \"\\n\")\n",
        "\n",
        "# Demand satisfied by shelters\n",
        "print(\"Demand satisfied by each Shelter: \", \"\\n\",demand_satisfied_SH)\n",
        "print(sum_victims_node_SH)\n",
        "print(non_victim)\n",
        "print(\"Shortage = \", sum(non_victim)-sum(sum_victims_node_SH), \"\\n\")\n",
        "\n",
        "# Demand satisfied by warehouses for hospitals\n",
        "print(\"Hospitals' demand satisfied by each warehouse:\", \"\\n\", demand_satisfied_H_W)\n",
        "print(sum_node_H_W)\n",
        "print(sum_demand_satisfied_H*U_R_V)\n",
        "print(\"Shortage = \", U_R_V*sum(sum_demand_satisfied_H)-sum(sum_node_H_W))\n",
        "\n",
        "# Demand satisfied by warehouses for centers\n",
        "print(\"Centers' demand satisfied by each warehouse:\", \"\\n\", demand_satisfied_C_W)\n",
        "print(sum_node_C_W)\n",
        "print(sum_demand_satisfied_C*U_R_V)\n",
        "print(\"Shortage = \", U_R_V*sum(sum_demand_satisfied_C)-sum(sum_node_C_W))\n",
        "\n",
        "# Demand satisfied by warehouses for shelters\n",
        "print(\"Shelters' demand satisfied by each warehouse:\", \"\\n\", demand_satisfied_SH_W)\n",
        "print(sum_node_SH_W)\n",
        "print(sum_demand_satisfied_SH*U_R_NV)\n",
        "print(\"Shortage = \", U_R_NV*sum(sum_demand_satisfied_SH)-sum(sum_node_SH_W))\n",
        "\n",
        "# disaster zones assigned to hospitals\n",
        "print(\"Nodes assigned to each hospital: \", \"\\n\",nodes_assigned_H, \"\\n\")\n",
        "# disaster zones assigned to centers\n",
        "print(\"Nodes assigned to each center: \", \"\\n\",nodes_assigned_C, \"\\n\")\n",
        "# disaster zones assigned to shelters\n",
        "print(\"Nodes assigned to each shelter: \", \"\\n\",nodes_assigned_SH, \"\\n\")\n",
        "# hospitals assigned to warehouses\n",
        "print(\"Hospitals assigned to each warehouse\", \"\\n\", nodes_assigned_H_W, \"\\n\")\n",
        "# centers assigned to warehouses\n",
        "print(\"Centers assigned to each warehouse\", \"\\n\", nodes_assigned_C_W, \"\\n\")\n",
        "# shelters assigned to warehouses\n",
        "print(\"Shelters assigned to each warehouse\", \"\\n\", nodes_assigned_SH_W, \"\\n\")\n",
        "\n",
        "# objective value\n",
        "print(\"The single Objective value = \", m.objVal)\n"
      ]
    },
    {
      "cell_type": "code",
      "execution_count": 29,
      "metadata": {
        "id": "SE1GmbOvEIOU"
      },
      "outputs": [],
      "source": []
    },
    {
      "cell_type": "code",
      "source": [],
      "metadata": {
        "id": "psVKP-nf2Ppj"
      },
      "execution_count": 29,
      "outputs": []
    }
  ],
  "metadata": {
    "colab": {
      "provenance": [],
      "include_colab_link": true
    },
    "kernelspec": {
      "display_name": "Python 3",
      "name": "python3"
    },
    "language_info": {
      "name": "python"
    }
  },
  "nbformat": 4,
  "nbformat_minor": 0
}