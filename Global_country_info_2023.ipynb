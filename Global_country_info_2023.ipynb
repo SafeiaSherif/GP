{
  "nbformat": 4,
  "nbformat_minor": 0,
  "metadata": {
    "colab": {
      "provenance": [],
      "authorship_tag": "ABX9TyNbheMW2Na7FBz4ZDstbi/T",
      "include_colab_link": true
    },
    "kernelspec": {
      "name": "python3",
      "display_name": "Python 3"
    },
    "language_info": {
      "name": "python"
    }
  },
  "cells": [
    {
      "cell_type": "markdown",
      "metadata": {
        "id": "view-in-github",
        "colab_type": "text"
      },
      "source": [
        "<a href=\"https://colab.research.google.com/github/SafeiaSherif/SafeiaSherif/blob/main/Global_country_info_2023.ipynb\" target=\"_parent\"><img src=\"https://colab.research.google.com/assets/colab-badge.svg\" alt=\"Open In Colab\"/></a>"
      ]
    },
    {
      "cell_type": "markdown",
      "source": [
        "# About Dataset\n",
        "\n",
        "**This dataset is small, so it's very hard to find relationships among its attributes.**\n",
        "\n",
        "**Description**\n",
        "\n",
        "This comprehensive dataset provides a wealth of information about all countries worldwide, covering a wide range of indicators and attributes. It encompasses demographic statistics, economic indicators, environmental factors, healthcare metrics, education statistics, and much more. With every country represented, this dataset offers a complete global perspective on various aspects of nations, enabling in-depth analyses and cross-country comparisons.\n",
        "\n",
        "**Key Features**\n",
        "\n",
        "\n",
        "*   Country: Name of the country.\n",
        "*   Density (P/Km2): Population density measured in persons per square kilometer.\n",
        "*   Abbreviation: Abbreviation or code representing the country.\n",
        "*   Agricultural Land (%): Percentage of land area used for agricultural purposes.\n",
        "*   Land Area (Km2): Total land area of the country in square kilometers.\n",
        "*   Armed Forces Size: Size of the armed forces in the country.\n",
        "*   Birth Rate: Number of births per 1,000 population per year.\n",
        "*   Calling Code: International calling code for the country.\n",
        "*   Capital/Major City: Name of the capital or major city.\n",
        "*   CO2 Emissions: Carbon dioxide emissions in tons.\n",
        "*   CPI: Consumer Price Index, a measure of inflation and purchasing power.\n",
        "*   CPI Change (%): Percentage change in the Consumer Price Index compared to the previous year.\n",
        "*   Fertility Rate: Average number of children born to a woman during her lifetime.\n",
        "*   Forested Area (%): Percentage of land area covered by forests.\n",
        "*   Gasoline_Price: Price of gasoline per liter in local currency.\n",
        "*   GDP: Gross Domestic Product, the total value of goods and services produced in the country.\n",
        "*   Gross Primary Education Enrollment (%): Gross enrollment ratio for primary education.\n",
        "*   Gross Tertiary Education Enrollment (%): Gross enrollment ratio for tertiary education.\n",
        "*   Infant Mortality: Number of deaths per 1,000 live births before reaching one year of age.\n",
        "*   Largest City: Name of the country's largest city.\n",
        "*   Life Expectancy: Average number of years a newborn is expected to live.\n",
        "*   Maternal Mortality Ratio: Number of maternal deaths per 100,000 live births.\n",
        "*   Minimum Wage: Minimum wage level in local currency.\n",
        "*   Official Language: Official language(s) spoken in the country.\n",
        "*   Out of Pocket Health Expenditure (%): Percentage of total health expenditure paid out-of-pocket by individuals.\n",
        "*   Physicians per Thousand: Number of physicians per thousand people.\n",
        "*   Population: Total population of the country.\n",
        "*   Population: Labor Force Participation (%): Percentage of the population that is part of the labor force.\n",
        "*   Tax Revenue (%): Tax revenue as a percentage of GDP.\n",
        "*   Total Tax Rate: Overall tax burden as a percentage of commercial profits.\n",
        "*   Unemployment Rate: Percentage of the labor force that is unemployed.\n",
        "*   Urban Population: Percentage of the population living in urban areas.\n",
        "*   Latitude: Latitude coordinate of the country's location.\n",
        "*   Longitude: Longitude coordinate of the country's location."
      ],
      "metadata": {
        "id": "hkmxLegRJO9i"
      }
    },
    {
      "cell_type": "code",
      "execution_count": 1,
      "metadata": {
        "id": "gryABnpAJHYl"
      },
      "outputs": [],
      "source": [
        "import numpy as np\n",
        "import pandas as pd\n",
        "import plotly.express as px\n",
        "import matplotlib.pyplot as plt\n",
        "import seaborn as sns\n",
        "from google.colab import drive"
      ]
    },
    {
      "cell_type": "code",
      "source": [
        "drive.mount('/content/drive')"
      ],
      "metadata": {
        "colab": {
          "base_uri": "https://localhost:8080/"
        },
        "id": "FyKnnu22Mm6o",
        "outputId": "355fb8c1-434f-435e-8c03-3c1032686a56"
      },
      "execution_count": 5,
      "outputs": [
        {
          "output_type": "stream",
          "name": "stdout",
          "text": [
            "Mounted at /content/drive\n"
          ]
        }
      ]
    },
    {
      "cell_type": "code",
      "source": [
        "df = pd.read_csv('/content/drive/MyDrive/Data_sets/world-data-2023.csv')"
      ],
      "metadata": {
        "id": "r_ibQm7TNVsf"
      },
      "execution_count": 6,
      "outputs": []
    },
    {
      "cell_type": "code",
      "source": [
        "df.head()"
      ],
      "metadata": {
        "colab": {
          "base_uri": "https://localhost:8080/",
          "height": 351
        },
        "id": "K7K0Hg-UN8f1",
        "outputId": "6ad15bd4-c215-404e-b19d-f075a3387433"
      },
      "execution_count": 7,
      "outputs": [
        {
          "output_type": "execute_result",
          "data": {
            "text/plain": [
              "       Country Density\\n(P/Km2) Abbreviation Agricultural Land( %)  \\\n",
              "0  Afghanistan               60           AF                58.10%   \n",
              "1      Albania              105           AL                43.10%   \n",
              "2      Algeria               18           DZ                17.40%   \n",
              "3      Andorra              164           AD                40.00%   \n",
              "4       Angola               26           AO                47.50%   \n",
              "\n",
              "  Land Area(Km2) Armed Forces size  Birth Rate  Calling Code  \\\n",
              "0        652,230           323,000       32.49          93.0   \n",
              "1         28,748             9,000       11.78         355.0   \n",
              "2      2,381,741           317,000       24.28         213.0   \n",
              "3            468               NaN        7.20         376.0   \n",
              "4      1,246,700           117,000       40.73         244.0   \n",
              "\n",
              "  Capital/Major City Co2-Emissions  ... Out of pocket health expenditure  \\\n",
              "0              Kabul         8,672  ...                           78.40%   \n",
              "1             Tirana         4,536  ...                           56.90%   \n",
              "2            Algiers       150,006  ...                           28.10%   \n",
              "3   Andorra la Vella           469  ...                           36.40%   \n",
              "4             Luanda        34,693  ...                           33.40%   \n",
              "\n",
              "  Physicians per thousand  Population  \\\n",
              "0                    0.28  38,041,754   \n",
              "1                    1.20   2,854,191   \n",
              "2                    1.72  43,053,054   \n",
              "3                    3.33      77,142   \n",
              "4                    0.21  31,825,295   \n",
              "\n",
              "   Population: Labor force participation (%) Tax revenue (%) Total tax rate  \\\n",
              "0                                     48.90%           9.30%         71.40%   \n",
              "1                                     55.70%          18.60%         36.60%   \n",
              "2                                     41.20%          37.20%         66.10%   \n",
              "3                                        NaN             NaN            NaN   \n",
              "4                                     77.50%           9.20%         49.10%   \n",
              "\n",
              "  Unemployment rate Urban_population   Latitude  Longitude  \n",
              "0            11.12%        9,797,273  33.939110  67.709953  \n",
              "1            12.33%        1,747,593  41.153332  20.168331  \n",
              "2            11.70%       31,510,100  28.033886   1.659626  \n",
              "3               NaN           67,873  42.506285   1.521801  \n",
              "4             6.89%       21,061,025 -11.202692  17.873887  \n",
              "\n",
              "[5 rows x 35 columns]"
            ],
            "text/html": [
              "\n",
              "\n",
              "  <div id=\"df-80b12ed7-5321-4934-8c24-fccc54de41e2\">\n",
              "    <div class=\"colab-df-container\">\n",
              "      <div>\n",
              "<style scoped>\n",
              "    .dataframe tbody tr th:only-of-type {\n",
              "        vertical-align: middle;\n",
              "    }\n",
              "\n",
              "    .dataframe tbody tr th {\n",
              "        vertical-align: top;\n",
              "    }\n",
              "\n",
              "    .dataframe thead th {\n",
              "        text-align: right;\n",
              "    }\n",
              "</style>\n",
              "<table border=\"1\" class=\"dataframe\">\n",
              "  <thead>\n",
              "    <tr style=\"text-align: right;\">\n",
              "      <th></th>\n",
              "      <th>Country</th>\n",
              "      <th>Density\\n(P/Km2)</th>\n",
              "      <th>Abbreviation</th>\n",
              "      <th>Agricultural Land( %)</th>\n",
              "      <th>Land Area(Km2)</th>\n",
              "      <th>Armed Forces size</th>\n",
              "      <th>Birth Rate</th>\n",
              "      <th>Calling Code</th>\n",
              "      <th>Capital/Major City</th>\n",
              "      <th>Co2-Emissions</th>\n",
              "      <th>...</th>\n",
              "      <th>Out of pocket health expenditure</th>\n",
              "      <th>Physicians per thousand</th>\n",
              "      <th>Population</th>\n",
              "      <th>Population: Labor force participation (%)</th>\n",
              "      <th>Tax revenue (%)</th>\n",
              "      <th>Total tax rate</th>\n",
              "      <th>Unemployment rate</th>\n",
              "      <th>Urban_population</th>\n",
              "      <th>Latitude</th>\n",
              "      <th>Longitude</th>\n",
              "    </tr>\n",
              "  </thead>\n",
              "  <tbody>\n",
              "    <tr>\n",
              "      <th>0</th>\n",
              "      <td>Afghanistan</td>\n",
              "      <td>60</td>\n",
              "      <td>AF</td>\n",
              "      <td>58.10%</td>\n",
              "      <td>652,230</td>\n",
              "      <td>323,000</td>\n",
              "      <td>32.49</td>\n",
              "      <td>93.0</td>\n",
              "      <td>Kabul</td>\n",
              "      <td>8,672</td>\n",
              "      <td>...</td>\n",
              "      <td>78.40%</td>\n",
              "      <td>0.28</td>\n",
              "      <td>38,041,754</td>\n",
              "      <td>48.90%</td>\n",
              "      <td>9.30%</td>\n",
              "      <td>71.40%</td>\n",
              "      <td>11.12%</td>\n",
              "      <td>9,797,273</td>\n",
              "      <td>33.939110</td>\n",
              "      <td>67.709953</td>\n",
              "    </tr>\n",
              "    <tr>\n",
              "      <th>1</th>\n",
              "      <td>Albania</td>\n",
              "      <td>105</td>\n",
              "      <td>AL</td>\n",
              "      <td>43.10%</td>\n",
              "      <td>28,748</td>\n",
              "      <td>9,000</td>\n",
              "      <td>11.78</td>\n",
              "      <td>355.0</td>\n",
              "      <td>Tirana</td>\n",
              "      <td>4,536</td>\n",
              "      <td>...</td>\n",
              "      <td>56.90%</td>\n",
              "      <td>1.20</td>\n",
              "      <td>2,854,191</td>\n",
              "      <td>55.70%</td>\n",
              "      <td>18.60%</td>\n",
              "      <td>36.60%</td>\n",
              "      <td>12.33%</td>\n",
              "      <td>1,747,593</td>\n",
              "      <td>41.153332</td>\n",
              "      <td>20.168331</td>\n",
              "    </tr>\n",
              "    <tr>\n",
              "      <th>2</th>\n",
              "      <td>Algeria</td>\n",
              "      <td>18</td>\n",
              "      <td>DZ</td>\n",
              "      <td>17.40%</td>\n",
              "      <td>2,381,741</td>\n",
              "      <td>317,000</td>\n",
              "      <td>24.28</td>\n",
              "      <td>213.0</td>\n",
              "      <td>Algiers</td>\n",
              "      <td>150,006</td>\n",
              "      <td>...</td>\n",
              "      <td>28.10%</td>\n",
              "      <td>1.72</td>\n",
              "      <td>43,053,054</td>\n",
              "      <td>41.20%</td>\n",
              "      <td>37.20%</td>\n",
              "      <td>66.10%</td>\n",
              "      <td>11.70%</td>\n",
              "      <td>31,510,100</td>\n",
              "      <td>28.033886</td>\n",
              "      <td>1.659626</td>\n",
              "    </tr>\n",
              "    <tr>\n",
              "      <th>3</th>\n",
              "      <td>Andorra</td>\n",
              "      <td>164</td>\n",
              "      <td>AD</td>\n",
              "      <td>40.00%</td>\n",
              "      <td>468</td>\n",
              "      <td>NaN</td>\n",
              "      <td>7.20</td>\n",
              "      <td>376.0</td>\n",
              "      <td>Andorra la Vella</td>\n",
              "      <td>469</td>\n",
              "      <td>...</td>\n",
              "      <td>36.40%</td>\n",
              "      <td>3.33</td>\n",
              "      <td>77,142</td>\n",
              "      <td>NaN</td>\n",
              "      <td>NaN</td>\n",
              "      <td>NaN</td>\n",
              "      <td>NaN</td>\n",
              "      <td>67,873</td>\n",
              "      <td>42.506285</td>\n",
              "      <td>1.521801</td>\n",
              "    </tr>\n",
              "    <tr>\n",
              "      <th>4</th>\n",
              "      <td>Angola</td>\n",
              "      <td>26</td>\n",
              "      <td>AO</td>\n",
              "      <td>47.50%</td>\n",
              "      <td>1,246,700</td>\n",
              "      <td>117,000</td>\n",
              "      <td>40.73</td>\n",
              "      <td>244.0</td>\n",
              "      <td>Luanda</td>\n",
              "      <td>34,693</td>\n",
              "      <td>...</td>\n",
              "      <td>33.40%</td>\n",
              "      <td>0.21</td>\n",
              "      <td>31,825,295</td>\n",
              "      <td>77.50%</td>\n",
              "      <td>9.20%</td>\n",
              "      <td>49.10%</td>\n",
              "      <td>6.89%</td>\n",
              "      <td>21,061,025</td>\n",
              "      <td>-11.202692</td>\n",
              "      <td>17.873887</td>\n",
              "    </tr>\n",
              "  </tbody>\n",
              "</table>\n",
              "<p>5 rows × 35 columns</p>\n",
              "</div>\n",
              "      <button class=\"colab-df-convert\" onclick=\"convertToInteractive('df-80b12ed7-5321-4934-8c24-fccc54de41e2')\"\n",
              "              title=\"Convert this dataframe to an interactive table.\"\n",
              "              style=\"display:none;\">\n",
              "\n",
              "  <svg xmlns=\"http://www.w3.org/2000/svg\" height=\"24px\"viewBox=\"0 0 24 24\"\n",
              "       width=\"24px\">\n",
              "    <path d=\"M0 0h24v24H0V0z\" fill=\"none\"/>\n",
              "    <path d=\"M18.56 5.44l.94 2.06.94-2.06 2.06-.94-2.06-.94-.94-2.06-.94 2.06-2.06.94zm-11 1L8.5 8.5l.94-2.06 2.06-.94-2.06-.94L8.5 2.5l-.94 2.06-2.06.94zm10 10l.94 2.06.94-2.06 2.06-.94-2.06-.94-.94-2.06-.94 2.06-2.06.94z\"/><path d=\"M17.41 7.96l-1.37-1.37c-.4-.4-.92-.59-1.43-.59-.52 0-1.04.2-1.43.59L10.3 9.45l-7.72 7.72c-.78.78-.78 2.05 0 2.83L4 21.41c.39.39.9.59 1.41.59.51 0 1.02-.2 1.41-.59l7.78-7.78 2.81-2.81c.8-.78.8-2.07 0-2.86zM5.41 20L4 18.59l7.72-7.72 1.47 1.35L5.41 20z\"/>\n",
              "  </svg>\n",
              "      </button>\n",
              "\n",
              "\n",
              "\n",
              "    <div id=\"df-b6701c4c-9d8a-445d-9405-29aed97273bc\">\n",
              "      <button class=\"colab-df-quickchart\" onclick=\"quickchart('df-b6701c4c-9d8a-445d-9405-29aed97273bc')\"\n",
              "              title=\"Suggest charts.\"\n",
              "              style=\"display:none;\">\n",
              "\n",
              "<svg xmlns=\"http://www.w3.org/2000/svg\" height=\"24px\"viewBox=\"0 0 24 24\"\n",
              "     width=\"24px\">\n",
              "    <g>\n",
              "        <path d=\"M19 3H5c-1.1 0-2 .9-2 2v14c0 1.1.9 2 2 2h14c1.1 0 2-.9 2-2V5c0-1.1-.9-2-2-2zM9 17H7v-7h2v7zm4 0h-2V7h2v10zm4 0h-2v-4h2v4z\"/>\n",
              "    </g>\n",
              "</svg>\n",
              "      </button>\n",
              "    </div>\n",
              "\n",
              "<style>\n",
              "  .colab-df-quickchart {\n",
              "    background-color: #E8F0FE;\n",
              "    border: none;\n",
              "    border-radius: 50%;\n",
              "    cursor: pointer;\n",
              "    display: none;\n",
              "    fill: #1967D2;\n",
              "    height: 32px;\n",
              "    padding: 0 0 0 0;\n",
              "    width: 32px;\n",
              "  }\n",
              "\n",
              "  .colab-df-quickchart:hover {\n",
              "    background-color: #E2EBFA;\n",
              "    box-shadow: 0px 1px 2px rgba(60, 64, 67, 0.3), 0px 1px 3px 1px rgba(60, 64, 67, 0.15);\n",
              "    fill: #174EA6;\n",
              "  }\n",
              "\n",
              "  [theme=dark] .colab-df-quickchart {\n",
              "    background-color: #3B4455;\n",
              "    fill: #D2E3FC;\n",
              "  }\n",
              "\n",
              "  [theme=dark] .colab-df-quickchart:hover {\n",
              "    background-color: #434B5C;\n",
              "    box-shadow: 0px 1px 3px 1px rgba(0, 0, 0, 0.15);\n",
              "    filter: drop-shadow(0px 1px 2px rgba(0, 0, 0, 0.3));\n",
              "    fill: #FFFFFF;\n",
              "  }\n",
              "</style>\n",
              "\n",
              "    <script>\n",
              "      async function quickchart(key) {\n",
              "        const containerElement = document.querySelector('#' + key);\n",
              "        const charts = await google.colab.kernel.invokeFunction(\n",
              "            'suggestCharts', [key], {});\n",
              "      }\n",
              "    </script>\n",
              "\n",
              "      <script>\n",
              "\n",
              "function displayQuickchartButton(domScope) {\n",
              "  let quickchartButtonEl =\n",
              "    domScope.querySelector('#df-b6701c4c-9d8a-445d-9405-29aed97273bc button.colab-df-quickchart');\n",
              "  quickchartButtonEl.style.display =\n",
              "    google.colab.kernel.accessAllowed ? 'block' : 'none';\n",
              "}\n",
              "\n",
              "        displayQuickchartButton(document);\n",
              "      </script>\n",
              "      <style>\n",
              "    .colab-df-container {\n",
              "      display:flex;\n",
              "      flex-wrap:wrap;\n",
              "      gap: 12px;\n",
              "    }\n",
              "\n",
              "    .colab-df-convert {\n",
              "      background-color: #E8F0FE;\n",
              "      border: none;\n",
              "      border-radius: 50%;\n",
              "      cursor: pointer;\n",
              "      display: none;\n",
              "      fill: #1967D2;\n",
              "      height: 32px;\n",
              "      padding: 0 0 0 0;\n",
              "      width: 32px;\n",
              "    }\n",
              "\n",
              "    .colab-df-convert:hover {\n",
              "      background-color: #E2EBFA;\n",
              "      box-shadow: 0px 1px 2px rgba(60, 64, 67, 0.3), 0px 1px 3px 1px rgba(60, 64, 67, 0.15);\n",
              "      fill: #174EA6;\n",
              "    }\n",
              "\n",
              "    [theme=dark] .colab-df-convert {\n",
              "      background-color: #3B4455;\n",
              "      fill: #D2E3FC;\n",
              "    }\n",
              "\n",
              "    [theme=dark] .colab-df-convert:hover {\n",
              "      background-color: #434B5C;\n",
              "      box-shadow: 0px 1px 3px 1px rgba(0, 0, 0, 0.15);\n",
              "      filter: drop-shadow(0px 1px 2px rgba(0, 0, 0, 0.3));\n",
              "      fill: #FFFFFF;\n",
              "    }\n",
              "  </style>\n",
              "\n",
              "      <script>\n",
              "        const buttonEl =\n",
              "          document.querySelector('#df-80b12ed7-5321-4934-8c24-fccc54de41e2 button.colab-df-convert');\n",
              "        buttonEl.style.display =\n",
              "          google.colab.kernel.accessAllowed ? 'block' : 'none';\n",
              "\n",
              "        async function convertToInteractive(key) {\n",
              "          const element = document.querySelector('#df-80b12ed7-5321-4934-8c24-fccc54de41e2');\n",
              "          const dataTable =\n",
              "            await google.colab.kernel.invokeFunction('convertToInteractive',\n",
              "                                                     [key], {});\n",
              "          if (!dataTable) return;\n",
              "\n",
              "          const docLinkHtml = 'Like what you see? Visit the ' +\n",
              "            '<a target=\"_blank\" href=https://colab.research.google.com/notebooks/data_table.ipynb>data table notebook</a>'\n",
              "            + ' to learn more about interactive tables.';\n",
              "          element.innerHTML = '';\n",
              "          dataTable['output_type'] = 'display_data';\n",
              "          await google.colab.output.renderOutput(dataTable, element);\n",
              "          const docLink = document.createElement('div');\n",
              "          docLink.innerHTML = docLinkHtml;\n",
              "          element.appendChild(docLink);\n",
              "        }\n",
              "      </script>\n",
              "    </div>\n",
              "  </div>\n"
            ]
          },
          "metadata": {},
          "execution_count": 7
        }
      ]
    },
    {
      "cell_type": "code",
      "source": [
        "df.info()"
      ],
      "metadata": {
        "colab": {
          "base_uri": "https://localhost:8080/"
        },
        "id": "T9zH-4zJxIyT",
        "outputId": "dc0274dd-74ef-4890-89e2-e4e797dd6da2"
      },
      "execution_count": 8,
      "outputs": [
        {
          "output_type": "stream",
          "name": "stdout",
          "text": [
            "<class 'pandas.core.frame.DataFrame'>\n",
            "RangeIndex: 195 entries, 0 to 194\n",
            "Data columns (total 35 columns):\n",
            " #   Column                                     Non-Null Count  Dtype  \n",
            "---  ------                                     --------------  -----  \n",
            " 0   Country                                    195 non-null    object \n",
            " 1   Density\n",
            "(P/Km2)                            195 non-null    object \n",
            " 2   Abbreviation                               188 non-null    object \n",
            " 3   Agricultural Land( %)                      188 non-null    object \n",
            " 4   Land Area(Km2)                             194 non-null    object \n",
            " 5   Armed Forces size                          171 non-null    object \n",
            " 6   Birth Rate                                 189 non-null    float64\n",
            " 7   Calling Code                               194 non-null    float64\n",
            " 8   Capital/Major City                         192 non-null    object \n",
            " 9   Co2-Emissions                              188 non-null    object \n",
            " 10  CPI                                        178 non-null    object \n",
            " 11  CPI Change (%)                             179 non-null    object \n",
            " 12  Currency-Code                              180 non-null    object \n",
            " 13  Fertility Rate                             188 non-null    float64\n",
            " 14  Forested Area (%)                          188 non-null    object \n",
            " 15  Gasoline Price                             175 non-null    object \n",
            " 16  GDP                                        193 non-null    object \n",
            " 17  Gross primary education enrollment (%)     188 non-null    object \n",
            " 18  Gross tertiary education enrollment (%)    183 non-null    object \n",
            " 19  Infant mortality                           189 non-null    float64\n",
            " 20  Largest city                               189 non-null    object \n",
            " 21  Life expectancy                            187 non-null    float64\n",
            " 22  Maternal mortality ratio                   181 non-null    float64\n",
            " 23  Minimum wage                               150 non-null    object \n",
            " 24  Official language                          194 non-null    object \n",
            " 25  Out of pocket health expenditure           188 non-null    object \n",
            " 26  Physicians per thousand                    188 non-null    float64\n",
            " 27  Population                                 194 non-null    object \n",
            " 28  Population: Labor force participation (%)  176 non-null    object \n",
            " 29  Tax revenue (%)                            169 non-null    object \n",
            " 30  Total tax rate                             183 non-null    object \n",
            " 31  Unemployment rate                          176 non-null    object \n",
            " 32  Urban_population                           190 non-null    object \n",
            " 33  Latitude                                   194 non-null    float64\n",
            " 34  Longitude                                  194 non-null    float64\n",
            "dtypes: float64(9), object(26)\n",
            "memory usage: 53.4+ KB\n"
          ]
        }
      ]
    },
    {
      "cell_type": "markdown",
      "source": [
        "From the previous output, there are many columns that need to be transformed from object data type to float data type.\n",
        "\n",
        "The next cell contains a function for this issue."
      ],
      "metadata": {
        "id": "dxwRAuu0EKSa"
      }
    },
    {
      "cell_type": "code",
      "source": [
        "# Function to transform object data type to float\n",
        "def obj_to_float(df_x, col):\n",
        "  for i in col:\n",
        "    print(i)\n",
        "    df_x[i].fillna(\"0\", inplace=True)\n",
        "    df_x[i] = df_x[i].str.replace(\",\", \"\").str.replace(\"%\", \"\").str.replace(\"$\", \"\").astype(float)\n",
        "  return df_x"
      ],
      "metadata": {
        "id": "qsriJK6CvizA"
      },
      "execution_count": 9,
      "outputs": []
    },
    {
      "cell_type": "code",
      "source": [
        "columns = [\"Density\\n(P/Km2)\", \"Agricultural Land( %)\", \"Land Area(Km2)\", \"Armed Forces size\",\n",
        "           \"Co2-Emissions\", \"CPI\", \"CPI Change (%)\", \"Forested Area (%)\", \"Gasoline Price\", \"GDP\",\n",
        "           \"Gross primary education enrollment (%)\", \"Gross tertiary education enrollment (%)\",\n",
        "           \"Minimum wage\", \"Out of pocket health expenditure\",\n",
        "           \"Population\", \"Population: Labor force participation (%)\", \"Tax revenue (%)\",\n",
        "           \"Total tax rate\", \"Unemployment rate\", \"Urban_population\"]"
      ],
      "metadata": {
        "id": "sXHW7ceXwc9L"
      },
      "execution_count": 10,
      "outputs": []
    },
    {
      "cell_type": "code",
      "source": [
        "df0 = df.copy()\n",
        "clean_df = obj_to_float(df0, columns)"
      ],
      "metadata": {
        "colab": {
          "base_uri": "https://localhost:8080/"
        },
        "id": "5y7dzYH5AZbS",
        "outputId": "8c70c7ff-b792-4b7e-9a83-3a5e266106b5"
      },
      "execution_count": 11,
      "outputs": [
        {
          "output_type": "stream",
          "name": "stdout",
          "text": [
            "Density\n",
            "(P/Km2)\n",
            "Agricultural Land( %)\n",
            "Land Area(Km2)\n",
            "Armed Forces size\n",
            "Co2-Emissions\n",
            "CPI\n",
            "CPI Change (%)\n",
            "Forested Area (%)\n",
            "Gasoline Price\n",
            "GDP\n",
            "Gross primary education enrollment (%)\n",
            "Gross tertiary education enrollment (%)\n",
            "Minimum wage\n",
            "Out of pocket health expenditure\n",
            "Population\n",
            "Population: Labor force participation (%)\n",
            "Tax revenue (%)\n",
            "Total tax rate\n",
            "Unemployment rate\n",
            "Urban_population\n"
          ]
        },
        {
          "output_type": "stream",
          "name": "stderr",
          "text": [
            "<ipython-input-9-6541767f04af>:6: FutureWarning: The default value of regex will change from True to False in a future version. In addition, single character regular expressions will *not* be treated as literal strings when regex=True.\n",
            "  df_x[i] = df_x[i].str.replace(\",\", \"\").str.replace(\"%\", \"\").str.replace(\"$\", \"\").astype(float)\n"
          ]
        }
      ]
    },
    {
      "cell_type": "code",
      "source": [
        "clean_df.info()"
      ],
      "metadata": {
        "colab": {
          "base_uri": "https://localhost:8080/"
        },
        "id": "AkjyEWGnD6m-",
        "outputId": "650ce973-7595-48a2-f0c9-419e0a773fa5"
      },
      "execution_count": 12,
      "outputs": [
        {
          "output_type": "stream",
          "name": "stdout",
          "text": [
            "<class 'pandas.core.frame.DataFrame'>\n",
            "RangeIndex: 195 entries, 0 to 194\n",
            "Data columns (total 35 columns):\n",
            " #   Column                                     Non-Null Count  Dtype  \n",
            "---  ------                                     --------------  -----  \n",
            " 0   Country                                    195 non-null    object \n",
            " 1   Density\n",
            "(P/Km2)                            195 non-null    float64\n",
            " 2   Abbreviation                               188 non-null    object \n",
            " 3   Agricultural Land( %)                      195 non-null    float64\n",
            " 4   Land Area(Km2)                             195 non-null    float64\n",
            " 5   Armed Forces size                          195 non-null    float64\n",
            " 6   Birth Rate                                 189 non-null    float64\n",
            " 7   Calling Code                               194 non-null    float64\n",
            " 8   Capital/Major City                         192 non-null    object \n",
            " 9   Co2-Emissions                              195 non-null    float64\n",
            " 10  CPI                                        195 non-null    float64\n",
            " 11  CPI Change (%)                             195 non-null    float64\n",
            " 12  Currency-Code                              180 non-null    object \n",
            " 13  Fertility Rate                             188 non-null    float64\n",
            " 14  Forested Area (%)                          195 non-null    float64\n",
            " 15  Gasoline Price                             195 non-null    float64\n",
            " 16  GDP                                        195 non-null    float64\n",
            " 17  Gross primary education enrollment (%)     195 non-null    float64\n",
            " 18  Gross tertiary education enrollment (%)    195 non-null    float64\n",
            " 19  Infant mortality                           189 non-null    float64\n",
            " 20  Largest city                               189 non-null    object \n",
            " 21  Life expectancy                            187 non-null    float64\n",
            " 22  Maternal mortality ratio                   181 non-null    float64\n",
            " 23  Minimum wage                               195 non-null    float64\n",
            " 24  Official language                          194 non-null    object \n",
            " 25  Out of pocket health expenditure           195 non-null    float64\n",
            " 26  Physicians per thousand                    188 non-null    float64\n",
            " 27  Population                                 195 non-null    float64\n",
            " 28  Population: Labor force participation (%)  195 non-null    float64\n",
            " 29  Tax revenue (%)                            195 non-null    float64\n",
            " 30  Total tax rate                             195 non-null    float64\n",
            " 31  Unemployment rate                          195 non-null    float64\n",
            " 32  Urban_population                           195 non-null    float64\n",
            " 33  Latitude                                   194 non-null    float64\n",
            " 34  Longitude                                  194 non-null    float64\n",
            "dtypes: float64(29), object(6)\n",
            "memory usage: 53.4+ KB\n"
          ]
        }
      ]
    },
    {
      "cell_type": "code",
      "source": [
        "\n",
        "fig = px.scatter_mapbox(\n",
        "    clean_df,\n",
        "    lat=\"Latitude\",\n",
        "    lon=\"Longitude\",\n",
        "    color=\"Co2-Emissions\",\n",
        "    size=\"Agricultural Land( %)\",\n",
        "    width=1200,\n",
        "    height=800,\n",
        "    hover_data=[\"Country\"],\n",
        "    zoom=1,\n",
        "    title=\"countries, Agricultural Land and Co2-Emissions\",\n",
        "    mapbox_style=\"open-street-map\",\n",
        ")\n",
        "fig.show()\n"
      ],
      "metadata": {
        "colab": {
          "base_uri": "https://localhost:8080/",
          "height": 817
        },
        "id": "zkVyXI_IiSa9",
        "outputId": "2c43f708-d662-437c-a852-7b645f370aa4"
      },
      "execution_count": 13,
      "outputs": [
        {
          "output_type": "display_data",
          "data": {
            "text/html": [
              "<html>\n",
              "<head><meta charset=\"utf-8\" /></head>\n",
              "<body>\n",
              "    <div>            <script src=\"https://cdnjs.cloudflare.com/ajax/libs/mathjax/2.7.5/MathJax.js?config=TeX-AMS-MML_SVG\"></script><script type=\"text/javascript\">if (window.MathJax && window.MathJax.Hub && window.MathJax.Hub.Config) {window.MathJax.Hub.Config({SVG: {font: \"STIX-Web\"}});}</script>                <script type=\"text/javascript\">window.PlotlyConfig = {MathJaxConfig: 'local'};</script>\n",
              "        <script src=\"https://cdn.plot.ly/plotly-2.18.2.min.js\"></script>                <div id=\"7fc93e6f-561a-4f90-aad3-a761fb501c7b\" class=\"plotly-graph-div\" style=\"height:800px; width:1200px;\"></div>            <script type=\"text/javascript\">                                    window.PLOTLYENV=window.PLOTLYENV || {};                                    if (document.getElementById(\"7fc93e6f-561a-4f90-aad3-a761fb501c7b\")) {                    Plotly.newPlot(                        \"7fc93e6f-561a-4f90-aad3-a761fb501c7b\",                        [{\"customdata\":[[\"Afghanistan\"],[\"Albania\"],[\"Algeria\"],[\"Andorra\"],[\"Angola\"],[\"Antigua and Barbuda\"],[\"Argentina\"],[\"Armenia\"],[\"Australia\"],[\"Austria\"],[\"Azerbaijan\"],[\"The Bahamas\"],[\"Bahrain\"],[\"Bangladesh\"],[\"Barbados\"],[\"Belarus\"],[\"Belgium\"],[\"Belize\"],[\"Benin\"],[\"Bhutan\"],[\"Bolivia\"],[\"Bosnia and Herzegovina\"],[\"Botswana\"],[\"Brazil\"],[\"Brunei\"],[\"Bulgaria\"],[\"Burkina Faso\"],[\"Burundi\"],[\"Ivory Coast\"],[\"Cape Verde\"],[\"Cambodia\"],[\"Cameroon\"],[\"Canada\"],[\"Central African Republic\"],[\"Chad\"],[\"Chile\"],[\"China\"],[\"Colombia\"],[\"Comoros\"],[\"Republic of the Congo\"],[\"Costa Rica\"],[\"Croatia\"],[\"Cuba\"],[\"Cyprus\"],[\"Czech Republic\"],[\"Democratic Republic of the Congo\"],[\"Denmark\"],[\"Djibouti\"],[\"Dominica\"],[\"Dominican Republic\"],[\"Ecuador\"],[\"Egypt\"],[\"El Salvador\"],[\"Equatorial Guinea\"],[\"Eritrea\"],[\"Estonia\"],[\"Eswatini\"],[\"Ethiopia\"],[\"Fiji\"],[\"Finland\"],[\"France\"],[\"Gabon\"],[\"The Gambia\"],[\"Georgia\"],[\"Germany\"],[\"Ghana\"],[\"Greece\"],[\"Grenada\"],[\"Guatemala\"],[\"Guinea\"],[\"Guinea-Bissau\"],[\"Guyana\"],[\"Haiti\"],[\"Vatican City\"],[\"Honduras\"],[\"Hungary\"],[\"Iceland\"],[\"India\"],[\"Indonesia\"],[\"Iran\"],[\"Iraq\"],[\"Republic of Ireland\"],[\"Israel\"],[\"Italy\"],[\"Jamaica\"],[\"Japan\"],[\"Jordan\"],[\"Kazakhstan\"],[\"Kenya\"],[\"Kiribati\"],[\"Kuwait\"],[\"Kyrgyzstan\"],[\"Laos\"],[\"Latvia\"],[\"Lebanon\"],[\"Lesotho\"],[\"Liberia\"],[\"Libya\"],[\"Liechtenstein\"],[\"Lithuania\"],[\"Luxembourg\"],[\"Madagascar\"],[\"Malawi\"],[\"Malaysia\"],[\"Maldives\"],[\"Mali\"],[\"Malta\"],[\"Marshall Islands\"],[\"Mauritania\"],[\"Mauritius\"],[\"Mexico\"],[\"Federated States of Micronesia\"],[\"Moldova\"],[\"Monaco\"],[\"Mongolia\"],[\"Montenegro\"],[\"Morocco\"],[\"Mozambique\"],[\"Myanmar\"],[\"Namibia\"],[\"Nauru\"],[\"Nepal\"],[\"Netherlands\"],[\"New Zealand\"],[\"Nicaragua\"],[\"Niger\"],[\"Nigeria\"],[\"North Korea\"],[\"North Macedonia\"],[\"Norway\"],[\"Oman\"],[\"Pakistan\"],[\"Palau\"],[\"Palestinian National Authority\"],[\"Panama\"],[\"Papua New Guinea\"],[\"Paraguay\"],[\"Peru\"],[\"Philippines\"],[\"Poland\"],[\"Portugal\"],[\"Qatar\"],[\"Romania\"],[\"Russia\"],[\"Rwanda\"],[\"Saint Kitts and Nevis\"],[\"Saint Lucia\"],[\"Saint Vincent and the Grenadines\"],[\"Samoa\"],[\"San Marino\"],[\"S\\ufffd\\ufffd\\ufffd\\ufffd\\ufffd\\ufffd\\ufffd\\ufffd\\ufffd\\ufffd\\ufffd\"],[\"Saudi Arabia\"],[\"Senegal\"],[\"Serbia\"],[\"Seychelles\"],[\"Sierra Leone\"],[\"Singapore\"],[\"Slovakia\"],[\"Slovenia\"],[\"Solomon Islands\"],[\"Somalia\"],[\"South Africa\"],[\"South Korea\"],[\"South Sudan\"],[\"Spain\"],[\"Sri Lanka\"],[\"Sudan\"],[\"Suriname\"],[\"Sweden\"],[\"Switzerland\"],[\"Syria\"],[\"Tajikistan\"],[\"Tanzania\"],[\"Thailand\"],[\"East Timor\"],[\"Togo\"],[\"Tonga\"],[\"Trinidad and Tobago\"],[\"Tunisia\"],[\"Turkey\"],[\"Turkmenistan\"],[\"Tuvalu\"],[\"Uganda\"],[\"Ukraine\"],[\"United Arab Emirates\"],[\"United Kingdom\"],[\"United States\"],[\"Uruguay\"],[\"Uzbekistan\"],[\"Vanuatu\"],[\"Venezuela\"],[\"Vietnam\"],[\"Yemen\"],[\"Zambia\"],[\"Zimbabwe\"]],\"hovertemplate\":\"Agricultural Land( %)=%{marker.size}<br>Latitude=%{lat}<br>Longitude=%{lon}<br>Country=%{customdata[0]}<br>Co2-Emissions=%{marker.color}<extra></extra>\",\"lat\":[33.93911,41.153332,28.033886,42.506285,-11.202692,17.060816,-38.416097,40.069099,-25.274398,47.516231,40.143105,25.03428,26.0667,23.684994,13.193887,53.709807,50.503887,17.189877,9.30769,27.514162,-16.290154,43.915886,-22.328474,-14.235004,4.535277,42.733883,12.238333,-3.373056,7.539989,16.5388,12.565679,7.369722,56.130366,6.611111,15.454166,-35.675147,35.86166,4.570868,-11.6455,-0.228021,9.748917,45.1,21.521757,35.126413,49.817492,-4.038333,56.26392,11.825138,15.414999,18.735693,-1.831239,26.820553,13.794185,1.650801,15.179384,58.595272,-26.522503,9.145,-17.713371,61.92411,46.227638,-0.803689,13.443182,42.315407,51.165691,7.946527,39.074208,12.1165,15.783471,9.945587,11.803749,4.860416,18.971187,41.902916,15.199999,47.162494,64.963051,20.593684,-0.789275,32.427908,33.223191,53.41291,31.046051,41.87194,18.109581,36.204824,30.585164,48.019573,-0.023559,1.8368976,29.31166,41.20438,19.85627,56.879635,33.854721,-29.609988,6.428055,26.3351,47.1410392,55.169438,49.815273,-18.766947,-13.254308,4.210484,3.202778,17.570692,35.937496,7.131474,21.00789,-20.348404,23.634501,7.425554,47.411631,43.7384176,46.862496,42.708678,31.791702,-18.665695,21.916221,-22.95764,-0.522778,28.394857,52.132633,-40.900557,12.865416,17.607789,9.081999,40.339852,41.608635,60.472024,21.4735329,30.375321,7.51498,31.952162,8.537981,-6.314993,-23.442503,-9.189967,12.879721,51.919438,39.399872,25.354826,45.943161,61.52401,-1.940278,17.357822,13.909444,12.984305,-13.759029,43.94236,null,23.885942,14.497401,44.016521,-4.679574,8.460555,1.352083,48.669026,46.151241,-9.64571,5.152149,-30.559482,35.907757,6.8769919,40.463667,7.873054,12.862807,3.919305,60.128161,46.818188,34.802075,38.861034,-6.369028,15.870032,-8.874217,8.619543,-21.178986,10.691803,33.886917,38.963745,38.969719,-7.109535,1.373333,48.379433,23.424076,55.378051,37.09024,-32.522779,41.377491,-15.376706,6.42375,14.058324,15.552727,-13.133897,-19.015438],\"legendgroup\":\"\",\"lon\":[67.709953,20.168331,1.659626,1.521801,17.873887,-61.796428,-63.616672,45.038189,133.775136,14.550072,47.576927,-77.39628,50.5577,90.356331,-59.543198,27.953389,4.469936,-88.49765,2.315834,90.433601,-63.588653,17.679076,24.684866,-51.92528,114.727669,25.48583,-1.561593,29.918886,-5.54708,-23.0418,104.990963,12.354722,-106.346771,20.939444,18.732207,-71.542969,104.195397,-74.297333,43.3333,15.827659,-83.753428,15.2,-77.781167,33.429859,15.472962,21.758664,9.501785,42.590275,-61.370976,-70.162651,-78.183406,30.802498,-88.89653,10.267895,39.782334,25.013607,31.465866,40.489673,178.065032,25.748151,2.213749,11.609444,-15.310139,43.356892,10.451526,-1.023194,21.824312,-61.679,-90.230759,-9.696645,-15.180413,-58.93018,-72.285215,12.453389,-86.241905,19.503304,-19.020835,78.96288,113.921327,53.688046,43.679291,-8.24389,34.851612,12.56738,-77.297508,138.252924,36.238414,66.923684,37.906193,-157.3768317,47.481766,74.766098,102.495496,24.603189,35.862285,28.233608,-9.429499,17.228331,9.520935,23.881275,6.129583,46.869107,34.301525,101.975766,73.22068,-3.996166,14.375416,171.184478,-10.940835,57.552152,-102.552784,150.550812,28.369885,7.4246158,103.846656,19.37439,-7.09262,35.529562,95.955974,18.49041,166.931503,84.124008,5.291266,174.885971,-85.207229,8.081666,8.675277,127.510093,21.745275,8.468946,55.975413,69.345116,134.58252,35.233154,-80.782127,143.95555,-58.443832,-75.015152,121.774017,19.145136,-8.224454,51.183884,24.96676,105.318756,29.873888,-62.782998,-60.978893,-61.287228,-172.104629,12.457777,null,45.079162,-14.452362,21.005859,55.491977,-11.779889,103.819836,19.699024,14.995463,160.156194,46.199616,22.937506,127.766922,31.3069788,-3.74922,80.771797,30.217636,-56.027783,18.643501,8.227512,38.996815,71.276093,34.888822,100.992541,125.727539,0.824782,-175.198242,-61.222503,9.537499,35.243322,59.556278,177.64933,32.290275,31.16558,53.847818,-3.435973,-95.712891,-55.765835,64.585262,166.959158,-66.58973,108.277199,48.516388,27.849332,29.154857],\"marker\":{\"color\":[8672.0,4536.0,150006.0,469.0,34693.0,557.0,201348.0,5156.0,375908.0,61448.0,37620.0,1786.0,31694.0,84246.0,1276.0,58280.0,96889.0,568.0,6476.0,1261.0,21606.0,21848.0,6340.0,462299.0,7664.0,41708.0,3418.0,495.0,9674.0,543.0,9919.0,8291.0,544894.0,297.0,1016.0,85822.0,9893038.0,97814.0,202.0,3282.0,8023.0,17488.0,28284.0,6626.0,102218.0,2021.0,31786.0,620.0,180.0,25258.0,41155.0,238560.0,7169.0,5655.0,711.0,16590.0,0.0,14870.0,2046.0,45871.0,303276.0,5321.0,532.0,10128.0,727973.0,16670.0,62434.0,268.0,16777.0,2996.0,293.0,2384.0,2978.0,0.0,9813.0,45537.0,2065.0,2407672.0,563325.0,661710.0,190061.0,37711.0,65166.0,320411.0,8225.0,1135886.0,25108.0,247207.0,17910.0,66.0,98734.0,9787.0,17763.0,7004.0,24796.0,2512.0,1386.0,50564.0,51.0,12963.0,8988.0,3905.0,1298.0,248289.0,1445.0,3179.0,1342.0,143.0,2739.0,4349.0,486406.0,143.0,5115.0,0.0,25368.0,2017.0,61276.0,7943.0,25280.0,4228.0,0.0,9105.0,170780.0,34382.0,5592.0,2017.0,120369.0,28284.0,0.0,41023.0,63457.0,201150.0,224.0,0.0,10715.0,7536.0,7407.0,57414.0,122287.0,299037.0,48742.0,103259.0,69259.0,1732027.0,1115.0,238.0,414.0,220.0,246.0,0.0,121.0,563449.0,10902.0,45221.0,605.0,1093.0,37535.0,32424.0,12633.0,169.0,645.0,476644.0,620302.0,1727.0,244002.0,23362.0,20000.0,1738.0,43252.0,34477.0,28830.0,5310.0,11973.0,283763.0,495.0,3000.0,128.0,43868.0,29937.0,372725.0,70630.0,11.0,5680.0,202250.0,206324.0,379025.0,5006302.0,6766.0,91811.0,147.0,164175.0,192668.0,10609.0,5141.0,10983.0],\"coloraxis\":\"coloraxis\",\"size\":[58.1,43.1,17.4,40.0,47.5,20.5,54.3,58.9,48.2,32.4,57.7,1.4,11.1,70.6,23.3,42.0,44.6,7.0,33.3,13.6,34.8,43.1,45.6,33.9,2.7,46.3,44.2,79.2,64.8,19.6,30.9,20.6,6.9,8.2,39.7,21.2,56.2,40.3,71.5,31.1,34.5,27.6,59.9,12.2,45.2,11.6,62.0,73.4,33.3,48.7,22.2,3.8,76.4,10.1,75.2,23.1,0.0,36.3,23.3,7.5,52.4,20.0,59.8,34.5,47.7,69.0,47.6,23.5,36.0,59.0,58.0,8.6,66.8,0.0,28.9,58.4,18.7,60.4,31.5,28.2,21.4,64.5,24.6,43.2,41.0,12.3,12.0,80.4,48.5,42.0,8.4,55.0,10.3,31.1,64.3,77.6,28.0,8.7,32.2,47.2,53.7,71.2,61.4,26.3,26.3,33.8,32.4,63.9,38.5,42.4,54.6,31.4,74.2,0.0,71.5,19.0,68.5,63.5,19.5,47.1,0.0,28.7,53.3,40.5,42.1,36.1,77.7,21.8,0.0,2.7,4.6,47.8,10.9,0.0,30.4,2.6,55.1,18.5,41.7,46.9,39.5,5.8,58.8,13.3,73.4,23.1,17.4,25.6,12.4,16.7,50.7,80.8,46.1,39.3,3.4,54.7,0.9,39.2,30.7,3.9,70.3,79.8,17.4,0.0,52.6,43.7,28.7,0.6,7.4,38.4,75.8,34.1,44.8,43.3,25.6,70.2,45.8,10.5,64.8,49.8,72.0,60.0,71.9,71.7,5.5,71.7,44.4,82.6,62.9,15.3,24.5,39.3,44.6,32.1,41.9],\"sizemode\":\"area\",\"sizeref\":0.2065},\"mode\":\"markers\",\"name\":\"\",\"showlegend\":false,\"subplot\":\"mapbox\",\"type\":\"scattermapbox\"}],                        {\"template\":{\"data\":{\"histogram2dcontour\":[{\"type\":\"histogram2dcontour\",\"colorbar\":{\"outlinewidth\":0,\"ticks\":\"\"},\"colorscale\":[[0.0,\"#0d0887\"],[0.1111111111111111,\"#46039f\"],[0.2222222222222222,\"#7201a8\"],[0.3333333333333333,\"#9c179e\"],[0.4444444444444444,\"#bd3786\"],[0.5555555555555556,\"#d8576b\"],[0.6666666666666666,\"#ed7953\"],[0.7777777777777778,\"#fb9f3a\"],[0.8888888888888888,\"#fdca26\"],[1.0,\"#f0f921\"]]}],\"choropleth\":[{\"type\":\"choropleth\",\"colorbar\":{\"outlinewidth\":0,\"ticks\":\"\"}}],\"histogram2d\":[{\"type\":\"histogram2d\",\"colorbar\":{\"outlinewidth\":0,\"ticks\":\"\"},\"colorscale\":[[0.0,\"#0d0887\"],[0.1111111111111111,\"#46039f\"],[0.2222222222222222,\"#7201a8\"],[0.3333333333333333,\"#9c179e\"],[0.4444444444444444,\"#bd3786\"],[0.5555555555555556,\"#d8576b\"],[0.6666666666666666,\"#ed7953\"],[0.7777777777777778,\"#fb9f3a\"],[0.8888888888888888,\"#fdca26\"],[1.0,\"#f0f921\"]]}],\"heatmap\":[{\"type\":\"heatmap\",\"colorbar\":{\"outlinewidth\":0,\"ticks\":\"\"},\"colorscale\":[[0.0,\"#0d0887\"],[0.1111111111111111,\"#46039f\"],[0.2222222222222222,\"#7201a8\"],[0.3333333333333333,\"#9c179e\"],[0.4444444444444444,\"#bd3786\"],[0.5555555555555556,\"#d8576b\"],[0.6666666666666666,\"#ed7953\"],[0.7777777777777778,\"#fb9f3a\"],[0.8888888888888888,\"#fdca26\"],[1.0,\"#f0f921\"]]}],\"heatmapgl\":[{\"type\":\"heatmapgl\",\"colorbar\":{\"outlinewidth\":0,\"ticks\":\"\"},\"colorscale\":[[0.0,\"#0d0887\"],[0.1111111111111111,\"#46039f\"],[0.2222222222222222,\"#7201a8\"],[0.3333333333333333,\"#9c179e\"],[0.4444444444444444,\"#bd3786\"],[0.5555555555555556,\"#d8576b\"],[0.6666666666666666,\"#ed7953\"],[0.7777777777777778,\"#fb9f3a\"],[0.8888888888888888,\"#fdca26\"],[1.0,\"#f0f921\"]]}],\"contourcarpet\":[{\"type\":\"contourcarpet\",\"colorbar\":{\"outlinewidth\":0,\"ticks\":\"\"}}],\"contour\":[{\"type\":\"contour\",\"colorbar\":{\"outlinewidth\":0,\"ticks\":\"\"},\"colorscale\":[[0.0,\"#0d0887\"],[0.1111111111111111,\"#46039f\"],[0.2222222222222222,\"#7201a8\"],[0.3333333333333333,\"#9c179e\"],[0.4444444444444444,\"#bd3786\"],[0.5555555555555556,\"#d8576b\"],[0.6666666666666666,\"#ed7953\"],[0.7777777777777778,\"#fb9f3a\"],[0.8888888888888888,\"#fdca26\"],[1.0,\"#f0f921\"]]}],\"surface\":[{\"type\":\"surface\",\"colorbar\":{\"outlinewidth\":0,\"ticks\":\"\"},\"colorscale\":[[0.0,\"#0d0887\"],[0.1111111111111111,\"#46039f\"],[0.2222222222222222,\"#7201a8\"],[0.3333333333333333,\"#9c179e\"],[0.4444444444444444,\"#bd3786\"],[0.5555555555555556,\"#d8576b\"],[0.6666666666666666,\"#ed7953\"],[0.7777777777777778,\"#fb9f3a\"],[0.8888888888888888,\"#fdca26\"],[1.0,\"#f0f921\"]]}],\"mesh3d\":[{\"type\":\"mesh3d\",\"colorbar\":{\"outlinewidth\":0,\"ticks\":\"\"}}],\"scatter\":[{\"fillpattern\":{\"fillmode\":\"overlay\",\"size\":10,\"solidity\":0.2},\"type\":\"scatter\"}],\"parcoords\":[{\"type\":\"parcoords\",\"line\":{\"colorbar\":{\"outlinewidth\":0,\"ticks\":\"\"}}}],\"scatterpolargl\":[{\"type\":\"scatterpolargl\",\"marker\":{\"colorbar\":{\"outlinewidth\":0,\"ticks\":\"\"}}}],\"bar\":[{\"error_x\":{\"color\":\"#2a3f5f\"},\"error_y\":{\"color\":\"#2a3f5f\"},\"marker\":{\"line\":{\"color\":\"#E5ECF6\",\"width\":0.5},\"pattern\":{\"fillmode\":\"overlay\",\"size\":10,\"solidity\":0.2}},\"type\":\"bar\"}],\"scattergeo\":[{\"type\":\"scattergeo\",\"marker\":{\"colorbar\":{\"outlinewidth\":0,\"ticks\":\"\"}}}],\"scatterpolar\":[{\"type\":\"scatterpolar\",\"marker\":{\"colorbar\":{\"outlinewidth\":0,\"ticks\":\"\"}}}],\"histogram\":[{\"marker\":{\"pattern\":{\"fillmode\":\"overlay\",\"size\":10,\"solidity\":0.2}},\"type\":\"histogram\"}],\"scattergl\":[{\"type\":\"scattergl\",\"marker\":{\"colorbar\":{\"outlinewidth\":0,\"ticks\":\"\"}}}],\"scatter3d\":[{\"type\":\"scatter3d\",\"line\":{\"colorbar\":{\"outlinewidth\":0,\"ticks\":\"\"}},\"marker\":{\"colorbar\":{\"outlinewidth\":0,\"ticks\":\"\"}}}],\"scattermapbox\":[{\"type\":\"scattermapbox\",\"marker\":{\"colorbar\":{\"outlinewidth\":0,\"ticks\":\"\"}}}],\"scatterternary\":[{\"type\":\"scatterternary\",\"marker\":{\"colorbar\":{\"outlinewidth\":0,\"ticks\":\"\"}}}],\"scattercarpet\":[{\"type\":\"scattercarpet\",\"marker\":{\"colorbar\":{\"outlinewidth\":0,\"ticks\":\"\"}}}],\"carpet\":[{\"aaxis\":{\"endlinecolor\":\"#2a3f5f\",\"gridcolor\":\"white\",\"linecolor\":\"white\",\"minorgridcolor\":\"white\",\"startlinecolor\":\"#2a3f5f\"},\"baxis\":{\"endlinecolor\":\"#2a3f5f\",\"gridcolor\":\"white\",\"linecolor\":\"white\",\"minorgridcolor\":\"white\",\"startlinecolor\":\"#2a3f5f\"},\"type\":\"carpet\"}],\"table\":[{\"cells\":{\"fill\":{\"color\":\"#EBF0F8\"},\"line\":{\"color\":\"white\"}},\"header\":{\"fill\":{\"color\":\"#C8D4E3\"},\"line\":{\"color\":\"white\"}},\"type\":\"table\"}],\"barpolar\":[{\"marker\":{\"line\":{\"color\":\"#E5ECF6\",\"width\":0.5},\"pattern\":{\"fillmode\":\"overlay\",\"size\":10,\"solidity\":0.2}},\"type\":\"barpolar\"}],\"pie\":[{\"automargin\":true,\"type\":\"pie\"}]},\"layout\":{\"autotypenumbers\":\"strict\",\"colorway\":[\"#636efa\",\"#EF553B\",\"#00cc96\",\"#ab63fa\",\"#FFA15A\",\"#19d3f3\",\"#FF6692\",\"#B6E880\",\"#FF97FF\",\"#FECB52\"],\"font\":{\"color\":\"#2a3f5f\"},\"hovermode\":\"closest\",\"hoverlabel\":{\"align\":\"left\"},\"paper_bgcolor\":\"white\",\"plot_bgcolor\":\"#E5ECF6\",\"polar\":{\"bgcolor\":\"#E5ECF6\",\"angularaxis\":{\"gridcolor\":\"white\",\"linecolor\":\"white\",\"ticks\":\"\"},\"radialaxis\":{\"gridcolor\":\"white\",\"linecolor\":\"white\",\"ticks\":\"\"}},\"ternary\":{\"bgcolor\":\"#E5ECF6\",\"aaxis\":{\"gridcolor\":\"white\",\"linecolor\":\"white\",\"ticks\":\"\"},\"baxis\":{\"gridcolor\":\"white\",\"linecolor\":\"white\",\"ticks\":\"\"},\"caxis\":{\"gridcolor\":\"white\",\"linecolor\":\"white\",\"ticks\":\"\"}},\"coloraxis\":{\"colorbar\":{\"outlinewidth\":0,\"ticks\":\"\"}},\"colorscale\":{\"sequential\":[[0.0,\"#0d0887\"],[0.1111111111111111,\"#46039f\"],[0.2222222222222222,\"#7201a8\"],[0.3333333333333333,\"#9c179e\"],[0.4444444444444444,\"#bd3786\"],[0.5555555555555556,\"#d8576b\"],[0.6666666666666666,\"#ed7953\"],[0.7777777777777778,\"#fb9f3a\"],[0.8888888888888888,\"#fdca26\"],[1.0,\"#f0f921\"]],\"sequentialminus\":[[0.0,\"#0d0887\"],[0.1111111111111111,\"#46039f\"],[0.2222222222222222,\"#7201a8\"],[0.3333333333333333,\"#9c179e\"],[0.4444444444444444,\"#bd3786\"],[0.5555555555555556,\"#d8576b\"],[0.6666666666666666,\"#ed7953\"],[0.7777777777777778,\"#fb9f3a\"],[0.8888888888888888,\"#fdca26\"],[1.0,\"#f0f921\"]],\"diverging\":[[0,\"#8e0152\"],[0.1,\"#c51b7d\"],[0.2,\"#de77ae\"],[0.3,\"#f1b6da\"],[0.4,\"#fde0ef\"],[0.5,\"#f7f7f7\"],[0.6,\"#e6f5d0\"],[0.7,\"#b8e186\"],[0.8,\"#7fbc41\"],[0.9,\"#4d9221\"],[1,\"#276419\"]]},\"xaxis\":{\"gridcolor\":\"white\",\"linecolor\":\"white\",\"ticks\":\"\",\"title\":{\"standoff\":15},\"zerolinecolor\":\"white\",\"automargin\":true,\"zerolinewidth\":2},\"yaxis\":{\"gridcolor\":\"white\",\"linecolor\":\"white\",\"ticks\":\"\",\"title\":{\"standoff\":15},\"zerolinecolor\":\"white\",\"automargin\":true,\"zerolinewidth\":2},\"scene\":{\"xaxis\":{\"backgroundcolor\":\"#E5ECF6\",\"gridcolor\":\"white\",\"linecolor\":\"white\",\"showbackground\":true,\"ticks\":\"\",\"zerolinecolor\":\"white\",\"gridwidth\":2},\"yaxis\":{\"backgroundcolor\":\"#E5ECF6\",\"gridcolor\":\"white\",\"linecolor\":\"white\",\"showbackground\":true,\"ticks\":\"\",\"zerolinecolor\":\"white\",\"gridwidth\":2},\"zaxis\":{\"backgroundcolor\":\"#E5ECF6\",\"gridcolor\":\"white\",\"linecolor\":\"white\",\"showbackground\":true,\"ticks\":\"\",\"zerolinecolor\":\"white\",\"gridwidth\":2}},\"shapedefaults\":{\"line\":{\"color\":\"#2a3f5f\"}},\"annotationdefaults\":{\"arrowcolor\":\"#2a3f5f\",\"arrowhead\":0,\"arrowwidth\":1},\"geo\":{\"bgcolor\":\"white\",\"landcolor\":\"#E5ECF6\",\"subunitcolor\":\"white\",\"showland\":true,\"showlakes\":true,\"lakecolor\":\"white\"},\"title\":{\"x\":0.05},\"mapbox\":{\"style\":\"light\"}}},\"mapbox\":{\"domain\":{\"x\":[0.0,1.0],\"y\":[0.0,1.0]},\"center\":{\"lat\":19.092351475257733,\"lon\":20.232434489175255},\"zoom\":1,\"style\":\"open-street-map\"},\"coloraxis\":{\"colorbar\":{\"title\":{\"text\":\"Co2-Emissions\"}},\"colorscale\":[[0.0,\"#0d0887\"],[0.1111111111111111,\"#46039f\"],[0.2222222222222222,\"#7201a8\"],[0.3333333333333333,\"#9c179e\"],[0.4444444444444444,\"#bd3786\"],[0.5555555555555556,\"#d8576b\"],[0.6666666666666666,\"#ed7953\"],[0.7777777777777778,\"#fb9f3a\"],[0.8888888888888888,\"#fdca26\"],[1.0,\"#f0f921\"]]},\"legend\":{\"tracegroupgap\":0,\"itemsizing\":\"constant\"},\"title\":{\"text\":\"countries, Agricultural Land and Co2-Emissions\"},\"height\":800,\"width\":1200},                        {\"responsive\": true}                    ).then(function(){\n",
              "                            \n",
              "var gd = document.getElementById('7fc93e6f-561a-4f90-aad3-a761fb501c7b');\n",
              "var x = new MutationObserver(function (mutations, observer) {{\n",
              "        var display = window.getComputedStyle(gd).display;\n",
              "        if (!display || display === 'none') {{\n",
              "            console.log([gd, 'removed!']);\n",
              "            Plotly.purge(gd);\n",
              "            observer.disconnect();\n",
              "        }}\n",
              "}});\n",
              "\n",
              "// Listen for the removal of the full notebook cells\n",
              "var notebookContainer = gd.closest('#notebook-container');\n",
              "if (notebookContainer) {{\n",
              "    x.observe(notebookContainer, {childList: true});\n",
              "}}\n",
              "\n",
              "// Listen for the clearing of the current output cell\n",
              "var outputEl = gd.closest('.output');\n",
              "if (outputEl) {{\n",
              "    x.observe(outputEl, {childList: true});\n",
              "}}\n",
              "\n",
              "                        })                };                            </script>        </div>\n",
              "</body>\n",
              "</html>"
            ]
          },
          "metadata": {}
        }
      ]
    },
    {
      "cell_type": "code",
      "source": [
        "\n",
        "fig = px.scatter_mapbox(\n",
        "    clean_df,\n",
        "    lat=\"Latitude\",\n",
        "    lon=\"Longitude\",\n",
        "    color=\"Total tax rate\",\n",
        "    size=\"Population: Labor force participation (%)\",\n",
        "    labels={\"Total tax rate\":\"Tax rate\", \"Population: Labor force participation (%)\":\"Labor force %\"},\n",
        "    width=1200,\n",
        "    height=800,\n",
        "    hover_data=[\"Country\"],\n",
        "    zoom=1,\n",
        "    title=\"countries, Total tax rate and Population: Labor force participation\",\n",
        "    mapbox_style=\"open-street-map\",\n",
        ")\n",
        "fig.show()\n"
      ],
      "metadata": {
        "colab": {
          "base_uri": "https://localhost:8080/",
          "height": 817
        },
        "id": "N3XJhnEokSZe",
        "outputId": "34b90746-9352-4ddb-d5dd-4ccb60828d41"
      },
      "execution_count": 14,
      "outputs": [
        {
          "output_type": "display_data",
          "data": {
            "text/html": [
              "<html>\n",
              "<head><meta charset=\"utf-8\" /></head>\n",
              "<body>\n",
              "    <div>            <script src=\"https://cdnjs.cloudflare.com/ajax/libs/mathjax/2.7.5/MathJax.js?config=TeX-AMS-MML_SVG\"></script><script type=\"text/javascript\">if (window.MathJax && window.MathJax.Hub && window.MathJax.Hub.Config) {window.MathJax.Hub.Config({SVG: {font: \"STIX-Web\"}});}</script>                <script type=\"text/javascript\">window.PlotlyConfig = {MathJaxConfig: 'local'};</script>\n",
              "        <script src=\"https://cdn.plot.ly/plotly-2.18.2.min.js\"></script>                <div id=\"7aa6352f-9b88-42d7-90b2-32efde2769da\" class=\"plotly-graph-div\" style=\"height:800px; width:1200px;\"></div>            <script type=\"text/javascript\">                                    window.PLOTLYENV=window.PLOTLYENV || {};                                    if (document.getElementById(\"7aa6352f-9b88-42d7-90b2-32efde2769da\")) {                    Plotly.newPlot(                        \"7aa6352f-9b88-42d7-90b2-32efde2769da\",                        [{\"customdata\":[[\"Afghanistan\"],[\"Albania\"],[\"Algeria\"],[\"Andorra\"],[\"Angola\"],[\"Antigua and Barbuda\"],[\"Argentina\"],[\"Armenia\"],[\"Australia\"],[\"Austria\"],[\"Azerbaijan\"],[\"The Bahamas\"],[\"Bahrain\"],[\"Bangladesh\"],[\"Barbados\"],[\"Belarus\"],[\"Belgium\"],[\"Belize\"],[\"Benin\"],[\"Bhutan\"],[\"Bolivia\"],[\"Bosnia and Herzegovina\"],[\"Botswana\"],[\"Brazil\"],[\"Brunei\"],[\"Bulgaria\"],[\"Burkina Faso\"],[\"Burundi\"],[\"Ivory Coast\"],[\"Cape Verde\"],[\"Cambodia\"],[\"Cameroon\"],[\"Canada\"],[\"Central African Republic\"],[\"Chad\"],[\"Chile\"],[\"China\"],[\"Colombia\"],[\"Comoros\"],[\"Republic of the Congo\"],[\"Costa Rica\"],[\"Croatia\"],[\"Cuba\"],[\"Cyprus\"],[\"Czech Republic\"],[\"Democratic Republic of the Congo\"],[\"Denmark\"],[\"Djibouti\"],[\"Dominica\"],[\"Dominican Republic\"],[\"Ecuador\"],[\"Egypt\"],[\"El Salvador\"],[\"Equatorial Guinea\"],[\"Eritrea\"],[\"Estonia\"],[\"Eswatini\"],[\"Ethiopia\"],[\"Fiji\"],[\"Finland\"],[\"France\"],[\"Gabon\"],[\"The Gambia\"],[\"Georgia\"],[\"Germany\"],[\"Ghana\"],[\"Greece\"],[\"Grenada\"],[\"Guatemala\"],[\"Guinea\"],[\"Guinea-Bissau\"],[\"Guyana\"],[\"Haiti\"],[\"Vatican City\"],[\"Honduras\"],[\"Hungary\"],[\"Iceland\"],[\"India\"],[\"Indonesia\"],[\"Iran\"],[\"Iraq\"],[\"Republic of Ireland\"],[\"Israel\"],[\"Italy\"],[\"Jamaica\"],[\"Japan\"],[\"Jordan\"],[\"Kazakhstan\"],[\"Kenya\"],[\"Kiribati\"],[\"Kuwait\"],[\"Kyrgyzstan\"],[\"Laos\"],[\"Latvia\"],[\"Lebanon\"],[\"Lesotho\"],[\"Liberia\"],[\"Libya\"],[\"Liechtenstein\"],[\"Lithuania\"],[\"Luxembourg\"],[\"Madagascar\"],[\"Malawi\"],[\"Malaysia\"],[\"Maldives\"],[\"Mali\"],[\"Malta\"],[\"Marshall Islands\"],[\"Mauritania\"],[\"Mauritius\"],[\"Mexico\"],[\"Federated States of Micronesia\"],[\"Moldova\"],[\"Monaco\"],[\"Mongolia\"],[\"Montenegro\"],[\"Morocco\"],[\"Mozambique\"],[\"Myanmar\"],[\"Namibia\"],[\"Nauru\"],[\"Nepal\"],[\"Netherlands\"],[\"New Zealand\"],[\"Nicaragua\"],[\"Niger\"],[\"Nigeria\"],[\"North Korea\"],[\"North Macedonia\"],[\"Norway\"],[\"Oman\"],[\"Pakistan\"],[\"Palau\"],[\"Palestinian National Authority\"],[\"Panama\"],[\"Papua New Guinea\"],[\"Paraguay\"],[\"Peru\"],[\"Philippines\"],[\"Poland\"],[\"Portugal\"],[\"Qatar\"],[\"Romania\"],[\"Russia\"],[\"Rwanda\"],[\"Saint Kitts and Nevis\"],[\"Saint Lucia\"],[\"Saint Vincent and the Grenadines\"],[\"Samoa\"],[\"San Marino\"],[\"S\\ufffd\\ufffd\\ufffd\\ufffd\\ufffd\\ufffd\\ufffd\\ufffd\\ufffd\\ufffd\\ufffd\"],[\"Saudi Arabia\"],[\"Senegal\"],[\"Serbia\"],[\"Seychelles\"],[\"Sierra Leone\"],[\"Singapore\"],[\"Slovakia\"],[\"Slovenia\"],[\"Solomon Islands\"],[\"Somalia\"],[\"South Africa\"],[\"South Korea\"],[\"South Sudan\"],[\"Spain\"],[\"Sri Lanka\"],[\"Sudan\"],[\"Suriname\"],[\"Sweden\"],[\"Switzerland\"],[\"Syria\"],[\"Tajikistan\"],[\"Tanzania\"],[\"Thailand\"],[\"East Timor\"],[\"Togo\"],[\"Tonga\"],[\"Trinidad and Tobago\"],[\"Tunisia\"],[\"Turkey\"],[\"Turkmenistan\"],[\"Tuvalu\"],[\"Uganda\"],[\"Ukraine\"],[\"United Arab Emirates\"],[\"United Kingdom\"],[\"United States\"],[\"Uruguay\"],[\"Uzbekistan\"],[\"Vanuatu\"],[\"Venezuela\"],[\"Vietnam\"],[\"Yemen\"],[\"Zambia\"],[\"Zimbabwe\"]],\"hovertemplate\":\"Labor force %=%{marker.size}<br>Latitude=%{lat}<br>Longitude=%{lon}<br>Country=%{customdata[0]}<br>Tax rate=%{marker.color}<extra></extra>\",\"lat\":[33.93911,41.153332,28.033886,42.506285,-11.202692,17.060816,-38.416097,40.069099,-25.274398,47.516231,40.143105,25.03428,26.0667,23.684994,13.193887,53.709807,50.503887,17.189877,9.30769,27.514162,-16.290154,43.915886,-22.328474,-14.235004,4.535277,42.733883,12.238333,-3.373056,7.539989,16.5388,12.565679,7.369722,56.130366,6.611111,15.454166,-35.675147,35.86166,4.570868,-11.6455,-0.228021,9.748917,45.1,21.521757,35.126413,49.817492,-4.038333,56.26392,11.825138,15.414999,18.735693,-1.831239,26.820553,13.794185,1.650801,15.179384,58.595272,-26.522503,9.145,-17.713371,61.92411,46.227638,-0.803689,13.443182,42.315407,51.165691,7.946527,39.074208,12.1165,15.783471,9.945587,11.803749,4.860416,18.971187,41.902916,15.199999,47.162494,64.963051,20.593684,-0.789275,32.427908,33.223191,53.41291,31.046051,41.87194,18.109581,36.204824,30.585164,48.019573,-0.023559,1.8368976,29.31166,41.20438,19.85627,56.879635,33.854721,-29.609988,6.428055,26.3351,47.1410392,55.169438,49.815273,-18.766947,-13.254308,4.210484,3.202778,17.570692,35.937496,7.131474,21.00789,-20.348404,23.634501,7.425554,47.411631,43.7384176,46.862496,42.708678,31.791702,-18.665695,21.916221,-22.95764,-0.522778,28.394857,52.132633,-40.900557,12.865416,17.607789,9.081999,40.339852,41.608635,60.472024,21.4735329,30.375321,7.51498,31.952162,8.537981,-6.314993,-23.442503,-9.189967,12.879721,51.919438,39.399872,25.354826,45.943161,61.52401,-1.940278,17.357822,13.909444,12.984305,-13.759029,43.94236,null,23.885942,14.497401,44.016521,-4.679574,8.460555,1.352083,48.669026,46.151241,-9.64571,5.152149,-30.559482,35.907757,6.8769919,40.463667,7.873054,12.862807,3.919305,60.128161,46.818188,34.802075,38.861034,-6.369028,15.870032,-8.874217,8.619543,-21.178986,10.691803,33.886917,38.963745,38.969719,-7.109535,1.373333,48.379433,23.424076,55.378051,37.09024,-32.522779,41.377491,-15.376706,6.42375,14.058324,15.552727,-13.133897,-19.015438],\"legendgroup\":\"\",\"lon\":[67.709953,20.168331,1.659626,1.521801,17.873887,-61.796428,-63.616672,45.038189,133.775136,14.550072,47.576927,-77.39628,50.5577,90.356331,-59.543198,27.953389,4.469936,-88.49765,2.315834,90.433601,-63.588653,17.679076,24.684866,-51.92528,114.727669,25.48583,-1.561593,29.918886,-5.54708,-23.0418,104.990963,12.354722,-106.346771,20.939444,18.732207,-71.542969,104.195397,-74.297333,43.3333,15.827659,-83.753428,15.2,-77.781167,33.429859,15.472962,21.758664,9.501785,42.590275,-61.370976,-70.162651,-78.183406,30.802498,-88.89653,10.267895,39.782334,25.013607,31.465866,40.489673,178.065032,25.748151,2.213749,11.609444,-15.310139,43.356892,10.451526,-1.023194,21.824312,-61.679,-90.230759,-9.696645,-15.180413,-58.93018,-72.285215,12.453389,-86.241905,19.503304,-19.020835,78.96288,113.921327,53.688046,43.679291,-8.24389,34.851612,12.56738,-77.297508,138.252924,36.238414,66.923684,37.906193,-157.3768317,47.481766,74.766098,102.495496,24.603189,35.862285,28.233608,-9.429499,17.228331,9.520935,23.881275,6.129583,46.869107,34.301525,101.975766,73.22068,-3.996166,14.375416,171.184478,-10.940835,57.552152,-102.552784,150.550812,28.369885,7.4246158,103.846656,19.37439,-7.09262,35.529562,95.955974,18.49041,166.931503,84.124008,5.291266,174.885971,-85.207229,8.081666,8.675277,127.510093,21.745275,8.468946,55.975413,69.345116,134.58252,35.233154,-80.782127,143.95555,-58.443832,-75.015152,121.774017,19.145136,-8.224454,51.183884,24.96676,105.318756,29.873888,-62.782998,-60.978893,-61.287228,-172.104629,12.457777,null,45.079162,-14.452362,21.005859,55.491977,-11.779889,103.819836,19.699024,14.995463,160.156194,46.199616,22.937506,127.766922,31.3069788,-3.74922,80.771797,30.217636,-56.027783,18.643501,8.227512,38.996815,71.276093,34.888822,100.992541,125.727539,0.824782,-175.198242,-61.222503,9.537499,35.243322,59.556278,177.64933,32.290275,31.16558,53.847818,-3.435973,-95.712891,-55.765835,64.585262,166.959158,-66.58973,108.277199,48.516388,27.849332,29.154857],\"marker\":{\"color\":[71.4,36.6,66.1,0.0,49.1,43.0,106.3,22.6,47.4,51.4,40.7,33.8,13.8,33.4,35.6,53.3,55.4,31.1,48.9,35.3,83.7,23.7,25.1,65.1,8.0,28.3,41.3,41.2,50.1,37.5,23.1,57.7,24.5,73.3,63.5,34.0,59.2,71.2,219.6,54.3,58.3,20.5,0.0,22.4,46.1,50.7,23.8,37.9,32.6,48.8,34.4,44.4,36.4,79.4,83.7,47.8,0.0,37.7,32.1,36.6,60.7,47.1,48.4,9.9,48.8,55.4,51.9,47.8,35.2,69.3,45.5,30.6,42.7,0.0,39.1,37.9,31.9,49.7,30.1,44.7,30.8,26.1,25.3,59.1,35.1,46.7,28.6,28.4,37.2,32.7,13.0,29.0,24.1,38.1,32.2,13.6,46.2,32.6,21.6,42.6,20.4,38.3,34.5,38.7,30.2,54.5,44.0,65.9,67.0,22.2,55.1,60.5,38.7,0.0,25.7,22.2,45.8,36.1,31.2,20.7,0.0,41.8,41.2,34.6,60.6,47.2,34.8,0.0,0.0,36.2,27.4,33.9,76.6,0.0,37.2,37.1,35.0,36.8,43.1,40.8,39.8,11.3,20.0,46.2,33.2,49.7,34.7,37.0,19.3,36.2,37.0,15.7,44.8,36.6,30.1,30.7,21.0,49.7,31.0,32.0,0.0,29.2,33.2,31.4,47.0,55.2,45.4,27.9,49.1,28.8,42.7,67.3,43.8,29.5,17.3,48.2,27.5,40.5,60.7,42.3,0.0,0.0,33.7,45.2,15.9,30.6,36.6,41.8,31.6,8.5,73.3,37.6,26.6,15.6,31.6],\"coloraxis\":\"coloraxis\",\"size\":[48.9,55.7,41.2,0.0,77.5,0.0,61.3,55.6,65.5,60.7,66.5,74.6,73.4,59.0,65.2,64.1,53.6,65.1,70.9,66.7,71.8,46.4,70.8,63.9,64.7,55.4,66.4,79.2,57.0,60.5,82.3,76.1,65.1,72.0,70.7,62.6,68.0,68.8,43.3,69.4,62.1,51.2,53.6,63.1,60.6,63.5,62.2,60.2,0.0,64.3,68.0,46.4,59.1,62.0,78.4,63.6,0.0,79.6,57.6,59.1,55.1,52.9,59.4,68.3,60.8,67.8,51.8,0.0,62.3,61.5,72.0,56.2,67.2,0.0,68.8,56.5,75.0,49.3,67.5,44.7,43.0,62.1,64.0,49.6,66.0,61.7,39.3,68.8,74.7,0.0,73.5,59.8,78.5,61.4,47.0,67.9,76.3,49.7,0.0,61.6,59.3,86.1,76.7,64.3,69.8,70.8,56.5,0.0,45.9,58.3,60.7,0.0,43.1,0.0,59.7,54.4,45.3,78.1,61.7,59.5,0.0,83.8,63.6,69.9,66.4,72.0,52.9,80.4,0.0,63.8,72.4,52.6,0.0,0.0,66.6,47.2,72.1,77.6,59.6,56.7,58.8,86.8,54.7,61.8,83.7,0.0,67.1,65.9,43.7,0.0,57.8,55.9,45.7,54.9,0.0,57.9,70.5,59.5,58.4,83.8,47.4,56.0,63.0,72.4,57.5,53.9,48.4,51.1,64.6,68.3,44.1,42.0,83.4,67.3,67.3,77.6,59.8,60.0,46.1,52.8,64.5,0.0,70.3,54.2,82.1,62.8,62.0,64.0,65.1,69.9,59.7,77.4,38.0,74.6,83.1],\"sizemode\":\"area\",\"sizeref\":0.217},\"mode\":\"markers\",\"name\":\"\",\"showlegend\":false,\"subplot\":\"mapbox\",\"type\":\"scattermapbox\"}],                        {\"template\":{\"data\":{\"histogram2dcontour\":[{\"type\":\"histogram2dcontour\",\"colorbar\":{\"outlinewidth\":0,\"ticks\":\"\"},\"colorscale\":[[0.0,\"#0d0887\"],[0.1111111111111111,\"#46039f\"],[0.2222222222222222,\"#7201a8\"],[0.3333333333333333,\"#9c179e\"],[0.4444444444444444,\"#bd3786\"],[0.5555555555555556,\"#d8576b\"],[0.6666666666666666,\"#ed7953\"],[0.7777777777777778,\"#fb9f3a\"],[0.8888888888888888,\"#fdca26\"],[1.0,\"#f0f921\"]]}],\"choropleth\":[{\"type\":\"choropleth\",\"colorbar\":{\"outlinewidth\":0,\"ticks\":\"\"}}],\"histogram2d\":[{\"type\":\"histogram2d\",\"colorbar\":{\"outlinewidth\":0,\"ticks\":\"\"},\"colorscale\":[[0.0,\"#0d0887\"],[0.1111111111111111,\"#46039f\"],[0.2222222222222222,\"#7201a8\"],[0.3333333333333333,\"#9c179e\"],[0.4444444444444444,\"#bd3786\"],[0.5555555555555556,\"#d8576b\"],[0.6666666666666666,\"#ed7953\"],[0.7777777777777778,\"#fb9f3a\"],[0.8888888888888888,\"#fdca26\"],[1.0,\"#f0f921\"]]}],\"heatmap\":[{\"type\":\"heatmap\",\"colorbar\":{\"outlinewidth\":0,\"ticks\":\"\"},\"colorscale\":[[0.0,\"#0d0887\"],[0.1111111111111111,\"#46039f\"],[0.2222222222222222,\"#7201a8\"],[0.3333333333333333,\"#9c179e\"],[0.4444444444444444,\"#bd3786\"],[0.5555555555555556,\"#d8576b\"],[0.6666666666666666,\"#ed7953\"],[0.7777777777777778,\"#fb9f3a\"],[0.8888888888888888,\"#fdca26\"],[1.0,\"#f0f921\"]]}],\"heatmapgl\":[{\"type\":\"heatmapgl\",\"colorbar\":{\"outlinewidth\":0,\"ticks\":\"\"},\"colorscale\":[[0.0,\"#0d0887\"],[0.1111111111111111,\"#46039f\"],[0.2222222222222222,\"#7201a8\"],[0.3333333333333333,\"#9c179e\"],[0.4444444444444444,\"#bd3786\"],[0.5555555555555556,\"#d8576b\"],[0.6666666666666666,\"#ed7953\"],[0.7777777777777778,\"#fb9f3a\"],[0.8888888888888888,\"#fdca26\"],[1.0,\"#f0f921\"]]}],\"contourcarpet\":[{\"type\":\"contourcarpet\",\"colorbar\":{\"outlinewidth\":0,\"ticks\":\"\"}}],\"contour\":[{\"type\":\"contour\",\"colorbar\":{\"outlinewidth\":0,\"ticks\":\"\"},\"colorscale\":[[0.0,\"#0d0887\"],[0.1111111111111111,\"#46039f\"],[0.2222222222222222,\"#7201a8\"],[0.3333333333333333,\"#9c179e\"],[0.4444444444444444,\"#bd3786\"],[0.5555555555555556,\"#d8576b\"],[0.6666666666666666,\"#ed7953\"],[0.7777777777777778,\"#fb9f3a\"],[0.8888888888888888,\"#fdca26\"],[1.0,\"#f0f921\"]]}],\"surface\":[{\"type\":\"surface\",\"colorbar\":{\"outlinewidth\":0,\"ticks\":\"\"},\"colorscale\":[[0.0,\"#0d0887\"],[0.1111111111111111,\"#46039f\"],[0.2222222222222222,\"#7201a8\"],[0.3333333333333333,\"#9c179e\"],[0.4444444444444444,\"#bd3786\"],[0.5555555555555556,\"#d8576b\"],[0.6666666666666666,\"#ed7953\"],[0.7777777777777778,\"#fb9f3a\"],[0.8888888888888888,\"#fdca26\"],[1.0,\"#f0f921\"]]}],\"mesh3d\":[{\"type\":\"mesh3d\",\"colorbar\":{\"outlinewidth\":0,\"ticks\":\"\"}}],\"scatter\":[{\"fillpattern\":{\"fillmode\":\"overlay\",\"size\":10,\"solidity\":0.2},\"type\":\"scatter\"}],\"parcoords\":[{\"type\":\"parcoords\",\"line\":{\"colorbar\":{\"outlinewidth\":0,\"ticks\":\"\"}}}],\"scatterpolargl\":[{\"type\":\"scatterpolargl\",\"marker\":{\"colorbar\":{\"outlinewidth\":0,\"ticks\":\"\"}}}],\"bar\":[{\"error_x\":{\"color\":\"#2a3f5f\"},\"error_y\":{\"color\":\"#2a3f5f\"},\"marker\":{\"line\":{\"color\":\"#E5ECF6\",\"width\":0.5},\"pattern\":{\"fillmode\":\"overlay\",\"size\":10,\"solidity\":0.2}},\"type\":\"bar\"}],\"scattergeo\":[{\"type\":\"scattergeo\",\"marker\":{\"colorbar\":{\"outlinewidth\":0,\"ticks\":\"\"}}}],\"scatterpolar\":[{\"type\":\"scatterpolar\",\"marker\":{\"colorbar\":{\"outlinewidth\":0,\"ticks\":\"\"}}}],\"histogram\":[{\"marker\":{\"pattern\":{\"fillmode\":\"overlay\",\"size\":10,\"solidity\":0.2}},\"type\":\"histogram\"}],\"scattergl\":[{\"type\":\"scattergl\",\"marker\":{\"colorbar\":{\"outlinewidth\":0,\"ticks\":\"\"}}}],\"scatter3d\":[{\"type\":\"scatter3d\",\"line\":{\"colorbar\":{\"outlinewidth\":0,\"ticks\":\"\"}},\"marker\":{\"colorbar\":{\"outlinewidth\":0,\"ticks\":\"\"}}}],\"scattermapbox\":[{\"type\":\"scattermapbox\",\"marker\":{\"colorbar\":{\"outlinewidth\":0,\"ticks\":\"\"}}}],\"scatterternary\":[{\"type\":\"scatterternary\",\"marker\":{\"colorbar\":{\"outlinewidth\":0,\"ticks\":\"\"}}}],\"scattercarpet\":[{\"type\":\"scattercarpet\",\"marker\":{\"colorbar\":{\"outlinewidth\":0,\"ticks\":\"\"}}}],\"carpet\":[{\"aaxis\":{\"endlinecolor\":\"#2a3f5f\",\"gridcolor\":\"white\",\"linecolor\":\"white\",\"minorgridcolor\":\"white\",\"startlinecolor\":\"#2a3f5f\"},\"baxis\":{\"endlinecolor\":\"#2a3f5f\",\"gridcolor\":\"white\",\"linecolor\":\"white\",\"minorgridcolor\":\"white\",\"startlinecolor\":\"#2a3f5f\"},\"type\":\"carpet\"}],\"table\":[{\"cells\":{\"fill\":{\"color\":\"#EBF0F8\"},\"line\":{\"color\":\"white\"}},\"header\":{\"fill\":{\"color\":\"#C8D4E3\"},\"line\":{\"color\":\"white\"}},\"type\":\"table\"}],\"barpolar\":[{\"marker\":{\"line\":{\"color\":\"#E5ECF6\",\"width\":0.5},\"pattern\":{\"fillmode\":\"overlay\",\"size\":10,\"solidity\":0.2}},\"type\":\"barpolar\"}],\"pie\":[{\"automargin\":true,\"type\":\"pie\"}]},\"layout\":{\"autotypenumbers\":\"strict\",\"colorway\":[\"#636efa\",\"#EF553B\",\"#00cc96\",\"#ab63fa\",\"#FFA15A\",\"#19d3f3\",\"#FF6692\",\"#B6E880\",\"#FF97FF\",\"#FECB52\"],\"font\":{\"color\":\"#2a3f5f\"},\"hovermode\":\"closest\",\"hoverlabel\":{\"align\":\"left\"},\"paper_bgcolor\":\"white\",\"plot_bgcolor\":\"#E5ECF6\",\"polar\":{\"bgcolor\":\"#E5ECF6\",\"angularaxis\":{\"gridcolor\":\"white\",\"linecolor\":\"white\",\"ticks\":\"\"},\"radialaxis\":{\"gridcolor\":\"white\",\"linecolor\":\"white\",\"ticks\":\"\"}},\"ternary\":{\"bgcolor\":\"#E5ECF6\",\"aaxis\":{\"gridcolor\":\"white\",\"linecolor\":\"white\",\"ticks\":\"\"},\"baxis\":{\"gridcolor\":\"white\",\"linecolor\":\"white\",\"ticks\":\"\"},\"caxis\":{\"gridcolor\":\"white\",\"linecolor\":\"white\",\"ticks\":\"\"}},\"coloraxis\":{\"colorbar\":{\"outlinewidth\":0,\"ticks\":\"\"}},\"colorscale\":{\"sequential\":[[0.0,\"#0d0887\"],[0.1111111111111111,\"#46039f\"],[0.2222222222222222,\"#7201a8\"],[0.3333333333333333,\"#9c179e\"],[0.4444444444444444,\"#bd3786\"],[0.5555555555555556,\"#d8576b\"],[0.6666666666666666,\"#ed7953\"],[0.7777777777777778,\"#fb9f3a\"],[0.8888888888888888,\"#fdca26\"],[1.0,\"#f0f921\"]],\"sequentialminus\":[[0.0,\"#0d0887\"],[0.1111111111111111,\"#46039f\"],[0.2222222222222222,\"#7201a8\"],[0.3333333333333333,\"#9c179e\"],[0.4444444444444444,\"#bd3786\"],[0.5555555555555556,\"#d8576b\"],[0.6666666666666666,\"#ed7953\"],[0.7777777777777778,\"#fb9f3a\"],[0.8888888888888888,\"#fdca26\"],[1.0,\"#f0f921\"]],\"diverging\":[[0,\"#8e0152\"],[0.1,\"#c51b7d\"],[0.2,\"#de77ae\"],[0.3,\"#f1b6da\"],[0.4,\"#fde0ef\"],[0.5,\"#f7f7f7\"],[0.6,\"#e6f5d0\"],[0.7,\"#b8e186\"],[0.8,\"#7fbc41\"],[0.9,\"#4d9221\"],[1,\"#276419\"]]},\"xaxis\":{\"gridcolor\":\"white\",\"linecolor\":\"white\",\"ticks\":\"\",\"title\":{\"standoff\":15},\"zerolinecolor\":\"white\",\"automargin\":true,\"zerolinewidth\":2},\"yaxis\":{\"gridcolor\":\"white\",\"linecolor\":\"white\",\"ticks\":\"\",\"title\":{\"standoff\":15},\"zerolinecolor\":\"white\",\"automargin\":true,\"zerolinewidth\":2},\"scene\":{\"xaxis\":{\"backgroundcolor\":\"#E5ECF6\",\"gridcolor\":\"white\",\"linecolor\":\"white\",\"showbackground\":true,\"ticks\":\"\",\"zerolinecolor\":\"white\",\"gridwidth\":2},\"yaxis\":{\"backgroundcolor\":\"#E5ECF6\",\"gridcolor\":\"white\",\"linecolor\":\"white\",\"showbackground\":true,\"ticks\":\"\",\"zerolinecolor\":\"white\",\"gridwidth\":2},\"zaxis\":{\"backgroundcolor\":\"#E5ECF6\",\"gridcolor\":\"white\",\"linecolor\":\"white\",\"showbackground\":true,\"ticks\":\"\",\"zerolinecolor\":\"white\",\"gridwidth\":2}},\"shapedefaults\":{\"line\":{\"color\":\"#2a3f5f\"}},\"annotationdefaults\":{\"arrowcolor\":\"#2a3f5f\",\"arrowhead\":0,\"arrowwidth\":1},\"geo\":{\"bgcolor\":\"white\",\"landcolor\":\"#E5ECF6\",\"subunitcolor\":\"white\",\"showland\":true,\"showlakes\":true,\"lakecolor\":\"white\"},\"title\":{\"x\":0.05},\"mapbox\":{\"style\":\"light\"}}},\"mapbox\":{\"domain\":{\"x\":[0.0,1.0],\"y\":[0.0,1.0]},\"center\":{\"lat\":19.092351475257733,\"lon\":20.232434489175255},\"zoom\":1,\"style\":\"open-street-map\"},\"coloraxis\":{\"colorbar\":{\"title\":{\"text\":\"Tax rate\"}},\"colorscale\":[[0.0,\"#0d0887\"],[0.1111111111111111,\"#46039f\"],[0.2222222222222222,\"#7201a8\"],[0.3333333333333333,\"#9c179e\"],[0.4444444444444444,\"#bd3786\"],[0.5555555555555556,\"#d8576b\"],[0.6666666666666666,\"#ed7953\"],[0.7777777777777778,\"#fb9f3a\"],[0.8888888888888888,\"#fdca26\"],[1.0,\"#f0f921\"]]},\"legend\":{\"tracegroupgap\":0,\"itemsizing\":\"constant\"},\"title\":{\"text\":\"countries, Total tax rate and Population: Labor force participation\"},\"height\":800,\"width\":1200},                        {\"responsive\": true}                    ).then(function(){\n",
              "                            \n",
              "var gd = document.getElementById('7aa6352f-9b88-42d7-90b2-32efde2769da');\n",
              "var x = new MutationObserver(function (mutations, observer) {{\n",
              "        var display = window.getComputedStyle(gd).display;\n",
              "        if (!display || display === 'none') {{\n",
              "            console.log([gd, 'removed!']);\n",
              "            Plotly.purge(gd);\n",
              "            observer.disconnect();\n",
              "        }}\n",
              "}});\n",
              "\n",
              "// Listen for the removal of the full notebook cells\n",
              "var notebookContainer = gd.closest('#notebook-container');\n",
              "if (notebookContainer) {{\n",
              "    x.observe(notebookContainer, {childList: true});\n",
              "}}\n",
              "\n",
              "// Listen for the clearing of the current output cell\n",
              "var outputEl = gd.closest('.output');\n",
              "if (outputEl) {{\n",
              "    x.observe(outputEl, {childList: true});\n",
              "}}\n",
              "\n",
              "                        })                };                            </script>        </div>\n",
              "</body>\n",
              "</html>"
            ]
          },
          "metadata": {}
        }
      ]
    },
    {
      "cell_type": "code",
      "source": [
        "\n",
        "fig = px.scatter_mapbox(\n",
        "    clean_df,\n",
        "    lat=\"Latitude\",\n",
        "    lon=\"Longitude\",\n",
        "    color=\"GDP\",\n",
        "    size=\"Gross tertiary education enrollment (%)\",\n",
        "    labels={\"Total tax rate\":\"Tax rate\", \"Gross tertiary education enrollment (%)\":\"tertiary education enroll\"},\n",
        "    width=1200,\n",
        "    height=800,\n",
        "    hover_data=[\"Country\"],\n",
        "    zoom=1,\n",
        "    title=\"countries, Gross tertiary education enrollment and GDP\",\n",
        "    mapbox_style=\"open-street-map\",\n",
        ")\n",
        "fig.show()\n"
      ],
      "metadata": {
        "colab": {
          "base_uri": "https://localhost:8080/",
          "height": 817
        },
        "id": "7mgHiPB9mAkC",
        "outputId": "1c3c5ba0-3348-4d59-9134-3c7d297b2fe6"
      },
      "execution_count": 15,
      "outputs": [
        {
          "output_type": "display_data",
          "data": {
            "text/html": [
              "<html>\n",
              "<head><meta charset=\"utf-8\" /></head>\n",
              "<body>\n",
              "    <div>            <script src=\"https://cdnjs.cloudflare.com/ajax/libs/mathjax/2.7.5/MathJax.js?config=TeX-AMS-MML_SVG\"></script><script type=\"text/javascript\">if (window.MathJax && window.MathJax.Hub && window.MathJax.Hub.Config) {window.MathJax.Hub.Config({SVG: {font: \"STIX-Web\"}});}</script>                <script type=\"text/javascript\">window.PlotlyConfig = {MathJaxConfig: 'local'};</script>\n",
              "        <script src=\"https://cdn.plot.ly/plotly-2.18.2.min.js\"></script>                <div id=\"8e3d65c1-e6cb-405b-9efe-9c0673cb453c\" class=\"plotly-graph-div\" style=\"height:800px; width:1200px;\"></div>            <script type=\"text/javascript\">                                    window.PLOTLYENV=window.PLOTLYENV || {};                                    if (document.getElementById(\"8e3d65c1-e6cb-405b-9efe-9c0673cb453c\")) {                    Plotly.newPlot(                        \"8e3d65c1-e6cb-405b-9efe-9c0673cb453c\",                        [{\"customdata\":[[\"Afghanistan\"],[\"Albania\"],[\"Algeria\"],[\"Andorra\"],[\"Angola\"],[\"Antigua and Barbuda\"],[\"Argentina\"],[\"Armenia\"],[\"Australia\"],[\"Austria\"],[\"Azerbaijan\"],[\"The Bahamas\"],[\"Bahrain\"],[\"Bangladesh\"],[\"Barbados\"],[\"Belarus\"],[\"Belgium\"],[\"Belize\"],[\"Benin\"],[\"Bhutan\"],[\"Bolivia\"],[\"Bosnia and Herzegovina\"],[\"Botswana\"],[\"Brazil\"],[\"Brunei\"],[\"Bulgaria\"],[\"Burkina Faso\"],[\"Burundi\"],[\"Ivory Coast\"],[\"Cape Verde\"],[\"Cambodia\"],[\"Cameroon\"],[\"Canada\"],[\"Central African Republic\"],[\"Chad\"],[\"Chile\"],[\"China\"],[\"Colombia\"],[\"Comoros\"],[\"Republic of the Congo\"],[\"Costa Rica\"],[\"Croatia\"],[\"Cuba\"],[\"Cyprus\"],[\"Czech Republic\"],[\"Democratic Republic of the Congo\"],[\"Denmark\"],[\"Djibouti\"],[\"Dominica\"],[\"Dominican Republic\"],[\"Ecuador\"],[\"Egypt\"],[\"El Salvador\"],[\"Equatorial Guinea\"],[\"Eritrea\"],[\"Estonia\"],[\"Eswatini\"],[\"Ethiopia\"],[\"Fiji\"],[\"Finland\"],[\"France\"],[\"Gabon\"],[\"The Gambia\"],[\"Georgia\"],[\"Germany\"],[\"Ghana\"],[\"Greece\"],[\"Grenada\"],[\"Guatemala\"],[\"Guinea\"],[\"Guinea-Bissau\"],[\"Guyana\"],[\"Haiti\"],[\"Vatican City\"],[\"Honduras\"],[\"Hungary\"],[\"Iceland\"],[\"India\"],[\"Indonesia\"],[\"Iran\"],[\"Iraq\"],[\"Republic of Ireland\"],[\"Israel\"],[\"Italy\"],[\"Jamaica\"],[\"Japan\"],[\"Jordan\"],[\"Kazakhstan\"],[\"Kenya\"],[\"Kiribati\"],[\"Kuwait\"],[\"Kyrgyzstan\"],[\"Laos\"],[\"Latvia\"],[\"Lebanon\"],[\"Lesotho\"],[\"Liberia\"],[\"Libya\"],[\"Liechtenstein\"],[\"Lithuania\"],[\"Luxembourg\"],[\"Madagascar\"],[\"Malawi\"],[\"Malaysia\"],[\"Maldives\"],[\"Mali\"],[\"Malta\"],[\"Marshall Islands\"],[\"Mauritania\"],[\"Mauritius\"],[\"Mexico\"],[\"Federated States of Micronesia\"],[\"Moldova\"],[\"Monaco\"],[\"Mongolia\"],[\"Montenegro\"],[\"Morocco\"],[\"Mozambique\"],[\"Myanmar\"],[\"Namibia\"],[\"Nauru\"],[\"Nepal\"],[\"Netherlands\"],[\"New Zealand\"],[\"Nicaragua\"],[\"Niger\"],[\"Nigeria\"],[\"North Korea\"],[\"North Macedonia\"],[\"Norway\"],[\"Oman\"],[\"Pakistan\"],[\"Palau\"],[\"Palestinian National Authority\"],[\"Panama\"],[\"Papua New Guinea\"],[\"Paraguay\"],[\"Peru\"],[\"Philippines\"],[\"Poland\"],[\"Portugal\"],[\"Qatar\"],[\"Romania\"],[\"Russia\"],[\"Rwanda\"],[\"Saint Kitts and Nevis\"],[\"Saint Lucia\"],[\"Saint Vincent and the Grenadines\"],[\"Samoa\"],[\"San Marino\"],[\"S\\ufffd\\ufffd\\ufffd\\ufffd\\ufffd\\ufffd\\ufffd\\ufffd\\ufffd\\ufffd\\ufffd\"],[\"Saudi Arabia\"],[\"Senegal\"],[\"Serbia\"],[\"Seychelles\"],[\"Sierra Leone\"],[\"Singapore\"],[\"Slovakia\"],[\"Slovenia\"],[\"Solomon Islands\"],[\"Somalia\"],[\"South Africa\"],[\"South Korea\"],[\"South Sudan\"],[\"Spain\"],[\"Sri Lanka\"],[\"Sudan\"],[\"Suriname\"],[\"Sweden\"],[\"Switzerland\"],[\"Syria\"],[\"Tajikistan\"],[\"Tanzania\"],[\"Thailand\"],[\"East Timor\"],[\"Togo\"],[\"Tonga\"],[\"Trinidad and Tobago\"],[\"Tunisia\"],[\"Turkey\"],[\"Turkmenistan\"],[\"Tuvalu\"],[\"Uganda\"],[\"Ukraine\"],[\"United Arab Emirates\"],[\"United Kingdom\"],[\"United States\"],[\"Uruguay\"],[\"Uzbekistan\"],[\"Vanuatu\"],[\"Venezuela\"],[\"Vietnam\"],[\"Yemen\"],[\"Zambia\"],[\"Zimbabwe\"]],\"hovertemplate\":\"tertiary education enroll=%{marker.size}<br>Latitude=%{lat}<br>Longitude=%{lon}<br>Country=%{customdata[0]}<br>GDP=%{marker.color}<extra></extra>\",\"lat\":[33.93911,41.153332,28.033886,42.506285,-11.202692,17.060816,-38.416097,40.069099,-25.274398,47.516231,40.143105,25.03428,26.0667,23.684994,13.193887,53.709807,50.503887,17.189877,9.30769,27.514162,-16.290154,43.915886,-22.328474,-14.235004,4.535277,42.733883,12.238333,-3.373056,7.539989,16.5388,12.565679,7.369722,56.130366,6.611111,15.454166,-35.675147,35.86166,4.570868,-11.6455,-0.228021,9.748917,45.1,21.521757,35.126413,49.817492,-4.038333,56.26392,11.825138,15.414999,18.735693,-1.831239,26.820553,13.794185,1.650801,15.179384,58.595272,-26.522503,9.145,-17.713371,61.92411,46.227638,-0.803689,13.443182,42.315407,51.165691,7.946527,39.074208,12.1165,15.783471,9.945587,11.803749,4.860416,18.971187,41.902916,15.199999,47.162494,64.963051,20.593684,-0.789275,32.427908,33.223191,53.41291,31.046051,41.87194,18.109581,36.204824,30.585164,48.019573,-0.023559,1.8368976,29.31166,41.20438,19.85627,56.879635,33.854721,-29.609988,6.428055,26.3351,47.1410392,55.169438,49.815273,-18.766947,-13.254308,4.210484,3.202778,17.570692,35.937496,7.131474,21.00789,-20.348404,23.634501,7.425554,47.411631,43.7384176,46.862496,42.708678,31.791702,-18.665695,21.916221,-22.95764,-0.522778,28.394857,52.132633,-40.900557,12.865416,17.607789,9.081999,40.339852,41.608635,60.472024,21.4735329,30.375321,7.51498,31.952162,8.537981,-6.314993,-23.442503,-9.189967,12.879721,51.919438,39.399872,25.354826,45.943161,61.52401,-1.940278,17.357822,13.909444,12.984305,-13.759029,43.94236,null,23.885942,14.497401,44.016521,-4.679574,8.460555,1.352083,48.669026,46.151241,-9.64571,5.152149,-30.559482,35.907757,6.8769919,40.463667,7.873054,12.862807,3.919305,60.128161,46.818188,34.802075,38.861034,-6.369028,15.870032,-8.874217,8.619543,-21.178986,10.691803,33.886917,38.963745,38.969719,-7.109535,1.373333,48.379433,23.424076,55.378051,37.09024,-32.522779,41.377491,-15.376706,6.42375,14.058324,15.552727,-13.133897,-19.015438],\"legendgroup\":\"\",\"lon\":[67.709953,20.168331,1.659626,1.521801,17.873887,-61.796428,-63.616672,45.038189,133.775136,14.550072,47.576927,-77.39628,50.5577,90.356331,-59.543198,27.953389,4.469936,-88.49765,2.315834,90.433601,-63.588653,17.679076,24.684866,-51.92528,114.727669,25.48583,-1.561593,29.918886,-5.54708,-23.0418,104.990963,12.354722,-106.346771,20.939444,18.732207,-71.542969,104.195397,-74.297333,43.3333,15.827659,-83.753428,15.2,-77.781167,33.429859,15.472962,21.758664,9.501785,42.590275,-61.370976,-70.162651,-78.183406,30.802498,-88.89653,10.267895,39.782334,25.013607,31.465866,40.489673,178.065032,25.748151,2.213749,11.609444,-15.310139,43.356892,10.451526,-1.023194,21.824312,-61.679,-90.230759,-9.696645,-15.180413,-58.93018,-72.285215,12.453389,-86.241905,19.503304,-19.020835,78.96288,113.921327,53.688046,43.679291,-8.24389,34.851612,12.56738,-77.297508,138.252924,36.238414,66.923684,37.906193,-157.3768317,47.481766,74.766098,102.495496,24.603189,35.862285,28.233608,-9.429499,17.228331,9.520935,23.881275,6.129583,46.869107,34.301525,101.975766,73.22068,-3.996166,14.375416,171.184478,-10.940835,57.552152,-102.552784,150.550812,28.369885,7.4246158,103.846656,19.37439,-7.09262,35.529562,95.955974,18.49041,166.931503,84.124008,5.291266,174.885971,-85.207229,8.081666,8.675277,127.510093,21.745275,8.468946,55.975413,69.345116,134.58252,35.233154,-80.782127,143.95555,-58.443832,-75.015152,121.774017,19.145136,-8.224454,51.183884,24.96676,105.318756,29.873888,-62.782998,-60.978893,-61.287228,-172.104629,12.457777,null,45.079162,-14.452362,21.005859,55.491977,-11.779889,103.819836,19.699024,14.995463,160.156194,46.199616,22.937506,127.766922,31.3069788,-3.74922,80.771797,30.217636,-56.027783,18.643501,8.227512,38.996815,71.276093,34.888822,100.992541,125.727539,0.824782,-175.198242,-61.222503,9.537499,35.243322,59.556278,177.64933,32.290275,31.16558,53.847818,-3.435973,-95.712891,-55.765835,64.585262,166.959158,-66.58973,108.277199,48.516388,27.849332,29.154857],\"marker\":{\"color\":[19101353833.0,15278077447.0,169988236398.0,3154057987.0,94635415870.0,1727759259.0,449663446954.0,13672802158.0,1392680589329.0,446314739528.0,39207000000.0,12827000000.0,38574069149.0,302571254131.0,5209000000.0,63080457023.0,529606710418.0,1879613600.0,14390709095.0,2446674101.0,40895322865.0,20047848435.0,18340510789.0,1839758040766.0,13469422941.0,86000000000.0,15745810235.0,3012334882.0,58792205642.0,1981845741.0,27089389787.0,38760467033.0,1736425629520.0,2220307369.0,11314951343.0,282318159745.0,19910000000000.0,323802808108.0,1185728677.0,10820591131.0,61773944174.0,60415553039.0,100023000000.0,24564647935.0,246489245495.0,47319624204.0,348078018464.0,3318716359.0,596033333.0,88941298258.0,107435665000.0,303175127598.0,27022640000.0,11026774945.0,2065001626.0,31386949981.0,3791304348.0,96107662398.0,5535548972.0,268761201365.0,2715518274227.0,16657960228.0,1763819048.0,17743195770.0,3845630030824.0,66983634224.0,209852761469.0,1228170370.0,76710385880.0,13590281809.0,1340389411.0,4280443645.0,8498981821.0,0.0,25095395475.0,160967157504.0,24188035739.0,2611000000000.0,1119190780753.0,445345282123.0,234094042939.0,388698711348.0,395098666122.0,2001244392042.0,16458071068.0,5081769542380.0,43743661972.0,180161741180.0,95503088538.0,194647202.0,134761198946.0,8454619608.0,18173839128.0,34117202555.0,53367042272.0,2460072444.0,3070518100.0,52076250948.0,6552858739.0,54219315600.0,71104919108.0,14083906357.0,7666704427.0,364701517788.0,5729248472.0,17510141171.0,14786156563.0,221278000.0,7593752450.0,14180444557.0,1258286717125.0,401932279.0,11955435457.0,7184844193.0,13852850259.0,5494736901.0,118725279596.0,14934159926.0,76085852617.0,12366527719.0,133000000.0,30641380604.0,909070395161.0,206928765544.0,12520915291.0,12928145120.0,448120428859.0,32100000000.0,10220781069.0,403336363636.0,76983094928.0,304400000000.0,283994900.0,0.0,66800800000.0,24969611435.0,38145288940.0,226848050820.0,376795508680.0,592164400688.0,237686075635.0,183466208791.0,250077444017.0,1699876578871.0,10122472590.0,1050992593.0,2122450630.0,825385185.0,850655017.0,1637931034.0,429016605.0,792966838162.0,23578084052.0,51409167351.0,1698843063.0,3941474311.0,372062527489.0,105422304976.0,53742159517.0,1425074226.0,4720727278.0,351431649241.0,2029000000000.0,11997800751.0,1394116310769.0,84008783756.0,18902284476.0,3985250737.0,530832908738.0,703082435360.0,40405006007.0,8116626794.0,63177068175.0,543649976166.0,1673540300.0,5459979417.0,450353314.0,24100202834.0,38797709924.0,754411708203.0,40761142857.0,47271463.0,34387229486.0,153781069118.0,421142267938.0,2827113184696.0,21427700000000.0,56045912952.0,57921286440.0,917058851.0,482359318768.0,261921244843.0,26914402224.0,23064722446.0,21440758800.0],\"coloraxis\":\"coloraxis\",\"size\":[9.7,55.0,51.4,0.0,9.3,24.8,90.0,54.6,113.1,85.1,27.7,15.1,50.5,20.6,65.4,87.4,79.7,24.7,12.3,15.6,0.0,23.3,24.9,51.3,31.4,71.0,6.5,6.1,9.3,23.6,13.7,12.8,68.9,3.0,3.3,88.5,50.6,55.3,9.0,12.7,55.2,67.9,41.4,75.9,64.1,6.6,80.6,5.3,7.2,59.9,44.9,35.2,29.4,1.9,3.4,69.6,0.0,8.1,16.1,88.2,65.6,8.3,2.7,63.9,70.2,15.7,136.6,104.6,21.8,11.6,2.6,11.6,1.1,0.0,26.2,48.5,71.8,28.1,36.3,68.1,16.2,77.8,63.4,61.9,27.1,63.2,34.4,61.7,11.5,0.0,54.4,41.3,15.0,88.1,26.3,10.2,11.9,60.5,35.6,72.4,19.2,5.4,0.8,45.1,31.2,4.5,54.3,23.7,5.0,40.6,40.2,14.1,39.8,0.0,65.6,56.1,35.9,7.3,18.8,22.9,0.0,12.4,85.0,82.0,17.4,4.4,10.2,27.0,0.0,82.0,38.0,9.0,54.7,0.0,47.8,1.8,34.6,70.7,35.5,67.8,63.9,17.9,49.4,81.9,6.7,86.7,14.1,23.7,7.6,42.5,13.4,68.0,12.8,67.2,17.1,2.0,84.8,46.6,78.6,0.0,2.5,22.4,94.3,0.0,88.9,19.6,16.9,12.6,67.0,59.6,40.1,31.3,4.0,49.3,17.8,14.5,6.4,12.0,31.7,23.9,8.0,0.0,4.8,82.7,36.8,60.0,88.2,63.1,10.1,4.7,79.3,28.5,10.2,4.1,10.0],\"sizemode\":\"area\",\"sizeref\":0.34149999999999997},\"mode\":\"markers\",\"name\":\"\",\"showlegend\":false,\"subplot\":\"mapbox\",\"type\":\"scattermapbox\"}],                        {\"template\":{\"data\":{\"histogram2dcontour\":[{\"type\":\"histogram2dcontour\",\"colorbar\":{\"outlinewidth\":0,\"ticks\":\"\"},\"colorscale\":[[0.0,\"#0d0887\"],[0.1111111111111111,\"#46039f\"],[0.2222222222222222,\"#7201a8\"],[0.3333333333333333,\"#9c179e\"],[0.4444444444444444,\"#bd3786\"],[0.5555555555555556,\"#d8576b\"],[0.6666666666666666,\"#ed7953\"],[0.7777777777777778,\"#fb9f3a\"],[0.8888888888888888,\"#fdca26\"],[1.0,\"#f0f921\"]]}],\"choropleth\":[{\"type\":\"choropleth\",\"colorbar\":{\"outlinewidth\":0,\"ticks\":\"\"}}],\"histogram2d\":[{\"type\":\"histogram2d\",\"colorbar\":{\"outlinewidth\":0,\"ticks\":\"\"},\"colorscale\":[[0.0,\"#0d0887\"],[0.1111111111111111,\"#46039f\"],[0.2222222222222222,\"#7201a8\"],[0.3333333333333333,\"#9c179e\"],[0.4444444444444444,\"#bd3786\"],[0.5555555555555556,\"#d8576b\"],[0.6666666666666666,\"#ed7953\"],[0.7777777777777778,\"#fb9f3a\"],[0.8888888888888888,\"#fdca26\"],[1.0,\"#f0f921\"]]}],\"heatmap\":[{\"type\":\"heatmap\",\"colorbar\":{\"outlinewidth\":0,\"ticks\":\"\"},\"colorscale\":[[0.0,\"#0d0887\"],[0.1111111111111111,\"#46039f\"],[0.2222222222222222,\"#7201a8\"],[0.3333333333333333,\"#9c179e\"],[0.4444444444444444,\"#bd3786\"],[0.5555555555555556,\"#d8576b\"],[0.6666666666666666,\"#ed7953\"],[0.7777777777777778,\"#fb9f3a\"],[0.8888888888888888,\"#fdca26\"],[1.0,\"#f0f921\"]]}],\"heatmapgl\":[{\"type\":\"heatmapgl\",\"colorbar\":{\"outlinewidth\":0,\"ticks\":\"\"},\"colorscale\":[[0.0,\"#0d0887\"],[0.1111111111111111,\"#46039f\"],[0.2222222222222222,\"#7201a8\"],[0.3333333333333333,\"#9c179e\"],[0.4444444444444444,\"#bd3786\"],[0.5555555555555556,\"#d8576b\"],[0.6666666666666666,\"#ed7953\"],[0.7777777777777778,\"#fb9f3a\"],[0.8888888888888888,\"#fdca26\"],[1.0,\"#f0f921\"]]}],\"contourcarpet\":[{\"type\":\"contourcarpet\",\"colorbar\":{\"outlinewidth\":0,\"ticks\":\"\"}}],\"contour\":[{\"type\":\"contour\",\"colorbar\":{\"outlinewidth\":0,\"ticks\":\"\"},\"colorscale\":[[0.0,\"#0d0887\"],[0.1111111111111111,\"#46039f\"],[0.2222222222222222,\"#7201a8\"],[0.3333333333333333,\"#9c179e\"],[0.4444444444444444,\"#bd3786\"],[0.5555555555555556,\"#d8576b\"],[0.6666666666666666,\"#ed7953\"],[0.7777777777777778,\"#fb9f3a\"],[0.8888888888888888,\"#fdca26\"],[1.0,\"#f0f921\"]]}],\"surface\":[{\"type\":\"surface\",\"colorbar\":{\"outlinewidth\":0,\"ticks\":\"\"},\"colorscale\":[[0.0,\"#0d0887\"],[0.1111111111111111,\"#46039f\"],[0.2222222222222222,\"#7201a8\"],[0.3333333333333333,\"#9c179e\"],[0.4444444444444444,\"#bd3786\"],[0.5555555555555556,\"#d8576b\"],[0.6666666666666666,\"#ed7953\"],[0.7777777777777778,\"#fb9f3a\"],[0.8888888888888888,\"#fdca26\"],[1.0,\"#f0f921\"]]}],\"mesh3d\":[{\"type\":\"mesh3d\",\"colorbar\":{\"outlinewidth\":0,\"ticks\":\"\"}}],\"scatter\":[{\"fillpattern\":{\"fillmode\":\"overlay\",\"size\":10,\"solidity\":0.2},\"type\":\"scatter\"}],\"parcoords\":[{\"type\":\"parcoords\",\"line\":{\"colorbar\":{\"outlinewidth\":0,\"ticks\":\"\"}}}],\"scatterpolargl\":[{\"type\":\"scatterpolargl\",\"marker\":{\"colorbar\":{\"outlinewidth\":0,\"ticks\":\"\"}}}],\"bar\":[{\"error_x\":{\"color\":\"#2a3f5f\"},\"error_y\":{\"color\":\"#2a3f5f\"},\"marker\":{\"line\":{\"color\":\"#E5ECF6\",\"width\":0.5},\"pattern\":{\"fillmode\":\"overlay\",\"size\":10,\"solidity\":0.2}},\"type\":\"bar\"}],\"scattergeo\":[{\"type\":\"scattergeo\",\"marker\":{\"colorbar\":{\"outlinewidth\":0,\"ticks\":\"\"}}}],\"scatterpolar\":[{\"type\":\"scatterpolar\",\"marker\":{\"colorbar\":{\"outlinewidth\":0,\"ticks\":\"\"}}}],\"histogram\":[{\"marker\":{\"pattern\":{\"fillmode\":\"overlay\",\"size\":10,\"solidity\":0.2}},\"type\":\"histogram\"}],\"scattergl\":[{\"type\":\"scattergl\",\"marker\":{\"colorbar\":{\"outlinewidth\":0,\"ticks\":\"\"}}}],\"scatter3d\":[{\"type\":\"scatter3d\",\"line\":{\"colorbar\":{\"outlinewidth\":0,\"ticks\":\"\"}},\"marker\":{\"colorbar\":{\"outlinewidth\":0,\"ticks\":\"\"}}}],\"scattermapbox\":[{\"type\":\"scattermapbox\",\"marker\":{\"colorbar\":{\"outlinewidth\":0,\"ticks\":\"\"}}}],\"scatterternary\":[{\"type\":\"scatterternary\",\"marker\":{\"colorbar\":{\"outlinewidth\":0,\"ticks\":\"\"}}}],\"scattercarpet\":[{\"type\":\"scattercarpet\",\"marker\":{\"colorbar\":{\"outlinewidth\":0,\"ticks\":\"\"}}}],\"carpet\":[{\"aaxis\":{\"endlinecolor\":\"#2a3f5f\",\"gridcolor\":\"white\",\"linecolor\":\"white\",\"minorgridcolor\":\"white\",\"startlinecolor\":\"#2a3f5f\"},\"baxis\":{\"endlinecolor\":\"#2a3f5f\",\"gridcolor\":\"white\",\"linecolor\":\"white\",\"minorgridcolor\":\"white\",\"startlinecolor\":\"#2a3f5f\"},\"type\":\"carpet\"}],\"table\":[{\"cells\":{\"fill\":{\"color\":\"#EBF0F8\"},\"line\":{\"color\":\"white\"}},\"header\":{\"fill\":{\"color\":\"#C8D4E3\"},\"line\":{\"color\":\"white\"}},\"type\":\"table\"}],\"barpolar\":[{\"marker\":{\"line\":{\"color\":\"#E5ECF6\",\"width\":0.5},\"pattern\":{\"fillmode\":\"overlay\",\"size\":10,\"solidity\":0.2}},\"type\":\"barpolar\"}],\"pie\":[{\"automargin\":true,\"type\":\"pie\"}]},\"layout\":{\"autotypenumbers\":\"strict\",\"colorway\":[\"#636efa\",\"#EF553B\",\"#00cc96\",\"#ab63fa\",\"#FFA15A\",\"#19d3f3\",\"#FF6692\",\"#B6E880\",\"#FF97FF\",\"#FECB52\"],\"font\":{\"color\":\"#2a3f5f\"},\"hovermode\":\"closest\",\"hoverlabel\":{\"align\":\"left\"},\"paper_bgcolor\":\"white\",\"plot_bgcolor\":\"#E5ECF6\",\"polar\":{\"bgcolor\":\"#E5ECF6\",\"angularaxis\":{\"gridcolor\":\"white\",\"linecolor\":\"white\",\"ticks\":\"\"},\"radialaxis\":{\"gridcolor\":\"white\",\"linecolor\":\"white\",\"ticks\":\"\"}},\"ternary\":{\"bgcolor\":\"#E5ECF6\",\"aaxis\":{\"gridcolor\":\"white\",\"linecolor\":\"white\",\"ticks\":\"\"},\"baxis\":{\"gridcolor\":\"white\",\"linecolor\":\"white\",\"ticks\":\"\"},\"caxis\":{\"gridcolor\":\"white\",\"linecolor\":\"white\",\"ticks\":\"\"}},\"coloraxis\":{\"colorbar\":{\"outlinewidth\":0,\"ticks\":\"\"}},\"colorscale\":{\"sequential\":[[0.0,\"#0d0887\"],[0.1111111111111111,\"#46039f\"],[0.2222222222222222,\"#7201a8\"],[0.3333333333333333,\"#9c179e\"],[0.4444444444444444,\"#bd3786\"],[0.5555555555555556,\"#d8576b\"],[0.6666666666666666,\"#ed7953\"],[0.7777777777777778,\"#fb9f3a\"],[0.8888888888888888,\"#fdca26\"],[1.0,\"#f0f921\"]],\"sequentialminus\":[[0.0,\"#0d0887\"],[0.1111111111111111,\"#46039f\"],[0.2222222222222222,\"#7201a8\"],[0.3333333333333333,\"#9c179e\"],[0.4444444444444444,\"#bd3786\"],[0.5555555555555556,\"#d8576b\"],[0.6666666666666666,\"#ed7953\"],[0.7777777777777778,\"#fb9f3a\"],[0.8888888888888888,\"#fdca26\"],[1.0,\"#f0f921\"]],\"diverging\":[[0,\"#8e0152\"],[0.1,\"#c51b7d\"],[0.2,\"#de77ae\"],[0.3,\"#f1b6da\"],[0.4,\"#fde0ef\"],[0.5,\"#f7f7f7\"],[0.6,\"#e6f5d0\"],[0.7,\"#b8e186\"],[0.8,\"#7fbc41\"],[0.9,\"#4d9221\"],[1,\"#276419\"]]},\"xaxis\":{\"gridcolor\":\"white\",\"linecolor\":\"white\",\"ticks\":\"\",\"title\":{\"standoff\":15},\"zerolinecolor\":\"white\",\"automargin\":true,\"zerolinewidth\":2},\"yaxis\":{\"gridcolor\":\"white\",\"linecolor\":\"white\",\"ticks\":\"\",\"title\":{\"standoff\":15},\"zerolinecolor\":\"white\",\"automargin\":true,\"zerolinewidth\":2},\"scene\":{\"xaxis\":{\"backgroundcolor\":\"#E5ECF6\",\"gridcolor\":\"white\",\"linecolor\":\"white\",\"showbackground\":true,\"ticks\":\"\",\"zerolinecolor\":\"white\",\"gridwidth\":2},\"yaxis\":{\"backgroundcolor\":\"#E5ECF6\",\"gridcolor\":\"white\",\"linecolor\":\"white\",\"showbackground\":true,\"ticks\":\"\",\"zerolinecolor\":\"white\",\"gridwidth\":2},\"zaxis\":{\"backgroundcolor\":\"#E5ECF6\",\"gridcolor\":\"white\",\"linecolor\":\"white\",\"showbackground\":true,\"ticks\":\"\",\"zerolinecolor\":\"white\",\"gridwidth\":2}},\"shapedefaults\":{\"line\":{\"color\":\"#2a3f5f\"}},\"annotationdefaults\":{\"arrowcolor\":\"#2a3f5f\",\"arrowhead\":0,\"arrowwidth\":1},\"geo\":{\"bgcolor\":\"white\",\"landcolor\":\"#E5ECF6\",\"subunitcolor\":\"white\",\"showland\":true,\"showlakes\":true,\"lakecolor\":\"white\"},\"title\":{\"x\":0.05},\"mapbox\":{\"style\":\"light\"}}},\"mapbox\":{\"domain\":{\"x\":[0.0,1.0],\"y\":[0.0,1.0]},\"center\":{\"lat\":19.092351475257733,\"lon\":20.232434489175255},\"zoom\":1,\"style\":\"open-street-map\"},\"coloraxis\":{\"colorbar\":{\"title\":{\"text\":\"GDP\"}},\"colorscale\":[[0.0,\"#0d0887\"],[0.1111111111111111,\"#46039f\"],[0.2222222222222222,\"#7201a8\"],[0.3333333333333333,\"#9c179e\"],[0.4444444444444444,\"#bd3786\"],[0.5555555555555556,\"#d8576b\"],[0.6666666666666666,\"#ed7953\"],[0.7777777777777778,\"#fb9f3a\"],[0.8888888888888888,\"#fdca26\"],[1.0,\"#f0f921\"]]},\"legend\":{\"tracegroupgap\":0,\"itemsizing\":\"constant\"},\"title\":{\"text\":\"countries, Gross tertiary education enrollment and GDP\"},\"height\":800,\"width\":1200},                        {\"responsive\": true}                    ).then(function(){\n",
              "                            \n",
              "var gd = document.getElementById('8e3d65c1-e6cb-405b-9efe-9c0673cb453c');\n",
              "var x = new MutationObserver(function (mutations, observer) {{\n",
              "        var display = window.getComputedStyle(gd).display;\n",
              "        if (!display || display === 'none') {{\n",
              "            console.log([gd, 'removed!']);\n",
              "            Plotly.purge(gd);\n",
              "            observer.disconnect();\n",
              "        }}\n",
              "}});\n",
              "\n",
              "// Listen for the removal of the full notebook cells\n",
              "var notebookContainer = gd.closest('#notebook-container');\n",
              "if (notebookContainer) {{\n",
              "    x.observe(notebookContainer, {childList: true});\n",
              "}}\n",
              "\n",
              "// Listen for the clearing of the current output cell\n",
              "var outputEl = gd.closest('.output');\n",
              "if (outputEl) {{\n",
              "    x.observe(outputEl, {childList: true});\n",
              "}}\n",
              "\n",
              "                        })                };                            </script>        </div>\n",
              "</body>\n",
              "</html>"
            ]
          },
          "metadata": {}
        }
      ]
    },
    {
      "cell_type": "code",
      "source": [
        "# Out of pocket health expenditure and Life expectancy plot\n",
        "\n",
        "fig = px.scatter(\n",
        "    df1,\n",
        "    x=\"Out of pocket health expenditure\",\n",
        "    y=\"Life expectancy\",\n",
        "    labels={\"Out of pocket health expenditure\":\"Out of pocket health expenditure\", \"Life expectancy\":\"Life expectancy\"},\n",
        "    width=600,\n",
        "    height=500,\n",
        "    hover_data=[\"Country\"],\n",
        ")\n",
        "fig.show()\n",
        "# No relation between the Life expectancy and Out of pocket health expenditure"
      ],
      "metadata": {
        "colab": {
          "base_uri": "https://localhost:8080/",
          "height": 517
        },
        "id": "Ooxqm_ylV4_9",
        "outputId": "22782224-e865-4e2e-dfca-2d43871f06b2"
      },
      "execution_count": 17,
      "outputs": [
        {
          "output_type": "display_data",
          "data": {
            "text/html": [
              "<html>\n",
              "<head><meta charset=\"utf-8\" /></head>\n",
              "<body>\n",
              "    <div>            <script src=\"https://cdnjs.cloudflare.com/ajax/libs/mathjax/2.7.5/MathJax.js?config=TeX-AMS-MML_SVG\"></script><script type=\"text/javascript\">if (window.MathJax && window.MathJax.Hub && window.MathJax.Hub.Config) {window.MathJax.Hub.Config({SVG: {font: \"STIX-Web\"}});}</script>                <script type=\"text/javascript\">window.PlotlyConfig = {MathJaxConfig: 'local'};</script>\n",
              "        <script src=\"https://cdn.plot.ly/plotly-2.18.2.min.js\"></script>                <div id=\"71a52625-1e1c-4859-928a-97e7aa110a1a\" class=\"plotly-graph-div\" style=\"height:500px; width:600px;\"></div>            <script type=\"text/javascript\">                                    window.PLOTLYENV=window.PLOTLYENV || {};                                    if (document.getElementById(\"71a52625-1e1c-4859-928a-97e7aa110a1a\")) {                    Plotly.newPlot(                        \"71a52625-1e1c-4859-928a-97e7aa110a1a\",                        [{\"customdata\":[[\"Afghanistan\"],[\"Albania\"],[\"Algeria\"],[\"Andorra\"],[\"Angola\"],[\"Antigua and Barbuda\"],[\"Argentina\"],[\"Armenia\"],[\"Australia\"],[\"Austria\"],[\"Azerbaijan\"],[\"The Bahamas\"],[\"Bahrain\"],[\"Bangladesh\"],[\"Barbados\"],[\"Belarus\"],[\"Belgium\"],[\"Belize\"],[\"Benin\"],[\"Bhutan\"],[\"Bolivia\"],[\"Bosnia and Herzegovina\"],[\"Botswana\"],[\"Brazil\"],[\"Brunei\"],[\"Bulgaria\"],[\"Burkina Faso\"],[\"Burundi\"],[\"Ivory Coast\"],[\"Cape Verde\"],[\"Cambodia\"],[\"Cameroon\"],[\"Canada\"],[\"Central African Republic\"],[\"Chad\"],[\"Chile\"],[\"China\"],[\"Colombia\"],[\"Comoros\"],[\"Republic of the Congo\"],[\"Costa Rica\"],[\"Croatia\"],[\"Cuba\"],[\"Cyprus\"],[\"Czech Republic\"],[\"Democratic Republic of the Congo\"],[\"Denmark\"],[\"Djibouti\"],[\"Dominica\"],[\"Dominican Republic\"],[\"Ecuador\"],[\"Egypt\"],[\"El Salvador\"],[\"Equatorial Guinea\"],[\"Eritrea\"],[\"Estonia\"],[\"Eswatini\"],[\"Ethiopia\"],[\"Fiji\"],[\"Finland\"],[\"France\"],[\"Gabon\"],[\"The Gambia\"],[\"Georgia\"],[\"Germany\"],[\"Ghana\"],[\"Greece\"],[\"Grenada\"],[\"Guatemala\"],[\"Guinea\"],[\"Guinea-Bissau\"],[\"Guyana\"],[\"Haiti\"],[\"Vatican City\"],[\"Honduras\"],[\"Hungary\"],[\"Iceland\"],[\"India\"],[\"Indonesia\"],[\"Iran\"],[\"Iraq\"],[\"Republic of Ireland\"],[\"Israel\"],[\"Italy\"],[\"Jamaica\"],[\"Japan\"],[\"Jordan\"],[\"Kazakhstan\"],[\"Kenya\"],[\"Kiribati\"],[\"Kuwait\"],[\"Kyrgyzstan\"],[\"Laos\"],[\"Latvia\"],[\"Lebanon\"],[\"Lesotho\"],[\"Liberia\"],[\"Libya\"],[\"Liechtenstein\"],[\"Lithuania\"],[\"Luxembourg\"],[\"Madagascar\"],[\"Malawi\"],[\"Malaysia\"],[\"Maldives\"],[\"Mali\"],[\"Malta\"],[\"Marshall Islands\"],[\"Mauritania\"],[\"Mauritius\"],[\"Mexico\"],[\"Federated States of Micronesia\"],[\"Moldova\"],[\"Monaco\"],[\"Mongolia\"],[\"Montenegro\"],[\"Morocco\"],[\"Mozambique\"],[\"Myanmar\"],[\"Namibia\"],[\"Nauru\"],[\"Nepal\"],[\"Netherlands\"],[\"New Zealand\"],[\"Nicaragua\"],[\"Niger\"],[\"Nigeria\"],[\"North Korea\"],[\"North Macedonia\"],[\"Norway\"],[\"Oman\"],[\"Pakistan\"],[\"Palau\"],[\"Palestinian National Authority\"],[\"Panama\"],[\"Papua New Guinea\"],[\"Paraguay\"],[\"Peru\"],[\"Philippines\"],[\"Poland\"],[\"Portugal\"],[\"Qatar\"],[\"Romania\"],[\"Russia\"],[\"Rwanda\"],[\"Saint Kitts and Nevis\"],[\"Saint Lucia\"],[\"Saint Vincent and the Grenadines\"],[\"Samoa\"],[\"San Marino\"],[\"S\\ufffd\\ufffd\\ufffd\\ufffd\\ufffd\\ufffd\\ufffd\\ufffd\\ufffd\\ufffd\\ufffd\"],[\"Saudi Arabia\"],[\"Senegal\"],[\"Serbia\"],[\"Seychelles\"],[\"Sierra Leone\"],[\"Singapore\"],[\"Slovakia\"],[\"Slovenia\"],[\"Solomon Islands\"],[\"Somalia\"],[\"South Africa\"],[\"South Korea\"],[\"South Sudan\"],[\"Spain\"],[\"Sri Lanka\"],[\"Sudan\"],[\"Suriname\"],[\"Sweden\"],[\"Switzerland\"],[\"Syria\"],[\"Tajikistan\"],[\"Tanzania\"],[\"Thailand\"],[\"East Timor\"],[\"Togo\"],[\"Tonga\"],[\"Trinidad and Tobago\"],[\"Tunisia\"],[\"Turkey\"],[\"Turkmenistan\"],[\"Tuvalu\"],[\"Uganda\"],[\"Ukraine\"],[\"United Arab Emirates\"],[\"United Kingdom\"],[\"United States\"],[\"Uruguay\"],[\"Uzbekistan\"],[\"Vanuatu\"],[\"Venezuela\"],[\"Vietnam\"],[\"Yemen\"],[\"Zambia\"],[\"Zimbabwe\"]],\"hovertemplate\":\"Out of pocket health expenditure=%{x}<br>Life expectancy=%{y}<br>Country=%{customdata[0]}<extra></extra>\",\"legendgroup\":\"\",\"marker\":{\"color\":\"#636efa\",\"symbol\":\"circle\"},\"mode\":\"markers\",\"name\":\"\",\"orientation\":\"v\",\"showlegend\":false,\"x\":[78.4,56.9,28.1,36.4,33.4,24.3,17.6,81.6,19.6,17.9,78.6,27.8,25.1,71.8,45.2,34.5,17.6,22.7,40.5,19.8,25.9,28.6,5.3,28.3,6.0,47.7,36.1,19.1,36.0,23.2,59.4,69.7,14.6,39.6,56.4,32.2,32.4,18.3,74.8,43.8,21.5,15.2,0.0,43.9,14.8,37.4,13.7,20.4,28.4,43.7,43.7,62.0,27.9,72.0,52.4,22.8,11.3,37.8,21.4,19.9,6.8,25.9,20.3,57.3,12.5,36.1,35.5,57.0,55.8,54.5,37.2,40.5,36.3,0.0,49.1,29.0,17.0,65.1,48.3,39.7,76.5,15.2,24.4,22.8,23.7,13.1,25.1,38.8,33.4,0.2,14.4,48.2,45.4,41.6,32.1,16.9,19.6,36.7,0.0,32.1,10.6,21.7,11.0,36.7,16.4,46.3,37.1,10.0,48.2,50.7,41.4,2.5,46.2,6.1,39.3,31.8,53.1,6.8,73.9,8.3,0.0,60.4,12.3,12.6,36.0,52.3,72.2,0.0,35.6,14.3,6.4,66.5,21.8,0.0,30.5,5.8,36.5,30.9,53.5,23.2,27.7,6.2,21.3,36.4,26.0,56.6,48.4,21.4,11.5,18.3,11.7,15.0,44.2,40.6,2.5,38.2,36.7,18.4,12.5,3.3,0.0,7.7,36.8,61.3,24.2,38.4,63.2,10.1,15.2,28.3,53.7,63.1,26.1,11.8,10.2,51.0,10.2,37.3,39.8,16.9,71.1,0.7,40.5,47.8,17.8,14.8,11.1,16.2,42.7,8.9,45.8,43.5,81.0,27.5,25.8],\"xaxis\":\"x\",\"y\":[64.5,78.5,76.7,null,60.8,76.9,76.5,74.9,82.7,81.6,72.9,73.8,77.2,72.3,79.1,74.2,81.6,74.5,61.5,71.5,71.2,77.3,69.3,75.7,75.7,74.9,61.2,61.2,57.4,72.8,69.6,58.9,81.9,52.8,54.0,80.0,77.0,77.1,64.1,64.3,80.1,78.1,78.7,80.8,79.0,60.4,81.0,66.6,76.6,73.9,76.8,71.8,73.1,58.4,65.9,78.2,null,66.2,67.3,81.7,82.5,66.2,61.7,73.6,80.9,63.8,81.3,72.4,74.1,61.2,58.0,69.8,63.7,null,75.1,75.8,82.7,69.4,71.5,76.5,70.5,82.3,82.8,82.9,74.4,84.2,74.4,73.2,66.3,68.1,75.4,71.4,67.6,74.7,78.9,53.7,63.7,72.7,83.0,75.7,82.1,66.7,63.8,76.0,78.6,58.9,82.3,65.2,64.7,74.4,75.0,67.8,71.8,null,69.7,76.8,76.5,60.2,66.9,63.4,null,70.5,81.8,81.9,74.3,62.0,54.3,72.1,null,82.8,77.6,67.1,69.1,null,78.3,64.3,74.1,76.5,71.1,77.6,81.3,80.1,75.4,72.7,68.7,71.3,76.1,72.4,73.2,85.4,70.2,75.0,67.7,75.5,72.8,54.3,83.1,77.2,81.0,72.8,57.1,63.9,82.6,57.6,83.3,76.8,65.1,71.6,82.5,83.6,71.8,70.9,65.0,76.9,69.3,60.8,70.8,73.4,76.5,77.4,68.1,null,63.0,71.6,77.8,81.3,78.5,77.8,71.6,70.3,72.1,75.3,66.1,63.5,61.2],\"yaxis\":\"y\",\"type\":\"scatter\"}],                        {\"template\":{\"data\":{\"histogram2dcontour\":[{\"type\":\"histogram2dcontour\",\"colorbar\":{\"outlinewidth\":0,\"ticks\":\"\"},\"colorscale\":[[0.0,\"#0d0887\"],[0.1111111111111111,\"#46039f\"],[0.2222222222222222,\"#7201a8\"],[0.3333333333333333,\"#9c179e\"],[0.4444444444444444,\"#bd3786\"],[0.5555555555555556,\"#d8576b\"],[0.6666666666666666,\"#ed7953\"],[0.7777777777777778,\"#fb9f3a\"],[0.8888888888888888,\"#fdca26\"],[1.0,\"#f0f921\"]]}],\"choropleth\":[{\"type\":\"choropleth\",\"colorbar\":{\"outlinewidth\":0,\"ticks\":\"\"}}],\"histogram2d\":[{\"type\":\"histogram2d\",\"colorbar\":{\"outlinewidth\":0,\"ticks\":\"\"},\"colorscale\":[[0.0,\"#0d0887\"],[0.1111111111111111,\"#46039f\"],[0.2222222222222222,\"#7201a8\"],[0.3333333333333333,\"#9c179e\"],[0.4444444444444444,\"#bd3786\"],[0.5555555555555556,\"#d8576b\"],[0.6666666666666666,\"#ed7953\"],[0.7777777777777778,\"#fb9f3a\"],[0.8888888888888888,\"#fdca26\"],[1.0,\"#f0f921\"]]}],\"heatmap\":[{\"type\":\"heatmap\",\"colorbar\":{\"outlinewidth\":0,\"ticks\":\"\"},\"colorscale\":[[0.0,\"#0d0887\"],[0.1111111111111111,\"#46039f\"],[0.2222222222222222,\"#7201a8\"],[0.3333333333333333,\"#9c179e\"],[0.4444444444444444,\"#bd3786\"],[0.5555555555555556,\"#d8576b\"],[0.6666666666666666,\"#ed7953\"],[0.7777777777777778,\"#fb9f3a\"],[0.8888888888888888,\"#fdca26\"],[1.0,\"#f0f921\"]]}],\"heatmapgl\":[{\"type\":\"heatmapgl\",\"colorbar\":{\"outlinewidth\":0,\"ticks\":\"\"},\"colorscale\":[[0.0,\"#0d0887\"],[0.1111111111111111,\"#46039f\"],[0.2222222222222222,\"#7201a8\"],[0.3333333333333333,\"#9c179e\"],[0.4444444444444444,\"#bd3786\"],[0.5555555555555556,\"#d8576b\"],[0.6666666666666666,\"#ed7953\"],[0.7777777777777778,\"#fb9f3a\"],[0.8888888888888888,\"#fdca26\"],[1.0,\"#f0f921\"]]}],\"contourcarpet\":[{\"type\":\"contourcarpet\",\"colorbar\":{\"outlinewidth\":0,\"ticks\":\"\"}}],\"contour\":[{\"type\":\"contour\",\"colorbar\":{\"outlinewidth\":0,\"ticks\":\"\"},\"colorscale\":[[0.0,\"#0d0887\"],[0.1111111111111111,\"#46039f\"],[0.2222222222222222,\"#7201a8\"],[0.3333333333333333,\"#9c179e\"],[0.4444444444444444,\"#bd3786\"],[0.5555555555555556,\"#d8576b\"],[0.6666666666666666,\"#ed7953\"],[0.7777777777777778,\"#fb9f3a\"],[0.8888888888888888,\"#fdca26\"],[1.0,\"#f0f921\"]]}],\"surface\":[{\"type\":\"surface\",\"colorbar\":{\"outlinewidth\":0,\"ticks\":\"\"},\"colorscale\":[[0.0,\"#0d0887\"],[0.1111111111111111,\"#46039f\"],[0.2222222222222222,\"#7201a8\"],[0.3333333333333333,\"#9c179e\"],[0.4444444444444444,\"#bd3786\"],[0.5555555555555556,\"#d8576b\"],[0.6666666666666666,\"#ed7953\"],[0.7777777777777778,\"#fb9f3a\"],[0.8888888888888888,\"#fdca26\"],[1.0,\"#f0f921\"]]}],\"mesh3d\":[{\"type\":\"mesh3d\",\"colorbar\":{\"outlinewidth\":0,\"ticks\":\"\"}}],\"scatter\":[{\"fillpattern\":{\"fillmode\":\"overlay\",\"size\":10,\"solidity\":0.2},\"type\":\"scatter\"}],\"parcoords\":[{\"type\":\"parcoords\",\"line\":{\"colorbar\":{\"outlinewidth\":0,\"ticks\":\"\"}}}],\"scatterpolargl\":[{\"type\":\"scatterpolargl\",\"marker\":{\"colorbar\":{\"outlinewidth\":0,\"ticks\":\"\"}}}],\"bar\":[{\"error_x\":{\"color\":\"#2a3f5f\"},\"error_y\":{\"color\":\"#2a3f5f\"},\"marker\":{\"line\":{\"color\":\"#E5ECF6\",\"width\":0.5},\"pattern\":{\"fillmode\":\"overlay\",\"size\":10,\"solidity\":0.2}},\"type\":\"bar\"}],\"scattergeo\":[{\"type\":\"scattergeo\",\"marker\":{\"colorbar\":{\"outlinewidth\":0,\"ticks\":\"\"}}}],\"scatterpolar\":[{\"type\":\"scatterpolar\",\"marker\":{\"colorbar\":{\"outlinewidth\":0,\"ticks\":\"\"}}}],\"histogram\":[{\"marker\":{\"pattern\":{\"fillmode\":\"overlay\",\"size\":10,\"solidity\":0.2}},\"type\":\"histogram\"}],\"scattergl\":[{\"type\":\"scattergl\",\"marker\":{\"colorbar\":{\"outlinewidth\":0,\"ticks\":\"\"}}}],\"scatter3d\":[{\"type\":\"scatter3d\",\"line\":{\"colorbar\":{\"outlinewidth\":0,\"ticks\":\"\"}},\"marker\":{\"colorbar\":{\"outlinewidth\":0,\"ticks\":\"\"}}}],\"scattermapbox\":[{\"type\":\"scattermapbox\",\"marker\":{\"colorbar\":{\"outlinewidth\":0,\"ticks\":\"\"}}}],\"scatterternary\":[{\"type\":\"scatterternary\",\"marker\":{\"colorbar\":{\"outlinewidth\":0,\"ticks\":\"\"}}}],\"scattercarpet\":[{\"type\":\"scattercarpet\",\"marker\":{\"colorbar\":{\"outlinewidth\":0,\"ticks\":\"\"}}}],\"carpet\":[{\"aaxis\":{\"endlinecolor\":\"#2a3f5f\",\"gridcolor\":\"white\",\"linecolor\":\"white\",\"minorgridcolor\":\"white\",\"startlinecolor\":\"#2a3f5f\"},\"baxis\":{\"endlinecolor\":\"#2a3f5f\",\"gridcolor\":\"white\",\"linecolor\":\"white\",\"minorgridcolor\":\"white\",\"startlinecolor\":\"#2a3f5f\"},\"type\":\"carpet\"}],\"table\":[{\"cells\":{\"fill\":{\"color\":\"#EBF0F8\"},\"line\":{\"color\":\"white\"}},\"header\":{\"fill\":{\"color\":\"#C8D4E3\"},\"line\":{\"color\":\"white\"}},\"type\":\"table\"}],\"barpolar\":[{\"marker\":{\"line\":{\"color\":\"#E5ECF6\",\"width\":0.5},\"pattern\":{\"fillmode\":\"overlay\",\"size\":10,\"solidity\":0.2}},\"type\":\"barpolar\"}],\"pie\":[{\"automargin\":true,\"type\":\"pie\"}]},\"layout\":{\"autotypenumbers\":\"strict\",\"colorway\":[\"#636efa\",\"#EF553B\",\"#00cc96\",\"#ab63fa\",\"#FFA15A\",\"#19d3f3\",\"#FF6692\",\"#B6E880\",\"#FF97FF\",\"#FECB52\"],\"font\":{\"color\":\"#2a3f5f\"},\"hovermode\":\"closest\",\"hoverlabel\":{\"align\":\"left\"},\"paper_bgcolor\":\"white\",\"plot_bgcolor\":\"#E5ECF6\",\"polar\":{\"bgcolor\":\"#E5ECF6\",\"angularaxis\":{\"gridcolor\":\"white\",\"linecolor\":\"white\",\"ticks\":\"\"},\"radialaxis\":{\"gridcolor\":\"white\",\"linecolor\":\"white\",\"ticks\":\"\"}},\"ternary\":{\"bgcolor\":\"#E5ECF6\",\"aaxis\":{\"gridcolor\":\"white\",\"linecolor\":\"white\",\"ticks\":\"\"},\"baxis\":{\"gridcolor\":\"white\",\"linecolor\":\"white\",\"ticks\":\"\"},\"caxis\":{\"gridcolor\":\"white\",\"linecolor\":\"white\",\"ticks\":\"\"}},\"coloraxis\":{\"colorbar\":{\"outlinewidth\":0,\"ticks\":\"\"}},\"colorscale\":{\"sequential\":[[0.0,\"#0d0887\"],[0.1111111111111111,\"#46039f\"],[0.2222222222222222,\"#7201a8\"],[0.3333333333333333,\"#9c179e\"],[0.4444444444444444,\"#bd3786\"],[0.5555555555555556,\"#d8576b\"],[0.6666666666666666,\"#ed7953\"],[0.7777777777777778,\"#fb9f3a\"],[0.8888888888888888,\"#fdca26\"],[1.0,\"#f0f921\"]],\"sequentialminus\":[[0.0,\"#0d0887\"],[0.1111111111111111,\"#46039f\"],[0.2222222222222222,\"#7201a8\"],[0.3333333333333333,\"#9c179e\"],[0.4444444444444444,\"#bd3786\"],[0.5555555555555556,\"#d8576b\"],[0.6666666666666666,\"#ed7953\"],[0.7777777777777778,\"#fb9f3a\"],[0.8888888888888888,\"#fdca26\"],[1.0,\"#f0f921\"]],\"diverging\":[[0,\"#8e0152\"],[0.1,\"#c51b7d\"],[0.2,\"#de77ae\"],[0.3,\"#f1b6da\"],[0.4,\"#fde0ef\"],[0.5,\"#f7f7f7\"],[0.6,\"#e6f5d0\"],[0.7,\"#b8e186\"],[0.8,\"#7fbc41\"],[0.9,\"#4d9221\"],[1,\"#276419\"]]},\"xaxis\":{\"gridcolor\":\"white\",\"linecolor\":\"white\",\"ticks\":\"\",\"title\":{\"standoff\":15},\"zerolinecolor\":\"white\",\"automargin\":true,\"zerolinewidth\":2},\"yaxis\":{\"gridcolor\":\"white\",\"linecolor\":\"white\",\"ticks\":\"\",\"title\":{\"standoff\":15},\"zerolinecolor\":\"white\",\"automargin\":true,\"zerolinewidth\":2},\"scene\":{\"xaxis\":{\"backgroundcolor\":\"#E5ECF6\",\"gridcolor\":\"white\",\"linecolor\":\"white\",\"showbackground\":true,\"ticks\":\"\",\"zerolinecolor\":\"white\",\"gridwidth\":2},\"yaxis\":{\"backgroundcolor\":\"#E5ECF6\",\"gridcolor\":\"white\",\"linecolor\":\"white\",\"showbackground\":true,\"ticks\":\"\",\"zerolinecolor\":\"white\",\"gridwidth\":2},\"zaxis\":{\"backgroundcolor\":\"#E5ECF6\",\"gridcolor\":\"white\",\"linecolor\":\"white\",\"showbackground\":true,\"ticks\":\"\",\"zerolinecolor\":\"white\",\"gridwidth\":2}},\"shapedefaults\":{\"line\":{\"color\":\"#2a3f5f\"}},\"annotationdefaults\":{\"arrowcolor\":\"#2a3f5f\",\"arrowhead\":0,\"arrowwidth\":1},\"geo\":{\"bgcolor\":\"white\",\"landcolor\":\"#E5ECF6\",\"subunitcolor\":\"white\",\"showland\":true,\"showlakes\":true,\"lakecolor\":\"white\"},\"title\":{\"x\":0.05},\"mapbox\":{\"style\":\"light\"}}},\"xaxis\":{\"anchor\":\"y\",\"domain\":[0.0,1.0],\"title\":{\"text\":\"Out of pocket health expenditure\"}},\"yaxis\":{\"anchor\":\"x\",\"domain\":[0.0,1.0],\"title\":{\"text\":\"Life expectancy\"}},\"legend\":{\"tracegroupgap\":0},\"margin\":{\"t\":60},\"height\":500,\"width\":600},                        {\"responsive\": true}                    ).then(function(){\n",
              "                            \n",
              "var gd = document.getElementById('71a52625-1e1c-4859-928a-97e7aa110a1a');\n",
              "var x = new MutationObserver(function (mutations, observer) {{\n",
              "        var display = window.getComputedStyle(gd).display;\n",
              "        if (!display || display === 'none') {{\n",
              "            console.log([gd, 'removed!']);\n",
              "            Plotly.purge(gd);\n",
              "            observer.disconnect();\n",
              "        }}\n",
              "}});\n",
              "\n",
              "// Listen for the removal of the full notebook cells\n",
              "var notebookContainer = gd.closest('#notebook-container');\n",
              "if (notebookContainer) {{\n",
              "    x.observe(notebookContainer, {childList: true});\n",
              "}}\n",
              "\n",
              "// Listen for the clearing of the current output cell\n",
              "var outputEl = gd.closest('.output');\n",
              "if (outputEl) {{\n",
              "    x.observe(outputEl, {childList: true});\n",
              "}}\n",
              "\n",
              "                        })                };                            </script>        </div>\n",
              "</body>\n",
              "</html>"
            ]
          },
          "metadata": {}
        }
      ]
    },
    {
      "cell_type": "code",
      "source": [
        "# Map for countries and their population and armed forces size\n",
        "fig = px.scatter_mapbox(\n",
        "    clean_df,\n",
        "    lat=\"Latitude\",\n",
        "    lon=\"Longitude\",\n",
        "    color=\"Armed Forces size\",\n",
        "    size=\"Population\",\n",
        "    width=1200,\n",
        "    height=800,\n",
        "    hover_data=[\"Country\"],\n",
        "    zoom=1,\n",
        "    title=\"countries, population and armed forces size\",\n",
        "    mapbox_style=\"open-street-map\",\n",
        ")\n",
        "fig.show()\n"
      ],
      "metadata": {
        "colab": {
          "base_uri": "https://localhost:8080/",
          "height": 817
        },
        "id": "Dj4wSctPWoUR",
        "outputId": "66abff9b-990e-4967-c94e-4f55bc55d03a"
      },
      "execution_count": 18,
      "outputs": [
        {
          "output_type": "display_data",
          "data": {
            "text/html": [
              "<html>\n",
              "<head><meta charset=\"utf-8\" /></head>\n",
              "<body>\n",
              "    <div>            <script src=\"https://cdnjs.cloudflare.com/ajax/libs/mathjax/2.7.5/MathJax.js?config=TeX-AMS-MML_SVG\"></script><script type=\"text/javascript\">if (window.MathJax && window.MathJax.Hub && window.MathJax.Hub.Config) {window.MathJax.Hub.Config({SVG: {font: \"STIX-Web\"}});}</script>                <script type=\"text/javascript\">window.PlotlyConfig = {MathJaxConfig: 'local'};</script>\n",
              "        <script src=\"https://cdn.plot.ly/plotly-2.18.2.min.js\"></script>                <div id=\"3461f552-9c4b-4d63-a6a6-b670da28017a\" class=\"plotly-graph-div\" style=\"height:800px; width:1200px;\"></div>            <script type=\"text/javascript\">                                    window.PLOTLYENV=window.PLOTLYENV || {};                                    if (document.getElementById(\"3461f552-9c4b-4d63-a6a6-b670da28017a\")) {                    Plotly.newPlot(                        \"3461f552-9c4b-4d63-a6a6-b670da28017a\",                        [{\"customdata\":[[\"Afghanistan\"],[\"Albania\"],[\"Algeria\"],[\"Andorra\"],[\"Angola\"],[\"Antigua and Barbuda\"],[\"Argentina\"],[\"Armenia\"],[\"Australia\"],[\"Austria\"],[\"Azerbaijan\"],[\"The Bahamas\"],[\"Bahrain\"],[\"Bangladesh\"],[\"Barbados\"],[\"Belarus\"],[\"Belgium\"],[\"Belize\"],[\"Benin\"],[\"Bhutan\"],[\"Bolivia\"],[\"Bosnia and Herzegovina\"],[\"Botswana\"],[\"Brazil\"],[\"Brunei\"],[\"Bulgaria\"],[\"Burkina Faso\"],[\"Burundi\"],[\"Ivory Coast\"],[\"Cape Verde\"],[\"Cambodia\"],[\"Cameroon\"],[\"Canada\"],[\"Central African Republic\"],[\"Chad\"],[\"Chile\"],[\"China\"],[\"Colombia\"],[\"Comoros\"],[\"Republic of the Congo\"],[\"Costa Rica\"],[\"Croatia\"],[\"Cuba\"],[\"Cyprus\"],[\"Czech Republic\"],[\"Democratic Republic of the Congo\"],[\"Denmark\"],[\"Djibouti\"],[\"Dominica\"],[\"Dominican Republic\"],[\"Ecuador\"],[\"Egypt\"],[\"El Salvador\"],[\"Equatorial Guinea\"],[\"Eritrea\"],[\"Estonia\"],[\"Eswatini\"],[\"Ethiopia\"],[\"Fiji\"],[\"Finland\"],[\"France\"],[\"Gabon\"],[\"The Gambia\"],[\"Georgia\"],[\"Germany\"],[\"Ghana\"],[\"Greece\"],[\"Grenada\"],[\"Guatemala\"],[\"Guinea\"],[\"Guinea-Bissau\"],[\"Guyana\"],[\"Haiti\"],[\"Vatican City\"],[\"Honduras\"],[\"Hungary\"],[\"Iceland\"],[\"India\"],[\"Indonesia\"],[\"Iran\"],[\"Iraq\"],[\"Republic of Ireland\"],[\"Israel\"],[\"Italy\"],[\"Jamaica\"],[\"Japan\"],[\"Jordan\"],[\"Kazakhstan\"],[\"Kenya\"],[\"Kiribati\"],[\"Kuwait\"],[\"Kyrgyzstan\"],[\"Laos\"],[\"Latvia\"],[\"Lebanon\"],[\"Lesotho\"],[\"Liberia\"],[\"Libya\"],[\"Liechtenstein\"],[\"Lithuania\"],[\"Luxembourg\"],[\"Madagascar\"],[\"Malawi\"],[\"Malaysia\"],[\"Maldives\"],[\"Mali\"],[\"Malta\"],[\"Marshall Islands\"],[\"Mauritania\"],[\"Mauritius\"],[\"Mexico\"],[\"Federated States of Micronesia\"],[\"Moldova\"],[\"Monaco\"],[\"Mongolia\"],[\"Montenegro\"],[\"Morocco\"],[\"Mozambique\"],[\"Myanmar\"],[\"Namibia\"],[\"Nauru\"],[\"Nepal\"],[\"Netherlands\"],[\"New Zealand\"],[\"Nicaragua\"],[\"Niger\"],[\"Nigeria\"],[\"North Korea\"],[\"North Macedonia\"],[\"Norway\"],[\"Oman\"],[\"Pakistan\"],[\"Palau\"],[\"Palestinian National Authority\"],[\"Panama\"],[\"Papua New Guinea\"],[\"Paraguay\"],[\"Peru\"],[\"Philippines\"],[\"Poland\"],[\"Portugal\"],[\"Qatar\"],[\"Romania\"],[\"Russia\"],[\"Rwanda\"],[\"Saint Kitts and Nevis\"],[\"Saint Lucia\"],[\"Saint Vincent and the Grenadines\"],[\"Samoa\"],[\"San Marino\"],[\"S\\ufffd\\ufffd\\ufffd\\ufffd\\ufffd\\ufffd\\ufffd\\ufffd\\ufffd\\ufffd\\ufffd\"],[\"Saudi Arabia\"],[\"Senegal\"],[\"Serbia\"],[\"Seychelles\"],[\"Sierra Leone\"],[\"Singapore\"],[\"Slovakia\"],[\"Slovenia\"],[\"Solomon Islands\"],[\"Somalia\"],[\"South Africa\"],[\"South Korea\"],[\"South Sudan\"],[\"Spain\"],[\"Sri Lanka\"],[\"Sudan\"],[\"Suriname\"],[\"Sweden\"],[\"Switzerland\"],[\"Syria\"],[\"Tajikistan\"],[\"Tanzania\"],[\"Thailand\"],[\"East Timor\"],[\"Togo\"],[\"Tonga\"],[\"Trinidad and Tobago\"],[\"Tunisia\"],[\"Turkey\"],[\"Turkmenistan\"],[\"Tuvalu\"],[\"Uganda\"],[\"Ukraine\"],[\"United Arab Emirates\"],[\"United Kingdom\"],[\"United States\"],[\"Uruguay\"],[\"Uzbekistan\"],[\"Vanuatu\"],[\"Venezuela\"],[\"Vietnam\"],[\"Yemen\"],[\"Zambia\"],[\"Zimbabwe\"]],\"hovertemplate\":\"Population=%{marker.size}<br>Latitude=%{lat}<br>Longitude=%{lon}<br>Country=%{customdata[0]}<br>Armed Forces size=%{marker.color}<extra></extra>\",\"lat\":[33.93911,41.153332,28.033886,42.506285,-11.202692,17.060816,-38.416097,40.069099,-25.274398,47.516231,40.143105,25.03428,26.0667,23.684994,13.193887,53.709807,50.503887,17.189877,9.30769,27.514162,-16.290154,43.915886,-22.328474,-14.235004,4.535277,42.733883,12.238333,-3.373056,7.539989,16.5388,12.565679,7.369722,56.130366,6.611111,15.454166,-35.675147,35.86166,4.570868,-11.6455,-0.228021,9.748917,45.1,21.521757,35.126413,49.817492,-4.038333,56.26392,11.825138,15.414999,18.735693,-1.831239,26.820553,13.794185,1.650801,15.179384,58.595272,-26.522503,9.145,-17.713371,61.92411,46.227638,-0.803689,13.443182,42.315407,51.165691,7.946527,39.074208,12.1165,15.783471,9.945587,11.803749,4.860416,18.971187,41.902916,15.199999,47.162494,64.963051,20.593684,-0.789275,32.427908,33.223191,53.41291,31.046051,41.87194,18.109581,36.204824,30.585164,48.019573,-0.023559,1.8368976,29.31166,41.20438,19.85627,56.879635,33.854721,-29.609988,6.428055,26.3351,47.1410392,55.169438,49.815273,-18.766947,-13.254308,4.210484,3.202778,17.570692,35.937496,7.131474,21.00789,-20.348404,23.634501,7.425554,47.411631,43.7384176,46.862496,42.708678,31.791702,-18.665695,21.916221,-22.95764,-0.522778,28.394857,52.132633,-40.900557,12.865416,17.607789,9.081999,40.339852,41.608635,60.472024,21.4735329,30.375321,7.51498,31.952162,8.537981,-6.314993,-23.442503,-9.189967,12.879721,51.919438,39.399872,25.354826,45.943161,61.52401,-1.940278,17.357822,13.909444,12.984305,-13.759029,43.94236,null,23.885942,14.497401,44.016521,-4.679574,8.460555,1.352083,48.669026,46.151241,-9.64571,5.152149,-30.559482,35.907757,6.8769919,40.463667,7.873054,12.862807,3.919305,60.128161,46.818188,34.802075,38.861034,-6.369028,15.870032,-8.874217,8.619543,-21.178986,10.691803,33.886917,38.963745,38.969719,-7.109535,1.373333,48.379433,23.424076,55.378051,37.09024,-32.522779,41.377491,-15.376706,6.42375,14.058324,15.552727,-13.133897,-19.015438],\"legendgroup\":\"\",\"lon\":[67.709953,20.168331,1.659626,1.521801,17.873887,-61.796428,-63.616672,45.038189,133.775136,14.550072,47.576927,-77.39628,50.5577,90.356331,-59.543198,27.953389,4.469936,-88.49765,2.315834,90.433601,-63.588653,17.679076,24.684866,-51.92528,114.727669,25.48583,-1.561593,29.918886,-5.54708,-23.0418,104.990963,12.354722,-106.346771,20.939444,18.732207,-71.542969,104.195397,-74.297333,43.3333,15.827659,-83.753428,15.2,-77.781167,33.429859,15.472962,21.758664,9.501785,42.590275,-61.370976,-70.162651,-78.183406,30.802498,-88.89653,10.267895,39.782334,25.013607,31.465866,40.489673,178.065032,25.748151,2.213749,11.609444,-15.310139,43.356892,10.451526,-1.023194,21.824312,-61.679,-90.230759,-9.696645,-15.180413,-58.93018,-72.285215,12.453389,-86.241905,19.503304,-19.020835,78.96288,113.921327,53.688046,43.679291,-8.24389,34.851612,12.56738,-77.297508,138.252924,36.238414,66.923684,37.906193,-157.3768317,47.481766,74.766098,102.495496,24.603189,35.862285,28.233608,-9.429499,17.228331,9.520935,23.881275,6.129583,46.869107,34.301525,101.975766,73.22068,-3.996166,14.375416,171.184478,-10.940835,57.552152,-102.552784,150.550812,28.369885,7.4246158,103.846656,19.37439,-7.09262,35.529562,95.955974,18.49041,166.931503,84.124008,5.291266,174.885971,-85.207229,8.081666,8.675277,127.510093,21.745275,8.468946,55.975413,69.345116,134.58252,35.233154,-80.782127,143.95555,-58.443832,-75.015152,121.774017,19.145136,-8.224454,51.183884,24.96676,105.318756,29.873888,-62.782998,-60.978893,-61.287228,-172.104629,12.457777,null,45.079162,-14.452362,21.005859,55.491977,-11.779889,103.819836,19.699024,14.995463,160.156194,46.199616,22.937506,127.766922,31.3069788,-3.74922,80.771797,30.217636,-56.027783,18.643501,8.227512,38.996815,71.276093,34.888822,100.992541,125.727539,0.824782,-175.198242,-61.222503,9.537499,35.243322,59.556278,177.64933,32.290275,31.16558,53.847818,-3.435973,-95.712891,-55.765835,64.585262,166.959158,-66.58973,108.277199,48.516388,27.849332,29.154857],\"marker\":{\"color\":[323000.0,9000.0,317000.0,0.0,117000.0,0.0,105000.0,49000.0,58000.0,21000.0,82000.0,1000.0,19000.0,221000.0,1000.0,155000.0,32000.0,2000.0,12000.0,6000.0,71000.0,11000.0,9000.0,730000.0,8000.0,31000.0,11000.0,31000.0,27000.0,1000.0,191000.0,24000.0,72000.0,8000.0,35000.0,122000.0,2695000.0,481000.0,0.0,12000.0,10000.0,18000.0,76000.0,16000.0,23000.0,134000.0,15000.0,13000.0,0.0,71000.0,41000.0,836000.0,42000.0,1000.0,202000.0,6000.0,0.0,138000.0,4000.0,25000.0,307000.0,7000.0,1000.0,26000.0,180000.0,16000.0,146000.0,0.0,43000.0,13000.0,4000.0,3000.0,0.0,0.0,23000.0,40000.0,0.0,3031000.0,676000.0,563000.0,209000.0,9000.0,178000.0,347000.0,4000.0,261000.0,116000.0,71000.0,29000.0,0.0,25000.0,21000.0,129000.0,6000.0,80000.0,2000.0,2000.0,0.0,0.0,34000.0,2000.0,22000.0,15000.0,136000.0,5000.0,18000.0,2000.0,0.0,21000.0,3000.0,336000.0,0.0,7000.0,0.0,18000.0,12000.0,246000.0,11000.0,513000.0,16000.0,0.0,112000.0,41000.0,9000.0,12000.0,10000.0,215000.0,1469000.0,0.0,23000.0,47000.0,936000.0,0.0,0.0,26000.0,4000.0,27000.0,158000.0,153000.0,191000.0,52000.0,22000.0,126000.0,1454000.0,35000.0,0.0,0.0,0.0,0.0,0.0,1000.0,252000.0,19000.0,32000.0,0.0,9000.0,81000.0,16000.0,7000.0,0.0,20000.0,80000.0,634000.0,185000.0,196000.0,317000.0,124000.0,2000.0,30000.0,21000.0,239000.0,17000.0,28000.0,455000.0,2000.0,10000.0,0.0,4000.0,48000.0,512000.0,42000.0,0.0,46000.0,297000.0,63000.0,148000.0,1359000.0,22000.0,68000.0,0.0,343000.0,522000.0,40000.0,16000.0,51000.0],\"coloraxis\":\"coloraxis\",\"size\":[38041754.0,2854191.0,43053054.0,77142.0,31825295.0,97118.0,44938712.0,2957731.0,25766605.0,8877067.0,10023318.0,389482.0,1501635.0,167310838.0,287025.0,9466856.0,11484055.0,390353.0,11801151.0,727145.0,11513100.0,3301000.0,2346179.0,212559417.0,433285.0,6975761.0,20321378.0,11530580.0,25716544.0,483628.0,16486542.0,25876380.0,36991981.0,4745185.0,15946876.0,18952038.0,1397715000.0,50339443.0,850886.0,5380508.0,5047561.0,4067500.0,11333483.0,1198575.0,10669709.0,86790567.0,5818553.0,973560.0,71808.0,10738958.0,17373662.0,100388073.0,6453553.0,1355986.0,6333135.0,1331824.0,1093238.0,112078730.0,889953.0,5520314.0,67059887.0,2172579.0,2347706.0,3720382.0,83132799.0,30792608.0,10716322.0,112003.0,16604026.0,12771246.0,1920922.0,782766.0,11263077.0,836.0,9746117.0,9769949.0,361313.0,1366417754.0,270203917.0,82913906.0,39309783.0,5007069.0,9053300.0,60297396.0,2948279.0,126226568.0,10101694.0,18513930.0,52573973.0,117606.0,4207083.0,6456900.0,7169455.0,1912789.0,6855713.0,2125268.0,4937374.0,6777452.0,38019.0,2786844.0,645397.0,26969307.0,18628747.0,32447385.0,530953.0,19658031.0,502653.0,58791.0,4525696.0,1265711.0,126014024.0,113815.0,2657637.0,38964.0,3225167.0,622137.0,36910560.0,30366036.0,54045420.0,2494530.0,10084.0,28608710.0,17332850.0,4841000.0,6545502.0,23310715.0,200963599.0,25666161.0,1836713.0,5347896.0,5266535.0,216565318.0,18233.0,0.0,4246439.0,8776109.0,7044636.0,32510453.0,108116615.0,37970874.0,10269417.0,2832067.0,19356544.0,144373535.0,12626950.0,52823.0,182790.0,100455.0,202506.0,33860.0,215056.0,34268528.0,16296364.0,6944975.0,97625.0,7813215.0,5703569.0,5454073.0,2087946.0,669823.0,15442905.0,58558270.0,51709098.0,11062113.0,47076781.0,21803000.0,42813238.0,581372.0,10285453.0,8574832.0,17070135.0,9321018.0,58005463.0,69625582.0,3500000.0,8082366.0,100209.0,1394973.0,11694719.0,83429615.0,5942089.0,11646.0,44269594.0,44385155.0,9770529.0,66834405.0,328239523.0,3461734.0,33580650.0,299882.0,28515829.0,96462106.0,29161922.0,17861030.0,14645468.0],\"sizemode\":\"area\",\"sizeref\":3494287.5},\"mode\":\"markers\",\"name\":\"\",\"showlegend\":false,\"subplot\":\"mapbox\",\"type\":\"scattermapbox\"}],                        {\"template\":{\"data\":{\"histogram2dcontour\":[{\"type\":\"histogram2dcontour\",\"colorbar\":{\"outlinewidth\":0,\"ticks\":\"\"},\"colorscale\":[[0.0,\"#0d0887\"],[0.1111111111111111,\"#46039f\"],[0.2222222222222222,\"#7201a8\"],[0.3333333333333333,\"#9c179e\"],[0.4444444444444444,\"#bd3786\"],[0.5555555555555556,\"#d8576b\"],[0.6666666666666666,\"#ed7953\"],[0.7777777777777778,\"#fb9f3a\"],[0.8888888888888888,\"#fdca26\"],[1.0,\"#f0f921\"]]}],\"choropleth\":[{\"type\":\"choropleth\",\"colorbar\":{\"outlinewidth\":0,\"ticks\":\"\"}}],\"histogram2d\":[{\"type\":\"histogram2d\",\"colorbar\":{\"outlinewidth\":0,\"ticks\":\"\"},\"colorscale\":[[0.0,\"#0d0887\"],[0.1111111111111111,\"#46039f\"],[0.2222222222222222,\"#7201a8\"],[0.3333333333333333,\"#9c179e\"],[0.4444444444444444,\"#bd3786\"],[0.5555555555555556,\"#d8576b\"],[0.6666666666666666,\"#ed7953\"],[0.7777777777777778,\"#fb9f3a\"],[0.8888888888888888,\"#fdca26\"],[1.0,\"#f0f921\"]]}],\"heatmap\":[{\"type\":\"heatmap\",\"colorbar\":{\"outlinewidth\":0,\"ticks\":\"\"},\"colorscale\":[[0.0,\"#0d0887\"],[0.1111111111111111,\"#46039f\"],[0.2222222222222222,\"#7201a8\"],[0.3333333333333333,\"#9c179e\"],[0.4444444444444444,\"#bd3786\"],[0.5555555555555556,\"#d8576b\"],[0.6666666666666666,\"#ed7953\"],[0.7777777777777778,\"#fb9f3a\"],[0.8888888888888888,\"#fdca26\"],[1.0,\"#f0f921\"]]}],\"heatmapgl\":[{\"type\":\"heatmapgl\",\"colorbar\":{\"outlinewidth\":0,\"ticks\":\"\"},\"colorscale\":[[0.0,\"#0d0887\"],[0.1111111111111111,\"#46039f\"],[0.2222222222222222,\"#7201a8\"],[0.3333333333333333,\"#9c179e\"],[0.4444444444444444,\"#bd3786\"],[0.5555555555555556,\"#d8576b\"],[0.6666666666666666,\"#ed7953\"],[0.7777777777777778,\"#fb9f3a\"],[0.8888888888888888,\"#fdca26\"],[1.0,\"#f0f921\"]]}],\"contourcarpet\":[{\"type\":\"contourcarpet\",\"colorbar\":{\"outlinewidth\":0,\"ticks\":\"\"}}],\"contour\":[{\"type\":\"contour\",\"colorbar\":{\"outlinewidth\":0,\"ticks\":\"\"},\"colorscale\":[[0.0,\"#0d0887\"],[0.1111111111111111,\"#46039f\"],[0.2222222222222222,\"#7201a8\"],[0.3333333333333333,\"#9c179e\"],[0.4444444444444444,\"#bd3786\"],[0.5555555555555556,\"#d8576b\"],[0.6666666666666666,\"#ed7953\"],[0.7777777777777778,\"#fb9f3a\"],[0.8888888888888888,\"#fdca26\"],[1.0,\"#f0f921\"]]}],\"surface\":[{\"type\":\"surface\",\"colorbar\":{\"outlinewidth\":0,\"ticks\":\"\"},\"colorscale\":[[0.0,\"#0d0887\"],[0.1111111111111111,\"#46039f\"],[0.2222222222222222,\"#7201a8\"],[0.3333333333333333,\"#9c179e\"],[0.4444444444444444,\"#bd3786\"],[0.5555555555555556,\"#d8576b\"],[0.6666666666666666,\"#ed7953\"],[0.7777777777777778,\"#fb9f3a\"],[0.8888888888888888,\"#fdca26\"],[1.0,\"#f0f921\"]]}],\"mesh3d\":[{\"type\":\"mesh3d\",\"colorbar\":{\"outlinewidth\":0,\"ticks\":\"\"}}],\"scatter\":[{\"fillpattern\":{\"fillmode\":\"overlay\",\"size\":10,\"solidity\":0.2},\"type\":\"scatter\"}],\"parcoords\":[{\"type\":\"parcoords\",\"line\":{\"colorbar\":{\"outlinewidth\":0,\"ticks\":\"\"}}}],\"scatterpolargl\":[{\"type\":\"scatterpolargl\",\"marker\":{\"colorbar\":{\"outlinewidth\":0,\"ticks\":\"\"}}}],\"bar\":[{\"error_x\":{\"color\":\"#2a3f5f\"},\"error_y\":{\"color\":\"#2a3f5f\"},\"marker\":{\"line\":{\"color\":\"#E5ECF6\",\"width\":0.5},\"pattern\":{\"fillmode\":\"overlay\",\"size\":10,\"solidity\":0.2}},\"type\":\"bar\"}],\"scattergeo\":[{\"type\":\"scattergeo\",\"marker\":{\"colorbar\":{\"outlinewidth\":0,\"ticks\":\"\"}}}],\"scatterpolar\":[{\"type\":\"scatterpolar\",\"marker\":{\"colorbar\":{\"outlinewidth\":0,\"ticks\":\"\"}}}],\"histogram\":[{\"marker\":{\"pattern\":{\"fillmode\":\"overlay\",\"size\":10,\"solidity\":0.2}},\"type\":\"histogram\"}],\"scattergl\":[{\"type\":\"scattergl\",\"marker\":{\"colorbar\":{\"outlinewidth\":0,\"ticks\":\"\"}}}],\"scatter3d\":[{\"type\":\"scatter3d\",\"line\":{\"colorbar\":{\"outlinewidth\":0,\"ticks\":\"\"}},\"marker\":{\"colorbar\":{\"outlinewidth\":0,\"ticks\":\"\"}}}],\"scattermapbox\":[{\"type\":\"scattermapbox\",\"marker\":{\"colorbar\":{\"outlinewidth\":0,\"ticks\":\"\"}}}],\"scatterternary\":[{\"type\":\"scatterternary\",\"marker\":{\"colorbar\":{\"outlinewidth\":0,\"ticks\":\"\"}}}],\"scattercarpet\":[{\"type\":\"scattercarpet\",\"marker\":{\"colorbar\":{\"outlinewidth\":0,\"ticks\":\"\"}}}],\"carpet\":[{\"aaxis\":{\"endlinecolor\":\"#2a3f5f\",\"gridcolor\":\"white\",\"linecolor\":\"white\",\"minorgridcolor\":\"white\",\"startlinecolor\":\"#2a3f5f\"},\"baxis\":{\"endlinecolor\":\"#2a3f5f\",\"gridcolor\":\"white\",\"linecolor\":\"white\",\"minorgridcolor\":\"white\",\"startlinecolor\":\"#2a3f5f\"},\"type\":\"carpet\"}],\"table\":[{\"cells\":{\"fill\":{\"color\":\"#EBF0F8\"},\"line\":{\"color\":\"white\"}},\"header\":{\"fill\":{\"color\":\"#C8D4E3\"},\"line\":{\"color\":\"white\"}},\"type\":\"table\"}],\"barpolar\":[{\"marker\":{\"line\":{\"color\":\"#E5ECF6\",\"width\":0.5},\"pattern\":{\"fillmode\":\"overlay\",\"size\":10,\"solidity\":0.2}},\"type\":\"barpolar\"}],\"pie\":[{\"automargin\":true,\"type\":\"pie\"}]},\"layout\":{\"autotypenumbers\":\"strict\",\"colorway\":[\"#636efa\",\"#EF553B\",\"#00cc96\",\"#ab63fa\",\"#FFA15A\",\"#19d3f3\",\"#FF6692\",\"#B6E880\",\"#FF97FF\",\"#FECB52\"],\"font\":{\"color\":\"#2a3f5f\"},\"hovermode\":\"closest\",\"hoverlabel\":{\"align\":\"left\"},\"paper_bgcolor\":\"white\",\"plot_bgcolor\":\"#E5ECF6\",\"polar\":{\"bgcolor\":\"#E5ECF6\",\"angularaxis\":{\"gridcolor\":\"white\",\"linecolor\":\"white\",\"ticks\":\"\"},\"radialaxis\":{\"gridcolor\":\"white\",\"linecolor\":\"white\",\"ticks\":\"\"}},\"ternary\":{\"bgcolor\":\"#E5ECF6\",\"aaxis\":{\"gridcolor\":\"white\",\"linecolor\":\"white\",\"ticks\":\"\"},\"baxis\":{\"gridcolor\":\"white\",\"linecolor\":\"white\",\"ticks\":\"\"},\"caxis\":{\"gridcolor\":\"white\",\"linecolor\":\"white\",\"ticks\":\"\"}},\"coloraxis\":{\"colorbar\":{\"outlinewidth\":0,\"ticks\":\"\"}},\"colorscale\":{\"sequential\":[[0.0,\"#0d0887\"],[0.1111111111111111,\"#46039f\"],[0.2222222222222222,\"#7201a8\"],[0.3333333333333333,\"#9c179e\"],[0.4444444444444444,\"#bd3786\"],[0.5555555555555556,\"#d8576b\"],[0.6666666666666666,\"#ed7953\"],[0.7777777777777778,\"#fb9f3a\"],[0.8888888888888888,\"#fdca26\"],[1.0,\"#f0f921\"]],\"sequentialminus\":[[0.0,\"#0d0887\"],[0.1111111111111111,\"#46039f\"],[0.2222222222222222,\"#7201a8\"],[0.3333333333333333,\"#9c179e\"],[0.4444444444444444,\"#bd3786\"],[0.5555555555555556,\"#d8576b\"],[0.6666666666666666,\"#ed7953\"],[0.7777777777777778,\"#fb9f3a\"],[0.8888888888888888,\"#fdca26\"],[1.0,\"#f0f921\"]],\"diverging\":[[0,\"#8e0152\"],[0.1,\"#c51b7d\"],[0.2,\"#de77ae\"],[0.3,\"#f1b6da\"],[0.4,\"#fde0ef\"],[0.5,\"#f7f7f7\"],[0.6,\"#e6f5d0\"],[0.7,\"#b8e186\"],[0.8,\"#7fbc41\"],[0.9,\"#4d9221\"],[1,\"#276419\"]]},\"xaxis\":{\"gridcolor\":\"white\",\"linecolor\":\"white\",\"ticks\":\"\",\"title\":{\"standoff\":15},\"zerolinecolor\":\"white\",\"automargin\":true,\"zerolinewidth\":2},\"yaxis\":{\"gridcolor\":\"white\",\"linecolor\":\"white\",\"ticks\":\"\",\"title\":{\"standoff\":15},\"zerolinecolor\":\"white\",\"automargin\":true,\"zerolinewidth\":2},\"scene\":{\"xaxis\":{\"backgroundcolor\":\"#E5ECF6\",\"gridcolor\":\"white\",\"linecolor\":\"white\",\"showbackground\":true,\"ticks\":\"\",\"zerolinecolor\":\"white\",\"gridwidth\":2},\"yaxis\":{\"backgroundcolor\":\"#E5ECF6\",\"gridcolor\":\"white\",\"linecolor\":\"white\",\"showbackground\":true,\"ticks\":\"\",\"zerolinecolor\":\"white\",\"gridwidth\":2},\"zaxis\":{\"backgroundcolor\":\"#E5ECF6\",\"gridcolor\":\"white\",\"linecolor\":\"white\",\"showbackground\":true,\"ticks\":\"\",\"zerolinecolor\":\"white\",\"gridwidth\":2}},\"shapedefaults\":{\"line\":{\"color\":\"#2a3f5f\"}},\"annotationdefaults\":{\"arrowcolor\":\"#2a3f5f\",\"arrowhead\":0,\"arrowwidth\":1},\"geo\":{\"bgcolor\":\"white\",\"landcolor\":\"#E5ECF6\",\"subunitcolor\":\"white\",\"showland\":true,\"showlakes\":true,\"lakecolor\":\"white\"},\"title\":{\"x\":0.05},\"mapbox\":{\"style\":\"light\"}}},\"mapbox\":{\"domain\":{\"x\":[0.0,1.0],\"y\":[0.0,1.0]},\"center\":{\"lat\":19.092351475257733,\"lon\":20.232434489175255},\"zoom\":1,\"style\":\"open-street-map\"},\"coloraxis\":{\"colorbar\":{\"title\":{\"text\":\"Armed Forces size\"}},\"colorscale\":[[0.0,\"#0d0887\"],[0.1111111111111111,\"#46039f\"],[0.2222222222222222,\"#7201a8\"],[0.3333333333333333,\"#9c179e\"],[0.4444444444444444,\"#bd3786\"],[0.5555555555555556,\"#d8576b\"],[0.6666666666666666,\"#ed7953\"],[0.7777777777777778,\"#fb9f3a\"],[0.8888888888888888,\"#fdca26\"],[1.0,\"#f0f921\"]]},\"legend\":{\"tracegroupgap\":0,\"itemsizing\":\"constant\"},\"title\":{\"text\":\"countries, population and armed forces size\"},\"height\":800,\"width\":1200},                        {\"responsive\": true}                    ).then(function(){\n",
              "                            \n",
              "var gd = document.getElementById('3461f552-9c4b-4d63-a6a6-b670da28017a');\n",
              "var x = new MutationObserver(function (mutations, observer) {{\n",
              "        var display = window.getComputedStyle(gd).display;\n",
              "        if (!display || display === 'none') {{\n",
              "            console.log([gd, 'removed!']);\n",
              "            Plotly.purge(gd);\n",
              "            observer.disconnect();\n",
              "        }}\n",
              "}});\n",
              "\n",
              "// Listen for the removal of the full notebook cells\n",
              "var notebookContainer = gd.closest('#notebook-container');\n",
              "if (notebookContainer) {{\n",
              "    x.observe(notebookContainer, {childList: true});\n",
              "}}\n",
              "\n",
              "// Listen for the clearing of the current output cell\n",
              "var outputEl = gd.closest('.output');\n",
              "if (outputEl) {{\n",
              "    x.observe(outputEl, {childList: true});\n",
              "}}\n",
              "\n",
              "                        })                };                            </script>        </div>\n",
              "</body>\n",
              "</html>"
            ]
          },
          "metadata": {}
        }
      ]
    },
    {
      "cell_type": "code",
      "source": [
        "# Out of pocket health expenditure and Life expectancy plot\n",
        "\n",
        "fig = px.scatter(\n",
        "    clean_df,\n",
        "    x=\"Population\",\n",
        "    y=\"Armed Forces size\",\n",
        "    width=600,\n",
        "    height=500,\n",
        "    hover_data=[\"Country\"],\n",
        ")\n",
        "fig.show()"
      ],
      "metadata": {
        "id": "vlQa8Ux_bvmF",
        "colab": {
          "base_uri": "https://localhost:8080/",
          "height": 517
        },
        "outputId": "2fd41017-f3a8-430e-dd60-cb69e3a1966a"
      },
      "execution_count": 19,
      "outputs": [
        {
          "output_type": "display_data",
          "data": {
            "text/html": [
              "<html>\n",
              "<head><meta charset=\"utf-8\" /></head>\n",
              "<body>\n",
              "    <div>            <script src=\"https://cdnjs.cloudflare.com/ajax/libs/mathjax/2.7.5/MathJax.js?config=TeX-AMS-MML_SVG\"></script><script type=\"text/javascript\">if (window.MathJax && window.MathJax.Hub && window.MathJax.Hub.Config) {window.MathJax.Hub.Config({SVG: {font: \"STIX-Web\"}});}</script>                <script type=\"text/javascript\">window.PlotlyConfig = {MathJaxConfig: 'local'};</script>\n",
              "        <script src=\"https://cdn.plot.ly/plotly-2.18.2.min.js\"></script>                <div id=\"83d962ba-9a3e-499a-a100-ec620ab1093d\" class=\"plotly-graph-div\" style=\"height:500px; width:600px;\"></div>            <script type=\"text/javascript\">                                    window.PLOTLYENV=window.PLOTLYENV || {};                                    if (document.getElementById(\"83d962ba-9a3e-499a-a100-ec620ab1093d\")) {                    Plotly.newPlot(                        \"83d962ba-9a3e-499a-a100-ec620ab1093d\",                        [{\"customdata\":[[\"Afghanistan\"],[\"Albania\"],[\"Algeria\"],[\"Andorra\"],[\"Angola\"],[\"Antigua and Barbuda\"],[\"Argentina\"],[\"Armenia\"],[\"Australia\"],[\"Austria\"],[\"Azerbaijan\"],[\"The Bahamas\"],[\"Bahrain\"],[\"Bangladesh\"],[\"Barbados\"],[\"Belarus\"],[\"Belgium\"],[\"Belize\"],[\"Benin\"],[\"Bhutan\"],[\"Bolivia\"],[\"Bosnia and Herzegovina\"],[\"Botswana\"],[\"Brazil\"],[\"Brunei\"],[\"Bulgaria\"],[\"Burkina Faso\"],[\"Burundi\"],[\"Ivory Coast\"],[\"Cape Verde\"],[\"Cambodia\"],[\"Cameroon\"],[\"Canada\"],[\"Central African Republic\"],[\"Chad\"],[\"Chile\"],[\"China\"],[\"Colombia\"],[\"Comoros\"],[\"Republic of the Congo\"],[\"Costa Rica\"],[\"Croatia\"],[\"Cuba\"],[\"Cyprus\"],[\"Czech Republic\"],[\"Democratic Republic of the Congo\"],[\"Denmark\"],[\"Djibouti\"],[\"Dominica\"],[\"Dominican Republic\"],[\"Ecuador\"],[\"Egypt\"],[\"El Salvador\"],[\"Equatorial Guinea\"],[\"Eritrea\"],[\"Estonia\"],[\"Eswatini\"],[\"Ethiopia\"],[\"Fiji\"],[\"Finland\"],[\"France\"],[\"Gabon\"],[\"The Gambia\"],[\"Georgia\"],[\"Germany\"],[\"Ghana\"],[\"Greece\"],[\"Grenada\"],[\"Guatemala\"],[\"Guinea\"],[\"Guinea-Bissau\"],[\"Guyana\"],[\"Haiti\"],[\"Vatican City\"],[\"Honduras\"],[\"Hungary\"],[\"Iceland\"],[\"India\"],[\"Indonesia\"],[\"Iran\"],[\"Iraq\"],[\"Republic of Ireland\"],[\"Israel\"],[\"Italy\"],[\"Jamaica\"],[\"Japan\"],[\"Jordan\"],[\"Kazakhstan\"],[\"Kenya\"],[\"Kiribati\"],[\"Kuwait\"],[\"Kyrgyzstan\"],[\"Laos\"],[\"Latvia\"],[\"Lebanon\"],[\"Lesotho\"],[\"Liberia\"],[\"Libya\"],[\"Liechtenstein\"],[\"Lithuania\"],[\"Luxembourg\"],[\"Madagascar\"],[\"Malawi\"],[\"Malaysia\"],[\"Maldives\"],[\"Mali\"],[\"Malta\"],[\"Marshall Islands\"],[\"Mauritania\"],[\"Mauritius\"],[\"Mexico\"],[\"Federated States of Micronesia\"],[\"Moldova\"],[\"Monaco\"],[\"Mongolia\"],[\"Montenegro\"],[\"Morocco\"],[\"Mozambique\"],[\"Myanmar\"],[\"Namibia\"],[\"Nauru\"],[\"Nepal\"],[\"Netherlands\"],[\"New Zealand\"],[\"Nicaragua\"],[\"Niger\"],[\"Nigeria\"],[\"North Korea\"],[\"North Macedonia\"],[\"Norway\"],[\"Oman\"],[\"Pakistan\"],[\"Palau\"],[\"Palestinian National Authority\"],[\"Panama\"],[\"Papua New Guinea\"],[\"Paraguay\"],[\"Peru\"],[\"Philippines\"],[\"Poland\"],[\"Portugal\"],[\"Qatar\"],[\"Romania\"],[\"Russia\"],[\"Rwanda\"],[\"Saint Kitts and Nevis\"],[\"Saint Lucia\"],[\"Saint Vincent and the Grenadines\"],[\"Samoa\"],[\"San Marino\"],[\"S\\ufffd\\ufffd\\ufffd\\ufffd\\ufffd\\ufffd\\ufffd\\ufffd\\ufffd\\ufffd\\ufffd\"],[\"Saudi Arabia\"],[\"Senegal\"],[\"Serbia\"],[\"Seychelles\"],[\"Sierra Leone\"],[\"Singapore\"],[\"Slovakia\"],[\"Slovenia\"],[\"Solomon Islands\"],[\"Somalia\"],[\"South Africa\"],[\"South Korea\"],[\"South Sudan\"],[\"Spain\"],[\"Sri Lanka\"],[\"Sudan\"],[\"Suriname\"],[\"Sweden\"],[\"Switzerland\"],[\"Syria\"],[\"Tajikistan\"],[\"Tanzania\"],[\"Thailand\"],[\"East Timor\"],[\"Togo\"],[\"Tonga\"],[\"Trinidad and Tobago\"],[\"Tunisia\"],[\"Turkey\"],[\"Turkmenistan\"],[\"Tuvalu\"],[\"Uganda\"],[\"Ukraine\"],[\"United Arab Emirates\"],[\"United Kingdom\"],[\"United States\"],[\"Uruguay\"],[\"Uzbekistan\"],[\"Vanuatu\"],[\"Venezuela\"],[\"Vietnam\"],[\"Yemen\"],[\"Zambia\"],[\"Zimbabwe\"]],\"hovertemplate\":\"Population=%{x}<br>Armed Forces size=%{y}<br>Country=%{customdata[0]}<extra></extra>\",\"legendgroup\":\"\",\"marker\":{\"color\":\"#636efa\",\"symbol\":\"circle\"},\"mode\":\"markers\",\"name\":\"\",\"orientation\":\"v\",\"showlegend\":false,\"x\":[38041754.0,2854191.0,43053054.0,77142.0,31825295.0,97118.0,44938712.0,2957731.0,25766605.0,8877067.0,10023318.0,389482.0,1501635.0,167310838.0,287025.0,9466856.0,11484055.0,390353.0,11801151.0,727145.0,11513100.0,3301000.0,2346179.0,212559417.0,433285.0,6975761.0,20321378.0,11530580.0,25716544.0,483628.0,16486542.0,25876380.0,36991981.0,4745185.0,15946876.0,18952038.0,1397715000.0,50339443.0,850886.0,5380508.0,5047561.0,4067500.0,11333483.0,1198575.0,10669709.0,86790567.0,5818553.0,973560.0,71808.0,10738958.0,17373662.0,100388073.0,6453553.0,1355986.0,6333135.0,1331824.0,1093238.0,112078730.0,889953.0,5520314.0,67059887.0,2172579.0,2347706.0,3720382.0,83132799.0,30792608.0,10716322.0,112003.0,16604026.0,12771246.0,1920922.0,782766.0,11263077.0,836.0,9746117.0,9769949.0,361313.0,1366417754.0,270203917.0,82913906.0,39309783.0,5007069.0,9053300.0,60297396.0,2948279.0,126226568.0,10101694.0,18513930.0,52573973.0,117606.0,4207083.0,6456900.0,7169455.0,1912789.0,6855713.0,2125268.0,4937374.0,6777452.0,38019.0,2786844.0,645397.0,26969307.0,18628747.0,32447385.0,530953.0,19658031.0,502653.0,58791.0,4525696.0,1265711.0,126014024.0,113815.0,2657637.0,38964.0,3225167.0,622137.0,36910560.0,30366036.0,54045420.0,2494530.0,10084.0,28608710.0,17332850.0,4841000.0,6545502.0,23310715.0,200963599.0,25666161.0,1836713.0,5347896.0,5266535.0,216565318.0,18233.0,0.0,4246439.0,8776109.0,7044636.0,32510453.0,108116615.0,37970874.0,10269417.0,2832067.0,19356544.0,144373535.0,12626950.0,52823.0,182790.0,100455.0,202506.0,33860.0,215056.0,34268528.0,16296364.0,6944975.0,97625.0,7813215.0,5703569.0,5454073.0,2087946.0,669823.0,15442905.0,58558270.0,51709098.0,11062113.0,47076781.0,21803000.0,42813238.0,581372.0,10285453.0,8574832.0,17070135.0,9321018.0,58005463.0,69625582.0,3500000.0,8082366.0,100209.0,1394973.0,11694719.0,83429615.0,5942089.0,11646.0,44269594.0,44385155.0,9770529.0,66834405.0,328239523.0,3461734.0,33580650.0,299882.0,28515829.0,96462106.0,29161922.0,17861030.0,14645468.0],\"xaxis\":\"x\",\"y\":[323000.0,9000.0,317000.0,0.0,117000.0,0.0,105000.0,49000.0,58000.0,21000.0,82000.0,1000.0,19000.0,221000.0,1000.0,155000.0,32000.0,2000.0,12000.0,6000.0,71000.0,11000.0,9000.0,730000.0,8000.0,31000.0,11000.0,31000.0,27000.0,1000.0,191000.0,24000.0,72000.0,8000.0,35000.0,122000.0,2695000.0,481000.0,0.0,12000.0,10000.0,18000.0,76000.0,16000.0,23000.0,134000.0,15000.0,13000.0,0.0,71000.0,41000.0,836000.0,42000.0,1000.0,202000.0,6000.0,0.0,138000.0,4000.0,25000.0,307000.0,7000.0,1000.0,26000.0,180000.0,16000.0,146000.0,0.0,43000.0,13000.0,4000.0,3000.0,0.0,0.0,23000.0,40000.0,0.0,3031000.0,676000.0,563000.0,209000.0,9000.0,178000.0,347000.0,4000.0,261000.0,116000.0,71000.0,29000.0,0.0,25000.0,21000.0,129000.0,6000.0,80000.0,2000.0,2000.0,0.0,0.0,34000.0,2000.0,22000.0,15000.0,136000.0,5000.0,18000.0,2000.0,0.0,21000.0,3000.0,336000.0,0.0,7000.0,0.0,18000.0,12000.0,246000.0,11000.0,513000.0,16000.0,0.0,112000.0,41000.0,9000.0,12000.0,10000.0,215000.0,1469000.0,0.0,23000.0,47000.0,936000.0,0.0,0.0,26000.0,4000.0,27000.0,158000.0,153000.0,191000.0,52000.0,22000.0,126000.0,1454000.0,35000.0,0.0,0.0,0.0,0.0,0.0,1000.0,252000.0,19000.0,32000.0,0.0,9000.0,81000.0,16000.0,7000.0,0.0,20000.0,80000.0,634000.0,185000.0,196000.0,317000.0,124000.0,2000.0,30000.0,21000.0,239000.0,17000.0,28000.0,455000.0,2000.0,10000.0,0.0,4000.0,48000.0,512000.0,42000.0,0.0,46000.0,297000.0,63000.0,148000.0,1359000.0,22000.0,68000.0,0.0,343000.0,522000.0,40000.0,16000.0,51000.0],\"yaxis\":\"y\",\"type\":\"scatter\"}],                        {\"template\":{\"data\":{\"histogram2dcontour\":[{\"type\":\"histogram2dcontour\",\"colorbar\":{\"outlinewidth\":0,\"ticks\":\"\"},\"colorscale\":[[0.0,\"#0d0887\"],[0.1111111111111111,\"#46039f\"],[0.2222222222222222,\"#7201a8\"],[0.3333333333333333,\"#9c179e\"],[0.4444444444444444,\"#bd3786\"],[0.5555555555555556,\"#d8576b\"],[0.6666666666666666,\"#ed7953\"],[0.7777777777777778,\"#fb9f3a\"],[0.8888888888888888,\"#fdca26\"],[1.0,\"#f0f921\"]]}],\"choropleth\":[{\"type\":\"choropleth\",\"colorbar\":{\"outlinewidth\":0,\"ticks\":\"\"}}],\"histogram2d\":[{\"type\":\"histogram2d\",\"colorbar\":{\"outlinewidth\":0,\"ticks\":\"\"},\"colorscale\":[[0.0,\"#0d0887\"],[0.1111111111111111,\"#46039f\"],[0.2222222222222222,\"#7201a8\"],[0.3333333333333333,\"#9c179e\"],[0.4444444444444444,\"#bd3786\"],[0.5555555555555556,\"#d8576b\"],[0.6666666666666666,\"#ed7953\"],[0.7777777777777778,\"#fb9f3a\"],[0.8888888888888888,\"#fdca26\"],[1.0,\"#f0f921\"]]}],\"heatmap\":[{\"type\":\"heatmap\",\"colorbar\":{\"outlinewidth\":0,\"ticks\":\"\"},\"colorscale\":[[0.0,\"#0d0887\"],[0.1111111111111111,\"#46039f\"],[0.2222222222222222,\"#7201a8\"],[0.3333333333333333,\"#9c179e\"],[0.4444444444444444,\"#bd3786\"],[0.5555555555555556,\"#d8576b\"],[0.6666666666666666,\"#ed7953\"],[0.7777777777777778,\"#fb9f3a\"],[0.8888888888888888,\"#fdca26\"],[1.0,\"#f0f921\"]]}],\"heatmapgl\":[{\"type\":\"heatmapgl\",\"colorbar\":{\"outlinewidth\":0,\"ticks\":\"\"},\"colorscale\":[[0.0,\"#0d0887\"],[0.1111111111111111,\"#46039f\"],[0.2222222222222222,\"#7201a8\"],[0.3333333333333333,\"#9c179e\"],[0.4444444444444444,\"#bd3786\"],[0.5555555555555556,\"#d8576b\"],[0.6666666666666666,\"#ed7953\"],[0.7777777777777778,\"#fb9f3a\"],[0.8888888888888888,\"#fdca26\"],[1.0,\"#f0f921\"]]}],\"contourcarpet\":[{\"type\":\"contourcarpet\",\"colorbar\":{\"outlinewidth\":0,\"ticks\":\"\"}}],\"contour\":[{\"type\":\"contour\",\"colorbar\":{\"outlinewidth\":0,\"ticks\":\"\"},\"colorscale\":[[0.0,\"#0d0887\"],[0.1111111111111111,\"#46039f\"],[0.2222222222222222,\"#7201a8\"],[0.3333333333333333,\"#9c179e\"],[0.4444444444444444,\"#bd3786\"],[0.5555555555555556,\"#d8576b\"],[0.6666666666666666,\"#ed7953\"],[0.7777777777777778,\"#fb9f3a\"],[0.8888888888888888,\"#fdca26\"],[1.0,\"#f0f921\"]]}],\"surface\":[{\"type\":\"surface\",\"colorbar\":{\"outlinewidth\":0,\"ticks\":\"\"},\"colorscale\":[[0.0,\"#0d0887\"],[0.1111111111111111,\"#46039f\"],[0.2222222222222222,\"#7201a8\"],[0.3333333333333333,\"#9c179e\"],[0.4444444444444444,\"#bd3786\"],[0.5555555555555556,\"#d8576b\"],[0.6666666666666666,\"#ed7953\"],[0.7777777777777778,\"#fb9f3a\"],[0.8888888888888888,\"#fdca26\"],[1.0,\"#f0f921\"]]}],\"mesh3d\":[{\"type\":\"mesh3d\",\"colorbar\":{\"outlinewidth\":0,\"ticks\":\"\"}}],\"scatter\":[{\"fillpattern\":{\"fillmode\":\"overlay\",\"size\":10,\"solidity\":0.2},\"type\":\"scatter\"}],\"parcoords\":[{\"type\":\"parcoords\",\"line\":{\"colorbar\":{\"outlinewidth\":0,\"ticks\":\"\"}}}],\"scatterpolargl\":[{\"type\":\"scatterpolargl\",\"marker\":{\"colorbar\":{\"outlinewidth\":0,\"ticks\":\"\"}}}],\"bar\":[{\"error_x\":{\"color\":\"#2a3f5f\"},\"error_y\":{\"color\":\"#2a3f5f\"},\"marker\":{\"line\":{\"color\":\"#E5ECF6\",\"width\":0.5},\"pattern\":{\"fillmode\":\"overlay\",\"size\":10,\"solidity\":0.2}},\"type\":\"bar\"}],\"scattergeo\":[{\"type\":\"scattergeo\",\"marker\":{\"colorbar\":{\"outlinewidth\":0,\"ticks\":\"\"}}}],\"scatterpolar\":[{\"type\":\"scatterpolar\",\"marker\":{\"colorbar\":{\"outlinewidth\":0,\"ticks\":\"\"}}}],\"histogram\":[{\"marker\":{\"pattern\":{\"fillmode\":\"overlay\",\"size\":10,\"solidity\":0.2}},\"type\":\"histogram\"}],\"scattergl\":[{\"type\":\"scattergl\",\"marker\":{\"colorbar\":{\"outlinewidth\":0,\"ticks\":\"\"}}}],\"scatter3d\":[{\"type\":\"scatter3d\",\"line\":{\"colorbar\":{\"outlinewidth\":0,\"ticks\":\"\"}},\"marker\":{\"colorbar\":{\"outlinewidth\":0,\"ticks\":\"\"}}}],\"scattermapbox\":[{\"type\":\"scattermapbox\",\"marker\":{\"colorbar\":{\"outlinewidth\":0,\"ticks\":\"\"}}}],\"scatterternary\":[{\"type\":\"scatterternary\",\"marker\":{\"colorbar\":{\"outlinewidth\":0,\"ticks\":\"\"}}}],\"scattercarpet\":[{\"type\":\"scattercarpet\",\"marker\":{\"colorbar\":{\"outlinewidth\":0,\"ticks\":\"\"}}}],\"carpet\":[{\"aaxis\":{\"endlinecolor\":\"#2a3f5f\",\"gridcolor\":\"white\",\"linecolor\":\"white\",\"minorgridcolor\":\"white\",\"startlinecolor\":\"#2a3f5f\"},\"baxis\":{\"endlinecolor\":\"#2a3f5f\",\"gridcolor\":\"white\",\"linecolor\":\"white\",\"minorgridcolor\":\"white\",\"startlinecolor\":\"#2a3f5f\"},\"type\":\"carpet\"}],\"table\":[{\"cells\":{\"fill\":{\"color\":\"#EBF0F8\"},\"line\":{\"color\":\"white\"}},\"header\":{\"fill\":{\"color\":\"#C8D4E3\"},\"line\":{\"color\":\"white\"}},\"type\":\"table\"}],\"barpolar\":[{\"marker\":{\"line\":{\"color\":\"#E5ECF6\",\"width\":0.5},\"pattern\":{\"fillmode\":\"overlay\",\"size\":10,\"solidity\":0.2}},\"type\":\"barpolar\"}],\"pie\":[{\"automargin\":true,\"type\":\"pie\"}]},\"layout\":{\"autotypenumbers\":\"strict\",\"colorway\":[\"#636efa\",\"#EF553B\",\"#00cc96\",\"#ab63fa\",\"#FFA15A\",\"#19d3f3\",\"#FF6692\",\"#B6E880\",\"#FF97FF\",\"#FECB52\"],\"font\":{\"color\":\"#2a3f5f\"},\"hovermode\":\"closest\",\"hoverlabel\":{\"align\":\"left\"},\"paper_bgcolor\":\"white\",\"plot_bgcolor\":\"#E5ECF6\",\"polar\":{\"bgcolor\":\"#E5ECF6\",\"angularaxis\":{\"gridcolor\":\"white\",\"linecolor\":\"white\",\"ticks\":\"\"},\"radialaxis\":{\"gridcolor\":\"white\",\"linecolor\":\"white\",\"ticks\":\"\"}},\"ternary\":{\"bgcolor\":\"#E5ECF6\",\"aaxis\":{\"gridcolor\":\"white\",\"linecolor\":\"white\",\"ticks\":\"\"},\"baxis\":{\"gridcolor\":\"white\",\"linecolor\":\"white\",\"ticks\":\"\"},\"caxis\":{\"gridcolor\":\"white\",\"linecolor\":\"white\",\"ticks\":\"\"}},\"coloraxis\":{\"colorbar\":{\"outlinewidth\":0,\"ticks\":\"\"}},\"colorscale\":{\"sequential\":[[0.0,\"#0d0887\"],[0.1111111111111111,\"#46039f\"],[0.2222222222222222,\"#7201a8\"],[0.3333333333333333,\"#9c179e\"],[0.4444444444444444,\"#bd3786\"],[0.5555555555555556,\"#d8576b\"],[0.6666666666666666,\"#ed7953\"],[0.7777777777777778,\"#fb9f3a\"],[0.8888888888888888,\"#fdca26\"],[1.0,\"#f0f921\"]],\"sequentialminus\":[[0.0,\"#0d0887\"],[0.1111111111111111,\"#46039f\"],[0.2222222222222222,\"#7201a8\"],[0.3333333333333333,\"#9c179e\"],[0.4444444444444444,\"#bd3786\"],[0.5555555555555556,\"#d8576b\"],[0.6666666666666666,\"#ed7953\"],[0.7777777777777778,\"#fb9f3a\"],[0.8888888888888888,\"#fdca26\"],[1.0,\"#f0f921\"]],\"diverging\":[[0,\"#8e0152\"],[0.1,\"#c51b7d\"],[0.2,\"#de77ae\"],[0.3,\"#f1b6da\"],[0.4,\"#fde0ef\"],[0.5,\"#f7f7f7\"],[0.6,\"#e6f5d0\"],[0.7,\"#b8e186\"],[0.8,\"#7fbc41\"],[0.9,\"#4d9221\"],[1,\"#276419\"]]},\"xaxis\":{\"gridcolor\":\"white\",\"linecolor\":\"white\",\"ticks\":\"\",\"title\":{\"standoff\":15},\"zerolinecolor\":\"white\",\"automargin\":true,\"zerolinewidth\":2},\"yaxis\":{\"gridcolor\":\"white\",\"linecolor\":\"white\",\"ticks\":\"\",\"title\":{\"standoff\":15},\"zerolinecolor\":\"white\",\"automargin\":true,\"zerolinewidth\":2},\"scene\":{\"xaxis\":{\"backgroundcolor\":\"#E5ECF6\",\"gridcolor\":\"white\",\"linecolor\":\"white\",\"showbackground\":true,\"ticks\":\"\",\"zerolinecolor\":\"white\",\"gridwidth\":2},\"yaxis\":{\"backgroundcolor\":\"#E5ECF6\",\"gridcolor\":\"white\",\"linecolor\":\"white\",\"showbackground\":true,\"ticks\":\"\",\"zerolinecolor\":\"white\",\"gridwidth\":2},\"zaxis\":{\"backgroundcolor\":\"#E5ECF6\",\"gridcolor\":\"white\",\"linecolor\":\"white\",\"showbackground\":true,\"ticks\":\"\",\"zerolinecolor\":\"white\",\"gridwidth\":2}},\"shapedefaults\":{\"line\":{\"color\":\"#2a3f5f\"}},\"annotationdefaults\":{\"arrowcolor\":\"#2a3f5f\",\"arrowhead\":0,\"arrowwidth\":1},\"geo\":{\"bgcolor\":\"white\",\"landcolor\":\"#E5ECF6\",\"subunitcolor\":\"white\",\"showland\":true,\"showlakes\":true,\"lakecolor\":\"white\"},\"title\":{\"x\":0.05},\"mapbox\":{\"style\":\"light\"}}},\"xaxis\":{\"anchor\":\"y\",\"domain\":[0.0,1.0],\"title\":{\"text\":\"Population\"}},\"yaxis\":{\"anchor\":\"x\",\"domain\":[0.0,1.0],\"title\":{\"text\":\"Armed Forces size\"}},\"legend\":{\"tracegroupgap\":0},\"margin\":{\"t\":60},\"height\":500,\"width\":600},                        {\"responsive\": true}                    ).then(function(){\n",
              "                            \n",
              "var gd = document.getElementById('83d962ba-9a3e-499a-a100-ec620ab1093d');\n",
              "var x = new MutationObserver(function (mutations, observer) {{\n",
              "        var display = window.getComputedStyle(gd).display;\n",
              "        if (!display || display === 'none') {{\n",
              "            console.log([gd, 'removed!']);\n",
              "            Plotly.purge(gd);\n",
              "            observer.disconnect();\n",
              "        }}\n",
              "}});\n",
              "\n",
              "// Listen for the removal of the full notebook cells\n",
              "var notebookContainer = gd.closest('#notebook-container');\n",
              "if (notebookContainer) {{\n",
              "    x.observe(notebookContainer, {childList: true});\n",
              "}}\n",
              "\n",
              "// Listen for the clearing of the current output cell\n",
              "var outputEl = gd.closest('.output');\n",
              "if (outputEl) {{\n",
              "    x.observe(outputEl, {childList: true});\n",
              "}}\n",
              "\n",
              "                        })                };                            </script>        </div>\n",
              "</body>\n",
              "</html>"
            ]
          },
          "metadata": {}
        }
      ]
    },
    {
      "cell_type": "code",
      "source": [
        "df1 = clean_df.copy()\n",
        "qntl10 = df1[\"Population\"].quantile(0.1)\n",
        "qntl90 = df1[\"Population\"].quantile(0.9)\n",
        "mask = df1[\"Population\"].between(qntl10, qntl90)\n",
        "df1 = df1[mask]\n",
        "\n",
        "qntl10 = df1[\"Armed Forces size\"].quantile(0.1)\n",
        "qntl90 = df1[\"Armed Forces size\"].quantile(0.9)\n",
        "mask = df1[\"Armed Forces size\"].between(qntl10, qntl90)\n",
        "df1 = df1[mask]\n"
      ],
      "metadata": {
        "id": "Eo_2OXYMnxkZ"
      },
      "execution_count": 20,
      "outputs": []
    },
    {
      "cell_type": "code",
      "source": [
        "# Out of pocket health expenditure and Life expectancy plot\n",
        "\n",
        "fig = px.scatter(\n",
        "    df1,\n",
        "    x=\"Population\",\n",
        "    y=\"Armed Forces size\",\n",
        "    width=600,\n",
        "    height=500,\n",
        "    hover_data=[\"Country\"],\n",
        ")\n",
        "fig.show()"
      ],
      "metadata": {
        "colab": {
          "base_uri": "https://localhost:8080/",
          "height": 517
        },
        "id": "rIX2pYOToifX",
        "outputId": "73b9354c-0312-434c-a7da-c30e654eb5c6"
      },
      "execution_count": 21,
      "outputs": [
        {
          "output_type": "display_data",
          "data": {
            "text/html": [
              "<html>\n",
              "<head><meta charset=\"utf-8\" /></head>\n",
              "<body>\n",
              "    <div>            <script src=\"https://cdnjs.cloudflare.com/ajax/libs/mathjax/2.7.5/MathJax.js?config=TeX-AMS-MML_SVG\"></script><script type=\"text/javascript\">if (window.MathJax && window.MathJax.Hub && window.MathJax.Hub.Config) {window.MathJax.Hub.Config({SVG: {font: \"STIX-Web\"}});}</script>                <script type=\"text/javascript\">window.PlotlyConfig = {MathJaxConfig: 'local'};</script>\n",
              "        <script src=\"https://cdn.plot.ly/plotly-2.18.2.min.js\"></script>                <div id=\"4003e487-b29d-4880-ae99-8153737ae63a\" class=\"plotly-graph-div\" style=\"height:500px; width:600px;\"></div>            <script type=\"text/javascript\">                                    window.PLOTLYENV=window.PLOTLYENV || {};                                    if (document.getElementById(\"4003e487-b29d-4880-ae99-8153737ae63a\")) {                    Plotly.newPlot(                        \"4003e487-b29d-4880-ae99-8153737ae63a\",                        [{\"customdata\":[[\"Albania\"],[\"Angola\"],[\"Argentina\"],[\"Armenia\"],[\"Australia\"],[\"Austria\"],[\"Azerbaijan\"],[\"Bahrain\"],[\"Belarus\"],[\"Belgium\"],[\"Belize\"],[\"Benin\"],[\"Bhutan\"],[\"Bolivia\"],[\"Bosnia and Herzegovina\"],[\"Botswana\"],[\"Brunei\"],[\"Bulgaria\"],[\"Burkina Faso\"],[\"Burundi\"],[\"Ivory Coast\"],[\"Cambodia\"],[\"Cameroon\"],[\"Canada\"],[\"Central African Republic\"],[\"Chad\"],[\"Chile\"],[\"Republic of the Congo\"],[\"Costa Rica\"],[\"Croatia\"],[\"Cuba\"],[\"Cyprus\"],[\"Czech Republic\"],[\"Denmark\"],[\"Djibouti\"],[\"Dominican Republic\"],[\"Ecuador\"],[\"El Salvador\"],[\"Estonia\"],[\"Fiji\"],[\"Finland\"],[\"Gabon\"],[\"Georgia\"],[\"Ghana\"],[\"Greece\"],[\"Guatemala\"],[\"Guinea\"],[\"Guinea-Bissau\"],[\"Guyana\"],[\"Honduras\"],[\"Hungary\"],[\"Republic of Ireland\"],[\"Israel\"],[\"Jamaica\"],[\"Jordan\"],[\"Kazakhstan\"],[\"Kenya\"],[\"Kuwait\"],[\"Kyrgyzstan\"],[\"Laos\"],[\"Latvia\"],[\"Lebanon\"],[\"Lesotho\"],[\"Liberia\"],[\"Lithuania\"],[\"Luxembourg\"],[\"Madagascar\"],[\"Malawi\"],[\"Malaysia\"],[\"Maldives\"],[\"Mali\"],[\"Malta\"],[\"Mauritania\"],[\"Mauritius\"],[\"Moldova\"],[\"Mongolia\"],[\"Montenegro\"],[\"Mozambique\"],[\"Namibia\"],[\"Nepal\"],[\"Netherlands\"],[\"New Zealand\"],[\"Nicaragua\"],[\"Niger\"],[\"Norway\"],[\"Oman\"],[\"Panama\"],[\"Papua New Guinea\"],[\"Paraguay\"],[\"Peru\"],[\"Poland\"],[\"Portugal\"],[\"Qatar\"],[\"Romania\"],[\"Rwanda\"],[\"Senegal\"],[\"Serbia\"],[\"Sierra Leone\"],[\"Singapore\"],[\"Slovakia\"],[\"Slovenia\"],[\"Somalia\"],[\"South Africa\"],[\"South Sudan\"],[\"Spain\"],[\"Sudan\"],[\"Suriname\"],[\"Sweden\"],[\"Switzerland\"],[\"Tajikistan\"],[\"Tanzania\"],[\"East Timor\"],[\"Togo\"],[\"Trinidad and Tobago\"],[\"Tunisia\"],[\"Turkmenistan\"],[\"Uganda\"],[\"United Arab Emirates\"],[\"United Kingdom\"],[\"Uruguay\"],[\"Uzbekistan\"],[\"Yemen\"],[\"Zambia\"],[\"Zimbabwe\"]],\"hovertemplate\":\"Population=%{x}<br>Armed Forces size=%{y}<br>Country=%{customdata[0]}<extra></extra>\",\"legendgroup\":\"\",\"marker\":{\"color\":\"#636efa\",\"symbol\":\"circle\"},\"mode\":\"markers\",\"name\":\"\",\"orientation\":\"v\",\"showlegend\":false,\"x\":[2854191.0,31825295.0,44938712.0,2957731.0,25766605.0,8877067.0,10023318.0,1501635.0,9466856.0,11484055.0,390353.0,11801151.0,727145.0,11513100.0,3301000.0,2346179.0,433285.0,6975761.0,20321378.0,11530580.0,25716544.0,16486542.0,25876380.0,36991981.0,4745185.0,15946876.0,18952038.0,5380508.0,5047561.0,4067500.0,11333483.0,1198575.0,10669709.0,5818553.0,973560.0,10738958.0,17373662.0,6453553.0,1331824.0,889953.0,5520314.0,2172579.0,3720382.0,30792608.0,10716322.0,16604026.0,12771246.0,1920922.0,782766.0,9746117.0,9769949.0,5007069.0,9053300.0,2948279.0,10101694.0,18513930.0,52573973.0,4207083.0,6456900.0,7169455.0,1912789.0,6855713.0,2125268.0,4937374.0,2786844.0,645397.0,26969307.0,18628747.0,32447385.0,530953.0,19658031.0,502653.0,4525696.0,1265711.0,2657637.0,3225167.0,622137.0,30366036.0,2494530.0,28608710.0,17332850.0,4841000.0,6545502.0,23310715.0,5347896.0,5266535.0,4246439.0,8776109.0,7044636.0,32510453.0,37970874.0,10269417.0,2832067.0,19356544.0,12626950.0,16296364.0,6944975.0,7813215.0,5703569.0,5454073.0,2087946.0,15442905.0,58558270.0,11062113.0,47076781.0,42813238.0,581372.0,10285453.0,8574832.0,9321018.0,58005463.0,3500000.0,8082366.0,1394973.0,11694719.0,5942089.0,44269594.0,9770529.0,66834405.0,3461734.0,33580650.0,29161922.0,17861030.0,14645468.0],\"xaxis\":\"x\",\"y\":[9000.0,117000.0,105000.0,49000.0,58000.0,21000.0,82000.0,19000.0,155000.0,32000.0,2000.0,12000.0,6000.0,71000.0,11000.0,9000.0,8000.0,31000.0,11000.0,31000.0,27000.0,191000.0,24000.0,72000.0,8000.0,35000.0,122000.0,12000.0,10000.0,18000.0,76000.0,16000.0,23000.0,15000.0,13000.0,71000.0,41000.0,42000.0,6000.0,4000.0,25000.0,7000.0,26000.0,16000.0,146000.0,43000.0,13000.0,4000.0,3000.0,23000.0,40000.0,9000.0,178000.0,4000.0,116000.0,71000.0,29000.0,25000.0,21000.0,129000.0,6000.0,80000.0,2000.0,2000.0,34000.0,2000.0,22000.0,15000.0,136000.0,5000.0,18000.0,2000.0,21000.0,3000.0,7000.0,18000.0,12000.0,11000.0,16000.0,112000.0,41000.0,9000.0,12000.0,10000.0,23000.0,47000.0,26000.0,4000.0,27000.0,158000.0,191000.0,52000.0,22000.0,126000.0,35000.0,19000.0,32000.0,9000.0,81000.0,16000.0,7000.0,20000.0,80000.0,185000.0,196000.0,124000.0,2000.0,30000.0,21000.0,17000.0,28000.0,2000.0,10000.0,4000.0,48000.0,42000.0,46000.0,63000.0,148000.0,22000.0,68000.0,40000.0,16000.0,51000.0],\"yaxis\":\"y\",\"type\":\"scatter\"}],                        {\"template\":{\"data\":{\"histogram2dcontour\":[{\"type\":\"histogram2dcontour\",\"colorbar\":{\"outlinewidth\":0,\"ticks\":\"\"},\"colorscale\":[[0.0,\"#0d0887\"],[0.1111111111111111,\"#46039f\"],[0.2222222222222222,\"#7201a8\"],[0.3333333333333333,\"#9c179e\"],[0.4444444444444444,\"#bd3786\"],[0.5555555555555556,\"#d8576b\"],[0.6666666666666666,\"#ed7953\"],[0.7777777777777778,\"#fb9f3a\"],[0.8888888888888888,\"#fdca26\"],[1.0,\"#f0f921\"]]}],\"choropleth\":[{\"type\":\"choropleth\",\"colorbar\":{\"outlinewidth\":0,\"ticks\":\"\"}}],\"histogram2d\":[{\"type\":\"histogram2d\",\"colorbar\":{\"outlinewidth\":0,\"ticks\":\"\"},\"colorscale\":[[0.0,\"#0d0887\"],[0.1111111111111111,\"#46039f\"],[0.2222222222222222,\"#7201a8\"],[0.3333333333333333,\"#9c179e\"],[0.4444444444444444,\"#bd3786\"],[0.5555555555555556,\"#d8576b\"],[0.6666666666666666,\"#ed7953\"],[0.7777777777777778,\"#fb9f3a\"],[0.8888888888888888,\"#fdca26\"],[1.0,\"#f0f921\"]]}],\"heatmap\":[{\"type\":\"heatmap\",\"colorbar\":{\"outlinewidth\":0,\"ticks\":\"\"},\"colorscale\":[[0.0,\"#0d0887\"],[0.1111111111111111,\"#46039f\"],[0.2222222222222222,\"#7201a8\"],[0.3333333333333333,\"#9c179e\"],[0.4444444444444444,\"#bd3786\"],[0.5555555555555556,\"#d8576b\"],[0.6666666666666666,\"#ed7953\"],[0.7777777777777778,\"#fb9f3a\"],[0.8888888888888888,\"#fdca26\"],[1.0,\"#f0f921\"]]}],\"heatmapgl\":[{\"type\":\"heatmapgl\",\"colorbar\":{\"outlinewidth\":0,\"ticks\":\"\"},\"colorscale\":[[0.0,\"#0d0887\"],[0.1111111111111111,\"#46039f\"],[0.2222222222222222,\"#7201a8\"],[0.3333333333333333,\"#9c179e\"],[0.4444444444444444,\"#bd3786\"],[0.5555555555555556,\"#d8576b\"],[0.6666666666666666,\"#ed7953\"],[0.7777777777777778,\"#fb9f3a\"],[0.8888888888888888,\"#fdca26\"],[1.0,\"#f0f921\"]]}],\"contourcarpet\":[{\"type\":\"contourcarpet\",\"colorbar\":{\"outlinewidth\":0,\"ticks\":\"\"}}],\"contour\":[{\"type\":\"contour\",\"colorbar\":{\"outlinewidth\":0,\"ticks\":\"\"},\"colorscale\":[[0.0,\"#0d0887\"],[0.1111111111111111,\"#46039f\"],[0.2222222222222222,\"#7201a8\"],[0.3333333333333333,\"#9c179e\"],[0.4444444444444444,\"#bd3786\"],[0.5555555555555556,\"#d8576b\"],[0.6666666666666666,\"#ed7953\"],[0.7777777777777778,\"#fb9f3a\"],[0.8888888888888888,\"#fdca26\"],[1.0,\"#f0f921\"]]}],\"surface\":[{\"type\":\"surface\",\"colorbar\":{\"outlinewidth\":0,\"ticks\":\"\"},\"colorscale\":[[0.0,\"#0d0887\"],[0.1111111111111111,\"#46039f\"],[0.2222222222222222,\"#7201a8\"],[0.3333333333333333,\"#9c179e\"],[0.4444444444444444,\"#bd3786\"],[0.5555555555555556,\"#d8576b\"],[0.6666666666666666,\"#ed7953\"],[0.7777777777777778,\"#fb9f3a\"],[0.8888888888888888,\"#fdca26\"],[1.0,\"#f0f921\"]]}],\"mesh3d\":[{\"type\":\"mesh3d\",\"colorbar\":{\"outlinewidth\":0,\"ticks\":\"\"}}],\"scatter\":[{\"fillpattern\":{\"fillmode\":\"overlay\",\"size\":10,\"solidity\":0.2},\"type\":\"scatter\"}],\"parcoords\":[{\"type\":\"parcoords\",\"line\":{\"colorbar\":{\"outlinewidth\":0,\"ticks\":\"\"}}}],\"scatterpolargl\":[{\"type\":\"scatterpolargl\",\"marker\":{\"colorbar\":{\"outlinewidth\":0,\"ticks\":\"\"}}}],\"bar\":[{\"error_x\":{\"color\":\"#2a3f5f\"},\"error_y\":{\"color\":\"#2a3f5f\"},\"marker\":{\"line\":{\"color\":\"#E5ECF6\",\"width\":0.5},\"pattern\":{\"fillmode\":\"overlay\",\"size\":10,\"solidity\":0.2}},\"type\":\"bar\"}],\"scattergeo\":[{\"type\":\"scattergeo\",\"marker\":{\"colorbar\":{\"outlinewidth\":0,\"ticks\":\"\"}}}],\"scatterpolar\":[{\"type\":\"scatterpolar\",\"marker\":{\"colorbar\":{\"outlinewidth\":0,\"ticks\":\"\"}}}],\"histogram\":[{\"marker\":{\"pattern\":{\"fillmode\":\"overlay\",\"size\":10,\"solidity\":0.2}},\"type\":\"histogram\"}],\"scattergl\":[{\"type\":\"scattergl\",\"marker\":{\"colorbar\":{\"outlinewidth\":0,\"ticks\":\"\"}}}],\"scatter3d\":[{\"type\":\"scatter3d\",\"line\":{\"colorbar\":{\"outlinewidth\":0,\"ticks\":\"\"}},\"marker\":{\"colorbar\":{\"outlinewidth\":0,\"ticks\":\"\"}}}],\"scattermapbox\":[{\"type\":\"scattermapbox\",\"marker\":{\"colorbar\":{\"outlinewidth\":0,\"ticks\":\"\"}}}],\"scatterternary\":[{\"type\":\"scatterternary\",\"marker\":{\"colorbar\":{\"outlinewidth\":0,\"ticks\":\"\"}}}],\"scattercarpet\":[{\"type\":\"scattercarpet\",\"marker\":{\"colorbar\":{\"outlinewidth\":0,\"ticks\":\"\"}}}],\"carpet\":[{\"aaxis\":{\"endlinecolor\":\"#2a3f5f\",\"gridcolor\":\"white\",\"linecolor\":\"white\",\"minorgridcolor\":\"white\",\"startlinecolor\":\"#2a3f5f\"},\"baxis\":{\"endlinecolor\":\"#2a3f5f\",\"gridcolor\":\"white\",\"linecolor\":\"white\",\"minorgridcolor\":\"white\",\"startlinecolor\":\"#2a3f5f\"},\"type\":\"carpet\"}],\"table\":[{\"cells\":{\"fill\":{\"color\":\"#EBF0F8\"},\"line\":{\"color\":\"white\"}},\"header\":{\"fill\":{\"color\":\"#C8D4E3\"},\"line\":{\"color\":\"white\"}},\"type\":\"table\"}],\"barpolar\":[{\"marker\":{\"line\":{\"color\":\"#E5ECF6\",\"width\":0.5},\"pattern\":{\"fillmode\":\"overlay\",\"size\":10,\"solidity\":0.2}},\"type\":\"barpolar\"}],\"pie\":[{\"automargin\":true,\"type\":\"pie\"}]},\"layout\":{\"autotypenumbers\":\"strict\",\"colorway\":[\"#636efa\",\"#EF553B\",\"#00cc96\",\"#ab63fa\",\"#FFA15A\",\"#19d3f3\",\"#FF6692\",\"#B6E880\",\"#FF97FF\",\"#FECB52\"],\"font\":{\"color\":\"#2a3f5f\"},\"hovermode\":\"closest\",\"hoverlabel\":{\"align\":\"left\"},\"paper_bgcolor\":\"white\",\"plot_bgcolor\":\"#E5ECF6\",\"polar\":{\"bgcolor\":\"#E5ECF6\",\"angularaxis\":{\"gridcolor\":\"white\",\"linecolor\":\"white\",\"ticks\":\"\"},\"radialaxis\":{\"gridcolor\":\"white\",\"linecolor\":\"white\",\"ticks\":\"\"}},\"ternary\":{\"bgcolor\":\"#E5ECF6\",\"aaxis\":{\"gridcolor\":\"white\",\"linecolor\":\"white\",\"ticks\":\"\"},\"baxis\":{\"gridcolor\":\"white\",\"linecolor\":\"white\",\"ticks\":\"\"},\"caxis\":{\"gridcolor\":\"white\",\"linecolor\":\"white\",\"ticks\":\"\"}},\"coloraxis\":{\"colorbar\":{\"outlinewidth\":0,\"ticks\":\"\"}},\"colorscale\":{\"sequential\":[[0.0,\"#0d0887\"],[0.1111111111111111,\"#46039f\"],[0.2222222222222222,\"#7201a8\"],[0.3333333333333333,\"#9c179e\"],[0.4444444444444444,\"#bd3786\"],[0.5555555555555556,\"#d8576b\"],[0.6666666666666666,\"#ed7953\"],[0.7777777777777778,\"#fb9f3a\"],[0.8888888888888888,\"#fdca26\"],[1.0,\"#f0f921\"]],\"sequentialminus\":[[0.0,\"#0d0887\"],[0.1111111111111111,\"#46039f\"],[0.2222222222222222,\"#7201a8\"],[0.3333333333333333,\"#9c179e\"],[0.4444444444444444,\"#bd3786\"],[0.5555555555555556,\"#d8576b\"],[0.6666666666666666,\"#ed7953\"],[0.7777777777777778,\"#fb9f3a\"],[0.8888888888888888,\"#fdca26\"],[1.0,\"#f0f921\"]],\"diverging\":[[0,\"#8e0152\"],[0.1,\"#c51b7d\"],[0.2,\"#de77ae\"],[0.3,\"#f1b6da\"],[0.4,\"#fde0ef\"],[0.5,\"#f7f7f7\"],[0.6,\"#e6f5d0\"],[0.7,\"#b8e186\"],[0.8,\"#7fbc41\"],[0.9,\"#4d9221\"],[1,\"#276419\"]]},\"xaxis\":{\"gridcolor\":\"white\",\"linecolor\":\"white\",\"ticks\":\"\",\"title\":{\"standoff\":15},\"zerolinecolor\":\"white\",\"automargin\":true,\"zerolinewidth\":2},\"yaxis\":{\"gridcolor\":\"white\",\"linecolor\":\"white\",\"ticks\":\"\",\"title\":{\"standoff\":15},\"zerolinecolor\":\"white\",\"automargin\":true,\"zerolinewidth\":2},\"scene\":{\"xaxis\":{\"backgroundcolor\":\"#E5ECF6\",\"gridcolor\":\"white\",\"linecolor\":\"white\",\"showbackground\":true,\"ticks\":\"\",\"zerolinecolor\":\"white\",\"gridwidth\":2},\"yaxis\":{\"backgroundcolor\":\"#E5ECF6\",\"gridcolor\":\"white\",\"linecolor\":\"white\",\"showbackground\":true,\"ticks\":\"\",\"zerolinecolor\":\"white\",\"gridwidth\":2},\"zaxis\":{\"backgroundcolor\":\"#E5ECF6\",\"gridcolor\":\"white\",\"linecolor\":\"white\",\"showbackground\":true,\"ticks\":\"\",\"zerolinecolor\":\"white\",\"gridwidth\":2}},\"shapedefaults\":{\"line\":{\"color\":\"#2a3f5f\"}},\"annotationdefaults\":{\"arrowcolor\":\"#2a3f5f\",\"arrowhead\":0,\"arrowwidth\":1},\"geo\":{\"bgcolor\":\"white\",\"landcolor\":\"#E5ECF6\",\"subunitcolor\":\"white\",\"showland\":true,\"showlakes\":true,\"lakecolor\":\"white\"},\"title\":{\"x\":0.05},\"mapbox\":{\"style\":\"light\"}}},\"xaxis\":{\"anchor\":\"y\",\"domain\":[0.0,1.0],\"title\":{\"text\":\"Population\"}},\"yaxis\":{\"anchor\":\"x\",\"domain\":[0.0,1.0],\"title\":{\"text\":\"Armed Forces size\"}},\"legend\":{\"tracegroupgap\":0},\"margin\":{\"t\":60},\"height\":500,\"width\":600},                        {\"responsive\": true}                    ).then(function(){\n",
              "                            \n",
              "var gd = document.getElementById('4003e487-b29d-4880-ae99-8153737ae63a');\n",
              "var x = new MutationObserver(function (mutations, observer) {{\n",
              "        var display = window.getComputedStyle(gd).display;\n",
              "        if (!display || display === 'none') {{\n",
              "            console.log([gd, 'removed!']);\n",
              "            Plotly.purge(gd);\n",
              "            observer.disconnect();\n",
              "        }}\n",
              "}});\n",
              "\n",
              "// Listen for the removal of the full notebook cells\n",
              "var notebookContainer = gd.closest('#notebook-container');\n",
              "if (notebookContainer) {{\n",
              "    x.observe(notebookContainer, {childList: true});\n",
              "}}\n",
              "\n",
              "// Listen for the clearing of the current output cell\n",
              "var outputEl = gd.closest('.output');\n",
              "if (outputEl) {{\n",
              "    x.observe(outputEl, {childList: true});\n",
              "}}\n",
              "\n",
              "                        })                };                            </script>        </div>\n",
              "</body>\n",
              "</html>"
            ]
          },
          "metadata": {}
        }
      ]
    },
    {
      "cell_type": "code",
      "source": [
        "correlation = df1[\"Population\"].corr(df1[\"Armed Forces size\"])\n",
        "correlation\n",
        "# Weak correlation between the population and the armed forces size"
      ],
      "metadata": {
        "colab": {
          "base_uri": "https://localhost:8080/"
        },
        "id": "OBxrFqP2oozk",
        "outputId": "b17b916a-2877-41ab-dc9c-efeb6983ad82"
      },
      "execution_count": 22,
      "outputs": [
        {
          "output_type": "execute_result",
          "data": {
            "text/plain": [
              "0.48706454101583707"
            ]
          },
          "metadata": {},
          "execution_count": 22
        }
      ]
    },
    {
      "cell_type": "code",
      "source": [
        "top_countries = clean_df.copy()\n",
        "top_countries = top_countries.sort_values(by=\"Population\", ascending=False)\n",
        "plt.figure(figsize=(10,5))\n",
        "plt.bar(top_countries[\"Country\"][:10], top_countries[\"Population\"][:10], color=\"maroon\", width=0.4)\n",
        "plt.title(\"Most Populated Countries\")\n",
        "plt.xlabel(\"Country\")\n",
        "plt.ylabel(\"Popultion\")\n",
        "plt.show()"
      ],
      "metadata": {
        "colab": {
          "base_uri": "https://localhost:8080/",
          "height": 487
        },
        "id": "QyqKaoQWpsQc",
        "outputId": "4945ef1a-28d6-4025-ce3b-543fd285c6cf"
      },
      "execution_count": 23,
      "outputs": [
        {
          "output_type": "display_data",
          "data": {
            "text/plain": [
              "<Figure size 1000x500 with 1 Axes>"
            ],
            "image/png": "[encoded data removed]"
          },
          "metadata": {}
        }
      ]
    },
    {
      "cell_type": "code",
      "source": [
        "top_countries = clean_df.copy()\n",
        "top_countries = top_countries.sort_values(by=\"Armed Forces size\", ascending=False)\n",
        "plt.figure(figsize=(10,5))\n",
        "plt.bar(top_countries[\"Country\"][:10], top_countries[\"Armed Forces size\"][:10], color=\"maroon\", width=0.4)\n",
        "plt.title(\"Most Armed Countries\")\n",
        "plt.xlabel(\"Country\")\n",
        "plt.ylabel(\"Armed Forces size\")\n",
        "plt.show()"
      ],
      "metadata": {
        "colab": {
          "base_uri": "https://localhost:8080/",
          "height": 487
        },
        "id": "ru-0PGSLcxuD",
        "outputId": "1c666c92-82da-46c7-9a6a-d22915cc2882"
      },
      "execution_count": 24,
      "outputs": [
        {
          "output_type": "display_data",
          "data": {
            "text/plain": [
              "<Figure size 1000x500 with 1 Axes>"
            ],
            "image/png": "[encoded data removed]"
          },
          "metadata": {}
        }
      ]
    },
    {
      "cell_type": "code",
      "source": [],
      "metadata": {
        "id": "9d7cOwfidQpa"
      },
      "execution_count": null,
      "outputs": []
    }
  ]
}