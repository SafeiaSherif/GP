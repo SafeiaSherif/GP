{
  "nbformat": 4,
  "nbformat_minor": 0,
  "metadata": {
    "colab": {
      "provenance": [],
      "authorship_tag": "ABX9TyNmmvbh7cskJuCO70fbCnLC"
    },
    "kernelspec": {
      "name": "python3",
      "display_name": "Python 3"
    },
    "language_info": {
      "name": "python"
    }
  },
  "cells": [
    {
      "cell_type": "code",
      "execution_count": null,
      "metadata": {
        "id": "updlWChqFZBx"
      },
      "outputs": [],
      "source": [
        "import numpy as np\n",
        "import pandas as pd\n",
        "import matplotlib.pyplot as plt\n",
        "import seaborn as sns\n",
        "from google.colab import drive"
      ]
    },
    {
      "cell_type": "code",
      "source": [
        "drive.mount('/content/drive')"
      ],
      "metadata": {
        "colab": {
          "base_uri": "https://localhost:8080/"
        },
        "id": "QU2nFmvbFnTd",
        "outputId": "b9b8fa94-9410-472a-c895-0b2699c0f34f"
      },
      "execution_count": null,
      "outputs": [
        {
          "output_type": "stream",
          "name": "stdout",
          "text": [
            "Mounted at /content/drive\n"
          ]
        }
      ]
    },
    {
      "cell_type": "code",
      "source": [
        "df = pd.read_csv('/content/drive/MyDrive/Data_sets/medical_students_dataset.csv')"
      ],
      "metadata": {
        "id": "EAcbKkU1MbYZ"
      },
      "execution_count": null,
      "outputs": []
    },
    {
      "cell_type": "code",
      "source": [
        "df.head()"
      ],
      "metadata": {
        "colab": {
          "base_uri": "https://localhost:8080/",
          "height": 206
        },
        "id": "0VH20LzAOSwo",
        "outputId": "c2055b07-3a6d-42d8-929f-22e7e9d33494"
      },
      "execution_count": null,
      "outputs": [
        {
          "output_type": "execute_result",
          "data": {
            "text/plain": [
              "   Student ID   Age  Gender      Height     Weight Blood Type        BMI  \\\n",
              "0         1.0  18.0  Female  161.777924  72.354947          O  27.645835   \n",
              "1         2.0   NaN    Male  152.069157  47.630941          B        NaN   \n",
              "2         3.0  32.0  Female  182.537664  55.741083          A  16.729017   \n",
              "3         NaN  30.0    Male  182.112867  63.332207          B  19.096042   \n",
              "4         5.0  23.0  Female         NaN  46.234173          O        NaN   \n",
              "\n",
              "   Temperature  Heart Rate  Blood Pressure  Cholesterol Diabetes Smoking  \n",
              "0          NaN        95.0           109.0        203.0       No     NaN  \n",
              "1    98.714977        93.0           104.0        163.0       No      No  \n",
              "2    98.260293        76.0           130.0        216.0      Yes      No  \n",
              "3    98.839605        99.0           112.0        141.0       No     Yes  \n",
              "4    98.480008        95.0             NaN        231.0       No      No  "
            ],
            "text/html": [
              "\n",
              "\n",
              "  <div id=\"df-8c00773c-15b2-475e-b3e4-221c3eefce93\">\n",
              "    <div class=\"colab-df-container\">\n",
              "      <div>\n",
              "<style scoped>\n",
              "    .dataframe tbody tr th:only-of-type {\n",
              "        vertical-align: middle;\n",
              "    }\n",
              "\n",
              "    .dataframe tbody tr th {\n",
              "        vertical-align: top;\n",
              "    }\n",
              "\n",
              "    .dataframe thead th {\n",
              "        text-align: right;\n",
              "    }\n",
              "</style>\n",
              "<table border=\"1\" class=\"dataframe\">\n",
              "  <thead>\n",
              "    <tr style=\"text-align: right;\">\n",
              "      <th></th>\n",
              "      <th>Student ID</th>\n",
              "      <th>Age</th>\n",
              "      <th>Gender</th>\n",
              "      <th>Height</th>\n",
              "      <th>Weight</th>\n",
              "      <th>Blood Type</th>\n",
              "      <th>BMI</th>\n",
              "      <th>Temperature</th>\n",
              "      <th>Heart Rate</th>\n",
              "      <th>Blood Pressure</th>\n",
              "      <th>Cholesterol</th>\n",
              "      <th>Diabetes</th>\n",
              "      <th>Smoking</th>\n",
              "    </tr>\n",
              "  </thead>\n",
              "  <tbody>\n",
              "    <tr>\n",
              "      <th>0</th>\n",
              "      <td>1.0</td>\n",
              "      <td>18.0</td>\n",
              "      <td>Female</td>\n",
              "      <td>161.777924</td>\n",
              "      <td>72.354947</td>\n",
              "      <td>O</td>\n",
              "      <td>27.645835</td>\n",
              "      <td>NaN</td>\n",
              "      <td>95.0</td>\n",
              "      <td>109.0</td>\n",
              "      <td>203.0</td>\n",
              "      <td>No</td>\n",
              "      <td>NaN</td>\n",
              "    </tr>\n",
              "    <tr>\n",
              "      <th>1</th>\n",
              "      <td>2.0</td>\n",
              "      <td>NaN</td>\n",
              "      <td>Male</td>\n",
              "      <td>152.069157</td>\n",
              "      <td>47.630941</td>\n",
              "      <td>B</td>\n",
              "      <td>NaN</td>\n",
              "      <td>98.714977</td>\n",
              "      <td>93.0</td>\n",
              "      <td>104.0</td>\n",
              "      <td>163.0</td>\n",
              "      <td>No</td>\n",
              "      <td>No</td>\n",
              "    </tr>\n",
              "    <tr>\n",
              "      <th>2</th>\n",
              "      <td>3.0</td>\n",
              "      <td>32.0</td>\n",
              "      <td>Female</td>\n",
              "      <td>182.537664</td>\n",
              "      <td>55.741083</td>\n",
              "      <td>A</td>\n",
              "      <td>16.729017</td>\n",
              "      <td>98.260293</td>\n",
              "      <td>76.0</td>\n",
              "      <td>130.0</td>\n",
              "      <td>216.0</td>\n",
              "      <td>Yes</td>\n",
              "      <td>No</td>\n",
              "    </tr>\n",
              "    <tr>\n",
              "      <th>3</th>\n",
              "      <td>NaN</td>\n",
              "      <td>30.0</td>\n",
              "      <td>Male</td>\n",
              "      <td>182.112867</td>\n",
              "      <td>63.332207</td>\n",
              "      <td>B</td>\n",
              "      <td>19.096042</td>\n",
              "      <td>98.839605</td>\n",
              "      <td>99.0</td>\n",
              "      <td>112.0</td>\n",
              "      <td>141.0</td>\n",
              "      <td>No</td>\n",
              "      <td>Yes</td>\n",
              "    </tr>\n",
              "    <tr>\n",
              "      <th>4</th>\n",
              "      <td>5.0</td>\n",
              "      <td>23.0</td>\n",
              "      <td>Female</td>\n",
              "      <td>NaN</td>\n",
              "      <td>46.234173</td>\n",
              "      <td>O</td>\n",
              "      <td>NaN</td>\n",
              "      <td>98.480008</td>\n",
              "      <td>95.0</td>\n",
              "      <td>NaN</td>\n",
              "      <td>231.0</td>\n",
              "      <td>No</td>\n",
              "      <td>No</td>\n",
              "    </tr>\n",
              "  </tbody>\n",
              "</table>\n",
              "</div>\n",
              "      <button class=\"colab-df-convert\" onclick=\"convertToInteractive('df-8c00773c-15b2-475e-b3e4-221c3eefce93')\"\n",
              "              title=\"Convert this dataframe to an interactive table.\"\n",
              "              style=\"display:none;\">\n",
              "\n",
              "  <svg xmlns=\"http://www.w3.org/2000/svg\" height=\"24px\"viewBox=\"0 0 24 24\"\n",
              "       width=\"24px\">\n",
              "    <path d=\"M0 0h24v24H0V0z\" fill=\"none\"/>\n",
              "    <path d=\"M18.56 5.44l.94 2.06.94-2.06 2.06-.94-2.06-.94-.94-2.06-.94 2.06-2.06.94zm-11 1L8.5 8.5l.94-2.06 2.06-.94-2.06-.94L8.5 2.5l-.94 2.06-2.06.94zm10 10l.94 2.06.94-2.06 2.06-.94-2.06-.94-.94-2.06-.94 2.06-2.06.94z\"/><path d=\"M17.41 7.96l-1.37-1.37c-.4-.4-.92-.59-1.43-.59-.52 0-1.04.2-1.43.59L10.3 9.45l-7.72 7.72c-.78.78-.78 2.05 0 2.83L4 21.41c.39.39.9.59 1.41.59.51 0 1.02-.2 1.41-.59l7.78-7.78 2.81-2.81c.8-.78.8-2.07 0-2.86zM5.41 20L4 18.59l7.72-7.72 1.47 1.35L5.41 20z\"/>\n",
              "  </svg>\n",
              "      </button>\n",
              "\n",
              "\n",
              "\n",
              "    <div id=\"df-85db896b-0983-4fd7-9448-d67f1079d49a\">\n",
              "      <button class=\"colab-df-quickchart\" onclick=\"quickchart('df-85db896b-0983-4fd7-9448-d67f1079d49a')\"\n",
              "              title=\"Suggest charts.\"\n",
              "              style=\"display:none;\">\n",
              "\n",
              "<svg xmlns=\"http://www.w3.org/2000/svg\" height=\"24px\"viewBox=\"0 0 24 24\"\n",
              "     width=\"24px\">\n",
              "    <g>\n",
              "        <path d=\"M19 3H5c-1.1 0-2 .9-2 2v14c0 1.1.9 2 2 2h14c1.1 0 2-.9 2-2V5c0-1.1-.9-2-2-2zM9 17H7v-7h2v7zm4 0h-2V7h2v10zm4 0h-2v-4h2v4z\"/>\n",
              "    </g>\n",
              "</svg>\n",
              "      </button>\n",
              "    </div>\n",
              "\n",
              "<style>\n",
              "  .colab-df-quickchart {\n",
              "    background-color: #E8F0FE;\n",
              "    border: none;\n",
              "    border-radius: 50%;\n",
              "    cursor: pointer;\n",
              "    display: none;\n",
              "    fill: #1967D2;\n",
              "    height: 32px;\n",
              "    padding: 0 0 0 0;\n",
              "    width: 32px;\n",
              "  }\n",
              "\n",
              "  .colab-df-quickchart:hover {\n",
              "    background-color: #E2EBFA;\n",
              "    box-shadow: 0px 1px 2px rgba(60, 64, 67, 0.3), 0px 1px 3px 1px rgba(60, 64, 67, 0.15);\n",
              "    fill: #174EA6;\n",
              "  }\n",
              "\n",
              "  [theme=dark] .colab-df-quickchart {\n",
              "    background-color: #3B4455;\n",
              "    fill: #D2E3FC;\n",
              "  }\n",
              "\n",
              "  [theme=dark] .colab-df-quickchart:hover {\n",
              "    background-color: #434B5C;\n",
              "    box-shadow: 0px 1px 3px 1px rgba(0, 0, 0, 0.15);\n",
              "    filter: drop-shadow(0px 1px 2px rgba(0, 0, 0, 0.3));\n",
              "    fill: #FFFFFF;\n",
              "  }\n",
              "</style>\n",
              "\n",
              "    <script>\n",
              "      async function quickchart(key) {\n",
              "        const containerElement = document.querySelector('#' + key);\n",
              "        const charts = await google.colab.kernel.invokeFunction(\n",
              "            'suggestCharts', [key], {});\n",
              "      }\n",
              "    </script>\n",
              "\n",
              "      <script>\n",
              "\n",
              "function displayQuickchartButton(domScope) {\n",
              "  let quickchartButtonEl =\n",
              "    domScope.querySelector('#df-85db896b-0983-4fd7-9448-d67f1079d49a button.colab-df-quickchart');\n",
              "  quickchartButtonEl.style.display =\n",
              "    google.colab.kernel.accessAllowed ? 'block' : 'none';\n",
              "}\n",
              "\n",
              "        displayQuickchartButton(document);\n",
              "      </script>\n",
              "      <style>\n",
              "    .colab-df-container {\n",
              "      display:flex;\n",
              "      flex-wrap:wrap;\n",
              "      gap: 12px;\n",
              "    }\n",
              "\n",
              "    .colab-df-convert {\n",
              "      background-color: #E8F0FE;\n",
              "      border: none;\n",
              "      border-radius: 50%;\n",
              "      cursor: pointer;\n",
              "      display: none;\n",
              "      fill: #1967D2;\n",
              "      height: 32px;\n",
              "      padding: 0 0 0 0;\n",
              "      width: 32px;\n",
              "    }\n",
              "\n",
              "    .colab-df-convert:hover {\n",
              "      background-color: #E2EBFA;\n",
              "      box-shadow: 0px 1px 2px rgba(60, 64, 67, 0.3), 0px 1px 3px 1px rgba(60, 64, 67, 0.15);\n",
              "      fill: #174EA6;\n",
              "    }\n",
              "\n",
              "    [theme=dark] .colab-df-convert {\n",
              "      background-color: #3B4455;\n",
              "      fill: #D2E3FC;\n",
              "    }\n",
              "\n",
              "    [theme=dark] .colab-df-convert:hover {\n",
              "      background-color: #434B5C;\n",
              "      box-shadow: 0px 1px 3px 1px rgba(0, 0, 0, 0.15);\n",
              "      filter: drop-shadow(0px 1px 2px rgba(0, 0, 0, 0.3));\n",
              "      fill: #FFFFFF;\n",
              "    }\n",
              "  </style>\n",
              "\n",
              "      <script>\n",
              "        const buttonEl =\n",
              "          document.querySelector('#df-8c00773c-15b2-475e-b3e4-221c3eefce93 button.colab-df-convert');\n",
              "        buttonEl.style.display =\n",
              "          google.colab.kernel.accessAllowed ? 'block' : 'none';\n",
              "\n",
              "        async function convertToInteractive(key) {\n",
              "          const element = document.querySelector('#df-8c00773c-15b2-475e-b3e4-221c3eefce93');\n",
              "          const dataTable =\n",
              "            await google.colab.kernel.invokeFunction('convertToInteractive',\n",
              "                                                     [key], {});\n",
              "          if (!dataTable) return;\n",
              "\n",
              "          const docLinkHtml = 'Like what you see? Visit the ' +\n",
              "            '<a target=\"_blank\" href=https://colab.research.google.com/notebooks/data_table.ipynb>data table notebook</a>'\n",
              "            + ' to learn more about interactive tables.';\n",
              "          element.innerHTML = '';\n",
              "          dataTable['output_type'] = 'display_data';\n",
              "          await google.colab.output.renderOutput(dataTable, element);\n",
              "          const docLink = document.createElement('div');\n",
              "          docLink.innerHTML = docLinkHtml;\n",
              "          element.appendChild(docLink);\n",
              "        }\n",
              "      </script>\n",
              "    </div>\n",
              "  </div>\n"
            ]
          },
          "metadata": {},
          "execution_count": 4
        }
      ]
    },
    {
      "cell_type": "code",
      "source": [
        "df.info()"
      ],
      "metadata": {
        "colab": {
          "base_uri": "https://localhost:8080/"
        },
        "id": "wndk5HPRObPx",
        "outputId": "d357b2bd-5dd3-415c-9fa3-2188fe9ae9b8"
      },
      "execution_count": null,
      "outputs": [
        {
          "output_type": "stream",
          "name": "stdout",
          "text": [
            "<class 'pandas.core.frame.DataFrame'>\n",
            "RangeIndex: 200000 entries, 0 to 199999\n",
            "Data columns (total 13 columns):\n",
            " #   Column          Non-Null Count   Dtype  \n",
            "---  ------          --------------   -----  \n",
            " 0   Student ID      180000 non-null  float64\n",
            " 1   Age             180000 non-null  float64\n",
            " 2   Gender          180000 non-null  object \n",
            " 3   Height          180000 non-null  float64\n",
            " 4   Weight          180000 non-null  float64\n",
            " 5   Blood Type      180000 non-null  object \n",
            " 6   BMI             180000 non-null  float64\n",
            " 7   Temperature     180000 non-null  float64\n",
            " 8   Heart Rate      180000 non-null  float64\n",
            " 9   Blood Pressure  180000 non-null  float64\n",
            " 10  Cholesterol     180000 non-null  float64\n",
            " 11  Diabetes        180000 non-null  object \n",
            " 12  Smoking         180000 non-null  object \n",
            "dtypes: float64(9), object(4)\n",
            "memory usage: 19.8+ MB\n"
          ]
        }
      ]
    },
    {
      "cell_type": "code",
      "source": [
        "df.duplicated().sum()"
      ],
      "metadata": {
        "colab": {
          "base_uri": "https://localhost:8080/"
        },
        "id": "yZLo4oPldGw1",
        "outputId": "043e2f31-eeb7-4b99-9530-43bfd962f77f"
      },
      "execution_count": null,
      "outputs": [
        {
          "output_type": "execute_result",
          "data": {
            "text/plain": [
              "7644"
            ]
          },
          "metadata": {},
          "execution_count": 6
        }
      ]
    },
    {
      "cell_type": "code",
      "source": [
        "df = df.drop_duplicates()\n",
        "df.duplicated().sum()"
      ],
      "metadata": {
        "colab": {
          "base_uri": "https://localhost:8080/"
        },
        "id": "ta8axA4AdayY",
        "outputId": "8bffa0de-28ec-484b-d550-4cf527eafde3"
      },
      "execution_count": null,
      "outputs": [
        {
          "output_type": "execute_result",
          "data": {
            "text/plain": [
              "0"
            ]
          },
          "metadata": {},
          "execution_count": 7
        }
      ]
    },
    {
      "cell_type": "markdown",
      "source": [
        "We have about 20,000 NaNs in each variable but, if we try to drop the duplicates the dataset will lose more than the 20,000 NaNs.\n",
        "\n",
        "The upcomming cell shows that the data has become about 44,000 after removing the duplicates. It has lost about 75% from its size."
      ],
      "metadata": {
        "id": "YDvZXUvZedfl"
      }
    },
    {
      "cell_type": "code",
      "source": [
        "df0 = df.copy()\n",
        "df0 = df0.dropna()\n",
        "df0.info()"
      ],
      "metadata": {
        "colab": {
          "base_uri": "https://localhost:8080/"
        },
        "id": "cXmi0xX2PjxB",
        "outputId": "f53f476d-aad4-4118-b15a-a4028f998531"
      },
      "execution_count": null,
      "outputs": [
        {
          "output_type": "stream",
          "name": "stdout",
          "text": [
            "<class 'pandas.core.frame.DataFrame'>\n",
            "Int64Index: 44337 entries, 2 to 199998\n",
            "Data columns (total 13 columns):\n",
            " #   Column          Non-Null Count  Dtype  \n",
            "---  ------          --------------  -----  \n",
            " 0   Student ID      44337 non-null  float64\n",
            " 1   Age             44337 non-null  float64\n",
            " 2   Gender          44337 non-null  object \n",
            " 3   Height          44337 non-null  float64\n",
            " 4   Weight          44337 non-null  float64\n",
            " 5   Blood Type      44337 non-null  object \n",
            " 6   BMI             44337 non-null  float64\n",
            " 7   Temperature     44337 non-null  float64\n",
            " 8   Heart Rate      44337 non-null  float64\n",
            " 9   Blood Pressure  44337 non-null  float64\n",
            " 10  Cholesterol     44337 non-null  float64\n",
            " 11  Diabetes        44337 non-null  object \n",
            " 12  Smoking         44337 non-null  object \n",
            "dtypes: float64(9), object(4)\n",
            "memory usage: 4.7+ MB\n"
          ]
        }
      ]
    },
    {
      "cell_type": "code",
      "source": [
        "df.info()"
      ],
      "metadata": {
        "colab": {
          "base_uri": "https://localhost:8080/"
        },
        "id": "yr0FXarxoSVl",
        "outputId": "70726b5b-cb2f-415a-f36b-35e7534a0ac9"
      },
      "execution_count": null,
      "outputs": [
        {
          "output_type": "stream",
          "name": "stdout",
          "text": [
            "<class 'pandas.core.frame.DataFrame'>\n",
            "Int64Index: 192356 entries, 0 to 199999\n",
            "Data columns (total 13 columns):\n",
            " #   Column          Non-Null Count   Dtype  \n",
            "---  ------          --------------   -----  \n",
            " 0   Student ID      172465 non-null  float64\n",
            " 1   Age             172464 non-null  float64\n",
            " 2   Gender          172432 non-null  object \n",
            " 3   Height          172449 non-null  float64\n",
            " 4   Weight          172455 non-null  float64\n",
            " 5   Blood Type      172440 non-null  object \n",
            " 6   BMI             172456 non-null  float64\n",
            " 7   Temperature     172445 non-null  float64\n",
            " 8   Heart Rate      172453 non-null  float64\n",
            " 9   Blood Pressure  172464 non-null  float64\n",
            " 10  Cholesterol     172463 non-null  float64\n",
            " 11  Diabetes        172451 non-null  object \n",
            " 12  Smoking         172459 non-null  object \n",
            "dtypes: float64(9), object(4)\n",
            "memory usage: 20.5+ MB\n"
          ]
        }
      ]
    },
    {
      "cell_type": "markdown",
      "source": [
        "We can fill the missing data with suitable values."
      ],
      "metadata": {
        "id": "G2regpoPiQHd"
      }
    },
    {
      "cell_type": "code",
      "source": [
        "# Function to fill the numeric variables with their mean value\n",
        "def numeric_fill(df_x, cols):\n",
        "  for i in cols:\n",
        "    print(i)\n",
        "    df_x[i].fillna(df_x[i].mean(), inplace=True)\n",
        "  return df_x"
      ],
      "metadata": {
        "id": "rg2_aVKJeUnI"
      },
      "execution_count": null,
      "outputs": []
    },
    {
      "cell_type": "code",
      "source": [
        "# Function to fill the categorical variables with their mode value\n",
        "def categorical_fill(df_x, cols):\n",
        "  for i in cols:\n",
        "    df_x[i].fillna(df_x[i].mode()[0], inplace=True)\n",
        "  return df_x"
      ],
      "metadata": {
        "id": "dzmhQxxPlSVl"
      },
      "execution_count": null,
      "outputs": []
    },
    {
      "cell_type": "code",
      "source": [
        "num_cols = [\"Age\", \"Height\", \"Weight\", \"BMI\", \"Temperature\", \"Heart Rate\", \"Blood Pressure\", \"Cholesterol\"]\n",
        "cat_cols = [\"Gender\", \"Blood Type\", \"Diabetes\", \"Smoking\"]"
      ],
      "metadata": {
        "id": "VODYJRBlkCBn"
      },
      "execution_count": null,
      "outputs": []
    },
    {
      "cell_type": "code",
      "source": [
        "df0 = df.copy()\n",
        "df1 = numeric_fill(df0, num_cols)\n",
        "clean_df = categorical_fill(df1, cat_cols)\n",
        "clean_df.info()"
      ],
      "metadata": {
        "colab": {
          "base_uri": "https://localhost:8080/"
        },
        "id": "m-PWUhf0i-d-",
        "outputId": "8a7a1f7d-dfd1-4c50-c548-23389c1082e2"
      },
      "execution_count": null,
      "outputs": [
        {
          "output_type": "stream",
          "name": "stdout",
          "text": [
            "Age\n",
            "Height\n",
            "Weight\n",
            "BMI\n",
            "Temperature\n",
            "Heart Rate\n",
            "Blood Pressure\n",
            "Cholesterol\n",
            "<class 'pandas.core.frame.DataFrame'>\n",
            "Int64Index: 192356 entries, 0 to 199999\n",
            "Data columns (total 13 columns):\n",
            " #   Column          Non-Null Count   Dtype  \n",
            "---  ------          --------------   -----  \n",
            " 0   Student ID      172465 non-null  float64\n",
            " 1   Age             192356 non-null  float64\n",
            " 2   Gender          192356 non-null  object \n",
            " 3   Height          192356 non-null  float64\n",
            " 4   Weight          192356 non-null  float64\n",
            " 5   Blood Type      192356 non-null  object \n",
            " 6   BMI             192356 non-null  float64\n",
            " 7   Temperature     192356 non-null  float64\n",
            " 8   Heart Rate      192356 non-null  float64\n",
            " 9   Blood Pressure  192356 non-null  float64\n",
            " 10  Cholesterol     192356 non-null  float64\n",
            " 11  Diabetes        192356 non-null  object \n",
            " 12  Smoking         192356 non-null  object \n",
            "dtypes: float64(9), object(4)\n",
            "memory usage: 20.5+ MB\n"
          ]
        }
      ]
    },
    {
      "cell_type": "markdown",
      "source": [
        "Now, we have a clean data that can be analysed"
      ],
      "metadata": {
        "id": "3Rg-9-FlzYmf"
      }
    },
    {
      "cell_type": "code",
      "source": [
        "males = clean_df[\"Gender\"].value_counts()[\"Male\"]\n",
        "females = clean_df[\"Gender\"].value_counts()[\"Female\"]"
      ],
      "metadata": {
        "id": "FKYrak8P1Es0"
      },
      "execution_count": null,
      "outputs": []
    },
    {
      "cell_type": "code",
      "source": [
        "plt.pie([males, females], labels=[\"Males\", \"Females\"],\n",
        "        colors=[\"darkkhaki\", \"khaki\"],\n",
        "        startangle=90, autopct='%1.1f%%')\n",
        "plt.title(\"Gender\")\n",
        "plt.show()"
      ],
      "metadata": {
        "colab": {
          "base_uri": "https://localhost:8080/",
          "height": 428
        },
        "id": "p01u1Fwajm-X",
        "outputId": "e5a08a56-794c-4115-9213-7457b58b5f7a"
      },
      "execution_count": null,
      "outputs": [
        {
          "output_type": "display_data",
          "data": {
            "text/plain": [
              "<Figure size 640x480 with 1 Axes>"
            ],
            "image/png": "[encoded data removed]"
          },
          "metadata": {}
        }
      ]
    },
    {
      "cell_type": "code",
      "source": [
        "clean_df[\"Blood Type\"].unique()"
      ],
      "metadata": {
        "colab": {
          "base_uri": "https://localhost:8080/"
        },
        "id": "WBcCgDlP0ZLU",
        "outputId": "47c90905-9472-4375-91c6-87423f1ad846"
      },
      "execution_count": null,
      "outputs": [
        {
          "output_type": "execute_result",
          "data": {
            "text/plain": [
              "array(['O', 'B', 'A', 'AB'], dtype=object)"
            ]
          },
          "metadata": {},
          "execution_count": 16
        }
      ]
    },
    {
      "cell_type": "code",
      "source": [
        "a = clean_df[\"Blood Type\"].value_counts()[\"A\"]\n",
        "b = clean_df[\"Blood Type\"].value_counts()[\"B\"]\n",
        "o = clean_df[\"Blood Type\"].value_counts()[\"O\"]\n",
        "ab = clean_df[\"Blood Type\"].value_counts()[\"AB\"]"
      ],
      "metadata": {
        "id": "jpQgYyxr8auS"
      },
      "execution_count": null,
      "outputs": []
    },
    {
      "cell_type": "code",
      "source": [
        "plt.pie([a, b, ab, o], labels=[\"A\", \"B\", \"AB\", \"O\"],\n",
        "        colors=[\"goldenrod\", \"beige\", \"darkkhaki\", \"khaki\"],\n",
        "        startangle=90, autopct='%1.1f%%')\n",
        "plt.title(\"Blood type\")\n",
        "plt.show()"
      ],
      "metadata": {
        "colab": {
          "base_uri": "https://localhost:8080/",
          "height": 428
        },
        "id": "BKbYhl8E81uH",
        "outputId": "3434db9b-4a26-4375-9d8a-71084d607b24"
      },
      "execution_count": null,
      "outputs": [
        {
          "output_type": "display_data",
          "data": {
            "text/plain": [
              "<Figure size 640x480 with 1 Axes>"
            ],
            "image/png": "[encoded data removed]"
          },
          "metadata": {}
        }
      ]
    },
    {
      "cell_type": "code",
      "source": [
        "yes = clean_df[\"Diabetes\"].value_counts()[\"Yes\"]\n",
        "no = clean_df[\"Diabetes\"].value_counts()[\"No\"]"
      ],
      "metadata": {
        "id": "jEoFG5aF9Epq"
      },
      "execution_count": null,
      "outputs": []
    },
    {
      "cell_type": "code",
      "source": [
        "plt.pie([yes, no], labels=[\"Yes\", \"No\"],\n",
        "        colors=[\"goldenrod\", \"khaki\"],\n",
        "        startangle=90, autopct='%1.1f%%')\n",
        "plt.title(\"Diabetes patients percentage\")\n",
        "plt.show()"
      ],
      "metadata": {
        "colab": {
          "base_uri": "https://localhost:8080/",
          "height": 428
        },
        "id": "Uiq8YpRiCaf5",
        "outputId": "f72038fc-3acb-4a50-fd70-64e8bef3bbb1"
      },
      "execution_count": null,
      "outputs": [
        {
          "output_type": "display_data",
          "data": {
            "text/plain": [
              "<Figure size 640x480 with 1 Axes>"
            ],
            "image/png": "[encoded data removed]"
          },
          "metadata": {}
        }
      ]
    },
    {
      "cell_type": "code",
      "source": [
        "yes_s = clean_df[\"Smoking\"].value_counts()[\"Yes\"]\n",
        "no_s = clean_df[\"Smoking\"].value_counts()[\"No\"]"
      ],
      "metadata": {
        "id": "oz6VQV2jCk52"
      },
      "execution_count": null,
      "outputs": []
    },
    {
      "cell_type": "code",
      "source": [
        "plt.pie([yes_s, no_s], labels=[\"Yes\", \"No\"],\n",
        "        colors=[\"goldenrod\", \"khaki\"],\n",
        "        startangle=90, autopct='%1.1f%%')\n",
        "plt.title(\"Smokers VS non-smokers percentage\")\n",
        "plt.show()"
      ],
      "metadata": {
        "colab": {
          "base_uri": "https://localhost:8080/",
          "height": 428
        },
        "id": "ZRyYduijDIXM",
        "outputId": "3fcc884a-294c-4454-d366-8156cb7d7869"
      },
      "execution_count": null,
      "outputs": [
        {
          "output_type": "display_data",
          "data": {
            "text/plain": [
              "<Figure size 640x480 with 1 Axes>"
            ],
            "image/png": "[encoded data removed]"
          },
          "metadata": {}
        }
      ]
    },
    {
      "cell_type": "markdown",
      "source": [
        "Number of somkers by males and females"
      ],
      "metadata": {
        "id": "Xw04dHrMHwwe"
      }
    },
    {
      "cell_type": "code",
      "source": [
        "smokersByGender = clean_df.groupby(\"Gender\")[\"Smoking\"].value_counts()"
      ],
      "metadata": {
        "id": "meBWYqHMFR-_"
      },
      "execution_count": null,
      "outputs": []
    },
    {
      "cell_type": "code",
      "source": [
        "smokersByGender.plot(\n",
        "    kind=\"bar\",\n",
        "    xlabel=\"Gender, Smoker\",\n",
        "    ylabel=\"Counts\",\n",
        "    title=\"Smokers by gender\",\n",
        "    color=[\"khaki\", \"goldenrod\", \"khaki\", \"goldenrod\"]\n",
        ");"
      ],
      "metadata": {
        "colab": {
          "base_uri": "https://localhost:8080/",
          "height": 550
        },
        "id": "GShJbl4TFycy",
        "outputId": "5e287415-ca69-418e-b26c-3811410e80d6"
      },
      "execution_count": null,
      "outputs": [
        {
          "output_type": "display_data",
          "data": {
            "text/plain": [
              "<Figure size 640x480 with 1 Axes>"
            ],
            "image/png": "[encoded data removed]"
          },
          "metadata": {}
        }
      ]
    },
    {
      "cell_type": "markdown",
      "source": [
        "Diabetes patients in males and females"
      ],
      "metadata": {
        "id": "qnb9eNJCKkMd"
      }
    },
    {
      "cell_type": "code",
      "source": [
        "DiabetesByGender = clean_df.groupby(\"Gender\")[\"Diabetes\"].value_counts()"
      ],
      "metadata": {
        "id": "4Ihd9XMKH62w"
      },
      "execution_count": null,
      "outputs": []
    },
    {
      "cell_type": "code",
      "source": [
        "DiabetesByGender.plot(\n",
        "    kind=\"bar\",\n",
        "    xlabel=\"Gender, Diabetes\",\n",
        "    ylabel=\"Counts\",\n",
        "    title=\"Diabetes patients by gender\",\n",
        "    color=[\"khaki\", \"goldenrod\", \"khaki\", \"goldenrod\"]\n",
        ");"
      ],
      "metadata": {
        "colab": {
          "base_uri": "https://localhost:8080/",
          "height": 550
        },
        "id": "vvQZRoUNIDo5",
        "outputId": "70b6a23d-6d77-4da0-8f4a-158a4ee0210a"
      },
      "execution_count": null,
      "outputs": [
        {
          "output_type": "display_data",
          "data": {
            "text/plain": [
              "<Figure size 640x480 with 1 Axes>"
            ],
            "image/png": "[encoded data removed]"
          },
          "metadata": {}
        }
      ]
    },
    {
      "cell_type": "code",
      "source": [
        "matrix = clean_df[[\"Age\", \"Height\", \"Weight\", \"BMI\", \"Temperature\", \"Heart Rate\", \"Blood Pressure\", \"Cholesterol\"]].corr()\n",
        "matrix"
      ],
      "metadata": {
        "id": "zR0DFpJPW6KX",
        "colab": {
          "base_uri": "https://localhost:8080/",
          "height": 300
        },
        "outputId": "e511d921-2439-4df9-d917-3ad78eb21b12"
      },
      "execution_count": null,
      "outputs": [
        {
          "output_type": "execute_result",
          "data": {
            "text/plain": [
              "                     Age    Height    Weight       BMI  Temperature  \\\n",
              "Age             1.000000  0.001718  0.004696  0.002839     0.003242   \n",
              "Height          0.001718  1.000000 -0.000093 -0.494160    -0.003789   \n",
              "Weight          0.004696 -0.000093  1.000000  0.735666     0.001825   \n",
              "BMI             0.002839 -0.494160  0.735666  1.000000     0.001941   \n",
              "Temperature     0.003242 -0.003789  0.001825  0.001941     1.000000   \n",
              "Heart Rate      0.004371  0.005478  0.001027 -0.001207    -0.002791   \n",
              "Blood Pressure -0.002935  0.003017  0.002050  0.000274    -0.002804   \n",
              "Cholesterol    -0.000234  0.000828 -0.001232 -0.002357    -0.000766   \n",
              "\n",
              "                Heart Rate  Blood Pressure  Cholesterol  \n",
              "Age               0.004371       -0.002935    -0.000234  \n",
              "Height            0.005478        0.003017     0.000828  \n",
              "Weight            0.001027        0.002050    -0.001232  \n",
              "BMI              -0.001207        0.000274    -0.002357  \n",
              "Temperature      -0.002791       -0.002804    -0.000766  \n",
              "Heart Rate        1.000000        0.001826     0.004146  \n",
              "Blood Pressure    0.001826        1.000000     0.003037  \n",
              "Cholesterol       0.004146        0.003037     1.000000  "
            ],
            "text/html": [
              "\n",
              "\n",
              "  <div id=\"df-4d247dc7-230c-4d03-a3f6-53f019f53f4f\">\n",
              "    <div class=\"colab-df-container\">\n",
              "      <div>\n",
              "<style scoped>\n",
              "    .dataframe tbody tr th:only-of-type {\n",
              "        vertical-align: middle;\n",
              "    }\n",
              "\n",
              "    .dataframe tbody tr th {\n",
              "        vertical-align: top;\n",
              "    }\n",
              "\n",
              "    .dataframe thead th {\n",
              "        text-align: right;\n",
              "    }\n",
              "</style>\n",
              "<table border=\"1\" class=\"dataframe\">\n",
              "  <thead>\n",
              "    <tr style=\"text-align: right;\">\n",
              "      <th></th>\n",
              "      <th>Age</th>\n",
              "      <th>Height</th>\n",
              "      <th>Weight</th>\n",
              "      <th>BMI</th>\n",
              "      <th>Temperature</th>\n",
              "      <th>Heart Rate</th>\n",
              "      <th>Blood Pressure</th>\n",
              "      <th>Cholesterol</th>\n",
              "    </tr>\n",
              "  </thead>\n",
              "  <tbody>\n",
              "    <tr>\n",
              "      <th>Age</th>\n",
              "      <td>1.000000</td>\n",
              "      <td>0.001718</td>\n",
              "      <td>0.004696</td>\n",
              "      <td>0.002839</td>\n",
              "      <td>0.003242</td>\n",
              "      <td>0.004371</td>\n",
              "      <td>-0.002935</td>\n",
              "      <td>-0.000234</td>\n",
              "    </tr>\n",
              "    <tr>\n",
              "      <th>Height</th>\n",
              "      <td>0.001718</td>\n",
              "      <td>1.000000</td>\n",
              "      <td>-0.000093</td>\n",
              "      <td>-0.494160</td>\n",
              "      <td>-0.003789</td>\n",
              "      <td>0.005478</td>\n",
              "      <td>0.003017</td>\n",
              "      <td>0.000828</td>\n",
              "    </tr>\n",
              "    <tr>\n",
              "      <th>Weight</th>\n",
              "      <td>0.004696</td>\n",
              "      <td>-0.000093</td>\n",
              "      <td>1.000000</td>\n",
              "      <td>0.735666</td>\n",
              "      <td>0.001825</td>\n",
              "      <td>0.001027</td>\n",
              "      <td>0.002050</td>\n",
              "      <td>-0.001232</td>\n",
              "    </tr>\n",
              "    <tr>\n",
              "      <th>BMI</th>\n",
              "      <td>0.002839</td>\n",
              "      <td>-0.494160</td>\n",
              "      <td>0.735666</td>\n",
              "      <td>1.000000</td>\n",
              "      <td>0.001941</td>\n",
              "      <td>-0.001207</td>\n",
              "      <td>0.000274</td>\n",
              "      <td>-0.002357</td>\n",
              "    </tr>\n",
              "    <tr>\n",
              "      <th>Temperature</th>\n",
              "      <td>0.003242</td>\n",
              "      <td>-0.003789</td>\n",
              "      <td>0.001825</td>\n",
              "      <td>0.001941</td>\n",
              "      <td>1.000000</td>\n",
              "      <td>-0.002791</td>\n",
              "      <td>-0.002804</td>\n",
              "      <td>-0.000766</td>\n",
              "    </tr>\n",
              "    <tr>\n",
              "      <th>Heart Rate</th>\n",
              "      <td>0.004371</td>\n",
              "      <td>0.005478</td>\n",
              "      <td>0.001027</td>\n",
              "      <td>-0.001207</td>\n",
              "      <td>-0.002791</td>\n",
              "      <td>1.000000</td>\n",
              "      <td>0.001826</td>\n",
              "      <td>0.004146</td>\n",
              "    </tr>\n",
              "    <tr>\n",
              "      <th>Blood Pressure</th>\n",
              "      <td>-0.002935</td>\n",
              "      <td>0.003017</td>\n",
              "      <td>0.002050</td>\n",
              "      <td>0.000274</td>\n",
              "      <td>-0.002804</td>\n",
              "      <td>0.001826</td>\n",
              "      <td>1.000000</td>\n",
              "      <td>0.003037</td>\n",
              "    </tr>\n",
              "    <tr>\n",
              "      <th>Cholesterol</th>\n",
              "      <td>-0.000234</td>\n",
              "      <td>0.000828</td>\n",
              "      <td>-0.001232</td>\n",
              "      <td>-0.002357</td>\n",
              "      <td>-0.000766</td>\n",
              "      <td>0.004146</td>\n",
              "      <td>0.003037</td>\n",
              "      <td>1.000000</td>\n",
              "    </tr>\n",
              "  </tbody>\n",
              "</table>\n",
              "</div>\n",
              "      <button class=\"colab-df-convert\" onclick=\"convertToInteractive('df-4d247dc7-230c-4d03-a3f6-53f019f53f4f')\"\n",
              "              title=\"Convert this dataframe to an interactive table.\"\n",
              "              style=\"display:none;\">\n",
              "\n",
              "  <svg xmlns=\"http://www.w3.org/2000/svg\" height=\"24px\"viewBox=\"0 0 24 24\"\n",
              "       width=\"24px\">\n",
              "    <path d=\"M0 0h24v24H0V0z\" fill=\"none\"/>\n",
              "    <path d=\"M18.56 5.44l.94 2.06.94-2.06 2.06-.94-2.06-.94-.94-2.06-.94 2.06-2.06.94zm-11 1L8.5 8.5l.94-2.06 2.06-.94-2.06-.94L8.5 2.5l-.94 2.06-2.06.94zm10 10l.94 2.06.94-2.06 2.06-.94-2.06-.94-.94-2.06-.94 2.06-2.06.94z\"/><path d=\"M17.41 7.96l-1.37-1.37c-.4-.4-.92-.59-1.43-.59-.52 0-1.04.2-1.43.59L10.3 9.45l-7.72 7.72c-.78.78-.78 2.05 0 2.83L4 21.41c.39.39.9.59 1.41.59.51 0 1.02-.2 1.41-.59l7.78-7.78 2.81-2.81c.8-.78.8-2.07 0-2.86zM5.41 20L4 18.59l7.72-7.72 1.47 1.35L5.41 20z\"/>\n",
              "  </svg>\n",
              "      </button>\n",
              "\n",
              "\n",
              "\n",
              "    <div id=\"df-d9d1ce6c-3b84-42c6-b542-3876f8376650\">\n",
              "      <button class=\"colab-df-quickchart\" onclick=\"quickchart('df-d9d1ce6c-3b84-42c6-b542-3876f8376650')\"\n",
              "              title=\"Suggest charts.\"\n",
              "              style=\"display:none;\">\n",
              "\n",
              "<svg xmlns=\"http://www.w3.org/2000/svg\" height=\"24px\"viewBox=\"0 0 24 24\"\n",
              "     width=\"24px\">\n",
              "    <g>\n",
              "        <path d=\"M19 3H5c-1.1 0-2 .9-2 2v14c0 1.1.9 2 2 2h14c1.1 0 2-.9 2-2V5c0-1.1-.9-2-2-2zM9 17H7v-7h2v7zm4 0h-2V7h2v10zm4 0h-2v-4h2v4z\"/>\n",
              "    </g>\n",
              "</svg>\n",
              "      </button>\n",
              "    </div>\n",
              "\n",
              "<style>\n",
              "  .colab-df-quickchart {\n",
              "    background-color: #E8F0FE;\n",
              "    border: none;\n",
              "    border-radius: 50%;\n",
              "    cursor: pointer;\n",
              "    display: none;\n",
              "    fill: #1967D2;\n",
              "    height: 32px;\n",
              "    padding: 0 0 0 0;\n",
              "    width: 32px;\n",
              "  }\n",
              "\n",
              "  .colab-df-quickchart:hover {\n",
              "    background-color: #E2EBFA;\n",
              "    box-shadow: 0px 1px 2px rgba(60, 64, 67, 0.3), 0px 1px 3px 1px rgba(60, 64, 67, 0.15);\n",
              "    fill: #174EA6;\n",
              "  }\n",
              "\n",
              "  [theme=dark] .colab-df-quickchart {\n",
              "    background-color: #3B4455;\n",
              "    fill: #D2E3FC;\n",
              "  }\n",
              "\n",
              "  [theme=dark] .colab-df-quickchart:hover {\n",
              "    background-color: #434B5C;\n",
              "    box-shadow: 0px 1px 3px 1px rgba(0, 0, 0, 0.15);\n",
              "    filter: drop-shadow(0px 1px 2px rgba(0, 0, 0, 0.3));\n",
              "    fill: #FFFFFF;\n",
              "  }\n",
              "</style>\n",
              "\n",
              "    <script>\n",
              "      async function quickchart(key) {\n",
              "        const containerElement = document.querySelector('#' + key);\n",
              "        const charts = await google.colab.kernel.invokeFunction(\n",
              "            'suggestCharts', [key], {});\n",
              "      }\n",
              "    </script>\n",
              "\n",
              "      <script>\n",
              "\n",
              "function displayQuickchartButton(domScope) {\n",
              "  let quickchartButtonEl =\n",
              "    domScope.querySelector('#df-d9d1ce6c-3b84-42c6-b542-3876f8376650 button.colab-df-quickchart');\n",
              "  quickchartButtonEl.style.display =\n",
              "    google.colab.kernel.accessAllowed ? 'block' : 'none';\n",
              "}\n",
              "\n",
              "        displayQuickchartButton(document);\n",
              "      </script>\n",
              "      <style>\n",
              "    .colab-df-container {\n",
              "      display:flex;\n",
              "      flex-wrap:wrap;\n",
              "      gap: 12px;\n",
              "    }\n",
              "\n",
              "    .colab-df-convert {\n",
              "      background-color: #E8F0FE;\n",
              "      border: none;\n",
              "      border-radius: 50%;\n",
              "      cursor: pointer;\n",
              "      display: none;\n",
              "      fill: #1967D2;\n",
              "      height: 32px;\n",
              "      padding: 0 0 0 0;\n",
              "      width: 32px;\n",
              "    }\n",
              "\n",
              "    .colab-df-convert:hover {\n",
              "      background-color: #E2EBFA;\n",
              "      box-shadow: 0px 1px 2px rgba(60, 64, 67, 0.3), 0px 1px 3px 1px rgba(60, 64, 67, 0.15);\n",
              "      fill: #174EA6;\n",
              "    }\n",
              "\n",
              "    [theme=dark] .colab-df-convert {\n",
              "      background-color: #3B4455;\n",
              "      fill: #D2E3FC;\n",
              "    }\n",
              "\n",
              "    [theme=dark] .colab-df-convert:hover {\n",
              "      background-color: #434B5C;\n",
              "      box-shadow: 0px 1px 3px 1px rgba(0, 0, 0, 0.15);\n",
              "      filter: drop-shadow(0px 1px 2px rgba(0, 0, 0, 0.3));\n",
              "      fill: #FFFFFF;\n",
              "    }\n",
              "  </style>\n",
              "\n",
              "      <script>\n",
              "        const buttonEl =\n",
              "          document.querySelector('#df-4d247dc7-230c-4d03-a3f6-53f019f53f4f button.colab-df-convert');\n",
              "        buttonEl.style.display =\n",
              "          google.colab.kernel.accessAllowed ? 'block' : 'none';\n",
              "\n",
              "        async function convertToInteractive(key) {\n",
              "          const element = document.querySelector('#df-4d247dc7-230c-4d03-a3f6-53f019f53f4f');\n",
              "          const dataTable =\n",
              "            await google.colab.kernel.invokeFunction('convertToInteractive',\n",
              "                                                     [key], {});\n",
              "          if (!dataTable) return;\n",
              "\n",
              "          const docLinkHtml = 'Like what you see? Visit the ' +\n",
              "            '<a target=\"_blank\" href=https://colab.research.google.com/notebooks/data_table.ipynb>data table notebook</a>'\n",
              "            + ' to learn more about interactive tables.';\n",
              "          element.innerHTML = '';\n",
              "          dataTable['output_type'] = 'display_data';\n",
              "          await google.colab.output.renderOutput(dataTable, element);\n",
              "          const docLink = document.createElement('div');\n",
              "          docLink.innerHTML = docLinkHtml;\n",
              "          element.appendChild(docLink);\n",
              "        }\n",
              "      </script>\n",
              "    </div>\n",
              "  </div>\n"
            ]
          },
          "metadata": {},
          "execution_count": 29
        }
      ]
    },
    {
      "cell_type": "code",
      "source": [
        "!pip install imbalanced-learn"
      ],
      "metadata": {
        "id": "USiCcb32HmfR",
        "colab": {
          "base_uri": "https://localhost:8080/"
        },
        "outputId": "2002aa4c-ef46-4191-cf10-14ff451c71c5"
      },
      "execution_count": null,
      "outputs": [
        {
          "output_type": "stream",
          "name": "stdout",
          "text": [
            "Requirement already satisfied: imbalanced-learn in /usr/local/lib/python3.10/dist-packages (0.10.1)\n",
            "Requirement already satisfied: numpy>=1.17.3 in /usr/local/lib/python3.10/dist-packages (from imbalanced-learn) (1.22.4)\n",
            "Requirement already satisfied: scipy>=1.3.2 in /usr/local/lib/python3.10/dist-packages (from imbalanced-learn) (1.10.1)\n",
            "Requirement already satisfied: scikit-learn>=1.0.2 in /usr/local/lib/python3.10/dist-packages (from imbalanced-learn) (1.2.2)\n",
            "Requirement already satisfied: joblib>=1.1.1 in /usr/local/lib/python3.10/dist-packages (from imbalanced-learn) (1.3.1)\n",
            "Requirement already satisfied: threadpoolctl>=2.0.0 in /usr/local/lib/python3.10/dist-packages (from imbalanced-learn) (3.2.0)\n"
          ]
        }
      ]
    },
    {
      "cell_type": "code",
      "source": [
        "X = clean_df[[\"Age\", \"BMI\", \"Temperature\", \"Heart Rate\", \"Blood Pressure\", \"Cholesterol\"]]\n",
        "y = clean_df[\"Diabetes\"]"
      ],
      "metadata": {
        "id": "qQe1HaHWNKHw"
      },
      "execution_count": null,
      "outputs": []
    },
    {
      "cell_type": "code",
      "source": [
        "from imblearn.under_sampling import RandomUnderSampler\n",
        "rus = RandomUnderSampler(sampling_strategy=1) # the 1 means the 2 classes wil be the same size 0.5+0.5\n",
        "X_res, y_res = rus.fit_resample(X, y)\n",
        "\n",
        "ax = y_res.value_counts().plot.pie(autopct='%1.1f%%', colors=[\"goldenrod\", \"khaki\"])\n",
        "_ = ax.set_title(\"Under-sampling\")"
      ],
      "metadata": {
        "colab": {
          "base_uri": "https://localhost:8080/",
          "height": 428
        },
        "id": "ejOeJTZLB7Ar",
        "outputId": "04faa267-e2e0-4908-ef06-a6ecf86db4db"
      },
      "execution_count": null,
      "outputs": [
        {
          "output_type": "display_data",
          "data": {
            "text/plain": [
              "<Figure size 640x480 with 1 Axes>"
            ],
            "image/png": "[encoded data removed]"
          },
          "metadata": {}
        }
      ]
    },
    {
      "cell_type": "code",
      "source": [
        "y_res.value_counts()"
      ],
      "metadata": {
        "colab": {
          "base_uri": "https://localhost:8080/"
        },
        "id": "mZ_hH4dsQFMJ",
        "outputId": "0fb65cfa-1cd7-46a9-ff80-5c2b9d8abf7d"
      },
      "execution_count": null,
      "outputs": [
        {
          "output_type": "execute_result",
          "data": {
            "text/plain": [
              "No     17286\n",
              "Yes    17286\n",
              "Name: Diabetes, dtype: int64"
            ]
          },
          "metadata": {},
          "execution_count": 44
        }
      ]
    },
    {
      "cell_type": "code",
      "source": [
        "from imblearn.over_sampling import RandomOverSampler\n",
        "rus = RandomOverSampler(sampling_strategy='not majority') # the 1 means the 2 classes wil be the same size 0.5+0.5\n",
        "X_res, y_res = rus.fit_resample(X, y)\n",
        "\n",
        "ax = y_res.value_counts().plot.pie(autopct='%1.1f%%', colors=[\"goldenrod\", \"khaki\"])\n",
        "_ = ax.set_title(\"Over-sampling\")"
      ],
      "metadata": {
        "colab": {
          "base_uri": "https://localhost:8080/",
          "height": 428
        },
        "id": "rVoEwlcUCIVT",
        "outputId": "f6e876a8-304c-4c71-cb7c-8e81f6d16d92"
      },
      "execution_count": null,
      "outputs": [
        {
          "output_type": "display_data",
          "data": {
            "text/plain": [
              "<Figure size 640x480 with 1 Axes>"
            ],
            "image/png": "[encoded data removed]"
          },
          "metadata": {}
        }
      ]
    },
    {
      "cell_type": "code",
      "source": [
        "y_res.value_counts()"
      ],
      "metadata": {
        "colab": {
          "base_uri": "https://localhost:8080/"
        },
        "id": "CWHdzcOdPg4O",
        "outputId": "a933463a-b2d6-4612-a1ad-29ed829aabb7"
      },
      "execution_count": null,
      "outputs": [
        {
          "output_type": "execute_result",
          "data": {
            "text/plain": [
              "No     175070\n",
              "Yes    175070\n",
              "Name: Diabetes, dtype: int64"
            ]
          },
          "metadata": {},
          "execution_count": 37
        }
      ]
    },
    {
      "cell_type": "code",
      "source": [
        "for i in range(0, len(y_res)):\n",
        "  if y_res[i] == 'No':\n",
        "    y_res[i] = 0\n",
        "  else:\n",
        "    y_res[i] = 1"
      ],
      "metadata": {
        "id": "mtDU9up3VwKI"
      },
      "execution_count": null,
      "outputs": []
    },
    {
      "cell_type": "code",
      "source": [
        "y_res.value_counts()"
      ],
      "metadata": {
        "colab": {
          "base_uri": "https://localhost:8080/"
        },
        "id": "MPA8BHVnYPr0",
        "outputId": "952b8611-4e54-4738-9f94-d207860b796d"
      },
      "execution_count": null,
      "outputs": [
        {
          "output_type": "execute_result",
          "data": {
            "text/plain": [
              "0    17286\n",
              "1    17286\n",
              "Name: Diabetes, dtype: int64"
            ]
          },
          "metadata": {},
          "execution_count": 46
        }
      ]
    },
    {
      "cell_type": "code",
      "source": [
        "from sklearn.model_selection import train_test_split\n",
        "train_X, val_X, train_y, val_y = train_test_split(X_res, y_res, random_state = 1)"
      ],
      "metadata": {
        "id": "5dw5ba79P9xk"
      },
      "execution_count": null,
      "outputs": []
    },
    {
      "cell_type": "code",
      "source": [
        "from sklearn.ensemble import RandomForestRegressor\n",
        "from sklearn.metrics import mean_absolute_error\n",
        "\n",
        "forest_model = RandomForestRegressor(random_state=1)\n",
        "forest_model.fit(train_X, train_y)\n",
        "rf_preds = forest_model.predict(val_X)\n",
        "print(mean_absolute_error(val_y, rf_preds))"
      ],
      "metadata": {
        "colab": {
          "base_uri": "https://localhost:8080/"
        },
        "id": "Bat4cH4bStHr",
        "outputId": "f6118f8e-ef18-4083-b926-2e339d00848d"
      },
      "execution_count": null,
      "outputs": [
        {
          "output_type": "stream",
          "name": "stdout",
          "text": [
            "0.4473205530119796\n"
          ]
        }
      ]
    },
    {
      "cell_type": "code",
      "source": [],
      "metadata": {
        "id": "Q-tz-RzQGBuq"
      },
      "execution_count": null,
      "outputs": []
    }
  ]
}