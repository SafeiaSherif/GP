{
  "cells": [
    {
      "cell_type": "markdown",
      "metadata": {
        "id": "view-in-github",
        "colab_type": "text"
      },
      "source": [
        "<a href=\"https://colab.research.google.com/github/SafeiaSherif/SafeiaSherif/blob/main/Stochastic_programing_for_FLA_using_Monte_Carlo.ipynb\" target=\"_parent\"><img src=\"https://colab.research.google.com/assets/colab-badge.svg\" alt=\"Open In Colab\"/></a>"
      ]
    },
    {
      "cell_type": "markdown",
      "source": [
        "# **Facility Location-Allocation Model For Disaster Management**"
      ],
      "metadata": {
        "id": "fyLhGZ9IPvLi"
      }
    },
    {
      "cell_type": "markdown",
      "source": [
        "**This notebook is to solve a multi-obective constrained mathematical model with the weighted sum method using specific weights for each objective in case of stochastic demand that will be solved by Monte Carlo method.**\n",
        "\n",
        "\n",
        "The model is in the field of disaster management. Let's assume a natural disaster that caused a number of affected areas.\n",
        "\n",
        "These areas will contain 2 types of **stochastic** demand. The first one is the victims' demand(people who need medical support) and the second one is the non-victims' demand(people who need living\n",
        "material support).\n",
        "\n",
        "\n",
        "*   The victims' demand will be satisfied by hospitals and temporary emergency centers\n",
        "*   The non-victims' demand will be satisfied by shelters.\n",
        "\n",
        "\n",
        "*   The previous facilities(hospitals, centers and shelters) will need resources to serve their demand. So, it is important to add warehouses for the facilities demand.\n",
        "\n",
        "\n",
        "Then, we have number of facilities need to be located and different demands need to be allocated. This problem will be solved to optimize 5 objectives subject to some constraints.\n",
        "\n",
        "**The objectives are:**\n",
        "\n",
        "*   Maximize the total covered population by hospitals, centers and shelters.\n",
        "*   Minimize the total distances between the affected areas and the facilities.\n",
        "*   Maximize the total satisfied resources' demand by warehouses.\n",
        "*   Minimize the total distances between warehouses and the other facilities.\n",
        "*   Minimize the total located facilities to minimize the cost.\n",
        "\n",
        "**The main contraints:**\n",
        "\n",
        "*   Budget constraints.\n",
        "*   Capacities constraints.\n",
        "*   Service distance constraints.\n",
        "\n",
        "**Mathematical formulation and illustrative figures:**\n",
        "\n",
        "https://docs.google.com/document/d/1f3Y7rZNJTPW-5FSfTnqebAyqIGR5AkoEoYmtPYpHUqc/edit?usp=sharing"
      ],
      "metadata": {
        "id": "jCijraXrISZj"
      }
    },
    {
      "cell_type": "code",
      "execution_count": null,
      "metadata": {
        "id": "ycD0Rl3uY8Jy"
      },
      "outputs": [],
      "source": [
        "import pandas as pd\n",
        "import numpy as np\n",
        "from itertools import product\n",
        "import math"
      ]
    },
    {
      "cell_type": "markdown",
      "source": [
        "**Here I specify the limits or the right hand side of the constraints**\n",
        "\n",
        "*   The capacities of the facilities.\n",
        "*   The population of the affected areas.\n",
        "*   The severity of the disaster (percentage of victims) for each zone.\n",
        "*   Units of resources needed by one victim and so for the non-victim.\n",
        "*   Maximum service distances for each kind of facilities.\n",
        "*   Maximum allowed number of located facilities for each kind of facilities.\n"
      ],
      "metadata": {
        "id": "l-N1tq3aJq-y"
      }
    },
    {
      "cell_type": "code",
      "execution_count": null,
      "metadata": {
        "id": "GUe0Rep0ZUOH"
      },
      "outputs": [],
      "source": [
        "Cap_H = np.array([750,230])\n",
        "Cap_C = np.array([100,60])\n",
        "Cap_SH = np.array([700,600])\n",
        "Cap_V_W = np.array([300,1000])\n",
        "Cap_NV_W = np.array([1000,600])\n",
        "\n",
        "a = np.array([1000,1000,1000])"
      ]
    },
    {
      "cell_type": "code",
      "execution_count": null,
      "metadata": {
        "id": "Jgz2Mr4cZYgw"
      },
      "outputs": [],
      "source": [
        "U_R_V = 2\n",
        "U_R_NV = 2\n",
        "\n",
        "max_D_H = 40\n",
        "max_D_C = 40\n",
        "max_D_SH = 40\n",
        "max_D_W = 40\n",
        "\n",
        "N = 1\n",
        "M = 2\n",
        "Q = 2\n",
        "S = 10000  # This is the number of scenarios of the stochastic demand"
      ]
    },
    {
      "cell_type": "markdown",
      "source": [
        "Function to generate uniform random number on range [0, 1]"
      ],
      "metadata": {
        "id": "2lFdrp6ULgC_"
      }
    },
    {
      "cell_type": "code",
      "execution_count": null,
      "metadata": {
        "id": "JDj5p-U1ZdTI"
      },
      "outputs": [],
      "source": [
        "# To generate random values for the parameter p\n",
        "def p():\n",
        "  p = np.random.rand()\n",
        "  return p"
      ]
    },
    {
      "cell_type": "code",
      "execution_count": null,
      "metadata": {
        "colab": {
          "base_uri": "https://localhost:8080/"
        },
        "id": "DHcziO0la9FH",
        "outputId": "b60ffc7e-8775-4da4-cc1c-623d7a003203"
      },
      "outputs": [
        {
          "output_type": "stream",
          "name": "stdout",
          "text": [
            "Collecting gurobipy\n",
            "  Downloading gurobipy-10.0.2-cp310-cp310-manylinux2014_x86_64.whl (12.7 MB)\n",
            "\u001b[2K     \u001b[90m━━━━━━━━━━━━━━━━━━━━━━━━━━━━━━━━━━━━━━━━\u001b[0m \u001b[32m12.7/12.7 MB\u001b[0m \u001b[31m69.3 MB/s\u001b[0m eta \u001b[36m0:00:00\u001b[0m\n",
            "\u001b[?25hInstalling collected packages: gurobipy\n",
            "Successfully installed gurobipy-10.0.2\n"
          ]
        }
      ],
      "source": [
        "!pip install gurobipy\n",
        "import gurobipy as gp\n",
        "from gurobipy import GRB"
      ]
    },
    {
      "cell_type": "code",
      "execution_count": null,
      "metadata": {
        "id": "rZs3RDx8dK6g"
      },
      "outputs": [],
      "source": [
        "num_hospitals = len(Cap_H)\n",
        "num_centers = len(Cap_C)\n",
        "num_shelters = len(Cap_SH)\n",
        "num_nodes = len(a)\n",
        "num_warehouses = len(Cap_V_W)\n",
        "\n",
        "cartesian_prod_hos = list(product(range(num_hospitals), range(num_nodes)))\n",
        "cartesian_prod_cntr = list(product(range(num_centers), range(num_nodes)))\n",
        "cartesian_prod_shltr = list(product(range(num_shelters), range(num_nodes)))\n",
        "cartesian_prod_warehouse_H = list(product(range(num_warehouses), range(num_hospitals)))\n",
        "cartesian_prod_warehouse_C = list(product(range(num_warehouses), range(num_centers)))\n",
        "cartesian_prod_warehouse_SH = list(product(range(num_warehouses), range(num_shelters)))"
      ]
    },
    {
      "cell_type": "code",
      "source": [
        "scl = 19 # scaling parameter used to scale the distances to suitable values in Km"
      ],
      "metadata": {
        "id": "bJUKq5OOtIHd"
      },
      "execution_count": null,
      "outputs": []
    },
    {
      "cell_type": "markdown",
      "source": [
        "As in the mathematical model, we need to assume some parameters and constraints.\n",
        "The next part contain those assumbtions.\n",
        "\n",
        "We assumed 3 disaster zones, 2 valid hospitals, 2 potential places for centers, 2 potential places for shelters and 2 potential places for warehouses.\n",
        "\n",
        "\n",
        "*   Each facility and each zone has (x, y) location.\n",
        "*   I used the role of the distance between 2 points to calculate the distances between each facility and each disaster zone.\n",
        "\n"
      ],
      "metadata": {
        "id": "6DNM4VGnJQJx"
      }
    },
    {
      "cell_type": "code",
      "source": [
        "i1 = [-0.8, 0.8]\n",
        "i2 = [1.6, 1.6]\n",
        "i3 = [1.2, -0.6]\n",
        "\n",
        "j1 = [1.3, 0.5]\n",
        "j2 = [0.4, 1.3]\n",
        "\n",
        "k1 = [2.05, 0.3]\n",
        "k2 = [-0.13, -0.23]\n",
        "\n",
        "f1 = [0.42, 0.45]\n",
        "f2 = [1.85, 0.65]\n",
        "\n",
        "z1 = [0.4, 0.2]\n",
        "z2 = [0.83, 1.3]"
      ],
      "metadata": {
        "id": "45HEGUzUtn7d"
      },
      "execution_count": null,
      "outputs": []
    },
    {
      "cell_type": "markdown",
      "source": [
        "Here I calculate the 2d matrix of the distances between the hospitals and the disaster zones"
      ],
      "metadata": {
        "id": "_X5AeFwyJkqH"
      }
    },
    {
      "cell_type": "code",
      "source": [
        "D_H = [0]*6\n",
        "\n",
        "D_H[0] = math.sqrt((i1[0]-j1[0])**2+(i1[1]-j1[1])**2)\n",
        "D_H[1] = math.sqrt((i2[0]-j1[0])**2+(i2[1]-j1[1])**2)\n",
        "D_H[2] = math.sqrt((i3[0]-j1[0])**2+(i3[1]-j1[1])**2)\n",
        "D_H[3] = math.sqrt((i1[0]-j2[0])**2+(i1[1]-j2[1])**2)\n",
        "D_H[4] = math.sqrt((i2[0]-j2[0])**2+(i2[1]-j2[1])**2)\n",
        "D_H[5] = math.sqrt((i3[0]-j2[0])**2+(i3[1]-j2[1])**2)\n",
        "\n",
        "D_H = np.array(D_H).reshape(2, 3)\n",
        "\n",
        "D_H = D_H*scl\n",
        "D_H = D_H.astype(int)\n",
        "D_H"
      ],
      "metadata": {
        "colab": {
          "base_uri": "https://localhost:8080/"
        },
        "id": "QdIkVw_Itt74",
        "outputId": "27d8605f-a282-408d-93d1-32f3628c6fe2"
      },
      "execution_count": null,
      "outputs": [
        {
          "output_type": "execute_result",
          "data": {
            "text/plain": [
              "array([[40, 21, 20],\n",
              "       [24, 23, 39]])"
            ]
          },
          "metadata": {},
          "execution_count": 10
        }
      ]
    },
    {
      "cell_type": "markdown",
      "source": [
        "Here I calculate the 2d matrix of the distances between the centers and the disaster zones\n"
      ],
      "metadata": {
        "id": "6A0FOHaWJ4fr"
      }
    },
    {
      "cell_type": "code",
      "source": [
        "D_C = [0]*6\n",
        "\n",
        "D_C[0] = math.sqrt((i1[0]-k1[0])**2+(i1[1]-k1[1])**2)\n",
        "D_C[1] = math.sqrt((i2[0]-k1[0])**2+(i2[1]-k1[1])**2)\n",
        "D_C[2] = math.sqrt((i3[0]-k1[0])**2+(i3[1]-k1[1])**2)\n",
        "D_C[3] = math.sqrt((i1[0]-k2[0])**2+(i1[1]-k2[1])**2)\n",
        "D_C[4] = math.sqrt((i2[0]-k2[0])**2+(i2[1]-k2[1])**2)\n",
        "D_C[5] = math.sqrt((i3[0]-k2[0])**2+(i3[1]-k2[1])**2)\n",
        "\n",
        "D_C = np.array(D_C).reshape(2, 3)\n",
        "\n",
        "D_C = D_C*scl\n",
        "D_C = D_C.astype(int)\n",
        "D_C"
      ],
      "metadata": {
        "colab": {
          "base_uri": "https://localhost:8080/"
        },
        "id": "uNP0AB6ztw7Y",
        "outputId": "f13e7bbe-aff0-4db3-9033-4195aa810b11"
      },
      "execution_count": null,
      "outputs": [
        {
          "output_type": "execute_result",
          "data": {
            "text/plain": [
              "array([[54, 26, 23],\n",
              "       [23, 47, 26]])"
            ]
          },
          "metadata": {},
          "execution_count": 11
        }
      ]
    },
    {
      "cell_type": "markdown",
      "source": [
        "Here I calculate the 2d matrix of the distances between the shelters and the disaster zones"
      ],
      "metadata": {
        "id": "RN8-MHAYJ8gH"
      }
    },
    {
      "cell_type": "code",
      "source": [
        "D_SH = [0]*6\n",
        "\n",
        "D_SH[0] = math.sqrt((i1[0]-f1[0])**2+(i1[1]-f1[1])**2)\n",
        "D_SH[1] = math.sqrt((i2[0]-f1[0])**2+(i2[1]-f1[1])**2)\n",
        "D_SH[2] = math.sqrt((i3[0]-f1[0])**2+(i3[1]-f1[1])**2)\n",
        "D_SH[3] = math.sqrt((i1[0]-f2[0])**2+(i1[1]-f2[1])**2)\n",
        "D_SH[4] = math.sqrt((i2[0]-f2[0])**2+(i2[1]-f2[1])**2)\n",
        "D_SH[5] = math.sqrt((i3[0]-f2[0])**2+(i3[1]-f2[1])**2)\n",
        "\n",
        "D_SH = np.array(D_SH).reshape(2, 3)\n",
        "\n",
        "D_SH = D_SH*scl\n",
        "D_SH = D_SH.astype(int)\n",
        "D_SH"
      ],
      "metadata": {
        "colab": {
          "base_uri": "https://localhost:8080/"
        },
        "id": "_cMhHYlBt3mV",
        "outputId": "ebed21ea-aad7-4510-dd4c-9848dd841930"
      },
      "execution_count": null,
      "outputs": [
        {
          "output_type": "execute_result",
          "data": {
            "text/plain": [
              "array([[24, 31, 24],\n",
              "       [50, 18, 26]])"
            ]
          },
          "metadata": {},
          "execution_count": 12
        }
      ]
    },
    {
      "cell_type": "markdown",
      "source": [
        "Here I calculate the 2d matrix of the distances between the hospitals and the warehouses"
      ],
      "metadata": {
        "id": "CTmYS3ewKA3W"
      }
    },
    {
      "cell_type": "code",
      "source": [
        "D_H_W = [0]*4\n",
        "\n",
        "D_H_W[0] = math.sqrt((z1[0]-j1[0])**2+(z1[1]-j1[1])**2)\n",
        "D_H_W[1] = math.sqrt((z2[0]-j1[0])**2+(z2[1]-j1[1])**2)\n",
        "D_H_W[2] = math.sqrt((z1[0]-j2[0])**2+(z1[1]-j2[1])**2)\n",
        "D_H_W[3] = math.sqrt((z2[0]-j2[0])**2+(z2[1]-j2[1])**2)\n",
        "\n",
        "D_H_W = np.array(D_H_W).reshape(2, 2)\n",
        "\n",
        "D_H_W = D_H_W*scl\n",
        "D_H_W = D_H_W.astype(int)\n",
        "D_H_W"
      ],
      "metadata": {
        "colab": {
          "base_uri": "https://localhost:8080/"
        },
        "id": "dDDArX3Qt6N_",
        "outputId": "ca90e2b7-658a-42e6-a14e-fee0425b5982"
      },
      "execution_count": null,
      "outputs": [
        {
          "output_type": "execute_result",
          "data": {
            "text/plain": [
              "array([[18, 17],\n",
              "       [20,  8]])"
            ]
          },
          "metadata": {},
          "execution_count": 13
        }
      ]
    },
    {
      "cell_type": "markdown",
      "source": [
        "Here I calculate the 2d matrix of the distances between the centers and the warehouses\n"
      ],
      "metadata": {
        "id": "EYSh8AiwKEsI"
      }
    },
    {
      "cell_type": "code",
      "source": [
        "D_C_W = [0]*4\n",
        "\n",
        "D_C_W[0] = math.sqrt((z1[0]-k1[0])**2+(z1[1]-k1[1])**2)\n",
        "D_C_W[1] = math.sqrt((z2[0]-k1[0])**2+(z2[1]-k1[1])**2)\n",
        "D_C_W[2] = math.sqrt((z1[0]-k2[0])**2+(z1[1]-k2[1])**2)\n",
        "D_C_W[3] = math.sqrt((z2[0]-k2[0])**2+(z2[1]-k2[1])**2)\n",
        "\n",
        "D_C_W = np.array(D_C_W).reshape(2, 2)\n",
        "\n",
        "D_C_W = D_C_W*scl\n",
        "D_C_W = D_C_W.astype(int)\n",
        "D_C_W"
      ],
      "metadata": {
        "colab": {
          "base_uri": "https://localhost:8080/"
        },
        "id": "LtEEXAIEt8t_",
        "outputId": "ff8e78e9-a05e-4b81-a161-05ebdb7a3d5e"
      },
      "execution_count": null,
      "outputs": [
        {
          "output_type": "execute_result",
          "data": {
            "text/plain": [
              "array([[31, 29],\n",
              "       [12, 34]])"
            ]
          },
          "metadata": {},
          "execution_count": 14
        }
      ]
    },
    {
      "cell_type": "markdown",
      "source": [
        "Here I calculate the 2d matrix of the distances between the shelters and the warehouses"
      ],
      "metadata": {
        "id": "JOEEAjnzKIl_"
      }
    },
    {
      "cell_type": "code",
      "source": [
        "D_SH_W = [0]*4\n",
        "\n",
        "D_SH_W[0] = math.sqrt((z1[0]-f1[0])**2+(z1[1]-f1[1])**2)\n",
        "D_SH_W[1] = math.sqrt((z2[0]-f1[0])**2+(z2[1]-f1[1])**2)\n",
        "D_SH_W[2] = math.sqrt((z1[0]-f2[0])**2+(z1[1]-f2[1])**2)\n",
        "D_SH_W[3] = math.sqrt((z2[0]-f2[0])**2+(z2[1]-f2[1])**2)\n",
        "\n",
        "D_SH_W = np.array(D_SH_W).reshape(2, 2)\n",
        "\n",
        "D_SH_W = D_SH_W*scl\n",
        "D_SH_W = D_SH_W.astype(int)\n",
        "D_SH_W"
      ],
      "metadata": {
        "colab": {
          "base_uri": "https://localhost:8080/"
        },
        "id": "Qa_emO8Gt_MN",
        "outputId": "1101d4df-de09-4a66-8a67-dd1635026dd4"
      },
      "execution_count": null,
      "outputs": [
        {
          "output_type": "execute_result",
          "data": {
            "text/plain": [
              "array([[ 4, 17],\n",
              "       [28, 22]])"
            ]
          },
          "metadata": {},
          "execution_count": 15
        }
      ]
    },
    {
      "cell_type": "code",
      "source": [],
      "metadata": {
        "id": "OmtDkeAmuB72"
      },
      "execution_count": null,
      "outputs": []
    },
    {
      "cell_type": "markdown",
      "source": [
        "Lists to append the 10,000 solutions of the 10,000 scenarios."
      ],
      "metadata": {
        "id": "JLredELtLGhC"
      }
    },
    {
      "cell_type": "code",
      "execution_count": null,
      "metadata": {
        "id": "VYqrbDgisQa3"
      },
      "outputs": [],
      "source": [
        "all_hospitals = []\n",
        "all_centers = []\n",
        "all_shelters = []\n",
        "all_warehouses = []\n",
        "\n",
        "all_demand_satisfied_H = []\n",
        "all_demand_satisfied_C = []\n",
        "all_demand_satisfied_SH = []\n",
        "all_demand_satisfied_H_W = []\n",
        "all_demand_satisfied_C_W = []\n",
        "all_demand_satisfied_SH_W = []\n",
        "\n",
        "all_nodes_assigned_H = []\n",
        "all_nodes_assigned_C = []\n",
        "all_nodes_assigned_SH = []\n",
        "all_nodes_assigned_H_W = []\n",
        "all_nodes_assigned_C_W = []\n",
        "all_nodes_assigned_SH_W = []\n",
        "\n",
        "all_sum_S_D_H = []\n",
        "all_sum_S_D_C = []\n",
        "all_sum_S_D_SH = []\n",
        "\n",
        "all_obj = []\n",
        "all_victims = []\n",
        "all_non_victims = []\n",
        "\n",
        "all_V_shortage = []\n",
        "all_NV_shortage = []\n",
        "all_H_W_shortage = []\n",
        "all_C_W_shortage = []\n",
        "all_SH_W_shortage = []"
      ]
    },
    {
      "cell_type": "markdown",
      "source": [
        "# **Monte Carlo technique**\n",
        "\n",
        "In this part I coded a for loop to solve the model 10,000 times with 10,000 scenarios. The average of those soltion is considired as the solution of the problem."
      ],
      "metadata": {
        "id": "HL4Qp-ACKRCb"
      }
    },
    {
      "cell_type": "code",
      "execution_count": null,
      "metadata": {
        "id": "2QQPeTMxZ5b-"
      },
      "outputs": [],
      "source": [
        "for i in range(0, S):\n",
        "  percentage = []\n",
        "  for x in range(0, num_nodes): # Generate random value for each affected node\n",
        "    percentage.append(p())\n",
        "    print(percentage)\n",
        "  percentage = np.array(percentage)\n",
        "  victim = a * percentage\n",
        "  print(victim)\n",
        "  print(percentage)\n",
        "  victim = np.array(victim).astype(int)\n",
        "  non_victim = a * (1-percentage)\n",
        "  non_victim = np.array(non_victim).astype(int)\n",
        "  all_victims.append(victim)\n",
        "  all_non_victims.append(non_victim)\n",
        "\n",
        "  m = gp.Model(\"ILP\")\n",
        "\n",
        "  # initialize decision variables\n",
        "  exist_H = m.addVars(num_hospitals,vtype=GRB.BINARY, name=\"exist_H\")\n",
        "  exist_C = m.addVars(num_centers,vtype=GRB.BINARY, name=\"exist_C\")\n",
        "  exist_SH = m.addVars(num_shelters,vtype=GRB.BINARY, name=\"exist_SH\")\n",
        "\n",
        "  S_D_H = m.addVars(cartesian_prod_hos, lb=0, vtype=GRB.INTEGER, name=\"S_D_H\")\n",
        "  S_D_C = m.addVars(cartesian_prod_cntr, lb=0, vtype=GRB.INTEGER, name=\"S_D_C\")\n",
        "  S_D_SH = m.addVars(cartesian_prod_shltr, lb=0, vtype=GRB.INTEGER, name=\"S_D_SH\")\n",
        "\n",
        "  assigned_H = m.addVars(cartesian_prod_hos,vtype=GRB.BINARY, name=\"assigned_H\")\n",
        "  assigned_C = m.addVars(cartesian_prod_cntr,vtype=GRB.BINARY, name=\"assigned_C\")\n",
        "  assigned_SH = m.addVars(cartesian_prod_shltr,vtype=GRB.BINARY, name=\"assigned_SH\")\n",
        "\n",
        "  exist_W = m.addVars(num_warehouses,vtype=GRB.BINARY, name=\"exist_W\")\n",
        "\n",
        "  S_D_H_W = m.addVars(cartesian_prod_warehouse_H, lb=0, vtype=GRB.INTEGER, name=\"S_D_H_W\")\n",
        "  S_D_C_W = m.addVars(cartesian_prod_warehouse_C, lb=0, vtype=GRB.INTEGER, name=\"S_D_C_W\")\n",
        "  S_D_SH_W = m.addVars(cartesian_prod_warehouse_SH, lb=0, vtype=GRB.INTEGER, name=\"S_D_SH_W\")\n",
        "\n",
        "  assigned_H_W =  m.addVars(cartesian_prod_warehouse_H,vtype=GRB.BINARY, name=\"assigned_H_W\")\n",
        "  assigned_C_W =  m.addVars(cartesian_prod_warehouse_C,vtype=GRB.BINARY, name=\"assigned_C_W\")\n",
        "  assigned_SH_W =  m.addVars(cartesian_prod_warehouse_SH,vtype=GRB.BINARY, name=\"assigned_SH_W\")\n",
        "\n",
        "  sum_S_D_H = m.addVars(num_hospitals, lb=0, vtype=GRB.INTEGER, name=\"sum_S_D_H\")\n",
        "  sum_S_D_C = m.addVars(num_centers, lb=0, vtype=GRB.INTEGER, name=\"sum_S_D_C\")\n",
        "  sum_S_D_SH = m.addVars(num_shelters, lb=0, vtype=GRB.INTEGER, name=\"sum_S_D_SH\")\n",
        "\n",
        "  # add constraints of distances\n",
        "  m.addConstrs((D_H[(j,i)]*assigned_H[(j,i)] <= max_D_H for j,i in cartesian_prod_hos), name=\"max_Dis_Hos\")\n",
        "  m.addConstrs((D_C[(k,i)]*assigned_C[(k,i)] <= max_D_C for k,i in cartesian_prod_cntr), name=\"max_Dis_Cntr\")\n",
        "  m.addConstrs((D_SH[(f,i)]*assigned_SH[(f,i)] <= max_D_SH for f,i in cartesian_prod_shltr), name=\"max_Dis_Shltr\")\n",
        "\n",
        "  m.addConstrs((D_H_W[(z,j)]*assigned_H_W[(z,j)] <= max_D_W for z,j in cartesian_prod_warehouse_H), name=\"max_dis_warehouse_Hos\")\n",
        "  m.addConstrs((D_C_W[(z,k)]*assigned_C_W[(z,k)] <= max_D_W for z,k in cartesian_prod_warehouse_C), name=\"max_dis_warehouse_Cntr\")\n",
        "  m.addConstrs((D_SH_W[(z,f)]*assigned_SH_W[(z,f)] <= max_D_W for z,f in cartesian_prod_warehouse_SH), name=\"max_dis_warehouse_Shltr\")\n",
        "\n",
        "  m.addConstrs((S_D_H[(j,i)]*assigned_H[(j,i)] == S_D_H[(j,i)] for j,i in cartesian_prod_hos), name=\"additional_h\")\n",
        "  m.addConstrs((S_D_C[(k,i)]*assigned_C[(k,i)] == S_D_C[(k,i)] for k,i in cartesian_prod_cntr), name=\"additional_c\")\n",
        "  m.addConstrs((S_D_SH[(f,i)]*assigned_SH[(f,i)] == S_D_SH[(f,i)] for f,i in cartesian_prod_shltr), name=\"additional_sh\")\n",
        "  m.addConstrs((S_D_H_W[(z,j)]*assigned_H_W[(z,j)] == S_D_H_W[(z,j)] for z,j in cartesian_prod_warehouse_H), name=\"additional_h_w\")\n",
        "  m.addConstrs((S_D_C_W[(z,k)]*assigned_C_W[(z,k)] == S_D_C_W[(z,k)] for z,k in cartesian_prod_warehouse_C), name=\"additional_c_w\")\n",
        "  m.addConstrs((S_D_SH_W[(z,f)]*assigned_SH_W[(z,f)] == S_D_SH_W[(z,f)] for z,f in cartesian_prod_warehouse_SH), name=\"additional_sh_w\")\n",
        "\n",
        "  # add constraints of capacities\n",
        "  m.addConstrs((gp.quicksum(S_D_H[(j,i)] for i in range(num_nodes)) <= Cap_H[j]*exist_H[j] for j in range(num_hospitals)), name=\"Cap_Hos\")\n",
        "  m.addConstrs((gp.quicksum(S_D_C[(k,i)] for i in range(num_nodes)) <= Cap_C[k]*exist_C[k] for k in range(num_centers)), name=\"Cap_Cntr\")\n",
        "  m.addConstrs((gp.quicksum(S_D_SH[(f,i)] for i in range(num_nodes)) <= Cap_SH[f]*exist_SH[f] for f in range(num_shelters)), name=\"Cap_Shltr\")\n",
        "\n",
        "  m.addConstrs(((gp.quicksum(S_D_H_W[(z,j)] for j in range(num_hospitals)) + gp.quicksum(S_D_C_W[(z,k)] for k in range(num_centers))) <= Cap_V_W[z]*exist_W[z] for z in range(num_warehouses)), name=\"Cap_warehouse_victim\")\n",
        "  m.addConstrs((gp.quicksum(S_D_SH_W[(z,f)] for f in range(num_shelters)) <= Cap_NV_W[z]*exist_W[z] for z in range(num_warehouses)), name=\"Cap_warehouse_nonvictim\")\n",
        "\n",
        "  # add constraint to meet the actual demand\n",
        "  m.addConstrs(((gp.quicksum(S_D_H[(j,i)] for j in range(num_hospitals)) + gp.quicksum(S_D_C[(k,i)] for k in range(num_centers))) <= victim[i] for i in range(num_nodes)), name=\"acual_victim_demand\")\n",
        "  m.addConstrs((gp.quicksum(S_D_SH[(f,i)] for f in range(num_shelters)) <= non_victim[i] for i in range(num_nodes)), name=\"acual_non_victim_demand\")\n",
        "\n",
        "  m.addConstrs((gp.quicksum(S_D_H[(j,i)] for i in range(num_nodes)) == sum_S_D_H[j] for j in range(num_hospitals)), name=\"Sum_S_D_Hos\")\n",
        "  m.addConstrs((gp.quicksum(S_D_C[(k,i)] for i in range(num_nodes)) == sum_S_D_C[k] for k in range(num_centers)), name=\"Sum_S_D_Cntr\")\n",
        "  m.addConstrs((gp.quicksum(S_D_SH[(f,i)] for i in range(num_nodes)) == sum_S_D_SH[f] for f in range(num_shelters)), name=\"Sum_S_D_Shltr\")\n",
        "\n",
        "\n",
        "  m.addConstrs((gp.quicksum(S_D_H_W[(z,j)] for z in range(num_warehouses)) <= U_R_V * sum_S_D_H[j]*exist_H[j] for j in range(num_hospitals)), name=\"satisfy_demand_hospital\")\n",
        "  m.addConstrs((gp.quicksum(S_D_C_W[(z,k)] for z in range(num_warehouses)) <= U_R_V * sum_S_D_C[k]*exist_C[k] for k in range(num_centers)), name=\"satisfy_demand_Center\")\n",
        "  m.addConstrs((gp.quicksum(S_D_SH_W[(z,f)] for z in range(num_warehouses)) <= U_R_NV * sum_S_D_SH[f]*exist_SH[f] for f in range(num_shelters)), name=\"satisfy_demand_Shelter\")\n",
        "\n",
        "  # add constraint of limited number of centers, shelters and warehouses\n",
        "  m.addConstr((gp.quicksum(exist_C) <= N), name=\"limited_Cntr\")\n",
        "  m.addConstr((gp.quicksum(exist_SH) <= M), name=\"limited_Shltr\")\n",
        "  m.addConstr((gp.quicksum(exist_W) <= Q), name=\"limited_WarHouse\")\n",
        "\n",
        "  # Normalization factors\n",
        "  norm11 = 1/(sum(Cap_H))\n",
        "  norm12 = 1/(sum(Cap_C))\n",
        "  norm13 = 1/(sum(Cap_SH))\n",
        "\n",
        "  norm21 = 1/(sum(sum(D_H)))\n",
        "  norm22 = 1/(sum(sum(D_C)))\n",
        "  norm23 = 1/(sum(sum(D_SH)))\n",
        "\n",
        "  norm31 = 1/(sum(Cap_V_W))\n",
        "  norm32 = 1/(sum(Cap_V_W))\n",
        "  norm33 = 1/(sum(Cap_NV_W))\n",
        "\n",
        "  norm41 = 1/(sum(sum(D_H_W)))\n",
        "  norm42 = 1/(sum(sum(D_C_W)))\n",
        "  norm43 = 1/(sum(sum(D_SH_W)))\n",
        "\n",
        "  norm51 = 1/num_hospitals\n",
        "  norm52 = 1/N\n",
        "  norm53 = 1/M\n",
        "  norm54 = 1/Q\n",
        "  w = 1/18.1\n",
        "\n",
        "  # set objective\n",
        "  m.setObjective(2*w*norm11*(gp.quicksum(S_D_H[(j,i)]*assigned_H[(j,i)] for j,i in cartesian_prod_hos)) + 1.5*w*norm12*(gp.quicksum(S_D_C[(k,i)]*assigned_C[(k,i)] for k,i in cartesian_prod_cntr)) + 2*w*norm13*(gp.quicksum(S_D_SH[(f,i)]*assigned_SH[(f,i)] for f,i in cartesian_prod_shltr))\n",
        "  - norm21*w*(gp.quicksum(D_H[(j,i)] * assigned_H[(j,i)] for j,i in cartesian_prod_hos)) - norm22*w*(gp.quicksum(D_C[(k,i)]*assigned_C[(k,i)] for k,i in cartesian_prod_cntr )) - norm23*w*(gp.quicksum(D_SH[(f,i)]*assigned_SH[(f,i)] for f,i in cartesian_prod_shltr ))\n",
        "  + 2*w*norm31*(gp.quicksum(S_D_H_W[(z,j)]*assigned_H_W[(z,j)] for z,j in cartesian_prod_warehouse_H)) + 2*w*norm32*(gp.quicksum(S_D_C_W[(z,k)]*assigned_C_W[(z,k)] for z,k in cartesian_prod_warehouse_C)) + 2*w*norm33*(gp.quicksum(S_D_SH_W[(z,f)]*assigned_SH_W[(z,f)] for z,f in cartesian_prod_warehouse_SH))\n",
        "  - norm41*w*(gp.quicksum(D_H_W[(z,j)]*assigned_H_W[(z,j)] for z,j in cartesian_prod_warehouse_H)) - norm42*w*(gp.quicksum(D_C_W[(z,k)] * assigned_C_W[(z,k)] for z,k in cartesian_prod_warehouse_C)) - norm43*w*(gp.quicksum(D_SH_W[(z,f)] * assigned_SH_W[(z,f)] for z,f in cartesian_prod_warehouse_SH))\n",
        "  - 0.2*w*norm51*(gp.quicksum(exist_H)) - 0.2*w*norm52*(gp.quicksum(exist_C)) - 0.1*w*norm53*(gp.quicksum(exist_SH)) - 0.1*w*norm54*(gp.quicksum(exist_W))\n",
        "  , GRB.MAXIMIZE)\n",
        "\n",
        "  # optimization of model\n",
        "  m.optimize()\n",
        "  # The final answer\n",
        "  vars = m.getVars() # list of the DVs values\n",
        "\n",
        "  # Lists to separate each kind of DVs\n",
        "  hospitals = []\n",
        "  centers = []\n",
        "  shelters = []\n",
        "  warehouses = []\n",
        "\n",
        "  demand_satisfied_H = []\n",
        "  demand_satisfied_C = []\n",
        "  demand_satisfied_SH = []\n",
        "  demand_satisfied_H_W = []\n",
        "  demand_satisfied_C_W = []\n",
        "  demand_satisfied_SH_W = []\n",
        "\n",
        "  nodes_assigned_H = []\n",
        "  nodes_assigned_C = []\n",
        "  nodes_assigned_SH = []\n",
        "  nodes_assigned_H_W = []\n",
        "  nodes_assigned_C_W = []\n",
        "  nodes_assigned_SH_W = []\n",
        "\n",
        "  sum_demand_satisfied_H = []\n",
        "  sum_demand_satisfied_C = []\n",
        "  sum_demand_satisfied_SH = []\n",
        "\n",
        "  # Separate each kind of DVs and append it to its list\n",
        "  for j in range(0, num_hospitals):\n",
        "    hospitals.append(vars[j].X)\n",
        "  hospitals = np.array(hospitals).astype(int)\n",
        "  all_hospitals.append(hospitals) # to keep the solution to get the average at the end.\n",
        "\n",
        "  for k in range(num_hospitals, num_hospitals+num_centers):\n",
        "    centers.append(vars[k].X)\n",
        "  centers = np.array(centers).astype(int)\n",
        "  all_centers.append(centers)\n",
        "\n",
        "  for f in range(num_hospitals+num_centers, num_hospitals+num_centers+num_shelters):\n",
        "    shelters.append(vars[f].X)\n",
        "  shelters = np.array(shelters).astype(int)\n",
        "  all_shelters.append(shelters)\n",
        "\n",
        "  for j in range(num_hospitals+num_centers+num_shelters, num_hospitals+num_centers+num_shelters+(num_hospitals*num_nodes)):\n",
        "    demand_satisfied_H.append(vars[j].X)\n",
        "  demand_satisfied_H = np.array(demand_satisfied_H).reshape(num_hospitals, num_nodes).astype(int)\n",
        "  all_demand_satisfied_H.append(demand_satisfied_H)\n",
        "\n",
        "  for k in range(num_hospitals+num_centers+num_shelters+(num_hospitals*num_nodes), num_hospitals+num_centers+num_shelters+(num_hospitals*num_nodes)+(num_centers*num_nodes)):\n",
        "    demand_satisfied_C.append(vars[k].X)\n",
        "  demand_satisfied_C = np.array(demand_satisfied_C).reshape(num_centers, num_nodes).astype(int)\n",
        "  all_demand_satisfied_C.append(demand_satisfied_C)\n",
        "\n",
        "  for f in range(num_hospitals+num_centers+num_shelters+(num_hospitals*num_nodes)+(num_centers*num_nodes), num_hospitals+num_centers+num_shelters+(num_hospitals*num_nodes)+(num_centers*num_nodes)+(num_shelters*num_nodes)):\n",
        "    demand_satisfied_SH.append(vars[f].X)\n",
        "  demand_satisfied_SH = np.array(demand_satisfied_SH).reshape(num_shelters, num_nodes).astype(int)\n",
        "  all_demand_satisfied_SH.append(demand_satisfied_SH)\n",
        "\n",
        "  for j in range(num_hospitals+num_centers+num_shelters+(num_hospitals*num_nodes)+(num_centers*num_nodes)+(num_shelters*num_nodes), num_hospitals+num_centers+num_shelters+(2*num_hospitals*num_nodes)+(num_centers*num_nodes)+(num_shelters*num_nodes)):\n",
        "    nodes_assigned_H.append(vars[j].X)\n",
        "  nodes_assigned_H = np.array(nodes_assigned_H).reshape(num_hospitals, num_nodes).astype(int)\n",
        "  all_nodes_assigned_H.append(nodes_assigned_H)\n",
        "\n",
        "  for k in range(num_hospitals+num_centers+num_shelters+(2*num_hospitals*num_nodes)+(num_centers*num_nodes)+(num_shelters*num_nodes), num_hospitals+num_centers+num_shelters+(2*num_hospitals*num_nodes)+(2*num_centers*num_nodes)+(num_shelters*num_nodes)):\n",
        "    nodes_assigned_C.append(vars[k].X)\n",
        "  nodes_assigned_C = np.array(nodes_assigned_C).reshape(num_centers, num_nodes).astype(int)\n",
        "  all_nodes_assigned_C.append(nodes_assigned_C)\n",
        "\n",
        "  for f in range(num_hospitals+num_centers+num_shelters+(2*num_hospitals*num_nodes)+(2*num_centers*num_nodes)+(num_shelters*num_nodes), num_hospitals+num_centers+num_shelters+(2*num_hospitals*num_nodes)+(2*num_centers*num_nodes)+(2*num_shelters*num_nodes)):\n",
        "    nodes_assigned_SH.append(vars[f].X)\n",
        "  nodes_assigned_SH = np.array(nodes_assigned_SH).reshape(num_shelters, num_nodes).astype(int)\n",
        "  all_nodes_assigned_SH.append(nodes_assigned_SH)\n",
        "\n",
        "  for z in range(num_hospitals+num_centers+num_shelters+(2*num_hospitals*num_nodes)+(2*num_centers*num_nodes)+(2*num_shelters*num_nodes), num_hospitals+num_centers+num_shelters+num_warehouses+(2*num_hospitals*num_nodes)+(2*num_centers*num_nodes)+(2*num_shelters*num_nodes)):\n",
        "    warehouses.append(vars[z].X)\n",
        "  warehouses = np.array(warehouses).astype(int)\n",
        "  all_warehouses.append(warehouses)\n",
        "\n",
        "  for z in range(num_hospitals+num_centers+num_shelters+num_warehouses+(2*num_hospitals*num_nodes)+(2*num_centers*num_nodes)+(2*num_shelters*num_nodes), num_hospitals+num_centers+num_shelters+num_warehouses+(2*num_hospitals*num_nodes)+(2*num_centers*num_nodes)+(2*num_shelters*num_nodes)+(num_warehouses*num_hospitals)):\n",
        "    demand_satisfied_H_W.append(vars[z].X)\n",
        "  demand_satisfied_H_W = np.array(demand_satisfied_H_W).reshape(num_warehouses, num_hospitals).astype(int)\n",
        "  all_demand_satisfied_H_W.append(demand_satisfied_H_W)\n",
        "\n",
        "  for z in range(num_hospitals+num_centers+num_shelters+num_warehouses+(2*num_hospitals*num_nodes)+(2*num_centers*num_nodes)+(2*num_shelters*num_nodes)+(num_warehouses*num_hospitals),num_hospitals+num_centers+num_shelters+num_warehouses+(2*num_hospitals*num_nodes)+(2*num_centers*num_nodes)+(2*num_shelters*num_nodes)+(num_warehouses*num_hospitals)+(num_warehouses*num_centers)):\n",
        "    demand_satisfied_C_W.append(vars[z].X)\n",
        "  demand_satisfied_C_W = np.array(demand_satisfied_C_W).reshape(num_warehouses, num_centers).astype(int)\n",
        "  all_demand_satisfied_C_W.append(demand_satisfied_C_W)\n",
        "\n",
        "  for z in range(num_hospitals+num_centers+num_shelters+num_warehouses+(2*num_hospitals*num_nodes)+(2*num_centers*num_nodes)+(2*num_shelters*num_nodes)+(num_warehouses*num_hospitals)+(num_warehouses*num_centers),num_hospitals+num_centers+num_shelters+num_warehouses+(2*num_hospitals*num_nodes)+(2*num_centers*num_nodes)+(2*num_shelters*num_nodes)+(num_warehouses*num_hospitals)+(num_warehouses*num_centers)+(num_warehouses*num_shelters)):\n",
        "    demand_satisfied_SH_W.append(vars[z].X)\n",
        "  demand_satisfied_SH_W = np.array(demand_satisfied_SH_W).reshape(num_warehouses, num_shelters).astype(int)\n",
        "  all_demand_satisfied_SH_W.append(demand_satisfied_SH_W)\n",
        "\n",
        "  for z in range(num_hospitals+num_centers+num_shelters+num_warehouses+(2*num_hospitals*num_nodes)+(2*num_centers*num_nodes)+(2*num_shelters*num_nodes)+(num_warehouses*num_hospitals)+(num_warehouses*num_centers)+(num_warehouses*num_shelters), num_hospitals+num_centers+num_shelters+num_warehouses+(2*num_hospitals*num_nodes)+(2*num_centers*num_nodes)+(2*num_shelters*num_nodes)+(2*num_warehouses*num_hospitals)+(num_warehouses*num_centers)+(num_warehouses*num_shelters)):\n",
        "    nodes_assigned_H_W.append(vars[z].X)\n",
        "  nodes_assigned_H_W = np.array(nodes_assigned_H_W).reshape(num_warehouses, num_hospitals).astype(int)\n",
        "  all_nodes_assigned_H_W.append(nodes_assigned_H_W)\n",
        "\n",
        "  for z in range(num_hospitals+num_centers+num_shelters+num_warehouses+(2*num_hospitals*num_nodes)+(2*num_centers*num_nodes)+(2*num_shelters*num_nodes)+(2*num_warehouses*num_hospitals)+(num_warehouses*num_centers)+(num_warehouses*num_shelters), num_hospitals+num_centers+num_shelters+num_warehouses+(2*num_hospitals*num_nodes)+(2*num_centers*num_nodes)+(2*num_shelters*num_nodes)+(2*num_warehouses*num_hospitals)+(2*num_warehouses*num_centers)+(num_warehouses*num_shelters)):\n",
        "    nodes_assigned_C_W.append(vars[z].X)\n",
        "  nodes_assigned_C_W = np.array(nodes_assigned_C_W).reshape(num_warehouses, num_centers).astype(int)\n",
        "  all_nodes_assigned_C_W.append(nodes_assigned_C_W)\n",
        "\n",
        "  for z in range(num_hospitals+num_centers+num_shelters+num_warehouses+(2*num_hospitals*num_nodes)+(2*num_centers*num_nodes)+(2*num_shelters*num_nodes)+(2*num_warehouses*num_hospitals)+(2*num_warehouses*num_centers)+(num_warehouses*num_shelters), num_hospitals+num_centers+num_shelters+num_warehouses+(2*num_hospitals*num_nodes)+(2*num_centers*num_nodes)+(2*num_shelters*num_nodes)+(2*num_warehouses*num_hospitals)+(2*num_warehouses*num_centers)+(2*num_warehouses*num_shelters)):\n",
        "    nodes_assigned_SH_W.append(vars[z].X)\n",
        "  nodes_assigned_SH_W = np.array(nodes_assigned_SH_W).reshape(num_warehouses, num_shelters).astype(int)\n",
        "  all_nodes_assigned_SH_W.append(nodes_assigned_SH_W)\n",
        "\n",
        "  for j in range(num_hospitals+num_centers+num_shelters+num_warehouses+(2*num_hospitals*num_nodes)+(2*num_centers*num_nodes)+(2*num_shelters*num_nodes)+(2*num_warehouses*num_hospitals)+(2*num_warehouses*num_centers)+(2*num_warehouses*num_shelters), num_hospitals+num_centers+num_shelters+num_warehouses+(2*num_hospitals*num_nodes)+(2*num_centers*num_nodes)+(2*num_shelters*num_nodes)+(2*num_warehouses*num_hospitals)+(2*num_warehouses*num_centers)+(2*num_warehouses*num_shelters)+num_hospitals):\n",
        "    sum_demand_satisfied_H.append(vars[j].X)\n",
        "  sum_demand_satisfied_H = np.array(sum_demand_satisfied_H).astype(int)\n",
        "  all_sum_S_D_H.append(sum_demand_satisfied_H)\n",
        "\n",
        "  for k in range(num_hospitals+num_centers+num_shelters+num_warehouses+(2*num_hospitals*num_nodes)+(2*num_centers*num_nodes)+(2*num_shelters*num_nodes)+(2*num_warehouses*num_hospitals)+(2*num_warehouses*num_centers)+(2*num_warehouses*num_shelters)+num_hospitals, num_hospitals+num_centers+num_shelters+num_warehouses+(2*num_hospitals*num_nodes)+(2*num_centers*num_nodes)+(2*num_shelters*num_nodes)+(2*num_warehouses*num_hospitals)+(2*num_warehouses*num_centers)+(2*num_warehouses*num_shelters)+num_hospitals+num_centers):\n",
        "    sum_demand_satisfied_C.append(vars[k].X)\n",
        "  sum_demand_satisfied_C = np.array(sum_demand_satisfied_C).astype(int)\n",
        "  all_sum_S_D_C.append(sum_demand_satisfied_C)\n",
        "\n",
        "  for f in range(num_hospitals+num_centers+num_shelters+num_warehouses+(2*num_hospitals*num_nodes)+(2*num_centers*num_nodes)+(2*num_shelters*num_nodes)+(2*num_warehouses*num_hospitals)+(2*num_warehouses*num_centers)+(2*num_warehouses*num_shelters)+num_hospitals+num_centers, num_hospitals+num_centers+num_shelters+num_warehouses+(2*num_hospitals*num_nodes)+(2*num_centers*num_nodes)+(2*num_shelters*num_nodes)+(2*num_warehouses*num_hospitals)+(2*num_warehouses*num_centers)+(2*num_warehouses*num_shelters)+num_hospitals+num_centers+num_shelters):\n",
        "    sum_demand_satisfied_SH.append(vars[f].X)\n",
        "  sum_demand_satisfied_SH = np.array(sum_demand_satisfied_SH).astype(int)\n",
        "  all_sum_S_D_SH.append(sum_demand_satisfied_SH)\n",
        "\n",
        "  all_V_shortage.append(sum(victim)-(sum(sum(demand_satisfied_H))+sum(sum(demand_satisfied_C))))\n",
        "  all_NV_shortage.append(sum(non_victim)-sum(sum(demand_satisfied_SH)))\n",
        "  all_H_W_shortage.append(U_R_V*sum(sum_demand_satisfied_H)-sum(sum(demand_satisfied_H_W)))\n",
        "  all_C_W_shortage.append(U_R_V*sum(sum_demand_satisfied_C)-sum(sum(demand_satisfied_C_W)))\n",
        "  all_SH_W_shortage.append(U_R_NV*sum(sum_demand_satisfied_SH)-sum(sum(demand_satisfied_SH_W)))\n",
        "\n",
        "  all_obj.append(m.objVal)\n",
        "\n"
      ]
    },
    {
      "cell_type": "markdown",
      "source": [
        "# **The Results**"
      ],
      "metadata": {
        "id": "4l-f7nnqNEej"
      }
    },
    {
      "cell_type": "markdown",
      "source": [
        "Average of objectives values along the 10,000 scenarios"
      ],
      "metadata": {
        "id": "UxfftAj4NSba"
      }
    },
    {
      "cell_type": "markdown",
      "source": [
        "Average of victims' demand shortage values along the 10,000 scenarios"
      ],
      "metadata": {
        "id": "HWh-XeXGNfh3"
      }
    },
    {
      "cell_type": "code",
      "execution_count": null,
      "metadata": {
        "colab": {
          "base_uri": "https://localhost:8080/"
        },
        "id": "EVoZisHtaXnV",
        "outputId": "0484cb81-7d5b-4a5d-8c4f-6679e85c65b4"
      },
      "outputs": [
        {
          "output_type": "execute_result",
          "data": {
            "text/plain": [
              "0.3415998915406872"
            ]
          },
          "metadata": {},
          "execution_count": 21
        }
      ],
      "source": [
        "average_obj = sum(all_obj)/S\n",
        "average_obj"
      ]
    },
    {
      "cell_type": "code",
      "execution_count": null,
      "metadata": {
        "colab": {
          "base_uri": "https://localhost:8080/"
        },
        "id": "NN18BrfAtNjw",
        "outputId": "8dc5ab34-8260-484c-89b1-8997df1b7248"
      },
      "outputs": [
        {
          "output_type": "stream",
          "name": "stdout",
          "text": [
            "10000\n"
          ]
        },
        {
          "output_type": "execute_result",
          "data": {
            "text/plain": [
              "490"
            ]
          },
          "metadata": {},
          "execution_count": 22
        }
      ],
      "source": [
        "av_V_shortage = int(sum(all_V_shortage)/S)\n",
        "print(len(all_V_shortage))\n",
        "av_V_shortage"
      ]
    },
    {
      "cell_type": "markdown",
      "source": [
        "Average of non-victims' demand shortage values along the 10,000 scenarios"
      ],
      "metadata": {
        "id": "7RpWIwkHNnMC"
      }
    },
    {
      "cell_type": "code",
      "execution_count": null,
      "metadata": {
        "colab": {
          "base_uri": "https://localhost:8080/"
        },
        "id": "iNqE12intZLD",
        "outputId": "a0381023-e523-40ed-d15e-0c814c6cde7e"
      },
      "outputs": [
        {
          "output_type": "execute_result",
          "data": {
            "text/plain": [
              "337"
            ]
          },
          "metadata": {},
          "execution_count": 23
        }
      ],
      "source": [
        "av_NV_shortage = int(sum(all_NV_shortage)/S)\n",
        "av_NV_shortage"
      ]
    },
    {
      "cell_type": "markdown",
      "source": [
        "Average of hospitals' demand shortage values along the 10,000 scenarios"
      ],
      "metadata": {
        "id": "M8Lo9gYmNsaz"
      }
    },
    {
      "cell_type": "code",
      "execution_count": null,
      "metadata": {
        "colab": {
          "base_uri": "https://localhost:8080/"
        },
        "id": "LiZwWLOKtlmA",
        "outputId": "9a58db49-946d-4189-86eb-c69588b90337"
      },
      "outputs": [
        {
          "output_type": "execute_result",
          "data": {
            "text/plain": [
              "551"
            ]
          },
          "metadata": {},
          "execution_count": 24
        }
      ],
      "source": [
        "av_H_W_shortage = int(sum(all_H_W_shortage)/S)\n",
        "av_H_W_shortage"
      ]
    },
    {
      "cell_type": "markdown",
      "source": [
        "Average of centers' demand shortage values along the 10,000 scenarios"
      ],
      "metadata": {
        "id": "TOgIwC6lNwq6"
      }
    },
    {
      "cell_type": "code",
      "execution_count": null,
      "metadata": {
        "colab": {
          "base_uri": "https://localhost:8080/"
        },
        "id": "PArCjiF-tu2_",
        "outputId": "650d688a-6cbe-4c82-f182-ad0b3cf1ae48"
      },
      "outputs": [
        {
          "output_type": "execute_result",
          "data": {
            "text/plain": [
              "187"
            ]
          },
          "metadata": {},
          "execution_count": 25
        }
      ],
      "source": [
        "av_C_W_shortage = int(sum(all_C_W_shortage)/S)\n",
        "av_C_W_shortage"
      ]
    },
    {
      "cell_type": "markdown",
      "source": [
        "Average of shelters' demand shortage values along the 10,000 scenarios"
      ],
      "metadata": {
        "id": "QpiZPj-MNzrA"
      }
    },
    {
      "cell_type": "code",
      "execution_count": null,
      "metadata": {
        "colab": {
          "base_uri": "https://localhost:8080/"
        },
        "id": "j_hDImPmtwRM",
        "outputId": "f7b7cd1f-853c-456d-c643-6a5c8f7e276b"
      },
      "outputs": [
        {
          "output_type": "execute_result",
          "data": {
            "text/plain": [
              "761"
            ]
          },
          "metadata": {},
          "execution_count": 26
        }
      ],
      "source": [
        "av_SH_W_shortage = int(sum(all_SH_W_shortage)/S)\n",
        "av_SH_W_shortage"
      ]
    },
    {
      "cell_type": "markdown",
      "source": [
        "The average of the usage of each hospital through all scenarios"
      ],
      "metadata": {
        "id": "l3mGoam0N6tY"
      }
    },
    {
      "cell_type": "code",
      "execution_count": null,
      "metadata": {
        "id": "S4rSfi8mrp-W",
        "colab": {
          "base_uri": "https://localhost:8080/"
        },
        "outputId": "74c16789-d3a1-4aec-dc80-10b1bc8939b0"
      },
      "outputs": [
        {
          "output_type": "execute_result",
          "data": {
            "text/plain": [
              "[98, 86]"
            ]
          },
          "metadata": {},
          "execution_count": 27
        }
      ],
      "source": [
        "\n",
        "all_hospitals = np.array(all_hospitals).reshape(S, num_hospitals)\n",
        "usage_of_hospital = []\n",
        "for j in range(0, num_hospitals):\n",
        "  usage_of_hospital.append(int((sum(all_hospitals[:,j])/S)*100))\n",
        "usage_of_hospital"
      ]
    },
    {
      "cell_type": "markdown",
      "source": [
        "The average of the usage of each center through all scenarios"
      ],
      "metadata": {
        "id": "-sHW2gOVN9db"
      }
    },
    {
      "cell_type": "code",
      "execution_count": null,
      "metadata": {
        "id": "vbkNVEEcsmbu",
        "colab": {
          "base_uri": "https://localhost:8080/"
        },
        "outputId": "ea7698e6-6e1c-475f-a1b4-3c065815b92a"
      },
      "outputs": [
        {
          "output_type": "execute_result",
          "data": {
            "text/plain": [
              "[99, 0]"
            ]
          },
          "metadata": {},
          "execution_count": 28
        }
      ],
      "source": [
        "\n",
        "all_centers = np.array(all_centers).reshape(S, num_centers)\n",
        "usage_of_center = []\n",
        "for j in range(0, num_centers):\n",
        "  usage_of_center.append(int((sum(all_centers[:,j])/S)*100))\n",
        "usage_of_center"
      ]
    },
    {
      "cell_type": "markdown",
      "source": [
        "The average of the usage of each shelter through all scenarios"
      ],
      "metadata": {
        "id": "HyPXjsnDOAV9"
      }
    },
    {
      "cell_type": "code",
      "execution_count": null,
      "metadata": {
        "id": "jrMEtmhCsrDF",
        "colab": {
          "base_uri": "https://localhost:8080/"
        },
        "outputId": "f5c47bbc-a0b7-4ec4-baa8-a4e2bda6818d"
      },
      "outputs": [
        {
          "output_type": "execute_result",
          "data": {
            "text/plain": [
              "[99, 92]"
            ]
          },
          "metadata": {},
          "execution_count": 29
        }
      ],
      "source": [
        "\n",
        "all_shelters = np.array(all_shelters).reshape(S, num_shelters)\n",
        "usage_of_shelter = []\n",
        "for j in range(0, num_shelters):\n",
        "  usage_of_shelter.append(int((sum(all_shelters[:,j])/S)*100))\n",
        "usage_of_shelter"
      ]
    },
    {
      "cell_type": "markdown",
      "source": [
        "The average of the usage of each warehouse through all scenarios"
      ],
      "metadata": {
        "id": "Vw2FRW2vODFs"
      }
    },
    {
      "cell_type": "code",
      "execution_count": null,
      "metadata": {
        "id": "r7wLSA4NsvwW",
        "colab": {
          "base_uri": "https://localhost:8080/"
        },
        "outputId": "195267aa-d362-4d7e-b995-e94f851d59fb"
      },
      "outputs": [
        {
          "output_type": "execute_result",
          "data": {
            "text/plain": [
              "[100, 100]"
            ]
          },
          "metadata": {},
          "execution_count": 30
        }
      ],
      "source": [
        "\n",
        "all_warehouses = np.array(all_warehouses).reshape(S, num_warehouses)\n",
        "usage_of_warehouse = []\n",
        "for j in range(0, num_warehouses):\n",
        "  usage_of_warehouse.append(int((sum(all_warehouses[:,j])/S)*100))\n",
        "usage_of_warehouse"
      ]
    },
    {
      "cell_type": "markdown",
      "source": [
        "The average of demand satisfied by each hospital through all scenarios"
      ],
      "metadata": {
        "id": "N0Q6gaXOOG8y"
      }
    },
    {
      "cell_type": "code",
      "execution_count": null,
      "metadata": {
        "id": "XICAEWb5szam",
        "colab": {
          "base_uri": "https://localhost:8080/"
        },
        "outputId": "6c61d811-1643-4868-b07f-b11312f1450f"
      },
      "outputs": [
        {
          "output_type": "execute_result",
          "data": {
            "text/plain": [
              "[715, 195]"
            ]
          },
          "metadata": {},
          "execution_count": 31
        }
      ],
      "source": [
        "\n",
        "all_demand_satisfied_H = np.array(all_demand_satisfied_H).reshape(num_hospitals*S, num_nodes)\n",
        "demand_H = []\n",
        "for i in range(0, num_hospitals):\n",
        "  H_x = []\n",
        "  for j in range(i, num_hospitals*S, num_hospitals):\n",
        "    H_x.append(sum(all_demand_satisfied_H[j]))\n",
        "  demand_H.append(int(sum(H_x)/S))\n",
        "demand_H"
      ]
    },
    {
      "cell_type": "markdown",
      "source": [
        "The average of demand satisfied by each center through all scenarios"
      ],
      "metadata": {
        "id": "P6ivyUBGONKu"
      }
    },
    {
      "cell_type": "code",
      "execution_count": null,
      "metadata": {
        "id": "WQ8rMoyA2XpP",
        "colab": {
          "base_uri": "https://localhost:8080/"
        },
        "outputId": "091df71f-c4f5-4395-eb36-9b60ca9f7583"
      },
      "outputs": [
        {
          "output_type": "execute_result",
          "data": {
            "text/plain": [
              "[99, 0]"
            ]
          },
          "metadata": {},
          "execution_count": 32
        }
      ],
      "source": [
        "\n",
        "all_demand_satisfied_C = np.array(all_demand_satisfied_C).reshape(num_centers*S, num_nodes)\n",
        "demand_C = []\n",
        "for i in range(0, num_centers):\n",
        "  C_x = []\n",
        "  for j in range(i, num_centers*S, num_centers):\n",
        "    C_x.append(sum(all_demand_satisfied_C[j]))\n",
        "  demand_C.append(int(sum(C_x)/S))\n",
        "demand_C"
      ]
    },
    {
      "cell_type": "markdown",
      "source": [
        "The average of demand satisfied by each shelter through all scenarios"
      ],
      "metadata": {
        "id": "buYy7vMeOQpP"
      }
    },
    {
      "cell_type": "code",
      "execution_count": null,
      "metadata": {
        "id": "JwXC8cll2bUj",
        "colab": {
          "base_uri": "https://localhost:8080/"
        },
        "outputId": "2530f1d2-ac19-4871-8183-efce2a034eef"
      },
      "outputs": [
        {
          "output_type": "execute_result",
          "data": {
            "text/plain": [
              "[653, 504]"
            ]
          },
          "metadata": {},
          "execution_count": 33
        }
      ],
      "source": [
        "\n",
        "all_demand_satisfied_SH = np.array(all_demand_satisfied_SH).reshape(num_shelters*S, num_nodes)\n",
        "demand_SH = []\n",
        "for i in range(0, num_shelters):\n",
        "  SH_x = []\n",
        "  for j in range(i, num_shelters*S, num_shelters):\n",
        "    SH_x.append(sum(all_demand_satisfied_SH[j]))\n",
        "  demand_SH.append(int(sum(SH_x)/S))\n",
        "demand_SH"
      ]
    },
    {
      "cell_type": "markdown",
      "source": [
        "The average of hospitals' demand satisfied by each warehouse through all scenarios"
      ],
      "metadata": {
        "id": "neAhWIJsOTMH"
      }
    },
    {
      "cell_type": "code",
      "execution_count": null,
      "metadata": {
        "id": "frt2bLrf2e3t",
        "colab": {
          "base_uri": "https://localhost:8080/"
        },
        "outputId": "a3cdb534-c35d-4146-d676-b639146f92e2"
      },
      "outputs": [
        {
          "output_type": "execute_result",
          "data": {
            "text/plain": [
              "[286, 984]"
            ]
          },
          "metadata": {},
          "execution_count": 34
        }
      ],
      "source": [
        "\n",
        "all_demand_satisfied_H_W = np.array(all_demand_satisfied_H_W).reshape(num_warehouses*S, num_hospitals)\n",
        "demand_H_W = []\n",
        "for i in range(0, num_warehouses):\n",
        "  W_H_x = []\n",
        "  for j in range(i, num_warehouses*S, num_warehouses):\n",
        "    W_H_x.append(sum(all_demand_satisfied_H_W[j]))\n",
        "  demand_H_W.append(int(sum(W_H_x)/S))\n",
        "demand_H_W"
      ]
    },
    {
      "cell_type": "markdown",
      "source": [
        "The average of centers' demand satisfied by each warehouse through all scenarios"
      ],
      "metadata": {
        "id": "jTBczrWPOVht"
      }
    },
    {
      "cell_type": "code",
      "execution_count": null,
      "metadata": {
        "id": "muG3su0I2h1n",
        "colab": {
          "base_uri": "https://localhost:8080/"
        },
        "outputId": "69eb496f-110b-415c-d788-7ec9914fadeb"
      },
      "outputs": [
        {
          "output_type": "execute_result",
          "data": {
            "text/plain": [
              "[2, 8]"
            ]
          },
          "metadata": {},
          "execution_count": 35
        }
      ],
      "source": [
        "\n",
        "all_demand_satisfied_C_W = np.array(all_demand_satisfied_C_W).reshape(num_warehouses*S, num_centers)\n",
        "demand_C_W = []\n",
        "for i in range(0, num_warehouses):\n",
        "  W_C_x = []\n",
        "  for j in range(i, num_warehouses*S, num_warehouses):\n",
        "    W_C_x.append(sum(all_demand_satisfied_C_W[j]))\n",
        "  demand_C_W.append(int(sum(W_C_x)/S))\n",
        "demand_C_W"
      ]
    },
    {
      "cell_type": "markdown",
      "source": [
        "The average of shelters' demand satisfied by each warehouse through all scenarios"
      ],
      "metadata": {
        "id": "v8EANymxOYVd"
      }
    },
    {
      "cell_type": "code",
      "execution_count": null,
      "metadata": {
        "id": "fpAzMe-i2ov1",
        "colab": {
          "base_uri": "https://localhost:8080/"
        },
        "outputId": "2caaad2a-3de6-4394-bbbf-94832295099c"
      },
      "outputs": [
        {
          "output_type": "execute_result",
          "data": {
            "text/plain": [
              "[989, 565]"
            ]
          },
          "metadata": {},
          "execution_count": 36
        }
      ],
      "source": [
        "\n",
        "all_demand_satisfied_SH_W = np.array(all_demand_satisfied_SH_W).reshape(num_warehouses*S, num_shelters)\n",
        "demand_SH_W = []\n",
        "for i in range(0, num_warehouses):\n",
        "  W_SH_x = []\n",
        "  for j in range(i, num_warehouses*S, num_warehouses):\n",
        "    W_SH_x.append(sum(all_demand_satisfied_SH_W[j]))\n",
        "  demand_SH_W.append(int(sum(W_SH_x)/S))\n",
        "demand_SH_W"
      ]
    },
    {
      "cell_type": "markdown",
      "source": [
        "Percentage of assigning each disaster zone to each hospital"
      ],
      "metadata": {
        "id": "eBsCbllPOhnD"
      }
    },
    {
      "cell_type": "code",
      "execution_count": null,
      "metadata": {
        "id": "m1o7x0uf2sOI",
        "colab": {
          "base_uri": "https://localhost:8080/"
        },
        "outputId": "aca0d462-cc25-427e-9728-f136cc7a89d9"
      },
      "outputs": [
        {
          "output_type": "execute_result",
          "data": {
            "text/plain": [
              "array([[27, 46, 51],\n",
              "       [40, 41,  3]])"
            ]
          },
          "metadata": {},
          "execution_count": 37
        }
      ],
      "source": [
        "\n",
        "av_assigned_H = all_nodes_assigned_H[0]\n",
        "for j in range(1, S):\n",
        "  av_assigned_H = av_assigned_H + all_nodes_assigned_H[j]\n",
        "av_assigned_H = (av_assigned_H/S)*100\n",
        "av_assigned_H = np.array(av_assigned_H).astype(int)\n",
        "av_assigned_H"
      ]
    },
    {
      "cell_type": "markdown",
      "source": [
        "Percentage of assigning each disaster zone to each center"
      ],
      "metadata": {
        "id": "8lK_e6xdOvY2"
      }
    },
    {
      "cell_type": "code",
      "execution_count": null,
      "metadata": {
        "id": "gmi9_vbF2yMs",
        "colab": {
          "base_uri": "https://localhost:8080/"
        },
        "outputId": "46f1b373-489e-4275-9721-c20cc27adb12"
      },
      "outputs": [
        {
          "output_type": "execute_result",
          "data": {
            "text/plain": [
              "array([[ 0, 21, 77],\n",
              "       [ 0,  0,  0]])"
            ]
          },
          "metadata": {},
          "execution_count": 38
        }
      ],
      "source": [
        "av_assigned_C = all_nodes_assigned_C[0]\n",
        "for j in range(1, S):\n",
        "  av_assigned_C = av_assigned_C + all_nodes_assigned_C[j]\n",
        "av_assigned_C = (av_assigned_C/S)*100\n",
        "av_assigned_C = np.array(av_assigned_C).astype(int)\n",
        "av_assigned_C"
      ]
    },
    {
      "cell_type": "markdown",
      "source": [
        "Percentage of assigning each disaster zone to each shelter"
      ],
      "metadata": {
        "id": "ottRedV8Oxyv"
      }
    },
    {
      "cell_type": "code",
      "execution_count": null,
      "metadata": {
        "id": "KuJyyCim21wo",
        "colab": {
          "base_uri": "https://localhost:8080/"
        },
        "outputId": "46c38d66-46a0-42e8-d2d1-b3bbbf2f02af"
      },
      "outputs": [
        {
          "output_type": "execute_result",
          "data": {
            "text/plain": [
              "array([[72, 16, 48],\n",
              "       [ 0, 70, 38]])"
            ]
          },
          "metadata": {},
          "execution_count": 39
        }
      ],
      "source": [
        "av_assigned_SH = all_nodes_assigned_SH[0]\n",
        "for j in range(1, S):\n",
        "  av_assigned_SH = av_assigned_SH + all_nodes_assigned_SH[j]\n",
        "av_assigned_SH = (av_assigned_SH/S)*100\n",
        "av_assigned_SH = np.array(av_assigned_SH).astype(int)\n",
        "av_assigned_SH"
      ]
    },
    {
      "cell_type": "markdown",
      "source": [
        "Percentage of assigning each hospital to each warehouse"
      ],
      "metadata": {
        "id": "UTQynx_8O2-d"
      }
    },
    {
      "cell_type": "code",
      "execution_count": null,
      "metadata": {
        "id": "dMI1RP6m245M",
        "colab": {
          "base_uri": "https://localhost:8080/"
        },
        "outputId": "8803a97f-c7f0-4cf8-dd18-725ca5b26a38"
      },
      "outputs": [
        {
          "output_type": "execute_result",
          "data": {
            "text/plain": [
              "array([[ 9, 84],\n",
              "       [98,  1]])"
            ]
          },
          "metadata": {},
          "execution_count": 40
        }
      ],
      "source": [
        "av_assigned_H_W = all_nodes_assigned_H_W[0]\n",
        "for j in range(1, S):\n",
        "  av_assigned_H_W = av_assigned_H_W + all_nodes_assigned_H_W[j]\n",
        "av_assigned_H_W = (av_assigned_H_W/S)*100\n",
        "av_assigned_H_W = np.array(av_assigned_H_W).astype(int)\n",
        "av_assigned_H_W"
      ]
    },
    {
      "cell_type": "markdown",
      "source": [
        "Percentage of assigning each center to each warehouse"
      ],
      "metadata": {
        "id": "bz7YhiyzO-Ym"
      }
    },
    {
      "cell_type": "code",
      "execution_count": null,
      "metadata": {
        "id": "Q9jGNkOU27e6",
        "colab": {
          "base_uri": "https://localhost:8080/"
        },
        "outputId": "51925a36-b7e3-4077-f280-d13fe6de0797"
      },
      "outputs": [
        {
          "output_type": "execute_result",
          "data": {
            "text/plain": [
              "array([[1, 0],\n",
              "       [4, 0]])"
            ]
          },
          "metadata": {},
          "execution_count": 41
        }
      ],
      "source": [
        "av_assigned_C_W = all_nodes_assigned_C_W[0]\n",
        "for j in range(1, S):\n",
        "  av_assigned_C_W = av_assigned_C_W + all_nodes_assigned_C_W[j]\n",
        "av_assigned_C_W = (av_assigned_C_W/S)*100\n",
        "av_assigned_C_W = np.array(av_assigned_C_W).astype(int)\n",
        "av_assigned_C_W"
      ]
    },
    {
      "cell_type": "markdown",
      "source": [
        "Percentage of assigning each shelter to each warehouse"
      ],
      "metadata": {
        "id": "pMOOfEgNPAij"
      }
    },
    {
      "cell_type": "code",
      "execution_count": null,
      "metadata": {
        "id": "Ntsg7tbl2-Px",
        "colab": {
          "base_uri": "https://localhost:8080/"
        },
        "outputId": "74c80683-6388-4701-9df1-72303fce2466"
      },
      "outputs": [
        {
          "output_type": "execute_result",
          "data": {
            "text/plain": [
              "array([[98,  0],\n",
              "       [ 0, 92]])"
            ]
          },
          "metadata": {},
          "execution_count": 42
        }
      ],
      "source": [
        "av_assigned_SH_W = all_nodes_assigned_SH_W[0]\n",
        "for j in range(1, S):\n",
        "  av_assigned_SH_W = av_assigned_SH_W + all_nodes_assigned_SH_W[j]\n",
        "av_assigned_SH_W = (av_assigned_SH_W/S)*100\n",
        "av_assigned_SH_W = np.array(av_assigned_SH_W).astype(int)\n",
        "av_assigned_SH_W"
      ]
    },
    {
      "cell_type": "code",
      "execution_count": null,
      "metadata": {
        "id": "OQMHxbBwZ-Oq"
      },
      "outputs": [],
      "source": []
    }
  ],
  "metadata": {
    "colab": {
      "provenance": [],
      "include_colab_link": true
    },
    "kernelspec": {
      "display_name": "Python 3",
      "name": "python3"
    },
    "language_info": {
      "name": "python"
    }
  },
  "nbformat": 4,
  "nbformat_minor": 0
}